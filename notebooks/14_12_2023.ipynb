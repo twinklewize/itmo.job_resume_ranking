{
 "cells": [
  {
   "cell_type": "code",
   "execution_count": 241,
   "metadata": {},
   "outputs": [],
   "source": [
    "import pandas as pd\n",
    "import numpy as np\n",
    "import json\n",
    "from bs4 import BeautifulSoup\n",
    "import re\n",
    "import plotly.graph_objs as go\n",
    "import random\n",
    "\n",
    "from sklearn.manifold import TSNE\n",
    "from sklearn.metrics.pairwise import cosine_similarity\n",
    "\n",
    "import pymorphy3\n",
    "from nltk.corpus import stopwords\n",
    "from gensim.utils import simple_preprocess\n",
    "from gensim.models.doc2vec import Doc2Vec, TaggedDocument\n",
    "from transformers import BertTokenizer, BertModel\n",
    "import torch\n",
    "\n",
    "import warnings\n",
    "warnings.filterwarnings(\"ignore\", category=FutureWarning)"
   ]
  },
  {
   "cell_type": "markdown",
   "metadata": {},
   "source": [
    "# Config"
   ]
  },
  {
   "cell_type": "code",
   "execution_count": 242,
   "metadata": {},
   "outputs": [],
   "source": [
    "SEED = 2023\n",
    "RANDOM_STATE = 2023\n",
    "random.seed(SEED)\n",
    "np.random.seed(SEED)\n",
    "torch.manual_seed(SEED)\n",
    "\n",
    "# Experiment 3 (Doc2Vec + BERT)\n",
    "NROWS = 30000\n",
    "DOC2VEC_VECTOR_SIZE = 64\n",
    "DOC2VEC_MIN_COUNT = 6\n",
    "DOC2VEC_EPOCHS = 100\n",
    "DOC2VEC_ALPHA = 0.001\n",
    "DOC2VEC_MODEL_PATH = '../models/rjm_doc2vec_30000rows_exp3.model'\n",
    "BERT_MODEL_NAME = \"DeepPavlov/rubert-base-cased\"\n",
    "BERT_MAX_LENGTH = 512"
   ]
  },
  {
   "cell_type": "markdown",
   "metadata": {},
   "source": [
    "# Data\n"
   ]
  },
  {
   "cell_type": "code",
   "execution_count": 243,
   "metadata": {},
   "outputs": [],
   "source": [
    "def clean_html(text):\n",
    "    if pd.isna(text):\n",
    "        return np.nan\n",
    "    soup = BeautifulSoup(text, \"html.parser\")\n",
    "    cleaned_text = soup.get_text(separator=\" \")\n",
    "    cleaned_text = cleaned_text.replace(\"\\r\", \" \").replace(\"\\n\", \" \")\n",
    "    cleaned_text = re.sub(r\"\\s+\", \" \", cleaned_text)\n",
    "    return cleaned_text.strip()\n",
    "\n",
    "\n",
    "def clean_divis(text):\n",
    "    if pd.isna(text) or text.isdigit():\n",
    "        return np.nan\n",
    "    return text.replace(\"-\", \" \")\n",
    "\n",
    "\n",
    "def map_digits(digits):\n",
    "    if pd.isna(digits):\n",
    "        return np.nan\n",
    "    try:\n",
    "        num = int(digits)\n",
    "        if num < 0 or num > 1500000:\n",
    "            return np.nan\n",
    "        return num\n",
    "    except ValueError:\n",
    "        return np.nan\n",
    "\n",
    "\n",
    "def map_boolean_to_yes_no(value):\n",
    "    if pd.isna(value):\n",
    "        return np.nan\n",
    "    return \"Да\" if value else \"Нет\"\n",
    "\n",
    "\n",
    "def map_accommodation_type(value):\n",
    "    if pd.isna(value):\n",
    "        return np.nan\n",
    "    accommodation_types = {\n",
    "        \"ROOM\": \"Комната\",\n",
    "        \"FLAT\": \"Квартира\",\n",
    "        \"DORMITORY\": \"Общежитие\",\n",
    "        \"HOUSE\": \"Дом\",\n",
    "    }\n",
    "    return accommodation_types.get(value, value)\n",
    "\n",
    "\n",
    "def map_company_business_size(value):\n",
    "    if pd.isna(value):\n",
    "        return np.nan\n",
    "    business_sizes = {\n",
    "        \"SMALL\": \"Малый бизнес\",\n",
    "        \"MICRO\": \"Микробизнес\",\n",
    "        \"LARGE\": \"Крупный бизнес\",\n",
    "        \"BIG\": \"Большой бизнес\",\n",
    "        \"MIDDLE\": \"Средний бизнес\",\n",
    "    }\n",
    "    return business_sizes.get(value, value)\n",
    "\n",
    "\n",
    "def map_transport_compensation(value):\n",
    "    if pd.isna(value):\n",
    "        return np.nan\n",
    "    compensation_types = {\n",
    "        \"PASSAGE_PAID\": \"Оплачивается проезд\",\n",
    "        \"FUEL_PAID\": \"Оплачивается топливо\",\n",
    "        \"AUTO\": \"Предоставляется автомобиль\",\n",
    "    }\n",
    "    return compensation_types.get(value, value)\n",
    "\n",
    "\n",
    "def map_country(text):\n",
    "    if pd.isna(text):\n",
    "        return np.nan\n",
    "    try:\n",
    "        json_data = json.loads(text)\n",
    "        if isinstance(json_data, list) and \"countryName\" in json_data[0]:\n",
    "            return json_data[0][\"countryName\"]\n",
    "    except json.JSONDecodeError:\n",
    "        return np.nan\n",
    "    return np.nan\n",
    "\n",
    "\n",
    "def map_languageKnowledgeResume(text):\n",
    "    if pd.isna(text):\n",
    "        return np.nan\n",
    "    try:\n",
    "        json_data = json.loads(text)\n",
    "        if isinstance(json_data, list) and json_data:\n",
    "            languages = []\n",
    "            for lang in json_data:\n",
    "                if \"codeLanguage\" in lang and \"level\" in lang:\n",
    "                    languages.append(\n",
    "                        \"{}: {}\".format(lang[\"codeLanguage\"], lang[\"level\"])\n",
    "                    )\n",
    "            if languages:\n",
    "                return \"; \".join(languages)\n",
    "    except json.JSONDecodeError:\n",
    "        return np.nan\n",
    "    return np.nan\n",
    "\n",
    "\n",
    "def map_hardSkillsResume(text):\n",
    "    if pd.isna(text):\n",
    "        return np.nan\n",
    "    try:\n",
    "        json_data = json.loads(text)\n",
    "        if isinstance(json_data, list) and json_data:\n",
    "            hard_skills = [skill[\"hardSkillName\"] for skill in json_data]\n",
    "            return \"; \".join(hard_skills)\n",
    "    except json.JSONDecodeError:\n",
    "        return np.nan\n",
    "    return np.nan\n",
    "\n",
    "\n",
    "def map_softSkillsResume(text):\n",
    "    if pd.isna(text):\n",
    "        return np.nan\n",
    "    try:\n",
    "        json_data = json.loads(text)\n",
    "        if isinstance(json_data, list) and json_data:\n",
    "            soft_skills = [skill[\"softSkillName\"] for skill in json_data]\n",
    "            return \"; \".join(soft_skills)\n",
    "    except json.JSONDecodeError:\n",
    "        return np.nan\n",
    "    return np.nan\n",
    "\n",
    "\n",
    "def map_hardSkillsJob(text):\n",
    "    if pd.isna(text):\n",
    "        return np.nan\n",
    "    try:\n",
    "        json_data = json.loads(text)\n",
    "        if isinstance(json_data, list) and json_data:\n",
    "            hard_skills = [skill[\"hard_skill_name\"] for skill in json_data]\n",
    "            return \"; \".join(hard_skills)\n",
    "    except json.JSONDecodeError:\n",
    "        return np.nan\n",
    "    return np.nan\n",
    "\n",
    "\n",
    "def map_languageKnowledgeJob(text):\n",
    "    if pd.isna(text):\n",
    "        return np.nan\n",
    "    try:\n",
    "        json_data = json.loads(text)\n",
    "        if isinstance(json_data, list) and json_data:\n",
    "            languages = []\n",
    "            for lang in json_data:\n",
    "                if \"code_language\" in lang and \"level\" in lang:\n",
    "                    languages.append(\n",
    "                        \"{}: {}\".format(lang[\"code_language\"], lang[\"level\"])\n",
    "                    )\n",
    "            if languages:\n",
    "                return \"; \".join(languages)\n",
    "    except json.JSONDecodeError:\n",
    "        return np.nan\n",
    "    return np.nan\n",
    "\n",
    "\n",
    "def map_softSkillsJob(text):\n",
    "    if pd.isna(text):\n",
    "        return np.nan\n",
    "    try:\n",
    "        json_data = json.loads(text)\n",
    "        if isinstance(json_data, list) and json_data:\n",
    "            soft_skills = [skill[\"soft_skill_name\"] for skill in json_data]\n",
    "            return \"; \".join(soft_skills)\n",
    "    except json.JSONDecodeError:\n",
    "        return np.nan\n",
    "    return np.nan\n",
    "\n",
    "\n",
    "def map_driveLicenses(text):\n",
    "    if pd.isna(text):\n",
    "        return np.nan\n",
    "    try:\n",
    "        json_data = json.loads(text)\n",
    "        if isinstance(json_data, list) and json_data:\n",
    "            return \", \".join(json_data)\n",
    "    except json.JSONDecodeError:\n",
    "        return np.nan\n",
    "    return np.nan\n",
    "\n",
    "\n",
    "def map_educationList(text):\n",
    "    if pd.isna(text) or text == \"[]\":\n",
    "        return np.nan\n",
    "    try:\n",
    "        json_data = json.loads(text)\n",
    "        if isinstance(json_data, list) and json_data:\n",
    "            education_info = []\n",
    "            for edu in json_data:\n",
    "                edu_str = \"\"\n",
    "                if \"instituteName\" in edu:\n",
    "                    edu_str += edu[\"instituteName\"]\n",
    "                if \"faculty\" in edu:\n",
    "                    edu_str += \", факультет: \" + edu[\"faculty\"]\n",
    "                if \"speciality\" in edu:\n",
    "                    edu_str += \", специальность: \" + edu[\"speciality\"]\n",
    "                if \"qualification\" in edu:\n",
    "                    edu_str += \", квалификация: \" + edu[\"qualification\"]\n",
    "                if \"graduateYear\" in edu:\n",
    "                    edu_str += \", год окончания: \" + str(edu[\"graduateYear\"])\n",
    "                education_info.append(edu_str)\n",
    "\n",
    "            joined_info = \"; \".join(education_info).strip()\n",
    "            if joined_info:\n",
    "                return joined_info\n",
    "            else:\n",
    "                return np.nan\n",
    "    except json.JSONDecodeError:\n",
    "        return np.nan\n",
    "    return np.nan\n",
    "\n",
    "\n",
    "def map_workExperienceList(text):\n",
    "    if pd.isna(text):\n",
    "        return np.nan\n",
    "    try:\n",
    "        json_data = json.loads(text)\n",
    "        if isinstance(json_data, list) and json_data:\n",
    "            work_experience_info = []\n",
    "            for experience in json_data:\n",
    "                experience_str = \"\"\n",
    "                if \"companyName\" in experience:\n",
    "                    experience_str += experience[\"companyName\"]\n",
    "                if \"jobTitle\" in experience:\n",
    "                    experience_str += \", должность: \" + experience[\"jobTitle\"]\n",
    "                if \"dateFrom\" in experience and \"dateTo\" in experience:\n",
    "                    experience_str += \", период работы: {} - {}\".format(\n",
    "                        experience[\"dateFrom\"][:10], experience[\"dateTo\"][:10]\n",
    "                    )\n",
    "                if \"demands\" in experience:\n",
    "                    demands_cleaned = clean_html(experience[\"demands\"])\n",
    "                    experience_str += \", обязанности: \" + demands_cleaned\n",
    "                work_experience_info.append(experience_str)\n",
    "\n",
    "            return \"; \".join(work_experience_info)\n",
    "    except json.JSONDecodeError:\n",
    "        return np.nan\n",
    "    return np.nan\n",
    "\n",
    "\n",
    "def map_otherCertificates(text):\n",
    "    if (\n",
    "        pd.isna(text)\n",
    "        or not text.strip()\n",
    "        or text\n",
    "        in [\n",
    "            '<p><br-data-mce-bogus=\"1\"></p>',\n",
    "            \"<p></p>-<p></p>\",\n",
    "            \"<ol>-<li></li>-</ol>\",\n",
    "            \"[]\",\n",
    "        ]\n",
    "    ):\n",
    "        return np.nan\n",
    "    soup = BeautifulSoup(text, \"html.parser\")\n",
    "    cleaned_str = soup.get_text(separator=\"; \")\n",
    "    cleaned_str = cleaned_str.replace(\"-\", \" \").strip()\n",
    "\n",
    "    if cleaned_str:\n",
    "        return cleaned_str\n",
    "    else:\n",
    "        return np.nan\n",
    "\n",
    "\n",
    "def map_additionalEducationList(text):\n",
    "    if pd.isna(text):\n",
    "        return np.nan\n",
    "    try:\n",
    "        json_data = json.loads(text)\n",
    "        if isinstance(json_data, list) and json_data:\n",
    "            additional_education_info = []\n",
    "            for course in json_data:\n",
    "                course_str = \"\"\n",
    "                if \"organization\" in course:\n",
    "                    course_str += course[\"organization\"]\n",
    "                if \"graduateYear\" in course:\n",
    "                    course_str += \", год окончания: \" + str(course[\"graduateYear\"])\n",
    "                additional_education_info.append(course_str)\n",
    "\n",
    "            return \"; \".join(additional_education_info)\n",
    "    except json.JSONDecodeError:\n",
    "        return np.nan\n",
    "    return np.nan\n",
    "\n",
    "\n",
    "def map_birthday(birthday):\n",
    "    if pd.isna(birthday):\n",
    "        return np.nan\n",
    "    try:\n",
    "        birth_date = pd.to_datetime(birthday)\n",
    "        if birth_date.year < 1900 or birth_date.year > 2023:\n",
    "            return np.nan\n",
    "        return birth_date.strftime(\"%Y-%m-%d\")\n",
    "    except:\n",
    "        return np.nan\n",
    "\n",
    "\n",
    "def map_worldskills(json_str):\n",
    "    if pd.isna(json_str) or json_str == \"[]\":\n",
    "        return np.nan\n",
    "    try:\n",
    "        json_data = json.loads(json_str)\n",
    "        if isinstance(json_data, list) and json_data:\n",
    "            skills = [\n",
    "                skill[\"russianName\"] for skill in json_data if \"russianName\" in skill\n",
    "            ]\n",
    "            if skills:\n",
    "                return \"; \".join(skills)\n",
    "    except json.JSONDecodeError:\n",
    "        return np.nan\n",
    "    return np.nan"
   ]
  },
  {
   "cell_type": "markdown",
   "metadata": {},
   "source": [
    "## Resume\n"
   ]
  },
  {
   "cell_type": "code",
   "execution_count": 244,
   "metadata": {},
   "outputs": [
    {
     "data": {
      "text/html": [
       "<div>\n",
       "<style scoped>\n",
       "    .dataframe tbody tr th:only-of-type {\n",
       "        vertical-align: middle;\n",
       "    }\n",
       "\n",
       "    .dataframe tbody tr th {\n",
       "        vertical-align: top;\n",
       "    }\n",
       "\n",
       "    .dataframe thead th {\n",
       "        text-align: right;\n",
       "    }\n",
       "</style>\n",
       "<table border=\"1\" class=\"dataframe\">\n",
       "  <thead>\n",
       "    <tr style=\"text-align: right;\">\n",
       "      <th></th>\n",
       "      <th>id</th>\n",
       "      <th>candidateId</th>\n",
       "      <th>stateRegionCode</th>\n",
       "      <th>locality</th>\n",
       "      <th>localityName</th>\n",
       "      <th>birthday</th>\n",
       "      <th>gender</th>\n",
       "      <th>age</th>\n",
       "      <th>positionName</th>\n",
       "      <th>dateCreate</th>\n",
       "      <th>...</th>\n",
       "      <th>softSkills</th>\n",
       "      <th>workExperienceList</th>\n",
       "      <th>scheduleType</th>\n",
       "      <th>salary</th>\n",
       "      <th>busyType</th>\n",
       "      <th>retrainingCapability</th>\n",
       "      <th>businessTrip</th>\n",
       "      <th>languageKnowledge</th>\n",
       "      <th>relocation</th>\n",
       "      <th>innerInfo</th>\n",
       "    </tr>\n",
       "  </thead>\n",
       "  <tbody>\n",
       "    <tr>\n",
       "      <th>9595</th>\n",
       "      <td>15f93170-f961-11ed-967f-e57b87a63fa7</td>\n",
       "      <td>b27f90a0-f95e-11ed-b3cf-7dbf5d2a6230</td>\n",
       "      <td>6100000000000</td>\n",
       "      <td>6100000000000</td>\n",
       "      <td>Ростовская-область</td>\n",
       "      <td>2004-07-20T16:00:00+0400</td>\n",
       "      <td>Мужской</td>\n",
       "      <td>19.0</td>\n",
       "      <td>Подсобный-рабочий</td>\n",
       "      <td>2023-05-23T14:58:09+0300</td>\n",
       "      <td>...</td>\n",
       "      <td>[]</td>\n",
       "      <td>[]</td>\n",
       "      <td>Неполный-рабочий-день</td>\n",
       "      <td>16242.0</td>\n",
       "      <td>NaN</td>\n",
       "      <td>Не-готов-к-переобучению</td>\n",
       "      <td>Не-готов-к-командировкам</td>\n",
       "      <td>[{\"codeLanguage\": \"Русский\", \"level\": \"Родной\"...</td>\n",
       "      <td>Не-готов-к-переезду</td>\n",
       "      <td>{\"idUser\": \"689fb2b0-249d-11e5-b38b-1ff7059456...</td>\n",
       "    </tr>\n",
       "    <tr>\n",
       "      <th>4687</th>\n",
       "      <td>03d80f30-a6dc-11ec-8605-1b29d3b53cbb</td>\n",
       "      <td>aeb93ec0-a41f-11ec-86cb-d768660431c4</td>\n",
       "      <td>5200000000000</td>\n",
       "      <td>5200400100000</td>\n",
       "      <td>Нижегородская-область,-г.-Балахна</td>\n",
       "      <td>1971-01-20T00:00:00+0300</td>\n",
       "      <td>Мужской</td>\n",
       "      <td>52.0</td>\n",
       "      <td>водитель.-мастер-инструктор-по-вождению.мастер...</td>\n",
       "      <td>2022-03-18T19:54:02+0300</td>\n",
       "      <td>...</td>\n",
       "      <td>[]</td>\n",
       "      <td>[{\"achievements\": \"&lt;p&gt;водительсое удостоверени...</td>\n",
       "      <td>Сменный-график</td>\n",
       "      <td>35000.0</td>\n",
       "      <td>Полная-занятость</td>\n",
       "      <td>Готов-к-переобучению</td>\n",
       "      <td>Не-готов-к-командировкам</td>\n",
       "      <td>[]</td>\n",
       "      <td>Не-готов-к-переезду</td>\n",
       "      <td>{\"idUser\": \"390aaa90-1995-11e5-8d85-1ff7059456...</td>\n",
       "    </tr>\n",
       "    <tr>\n",
       "      <th>1963</th>\n",
       "      <td>0386fd30-5ef9-11ee-b704-c7bd3a8c3ec7</td>\n",
       "      <td>448c1bf0-5ef7-11ee-b250-e73e8fa159bf</td>\n",
       "      <td>7800000000000</td>\n",
       "      <td>7800000000000</td>\n",
       "      <td>г-Санкт-Петербург</td>\n",
       "      <td>2006-09-28T16:00:00+0400</td>\n",
       "      <td>Женский</td>\n",
       "      <td>17.0</td>\n",
       "      <td>Временное-устройство-несовершеннолетних</td>\n",
       "      <td>2023-09-29T21:50:09+0300</td>\n",
       "      <td>...</td>\n",
       "      <td>[]</td>\n",
       "      <td>[]</td>\n",
       "      <td>Неполный-рабочий-день</td>\n",
       "      <td>10000.0</td>\n",
       "      <td>NaN</td>\n",
       "      <td>Не-готов-к-переобучению</td>\n",
       "      <td>Не-готов-к-командировкам</td>\n",
       "      <td>[{\"codeLanguage\": \"Русский\", \"level\": \"Родной\"...</td>\n",
       "      <td>Не-готов-к-переезду</td>\n",
       "      <td>{\"idUser\": \"7734c0f0-9472-11ea-a9ed-195c1cfba7...</td>\n",
       "    </tr>\n",
       "    <tr>\n",
       "      <th>4450</th>\n",
       "      <td>03d9f8f0-6140-11eb-8ec9-3bfa22f2d66b</td>\n",
       "      <td>872779f0-613e-11eb-8ec9-3bfa22f2d66b</td>\n",
       "      <td>7100000000000</td>\n",
       "      <td>7100000000000</td>\n",
       "      <td>Тульская-область</td>\n",
       "      <td>1993-02-08T00:00:00+0300</td>\n",
       "      <td>Мужской</td>\n",
       "      <td>30.0</td>\n",
       "      <td>начальник-смены</td>\n",
       "      <td>2021-01-28T11:08:33+0300</td>\n",
       "      <td>...</td>\n",
       "      <td>[]</td>\n",
       "      <td>[{\"companyName\": \"ООО \\\"МэнпауэрГрупп\\\"\", \"dat...</td>\n",
       "      <td>Сменный-график,Полный-рабочий-день</td>\n",
       "      <td>40000.0</td>\n",
       "      <td>Полная-занятость</td>\n",
       "      <td>Готов-к-переобучению</td>\n",
       "      <td>Готов-к-командировкам</td>\n",
       "      <td>[]</td>\n",
       "      <td>Готов-к-переезду</td>\n",
       "      <td>{\"idUser\": \"4431c3a0-2c86-11e5-9830-1ff7059456...</td>\n",
       "    </tr>\n",
       "    <tr>\n",
       "      <th>9238</th>\n",
       "      <td>06a962f4-21de-11e7-8a20-736ab11edb0c</td>\n",
       "      <td>c5d42010-21da-11e7-8a20-736ab11edb0c</td>\n",
       "      <td>3900000000000</td>\n",
       "      <td>3900000100000</td>\n",
       "      <td>Калининградская-область,-г.-Калининград</td>\n",
       "      <td>1964-04-12T00:00:00+0300</td>\n",
       "      <td>Мужской</td>\n",
       "      <td>59.0</td>\n",
       "      <td>Менеджер-проекта</td>\n",
       "      <td>2017-04-15T16:18:33+0300</td>\n",
       "      <td>...</td>\n",
       "      <td>[]</td>\n",
       "      <td>[{\"achievements\": \"&lt;p&gt;Компания является лидеро...</td>\n",
       "      <td>Полный-рабочий-день</td>\n",
       "      <td>1000.0</td>\n",
       "      <td>Полная-занятость</td>\n",
       "      <td>Готов-к-переобучению</td>\n",
       "      <td>Готов-к-командировкам</td>\n",
       "      <td>[{\"codeLanguage\": \"Английский\", \"level\": \"Спос...</td>\n",
       "      <td>Готов-к-переезду</td>\n",
       "      <td>{\"idUser\": \"d5f4b4d0-02ad-11e5-85f7-1ff7059456...</td>\n",
       "    </tr>\n",
       "  </tbody>\n",
       "</table>\n",
       "<p>5 rows × 40 columns</p>\n",
       "</div>"
      ],
      "text/plain": [
       "                                        id  \\\n",
       "9595  15f93170-f961-11ed-967f-e57b87a63fa7   \n",
       "4687  03d80f30-a6dc-11ec-8605-1b29d3b53cbb   \n",
       "1963  0386fd30-5ef9-11ee-b704-c7bd3a8c3ec7   \n",
       "4450  03d9f8f0-6140-11eb-8ec9-3bfa22f2d66b   \n",
       "9238  06a962f4-21de-11e7-8a20-736ab11edb0c   \n",
       "\n",
       "                               candidateId stateRegionCode       locality  \\\n",
       "9595  b27f90a0-f95e-11ed-b3cf-7dbf5d2a6230   6100000000000  6100000000000   \n",
       "4687  aeb93ec0-a41f-11ec-86cb-d768660431c4   5200000000000  5200400100000   \n",
       "1963  448c1bf0-5ef7-11ee-b250-e73e8fa159bf   7800000000000  7800000000000   \n",
       "4450  872779f0-613e-11eb-8ec9-3bfa22f2d66b   7100000000000  7100000000000   \n",
       "9238  c5d42010-21da-11e7-8a20-736ab11edb0c   3900000000000  3900000100000   \n",
       "\n",
       "                                 localityName                  birthday  \\\n",
       "9595                       Ростовская-область  2004-07-20T16:00:00+0400   \n",
       "4687        Нижегородская-область,-г.-Балахна  1971-01-20T00:00:00+0300   \n",
       "1963                        г-Санкт-Петербург  2006-09-28T16:00:00+0400   \n",
       "4450                         Тульская-область  1993-02-08T00:00:00+0300   \n",
       "9238  Калининградская-область,-г.-Калининград  1964-04-12T00:00:00+0300   \n",
       "\n",
       "       gender   age                                       positionName  \\\n",
       "9595  Мужской  19.0                                  Подсобный-рабочий   \n",
       "4687  Мужской  52.0  водитель.-мастер-инструктор-по-вождению.мастер...   \n",
       "1963  Женский  17.0            Временное-устройство-несовершеннолетних   \n",
       "4450  Мужской  30.0                                    начальник-смены   \n",
       "9238  Мужской  59.0                                   Менеджер-проекта   \n",
       "\n",
       "                    dateCreate  ... softSkills  \\\n",
       "9595  2023-05-23T14:58:09+0300  ...         []   \n",
       "4687  2022-03-18T19:54:02+0300  ...         []   \n",
       "1963  2023-09-29T21:50:09+0300  ...         []   \n",
       "4450  2021-01-28T11:08:33+0300  ...         []   \n",
       "9238  2017-04-15T16:18:33+0300  ...         []   \n",
       "\n",
       "                                     workExperienceList  \\\n",
       "9595                                                 []   \n",
       "4687  [{\"achievements\": \"<p>водительсое удостоверени...   \n",
       "1963                                                 []   \n",
       "4450  [{\"companyName\": \"ООО \\\"МэнпауэрГрупп\\\"\", \"dat...   \n",
       "9238  [{\"achievements\": \"<p>Компания является лидеро...   \n",
       "\n",
       "                            scheduleType   salary          busyType  \\\n",
       "9595               Неполный-рабочий-день  16242.0               NaN   \n",
       "4687                      Сменный-график  35000.0  Полная-занятость   \n",
       "1963               Неполный-рабочий-день  10000.0               NaN   \n",
       "4450  Сменный-график,Полный-рабочий-день  40000.0  Полная-занятость   \n",
       "9238                 Полный-рабочий-день   1000.0  Полная-занятость   \n",
       "\n",
       "         retrainingCapability              businessTrip  \\\n",
       "9595  Не-готов-к-переобучению  Не-готов-к-командировкам   \n",
       "4687     Готов-к-переобучению  Не-готов-к-командировкам   \n",
       "1963  Не-готов-к-переобучению  Не-готов-к-командировкам   \n",
       "4450     Готов-к-переобучению     Готов-к-командировкам   \n",
       "9238     Готов-к-переобучению     Готов-к-командировкам   \n",
       "\n",
       "                                      languageKnowledge           relocation  \\\n",
       "9595  [{\"codeLanguage\": \"Русский\", \"level\": \"Родной\"...  Не-готов-к-переезду   \n",
       "4687                                                 []  Не-готов-к-переезду   \n",
       "1963  [{\"codeLanguage\": \"Русский\", \"level\": \"Родной\"...  Не-готов-к-переезду   \n",
       "4450                                                 []     Готов-к-переезду   \n",
       "9238  [{\"codeLanguage\": \"Английский\", \"level\": \"Спос...     Готов-к-переезду   \n",
       "\n",
       "                                              innerInfo  \n",
       "9595  {\"idUser\": \"689fb2b0-249d-11e5-b38b-1ff7059456...  \n",
       "4687  {\"idUser\": \"390aaa90-1995-11e5-8d85-1ff7059456...  \n",
       "1963  {\"idUser\": \"7734c0f0-9472-11ea-a9ed-195c1cfba7...  \n",
       "4450  {\"idUser\": \"4431c3a0-2c86-11e5-9830-1ff7059456...  \n",
       "9238  {\"idUser\": \"d5f4b4d0-02ad-11e5-85f7-1ff7059456...  \n",
       "\n",
       "[5 rows x 40 columns]"
      ]
     },
     "execution_count": 244,
     "metadata": {},
     "output_type": "execute_result"
    }
   ],
   "source": [
    "chunksize = 10000\n",
    "num_samples = NROWS\n",
    "df_resume = pd.DataFrame()\n",
    "\n",
    "for chunk in pd.read_csv(\n",
    "    \"../datasets/cv.csv\",\n",
    "    chunksize=chunksize,\n",
    "    on_bad_lines=\"skip\",\n",
    "    sep=\"|\",\n",
    "    low_memory=False,\n",
    "):\n",
    "    sample_size = min(len(chunk), int(num_samples / (5000000 / chunksize)))\n",
    "    df_resume = pd.concat([df_resume, chunk.sample(n=sample_size)])\n",
    "    num_samples -= sample_size\n",
    "    if num_samples <= 0:\n",
    "        break\n",
    "df_resume.head()"
   ]
  },
  {
   "cell_type": "code",
   "execution_count": null,
   "metadata": {},
   "outputs": [],
   "source": [
    "df_resume[\"localityName\"] = df_resume[\"localityName\"].apply(clean_divis)  # Место жительства\n",
    "df_resume[\"relocation\"] = df_resume[\"relocation\"].apply(clean_divis)  # Готовность к переезду\n",
    "df_resume[\"businessTrip\"] = df_resume[\"businessTrip\"].apply(clean_divis)  # Готовность к командировкам\n",
    "df_resume[\"retrainingCapability\"] = df_resume[\"retrainingCapability\"].apply(clean_divis)  # Готовность к переобучению\n",
    "df_resume[\"busyType\"] = df_resume[\"busyType\"].apply(clean_divis)  # Тип занятости\n",
    "df_resume[\"scheduleType\"] = df_resume[\"scheduleType\"].apply(clean_divis)  # Желаемый график работы\n",
    "df_resume[\"gender\"] = df_resume[\"gender\"].apply(clean_divis)  # Пол\n",
    "df_resume[\"volunteersInspectionStatus\"] = df_resume[\"volunteersInspectionStatus\"].apply(clean_divis)  # Статус участия в движении DOBRO.RU\n",
    "df_resume[\"narkInspectionStatus\"] = df_resume[\"narkInspectionStatus\"].apply(clean_divis)  # Статус проверки квалификации НАРК\n",
    "df_resume[\"positionName\"] = df_resume[\"positionName\"].apply(clean_divis)  # Желаемая должность\n",
    "df_resume[\"academicDegree\"] = df_resume[\"academicDegree\"].apply(clean_divis)  # Ученая степень\n",
    "df_resume[\"abilympicsParticipation\"] = df_resume[\"abilympicsParticipation\"].apply(clean_divis)  # Участие в движении Абилимпикс\n",
    "df_resume[\"salary\"] = df_resume[\"salary\"].apply(map_digits)  # Желаемая зарплата\n",
    "df_resume[\"experience\"] = df_resume[\"experience\"].apply(map_digits)  # Опыт работы\n",
    "df_resume[\"age\"] = df_resume[\"age\"].apply(map_digits)  # Возраст\n",
    "df_resume[\"country\"] = df_resume[\"country\"].apply(map_country)  # Страна проживания\n",
    "df_resume[\"languageKnowledge\"] = df_resume[\"languageKnowledge\"].apply(map_languageKnowledgeResume)  # Знание языков\n",
    "df_resume[\"driveLicenses\"] = df_resume[\"driveLicenses\"].apply(map_driveLicenses)  # Водительские права\n",
    "df_resume[\"hardSkills\"] = df_resume[\"hardSkills\"].apply(map_hardSkillsResume)  # Профессиональные навыки\n",
    "df_resume[\"softSkills\"] = df_resume[\"softSkills\"].apply(map_softSkillsResume)  # Гибкие навыки\n",
    "df_resume[\"educationList\"] = df_resume[\"educationList\"].apply(map_educationList)  # Образование\n",
    "df_resume[\"workExperienceList\"] = df_resume[\"workExperienceList\"].apply(map_workExperienceList)  # Информация об опыте работы\n",
    "df_resume[\"otherCertificates\"] = df_resume[\"otherCertificates\"].apply(map_otherCertificates)  # Другие сертификаты\n",
    "df_resume[\"additionalEducationList\"] = df_resume[\"additionalEducationList\"].apply(map_additionalEducationList)  # Дополнительное образование\n",
    "df_resume[\"birthday\"] = df_resume[\"birthday\"].apply(map_birthday)  # Дата рождения\n",
    "df_resume[\"worldskills\"] = df_resume[\"worldskills\"].apply(map_worldskills)  # Worldskills компетенции"
   ]
  },
  {
   "cell_type": "code",
   "execution_count": 246,
   "metadata": {},
   "outputs": [],
   "source": [
    "def create_resume_text(row):\n",
    "    parts = []\n",
    "\n",
    "    # Базовая информация\n",
    "    if not pd.isna(row[\"positionName\"]):\n",
    "        parts.append(row[\"positionName\"])\n",
    "        \n",
    "    # Опыт работы\n",
    "    if not pd.isna(row[\"workExperienceList\"]):\n",
    "        parts.append(f\"Опыт работы: {row['workExperienceList']}\")\n",
    "\n",
    "    # Образование и курсы\n",
    "    if not pd.isna(row[\"educationList\"]):\n",
    "        parts.append(f\"Образование: {row['educationList']}\")\n",
    "    if not pd.isna(row[\"additionalEducationList\"]):\n",
    "        parts.append(f\"Дополнительное образование: {row['additionalEducationList']}\")\n",
    "\n",
    "    # Профессиональные и гибкие навыки\n",
    "    if not pd.isna(row[\"hardSkills\"]):\n",
    "        parts.append(f\"Профессиональные навыки: {row['hardSkills']}\")\n",
    "    if not pd.isna(row[\"softSkills\"]):\n",
    "        parts.append(f\"Гибкие навыки: {row['softSkills']}\")\n",
    "\n",
    "    # Дополнительная информация\n",
    "    if not pd.isna(row[\"otherCertificates\"]):\n",
    "        parts.append(f\"Сертификаты и достижения: {row['otherCertificates']}\")\n",
    "    if not pd.isna(row[\"worldskills\"]):\n",
    "        parts.append(f\"Worldskills компетенции: {row['worldskills']}\")\n",
    "\n",
    "    return \" | \".join(parts)\n",
    "\n",
    "\n",
    "resume_texts = df_resume.apply(create_resume_text, axis=1).tolist()"
   ]
  },
  {
   "cell_type": "markdown",
   "metadata": {},
   "source": [
    "## Job\n"
   ]
  },
  {
   "cell_type": "code",
   "execution_count": 247,
   "metadata": {},
   "outputs": [
    {
     "data": {
      "text/html": [
       "<div>\n",
       "<style scoped>\n",
       "    .dataframe tbody tr th:only-of-type {\n",
       "        vertical-align: middle;\n",
       "    }\n",
       "\n",
       "    .dataframe tbody tr th {\n",
       "        vertical-align: top;\n",
       "    }\n",
       "\n",
       "    .dataframe thead th {\n",
       "        text-align: right;\n",
       "    }\n",
       "</style>\n",
       "<table border=\"1\" class=\"dataframe\">\n",
       "  <thead>\n",
       "    <tr style=\"text-align: right;\">\n",
       "      <th></th>\n",
       "      <th>id</th>\n",
       "      <th>academic_degree</th>\n",
       "      <th>accommodation_capability</th>\n",
       "      <th>accommodation_type</th>\n",
       "      <th>additional_premium</th>\n",
       "      <th>additional_requirements</th>\n",
       "      <th>bonus_type</th>\n",
       "      <th>measure_type</th>\n",
       "      <th>busy_type</th>\n",
       "      <th>career_perspective</th>\n",
       "      <th>...</th>\n",
       "      <th>federalDistrictCode</th>\n",
       "      <th>industryBranchName</th>\n",
       "      <th>contactList</th>\n",
       "      <th>company_name</th>\n",
       "      <th>full_company_name</th>\n",
       "      <th>company_inn</th>\n",
       "      <th>company</th>\n",
       "      <th>languageKnowledge</th>\n",
       "      <th>hardSkills</th>\n",
       "      <th>softSkills</th>\n",
       "    </tr>\n",
       "  </thead>\n",
       "  <tbody>\n",
       "    <tr>\n",
       "      <th>510405</th>\n",
       "      <td>e5e6bb62-086b-11ed-bddd-bf2cfe8c828d</td>\n",
       "      <td>NaN</td>\n",
       "      <td>False</td>\n",
       "      <td>NaN</td>\n",
       "      <td>NaN</td>\n",
       "      <td>Тяжелые и вредные условия труда.&lt;br/&gt;Лаборант ...</td>\n",
       "      <td>NaN</td>\n",
       "      <td>NaN</td>\n",
       "      <td>Полная занятость</td>\n",
       "      <td>False</td>\n",
       "      <td>...</td>\n",
       "      <td>3.0</td>\n",
       "      <td>NaN</td>\n",
       "      <td>NaN</td>\n",
       "      <td>NaN</td>\n",
       "      <td>ОБЩЕСТВО С ОГРАНИЧЕННОЙ ОТВЕТСТВЕННОСТЬЮ \"РН-К...</td>\n",
       "      <td>2.309095e+09</td>\n",
       "      <td>{\"companycode\":\"1052304983785\",\"email\":\"mail@r...</td>\n",
       "      <td>[]</td>\n",
       "      <td>[]</td>\n",
       "      <td>[]</td>\n",
       "    </tr>\n",
       "    <tr>\n",
       "      <th>317662</th>\n",
       "      <td>3b1b73b5-5438-11ed-a384-791a818bdadb</td>\n",
       "      <td>NaN</td>\n",
       "      <td>False</td>\n",
       "      <td>NaN</td>\n",
       "      <td>NaN</td>\n",
       "      <td>NaN</td>\n",
       "      <td>NaN</td>\n",
       "      <td>NaN</td>\n",
       "      <td>Полная занятость</td>\n",
       "      <td>False</td>\n",
       "      <td>...</td>\n",
       "      <td>5.0</td>\n",
       "      <td>NaN</td>\n",
       "      <td>NaN</td>\n",
       "      <td>NaN</td>\n",
       "      <td>Акционерное общество \"Тандер\" филиал в г. Екат...</td>\n",
       "      <td>2.310031e+09</td>\n",
       "      <td>{\"companycode\":\"c2c67820-74b9-11ea-8bf8-736ab1...</td>\n",
       "      <td>[]</td>\n",
       "      <td>[]</td>\n",
       "      <td>[]</td>\n",
       "    </tr>\n",
       "    <tr>\n",
       "      <th>439332</th>\n",
       "      <td>30ec9282-c298-11eb-9dd6-bf2cfe8c828d</td>\n",
       "      <td>NaN</td>\n",
       "      <td>False</td>\n",
       "      <td>NaN</td>\n",
       "      <td>NaN</td>\n",
       "      <td>Тяжелые и вредные условия труда.&lt;br/&gt;Ответстве...</td>\n",
       "      <td>NaN</td>\n",
       "      <td>NaN</td>\n",
       "      <td>Полная занятость</td>\n",
       "      <td>False</td>\n",
       "      <td>...</td>\n",
       "      <td>4.0</td>\n",
       "      <td>NaN</td>\n",
       "      <td>NaN</td>\n",
       "      <td>NaN</td>\n",
       "      <td>ГОСУДАРСТВЕННОЕ БЮДЖЕТНОЕ УЧРЕЖДЕНИЕ ЗДРАВООХР...</td>\n",
       "      <td>6.316044e+09</td>\n",
       "      <td>{\"companycode\":\"1036300553970\",\"email\":\"soptd@...</td>\n",
       "      <td>[]</td>\n",
       "      <td>[]</td>\n",
       "      <td>[]</td>\n",
       "    </tr>\n",
       "    <tr>\n",
       "      <th>499751</th>\n",
       "      <td>4965b436-a907-11ec-a36c-550ed7335bbe</td>\n",
       "      <td>NaN</td>\n",
       "      <td>False</td>\n",
       "      <td>NaN</td>\n",
       "      <td>NaN</td>\n",
       "      <td>NaN</td>\n",
       "      <td>NaN</td>\n",
       "      <td>NaN</td>\n",
       "      <td>Частичная занятость</td>\n",
       "      <td>False</td>\n",
       "      <td>...</td>\n",
       "      <td>3.0</td>\n",
       "      <td>NaN</td>\n",
       "      <td>NaN</td>\n",
       "      <td>NaN</td>\n",
       "      <td>МУНИЦИПАЛЬНОЕ БЮДЖЕТНОЕ ОБЩЕОБРАЗОВАТЕЛЬНОЕ УЧ...</td>\n",
       "      <td>9.106007e+09</td>\n",
       "      <td>{\"companycode\":\"1149102169765\",\"email\":\"shkola...</td>\n",
       "      <td>[{\"code_language\":\"Русский\",\"id_owner\":\"4965b4...</td>\n",
       "      <td>[]</td>\n",
       "      <td>[]</td>\n",
       "    </tr>\n",
       "    <tr>\n",
       "      <th>96702</th>\n",
       "      <td>64c71e06-1f02-11ed-b6f7-35178352af9b</td>\n",
       "      <td>NaN</td>\n",
       "      <td>True</td>\n",
       "      <td>DORMITORY</td>\n",
       "      <td>10.0</td>\n",
       "      <td>&lt;p&gt;&lt;strong&gt;Условия:&lt;/strong&gt;&lt;/p&gt; &lt;ul&gt; &lt;li&gt;офиц...</td>\n",
       "      <td>MONTHLY</td>\n",
       "      <td>PERCENT</td>\n",
       "      <td>Полная занятость</td>\n",
       "      <td>False</td>\n",
       "      <td>...</td>\n",
       "      <td>3.0</td>\n",
       "      <td>NaN</td>\n",
       "      <td>NaN</td>\n",
       "      <td>NaN</td>\n",
       "      <td>Общество с ограниченной ответственностью \"Комп...</td>\n",
       "      <td>7.702348e+09</td>\n",
       "      <td>{\"companycode\":\"fdccb420-8bd8-11eb-a83d-3bfa22...</td>\n",
       "      <td>[{\"code_language\":\"Английский\",\"id_owner\":\"64c...</td>\n",
       "      <td>[]</td>\n",
       "      <td>[]</td>\n",
       "    </tr>\n",
       "  </tbody>\n",
       "</table>\n",
       "<p>5 rows × 78 columns</p>\n",
       "</div>"
      ],
      "text/plain": [
       "                                          id academic_degree  \\\n",
       "510405  e5e6bb62-086b-11ed-bddd-bf2cfe8c828d             NaN   \n",
       "317662  3b1b73b5-5438-11ed-a384-791a818bdadb             NaN   \n",
       "439332  30ec9282-c298-11eb-9dd6-bf2cfe8c828d             NaN   \n",
       "499751  4965b436-a907-11ec-a36c-550ed7335bbe             NaN   \n",
       "96702   64c71e06-1f02-11ed-b6f7-35178352af9b             NaN   \n",
       "\n",
       "        accommodation_capability accommodation_type  additional_premium  \\\n",
       "510405                     False                NaN                 NaN   \n",
       "317662                     False                NaN                 NaN   \n",
       "439332                     False                NaN                 NaN   \n",
       "499751                     False                NaN                 NaN   \n",
       "96702                       True          DORMITORY                10.0   \n",
       "\n",
       "                                  additional_requirements bonus_type  \\\n",
       "510405  Тяжелые и вредные условия труда.<br/>Лаборант ...        NaN   \n",
       "317662                                                NaN        NaN   \n",
       "439332  Тяжелые и вредные условия труда.<br/>Ответстве...        NaN   \n",
       "499751                                                NaN        NaN   \n",
       "96702   <p><strong>Условия:</strong></p> <ul> <li>офиц...    MONTHLY   \n",
       "\n",
       "       measure_type            busy_type  career_perspective  ...  \\\n",
       "510405          NaN     Полная занятость               False  ...   \n",
       "317662          NaN     Полная занятость               False  ...   \n",
       "439332          NaN     Полная занятость               False  ...   \n",
       "499751          NaN  Частичная занятость               False  ...   \n",
       "96702       PERCENT     Полная занятость               False  ...   \n",
       "\n",
       "       federalDistrictCode industryBranchName  contactList company_name  \\\n",
       "510405                 3.0                NaN          NaN          NaN   \n",
       "317662                 5.0                NaN          NaN          NaN   \n",
       "439332                 4.0                NaN          NaN          NaN   \n",
       "499751                 3.0                NaN          NaN          NaN   \n",
       "96702                  3.0                NaN          NaN          NaN   \n",
       "\n",
       "                                        full_company_name   company_inn  \\\n",
       "510405  ОБЩЕСТВО С ОГРАНИЧЕННОЙ ОТВЕТСТВЕННОСТЬЮ \"РН-К...  2.309095e+09   \n",
       "317662  Акционерное общество \"Тандер\" филиал в г. Екат...  2.310031e+09   \n",
       "439332  ГОСУДАРСТВЕННОЕ БЮДЖЕТНОЕ УЧРЕЖДЕНИЕ ЗДРАВООХР...  6.316044e+09   \n",
       "499751  МУНИЦИПАЛЬНОЕ БЮДЖЕТНОЕ ОБЩЕОБРАЗОВАТЕЛЬНОЕ УЧ...  9.106007e+09   \n",
       "96702   Общество с ограниченной ответственностью \"Комп...  7.702348e+09   \n",
       "\n",
       "                                                  company  \\\n",
       "510405  {\"companycode\":\"1052304983785\",\"email\":\"mail@r...   \n",
       "317662  {\"companycode\":\"c2c67820-74b9-11ea-8bf8-736ab1...   \n",
       "439332  {\"companycode\":\"1036300553970\",\"email\":\"soptd@...   \n",
       "499751  {\"companycode\":\"1149102169765\",\"email\":\"shkola...   \n",
       "96702   {\"companycode\":\"fdccb420-8bd8-11eb-a83d-3bfa22...   \n",
       "\n",
       "                                        languageKnowledge hardSkills  \\\n",
       "510405                                                 []         []   \n",
       "317662                                                 []         []   \n",
       "439332                                                 []         []   \n",
       "499751  [{\"code_language\":\"Русский\",\"id_owner\":\"4965b4...         []   \n",
       "96702   [{\"code_language\":\"Английский\",\"id_owner\":\"64c...         []   \n",
       "\n",
       "       softSkills  \n",
       "510405         []  \n",
       "317662         []  \n",
       "439332         []  \n",
       "499751         []  \n",
       "96702          []  \n",
       "\n",
       "[5 rows x 78 columns]"
      ]
     },
     "execution_count": 247,
     "metadata": {},
     "output_type": "execute_result"
    }
   ],
   "source": [
    "df_job = pd.read_csv(\n",
    "    \"../datasets/vacancy.csv\",\n",
    "    encoding=\"UTF-8\",\n",
    "    on_bad_lines=\"skip\",\n",
    "    sep=\"|\",\n",
    "    low_memory=False,\n",
    ")\n",
    "\n",
    "random_indices = np.random.choice(df_job.shape[0], NROWS, replace=False)\n",
    "df_job = df_job.iloc[random_indices]\n",
    "\n",
    "df_job.head()"
   ]
  },
  {
   "cell_type": "code",
   "execution_count": null,
   "metadata": {},
   "outputs": [],
   "source": [
    "df_job[\"position_responsibilities\"] = df_job[\"position_responsibilities\"].apply(clean_html)  # Обязанности на должности\n",
    "df_job[\"position_requirements\"] = df_job[\"position_requirements\"].apply(clean_html)  # Требования к должности\n",
    "df_job[\"additional_requirements\"] = df_job[\"additional_requirements\"].apply(clean_html)  # Дополнительные требования\n",
    "df_job[\"other_vacancy_benefit\"] = df_job[\"other_vacancy_benefit\"].apply(clean_html)  # Другие льготы вакансии\n",
    "df_job[\"softSkills\"] = df_job[\"softSkills\"].apply(map_softSkillsJob)  # Гибкие навыки\n",
    "df_job[\"hardSkills\"] = df_job[\"hardSkills\"].apply(map_hardSkillsJob)  # Профессиональные навыки\n",
    "df_job[\"required_drive_license\"] = df_job[\"required_drive_license\"].apply(map_driveLicenses)  # Требуемые водительские права\n",
    "df_job[\"languageKnowledge\"] = df_job[\"languageKnowledge\"].apply(map_languageKnowledgeJob)  # Знание иностранных языков\n",
    "df_job[\"accommodation_capability\"] = df_job[\"accommodation_capability\"].apply(map_boolean_to_yes_no)  # Возможность предоставления жилья\n",
    "df_job[\"career_perspective\"] = df_job[\"career_perspective\"].apply(map_boolean_to_yes_no)  # Перспективы карьерного роста'\n",
    "df_job[\"is_quoted\"] = df_job[\"is_quoted\"].apply(map_boolean_to_yes_no)  # Квотируемая вакансия\n",
    "df_job[\"retraining_capability\"] = df_job[\"retraining_capability\"].apply(map_boolean_to_yes_no)  # Возможность переобучения\n",
    "df_job[\"is_mobility_program\"] = df_job[\"is_mobility_program\"].apply(map_boolean_to_yes_no)  # Программа мобильности\n",
    "df_job[\"need_medcard\"] = df_job[\"need_medcard\"].apply(map_boolean_to_yes_no)  # Необходимость медицинской книжки\n",
    "df_job[\"is_uzbekistan_recruitment\"] = df_job[\"is_uzbekistan_recruitment\"].apply(map_boolean_to_yes_no)  # Возможность найма граждан Узбекистана\n",
    "df_job[\"accommodation_type\"] = df_job[\"accommodation_type\"].apply(map_accommodation_type)  # Тип предоставляемого жилья\n",
    "df_job[\"company_business_size\"] = df_job[\"company_business_size\"].apply(map_company_business_size)  # Размер компании\n",
    "df_job[\"transport_compensation\"] = df_job[\"transport_compensation\"].apply(map_transport_compensation)  # Компенсация транспортных расходов\n",
    "df_job[\"salary_min\"] = df_job[\"salary_min\"].apply(map_digits)  # Минимальная заработная плата\n",
    "df_job[\"salary_max\"] = df_job[\"salary_max\"].apply(map_digits)  # Максимальная заработная плата\n",
    "df_job[\"additional_premium\"] = df_job[\"additional_premium\"].apply(map_digits)  # Дополнительная премия\n",
    "\n",
    "# 'full_company_name': 'Полное название компании'\n",
    "# 'vacancy_address': 'Адрес вакансии'\n",
    "# 'education': 'Образование'\n",
    "# 'education_speciality': 'Специальность по образованию'\n",
    "# 'required_certificates': 'Требуемые сертификаты'\n",
    "# 'professionalSphereName': 'Название профессиональной сферы'\n",
    "# 'industryBranchName': 'Название отрасли промышленности'\n",
    "# 'academic_degree': 'Ученая степень'\n",
    "# 'vacancy_name': 'Наименование вакансии'\n",
    "# 'required_experience': 'Требуемый опыт работы\n",
    "# 'busy_type': 'Тип занятости'\n",
    "# 'schedule_type': 'Тип графика работы'"
   ]
  },
  {
   "cell_type": "code",
   "execution_count": 249,
   "metadata": {},
   "outputs": [],
   "source": [
    "def create_job_text(row):\n",
    "    parts = []\n",
    "\n",
    "    # Job Details\n",
    "    if not pd.isna(row[\"vacancy_name\"]):\n",
    "        parts.append(f\"{row['vacancy_name']}\")\n",
    "\n",
    "    if not pd.isna(row[\"position_responsibilities\"]):\n",
    "        parts.append(f\"Обязанности: {row['position_responsibilities']}\")\n",
    "    if not pd.isna(row[\"position_requirements\"]):\n",
    "        parts.append(f\"Требования: {row['position_requirements']}\")\n",
    "    if not pd.isna(row[\"additional_requirements\"]):\n",
    "        parts.append(f\"Дополнительные требования: {row['additional_requirements']}\")\n",
    "\n",
    "    if not pd.isna(row[\"hardSkills\"]):\n",
    "        parts.append(f\"Профессиональные навыки: {row['hardSkills']}\")\n",
    "    if not pd.isna(row[\"softSkills\"]):\n",
    "        parts.append(f\"Гибкие навыки: {row['softSkills']}\")\n",
    "\n",
    "    return \" | \".join(parts)\n",
    "\n",
    "\n",
    "job_texts = df_job.apply(create_job_text, axis=1).tolist()"
   ]
  },
  {
   "cell_type": "markdown",
   "metadata": {},
   "source": [
    "## Text Preprocessing\n"
   ]
  },
  {
   "cell_type": "code",
   "execution_count": 250,
   "metadata": {},
   "outputs": [],
   "source": [
    "# Расширенный список стоп-слов\n",
    "sw = stopwords.words(\"russian\")\n",
    "additional_sw = \"мои оно мной мною мог могут мор мое мочь оба нам нами ними однако нему никуда наш нею неё наша наше наши очень отсюда вон вами ваш ваша ваше ваши весь всем всеми вся ими ею будем будете будешь буду будь будут кому кого которой которого которая которые который которых кем каждое каждая каждые каждый кажется та те тому собой тобой собою тобою тою хотеть хочешь свое свои твой своей своего своих твоя твоё сама сами теми само самом самому самой самого самим самими самих саму чему тебе такое такие также такая сих тех ту эта это этому туда этим этими этих абы аж ан благо буде вроде дабы едва ежели затем зато ибо итак кабы коли коль либо лишь нежели пока покамест покуда поскольку притом причем пускай пусть ровно сиречь словно также точно хотя чисто якобы \"\n",
    "pronouns = \"я мы ты вы он она оно они себя мой твой ваш наш свой его ее их то это тот этот такой таков столько весь всякий сам самый каждый любой иной другой кто что какой каков чей сколько никто ничто некого нечего никакой ничей нисколько кто-то кое-кто кто-нибудь кто-либо что-то кое-что что-нибудь что-либо какой-то какой-либо какой-нибудь некто нечто некоторый некий\"\n",
    "conjunctions = \"что чтобы как когда ибо пока будто словно если потому что оттого что так как так что лишь только как будто с тех пор как в связи с тем что для того чтобы кто как когда который какой где куда откуда\"\n",
    "digits = \"ноль один два три четыре пять шесть семь восемь девять десять одиннадцать двенадцать тринадцать четырнадцать пятнадцать шестнадцать семнадцать восемнадцать девятнадцать двадцать тридцать сорок пятьдесят шестьдесят семьдесят восемьдесят девяносто сто\"\n",
    "modal_words = \"вероятно возможно видимо по-видимому кажется наверное безусловно верно  действительно конечно несомненно разумеется\"\n",
    "particles = \"да так точно ну да не ни неужели ли разве а что ли что за то-то как ну и ведь даже еще ведь уже все все-таки просто прямо вон это вот как словно будто точно как будто вроде как бы именно как раз подлинно ровно лишь только хоть всего исключительно вряд ли едва ли\"\n",
    "prepositions = \"близ  вблизи  вдоль  вокруг  впереди  внутрь  внутри  возле  около  поверх  сверху  сверх  позади  сзади  сквозь  среди  прежде  мимо  вслед  согласно  подобно  навстречу  против  напротив  вопреки  после  кроме  вместе  вдали  наряду  совместно  согласно  нежели вроде от бишь до без аж тех раньше совсем только итак например из прямо ли следствие а поскольку благо пускай благодаря случае затем притом также связи время при чтоб просто того невзирая даром вместо точно покуда тогда зато ради ан буде прежде насчет раз причине тому так даже исходя коль кабы более ровно либо помимо как-то будто если словно лишь бы и не будь пор тоже разве чуть как хотя наряду потому пусть в равно между сверх ибо на судя то чтобы относительно или счет за но сравнению причем оттого есть когда уж ввиду тем для дабы чем хоть с вплоть скоро едва после той да вопреки ежели кроме сиречь же коли под абы несмотря все пока покамест паче прямо-таки перед что по вдруг якобы подобно\"\n",
    "evaluative = \"наиболее наименее лучший больший высший низший худший более менее\"\n",
    "\n",
    "\n",
    "sw.extend(additional_sw.split())\n",
    "sw.extend(pronouns.split())\n",
    "sw.extend(conjunctions.split())\n",
    "sw.extend(digits.split())\n",
    "sw.extend(modal_words.split())\n",
    "sw.extend(particles.split())\n",
    "sw.extend(prepositions.split())\n",
    "sw.extend(evaluative.split())\n",
    "sw = list(set(sw))"
   ]
  },
  {
   "cell_type": "code",
   "execution_count": 251,
   "metadata": {},
   "outputs": [],
   "source": [
    "pattern = re.compile(\"[^а-яА-Яa-zA-Z0-9\\-.,;]+\")\n",
    "morph = pymorphy3.MorphAnalyzer()\n",
    "\n",
    "def tokenize_and_preprocess(text, stopwords):\n",
    "    text = text.lower()\n",
    "    text = pattern.sub(\" \", text)\n",
    "    tokens = simple_preprocess(text, deacc=True)\n",
    "    tokens = [\n",
    "        morph.parse(token)[0].normal_form\n",
    "        for token in tokens\n",
    "        if token not in stopwords and len(token) > 2\n",
    "    ]\n",
    "    return tokens"
   ]
  },
  {
   "cell_type": "code",
   "execution_count": 252,
   "metadata": {},
   "outputs": [
    {
     "name": "stdout",
     "output_type": "stream",
     "text": [
      "CPU times: user 1min 10s, sys: 301 ms, total: 1min 11s\n",
      "Wall time: 1min 11s\n"
     ]
    }
   ],
   "source": [
    "%%time\n",
    "\n",
    "processed_resume_texts = [tokenize_and_preprocess(text, sw) for text in resume_texts]"
   ]
  },
  {
   "cell_type": "code",
   "execution_count": 253,
   "metadata": {},
   "outputs": [
    {
     "name": "stdout",
     "output_type": "stream",
     "text": [
      "CPU times: user 1min 42s, sys: 714 ms, total: 1min 42s\n",
      "Wall time: 1min 43s\n"
     ]
    }
   ],
   "source": [
    "%%time\n",
    "\n",
    "processed_job_texts = [tokenize_and_preprocess(text, sw) for text in job_texts]"
   ]
  },
  {
   "cell_type": "markdown",
   "metadata": {},
   "source": [
    "# Models"
   ]
  },
  {
   "cell_type": "markdown",
   "metadata": {},
   "source": [
    "## Doc2Vec"
   ]
  },
  {
   "cell_type": "code",
   "execution_count": 254,
   "metadata": {},
   "outputs": [],
   "source": [
    "tagged_data = [\n",
    "    TaggedDocument(words=text, tags=[f\"resume_{i}\"])\n",
    "    for i, text in enumerate(processed_resume_texts)\n",
    "]\n",
    "tagged_data += [\n",
    "    TaggedDocument(words=text, tags=[f\"job_{i}\"])\n",
    "    for i, text in enumerate(processed_job_texts)\n",
    "]"
   ]
  },
  {
   "cell_type": "code",
   "execution_count": 255,
   "metadata": {},
   "outputs": [
    {
     "data": {
      "text/plain": [
       "14095"
      ]
     },
     "execution_count": 255,
     "metadata": {},
     "output_type": "execute_result"
    }
   ],
   "source": [
    "model = Doc2Vec(\n",
    "    vector_size=DOC2VEC_VECTOR_SIZE,\n",
    "    min_count=DOC2VEC_MIN_COUNT,\n",
    "    epochs=DOC2VEC_EPOCHS,\n",
    "    alpha=DOC2VEC_ALPHA,\n",
    ")\n",
    "model.build_vocab(tagged_data)\n",
    "\n",
    "keys = model.wv.key_to_index.keys()\n",
    "len(keys) # length of vocabulary keys"
   ]
  },
  {
   "cell_type": "code",
   "execution_count": 256,
   "metadata": {},
   "outputs": [
    {
     "name": "stdout",
     "output_type": "stream",
     "text": [
      "Training epoch 1/100\n",
      "Training epoch 2/100\n",
      "Training epoch 3/100\n",
      "Training epoch 4/100\n",
      "Training epoch 5/100\n",
      "Training epoch 6/100\n",
      "Training epoch 7/100\n",
      "Training epoch 8/100\n",
      "Training epoch 9/100\n",
      "Training epoch 10/100\n",
      "Training epoch 11/100\n",
      "Training epoch 12/100\n",
      "Training epoch 13/100\n",
      "Training epoch 14/100\n",
      "Training epoch 15/100\n",
      "Training epoch 16/100\n",
      "Training epoch 17/100\n",
      "Training epoch 18/100\n",
      "Training epoch 19/100\n",
      "Training epoch 20/100\n",
      "Training epoch 21/100\n",
      "Training epoch 22/100\n",
      "Training epoch 23/100\n",
      "Training epoch 24/100\n",
      "Training epoch 25/100\n",
      "Training epoch 26/100\n",
      "Training epoch 27/100\n",
      "Training epoch 28/100\n",
      "Training epoch 29/100\n",
      "Training epoch 30/100\n",
      "Training epoch 31/100\n",
      "Training epoch 32/100\n",
      "Training epoch 33/100\n",
      "Training epoch 34/100\n",
      "Training epoch 35/100\n",
      "Training epoch 36/100\n",
      "Training epoch 37/100\n",
      "Training epoch 38/100\n",
      "Training epoch 39/100\n",
      "Training epoch 40/100\n",
      "Training epoch 41/100\n",
      "Training epoch 42/100\n",
      "Training epoch 43/100\n",
      "Training epoch 44/100\n",
      "Training epoch 45/100\n",
      "Training epoch 46/100\n",
      "Training epoch 47/100\n",
      "Training epoch 48/100\n",
      "Training epoch 49/100\n",
      "Training epoch 50/100\n",
      "Training epoch 51/100\n",
      "Training epoch 52/100\n",
      "Training epoch 53/100\n",
      "Training epoch 54/100\n",
      "Training epoch 55/100\n",
      "Training epoch 56/100\n",
      "Training epoch 57/100\n",
      "Training epoch 58/100\n",
      "Training epoch 59/100\n",
      "Training epoch 60/100\n",
      "Training epoch 61/100\n",
      "Training epoch 62/100\n",
      "Training epoch 63/100\n",
      "Training epoch 64/100\n",
      "Training epoch 65/100\n",
      "Training epoch 66/100\n",
      "Training epoch 67/100\n",
      "Training epoch 68/100\n",
      "Training epoch 69/100\n",
      "Training epoch 70/100\n",
      "Training epoch 71/100\n",
      "Training epoch 72/100\n",
      "Training epoch 73/100\n",
      "Training epoch 74/100\n",
      "Training epoch 75/100\n",
      "Training epoch 76/100\n",
      "Training epoch 77/100\n",
      "Training epoch 78/100\n",
      "Training epoch 79/100\n",
      "Training epoch 80/100\n",
      "Training epoch 81/100\n",
      "Training epoch 82/100\n",
      "Training epoch 83/100\n",
      "Training epoch 84/100\n",
      "Training epoch 85/100\n",
      "Training epoch 86/100\n",
      "Training epoch 87/100\n",
      "Training epoch 88/100\n",
      "Training epoch 89/100\n",
      "Training epoch 90/100\n",
      "Training epoch 91/100\n",
      "Training epoch 92/100\n",
      "Training epoch 93/100\n",
      "Training epoch 94/100\n",
      "Training epoch 95/100\n",
      "Training epoch 96/100\n",
      "Training epoch 97/100\n",
      "Training epoch 98/100\n",
      "Training epoch 99/100\n",
      "Training epoch 100/100\n",
      "Model saved\n",
      "CPU times: user 8h 8min 58s, sys: 44min 45s, total: 8h 53min 44s\n",
      "Wall time: 5h 24min 6s\n"
     ]
    }
   ],
   "source": [
    "%%time\n",
    "\n",
    "for epoch in range(model.epochs):\n",
    "    print(f\"Training epoch {epoch+1}/{model.epochs}\")\n",
    "    model.train(tagged_data, total_examples=model.corpus_count, epochs=model.epochs)\n",
    "\n",
    "model.save(DOC2VEC_MODEL_PATH)\n",
    "print(\"Model saved\")"
   ]
  },
  {
   "cell_type": "markdown",
   "metadata": {},
   "source": [
    "### Visualisation"
   ]
  },
  {
   "cell_type": "code",
   "execution_count": 257,
   "metadata": {},
   "outputs": [],
   "source": [
    "def plot_embeddings(model, tagged_docs):\n",
    "    vectors = [model.infer_vector(doc.words) for doc in tagged_docs]\n",
    "    labels = [doc.tags[0] for doc in tagged_docs]\n",
    "    vectors_np = np.array(vectors)\n",
    "    tsne = TSNE(n_components=2, random_state=RANDOM_STATE)\n",
    "    vectors_2d = tsne.fit_transform(vectors_np)\n",
    "\n",
    "    traces = []\n",
    "    for point, label in zip(vectors_2d, labels):\n",
    "        color = 'red' if 'resume' in label else 'blue'\n",
    "        trace = go.Scatter(\n",
    "            x=[point[0]], \n",
    "            y=[point[1]],\n",
    "            mode='markers+text',\n",
    "            marker=dict(color=color),\n",
    "            text=label,\n",
    "            textposition=\"bottom center\"\n",
    "        )\n",
    "        traces.append(trace)\n",
    "\n",
    "    layout = go.Layout(title=\"Embeddings Visualization\", showlegend=False)\n",
    "    fig = go.Figure(data=traces, layout=layout)\n",
    "\n",
    "    fig.show()"
   ]
  },
  {
   "cell_type": "code",
   "execution_count": 258,
   "metadata": {},
   "outputs": [
    {
     "data": {
      "application/vnd.plotly.v1+json": {
       "config": {
        "plotlyServerURL": "https://plot.ly"
       },
       "data": [
        {
         "marker": {
          "color": "red"
         },
         "mode": "markers+text",
         "text": "resume_0",
         "textposition": "bottom center",
         "type": "scatter",
         "x": [
          -30.097238540649414
         ],
         "y": [
          10.303135871887207
         ]
        },
        {
         "marker": {
          "color": "red"
         },
         "mode": "markers+text",
         "text": "resume_1",
         "textposition": "bottom center",
         "type": "scatter",
         "x": [
          -13.04466724395752
         ],
         "y": [
          14.673532485961914
         ]
        },
        {
         "marker": {
          "color": "red"
         },
         "mode": "markers+text",
         "text": "resume_2",
         "textposition": "bottom center",
         "type": "scatter",
         "x": [
          11.847541809082031
         ],
         "y": [
          -5.747539520263672
         ]
        },
        {
         "marker": {
          "color": "red"
         },
         "mode": "markers+text",
         "text": "resume_3",
         "textposition": "bottom center",
         "type": "scatter",
         "x": [
          12.248594284057617
         ],
         "y": [
          7.916142463684082
         ]
        },
        {
         "marker": {
          "color": "red"
         },
         "mode": "markers+text",
         "text": "resume_4",
         "textposition": "bottom center",
         "type": "scatter",
         "x": [
          20.08976173400879
         ],
         "y": [
          -15.429070472717285
         ]
        },
        {
         "marker": {
          "color": "red"
         },
         "mode": "markers+text",
         "text": "resume_5",
         "textposition": "bottom center",
         "type": "scatter",
         "x": [
          -17.869441986083984
         ],
         "y": [
          4.156085968017578
         ]
        },
        {
         "marker": {
          "color": "red"
         },
         "mode": "markers+text",
         "text": "resume_6",
         "textposition": "bottom center",
         "type": "scatter",
         "x": [
          -26.922351837158203
         ],
         "y": [
          5.398497104644775
         ]
        },
        {
         "marker": {
          "color": "red"
         },
         "mode": "markers+text",
         "text": "resume_7",
         "textposition": "bottom center",
         "type": "scatter",
         "x": [
          -5.651144027709961
         ],
         "y": [
          -3.6689634323120117
         ]
        },
        {
         "marker": {
          "color": "red"
         },
         "mode": "markers+text",
         "text": "resume_8",
         "textposition": "bottom center",
         "type": "scatter",
         "x": [
          -20.997875213623047
         ],
         "y": [
          9.171008110046387
         ]
        },
        {
         "marker": {
          "color": "red"
         },
         "mode": "markers+text",
         "text": "resume_9",
         "textposition": "bottom center",
         "type": "scatter",
         "x": [
          18.46320343017578
         ],
         "y": [
          -3.3679168224334717
         ]
        },
        {
         "marker": {
          "color": "red"
         },
         "mode": "markers+text",
         "text": "resume_10",
         "textposition": "bottom center",
         "type": "scatter",
         "x": [
          -12.596124649047852
         ],
         "y": [
          5.289099216461182
         ]
        },
        {
         "marker": {
          "color": "red"
         },
         "mode": "markers+text",
         "text": "resume_11",
         "textposition": "bottom center",
         "type": "scatter",
         "x": [
          11.898792266845703
         ],
         "y": [
          0.5622325539588928
         ]
        },
        {
         "marker": {
          "color": "red"
         },
         "mode": "markers+text",
         "text": "resume_12",
         "textposition": "bottom center",
         "type": "scatter",
         "x": [
          27.846120834350586
         ],
         "y": [
          -13.855298042297363
         ]
        },
        {
         "marker": {
          "color": "red"
         },
         "mode": "markers+text",
         "text": "resume_13",
         "textposition": "bottom center",
         "type": "scatter",
         "x": [
          -1.7547492980957031
         ],
         "y": [
          -4.712460517883301
         ]
        },
        {
         "marker": {
          "color": "red"
         },
         "mode": "markers+text",
         "text": "resume_14",
         "textposition": "bottom center",
         "type": "scatter",
         "x": [
          19.475297927856445
         ],
         "y": [
          -2.7547614574432373
         ]
        },
        {
         "marker": {
          "color": "red"
         },
         "mode": "markers+text",
         "text": "resume_15",
         "textposition": "bottom center",
         "type": "scatter",
         "x": [
          -15.933065414428711
         ],
         "y": [
          3.617058753967285
         ]
        },
        {
         "marker": {
          "color": "red"
         },
         "mode": "markers+text",
         "text": "resume_16",
         "textposition": "bottom center",
         "type": "scatter",
         "x": [
          12.758089065551758
         ],
         "y": [
          -18.35682487487793
         ]
        },
        {
         "marker": {
          "color": "red"
         },
         "mode": "markers+text",
         "text": "resume_17",
         "textposition": "bottom center",
         "type": "scatter",
         "x": [
          -11.764856338500977
         ],
         "y": [
          10.754751205444336
         ]
        },
        {
         "marker": {
          "color": "red"
         },
         "mode": "markers+text",
         "text": "resume_18",
         "textposition": "bottom center",
         "type": "scatter",
         "x": [
          -3.20804500579834
         ],
         "y": [
          -0.6268608570098877
         ]
        },
        {
         "marker": {
          "color": "red"
         },
         "mode": "markers+text",
         "text": "resume_19",
         "textposition": "bottom center",
         "type": "scatter",
         "x": [
          -47.17988204956055
         ],
         "y": [
          9.836042404174805
         ]
        },
        {
         "marker": {
          "color": "red"
         },
         "mode": "markers+text",
         "text": "resume_20",
         "textposition": "bottom center",
         "type": "scatter",
         "x": [
          22.842208862304688
         ],
         "y": [
          -12.084569931030273
         ]
        },
        {
         "marker": {
          "color": "red"
         },
         "mode": "markers+text",
         "text": "resume_21",
         "textposition": "bottom center",
         "type": "scatter",
         "x": [
          -0.33607837557792664
         ],
         "y": [
          6.72484016418457
         ]
        },
        {
         "marker": {
          "color": "red"
         },
         "mode": "markers+text",
         "text": "resume_22",
         "textposition": "bottom center",
         "type": "scatter",
         "x": [
          -51.75086212158203
         ],
         "y": [
          5.619010925292969
         ]
        },
        {
         "marker": {
          "color": "red"
         },
         "mode": "markers+text",
         "text": "resume_23",
         "textposition": "bottom center",
         "type": "scatter",
         "x": [
          5.870235443115234
         ],
         "y": [
          6.266465663909912
         ]
        },
        {
         "marker": {
          "color": "red"
         },
         "mode": "markers+text",
         "text": "resume_24",
         "textposition": "bottom center",
         "type": "scatter",
         "x": [
          -8.330636978149414
         ],
         "y": [
          0.3506414294242859
         ]
        },
        {
         "marker": {
          "color": "red"
         },
         "mode": "markers+text",
         "text": "resume_25",
         "textposition": "bottom center",
         "type": "scatter",
         "x": [
          -16.01597023010254
         ],
         "y": [
          -5.1573052406311035
         ]
        },
        {
         "marker": {
          "color": "red"
         },
         "mode": "markers+text",
         "text": "resume_26",
         "textposition": "bottom center",
         "type": "scatter",
         "x": [
          19.211742401123047
         ],
         "y": [
          1.451615810394287
         ]
        },
        {
         "marker": {
          "color": "red"
         },
         "mode": "markers+text",
         "text": "resume_27",
         "textposition": "bottom center",
         "type": "scatter",
         "x": [
          -0.7260962724685669
         ],
         "y": [
          -7.198096752166748
         ]
        },
        {
         "marker": {
          "color": "red"
         },
         "mode": "markers+text",
         "text": "resume_28",
         "textposition": "bottom center",
         "type": "scatter",
         "x": [
          25.450227737426758
         ],
         "y": [
          -12.341043472290039
         ]
        },
        {
         "marker": {
          "color": "red"
         },
         "mode": "markers+text",
         "text": "resume_29",
         "textposition": "bottom center",
         "type": "scatter",
         "x": [
          27.294218063354492
         ],
         "y": [
          -7.435743808746338
         ]
        },
        {
         "marker": {
          "color": "red"
         },
         "mode": "markers+text",
         "text": "resume_30",
         "textposition": "bottom center",
         "type": "scatter",
         "x": [
          17.368207931518555
         ],
         "y": [
          -1.6647018194198608
         ]
        },
        {
         "marker": {
          "color": "red"
         },
         "mode": "markers+text",
         "text": "resume_31",
         "textposition": "bottom center",
         "type": "scatter",
         "x": [
          8.437382698059082
         ],
         "y": [
          8.136076927185059
         ]
        },
        {
         "marker": {
          "color": "red"
         },
         "mode": "markers+text",
         "text": "resume_32",
         "textposition": "bottom center",
         "type": "scatter",
         "x": [
          7.90342903137207
         ],
         "y": [
          2.262366533279419
         ]
        },
        {
         "marker": {
          "color": "red"
         },
         "mode": "markers+text",
         "text": "resume_33",
         "textposition": "bottom center",
         "type": "scatter",
         "x": [
          -51.28307342529297
         ],
         "y": [
          12.610522270202637
         ]
        },
        {
         "marker": {
          "color": "red"
         },
         "mode": "markers+text",
         "text": "resume_34",
         "textposition": "bottom center",
         "type": "scatter",
         "x": [
          -16.548734664916992
         ],
         "y": [
          -0.038289476186037064
         ]
        },
        {
         "marker": {
          "color": "red"
         },
         "mode": "markers+text",
         "text": "resume_35",
         "textposition": "bottom center",
         "type": "scatter",
         "x": [
          12.386789321899414
         ],
         "y": [
          2.5396339893341064
         ]
        },
        {
         "marker": {
          "color": "red"
         },
         "mode": "markers+text",
         "text": "resume_36",
         "textposition": "bottom center",
         "type": "scatter",
         "x": [
          10.230631828308105
         ],
         "y": [
          5.107662200927734
         ]
        },
        {
         "marker": {
          "color": "red"
         },
         "mode": "markers+text",
         "text": "resume_37",
         "textposition": "bottom center",
         "type": "scatter",
         "x": [
          15.401525497436523
         ],
         "y": [
          -19.807147979736328
         ]
        },
        {
         "marker": {
          "color": "red"
         },
         "mode": "markers+text",
         "text": "resume_38",
         "textposition": "bottom center",
         "type": "scatter",
         "x": [
          -12.161444664001465
         ],
         "y": [
          3.6136081218719482
         ]
        },
        {
         "marker": {
          "color": "red"
         },
         "mode": "markers+text",
         "text": "resume_39",
         "textposition": "bottom center",
         "type": "scatter",
         "x": [
          -17.222204208374023
         ],
         "y": [
          -3.2449276447296143
         ]
        },
        {
         "marker": {
          "color": "red"
         },
         "mode": "markers+text",
         "text": "resume_40",
         "textposition": "bottom center",
         "type": "scatter",
         "x": [
          5.846226692199707
         ],
         "y": [
          7.786166191101074
         ]
        },
        {
         "marker": {
          "color": "red"
         },
         "mode": "markers+text",
         "text": "resume_41",
         "textposition": "bottom center",
         "type": "scatter",
         "x": [
          29.735563278198242
         ],
         "y": [
          -15.398853302001953
         ]
        },
        {
         "marker": {
          "color": "red"
         },
         "mode": "markers+text",
         "text": "resume_42",
         "textposition": "bottom center",
         "type": "scatter",
         "x": [
          -56.61649703979492
         ],
         "y": [
          7.165140151977539
         ]
        },
        {
         "marker": {
          "color": "red"
         },
         "mode": "markers+text",
         "text": "resume_43",
         "textposition": "bottom center",
         "type": "scatter",
         "x": [
          -13.88712215423584
         ],
         "y": [
          1.0248327255249023
         ]
        },
        {
         "marker": {
          "color": "red"
         },
         "mode": "markers+text",
         "text": "resume_44",
         "textposition": "bottom center",
         "type": "scatter",
         "x": [
          -0.6338101029396057
         ],
         "y": [
          -4.256306171417236
         ]
        },
        {
         "marker": {
          "color": "red"
         },
         "mode": "markers+text",
         "text": "resume_45",
         "textposition": "bottom center",
         "type": "scatter",
         "x": [
          11.240331649780273
         ],
         "y": [
          -15.61351490020752
         ]
        },
        {
         "marker": {
          "color": "red"
         },
         "mode": "markers+text",
         "text": "resume_46",
         "textposition": "bottom center",
         "type": "scatter",
         "x": [
          -2.403040885925293
         ],
         "y": [
          -6.327690601348877
         ]
        },
        {
         "marker": {
          "color": "red"
         },
         "mode": "markers+text",
         "text": "resume_47",
         "textposition": "bottom center",
         "type": "scatter",
         "x": [
          6.507165908813477
         ],
         "y": [
          -16.715391159057617
         ]
        },
        {
         "marker": {
          "color": "red"
         },
         "mode": "markers+text",
         "text": "resume_48",
         "textposition": "bottom center",
         "type": "scatter",
         "x": [
          -5.067354202270508
         ],
         "y": [
          12.056395530700684
         ]
        },
        {
         "marker": {
          "color": "red"
         },
         "mode": "markers+text",
         "text": "resume_49",
         "textposition": "bottom center",
         "type": "scatter",
         "x": [
          -5.016500949859619
         ],
         "y": [
          -1.2997139692306519
         ]
        },
        {
         "marker": {
          "color": "red"
         },
         "mode": "markers+text",
         "text": "resume_50",
         "textposition": "bottom center",
         "type": "scatter",
         "x": [
          18.0612850189209
         ],
         "y": [
          -7.532785892486572
         ]
        },
        {
         "marker": {
          "color": "red"
         },
         "mode": "markers+text",
         "text": "resume_51",
         "textposition": "bottom center",
         "type": "scatter",
         "x": [
          -44.366294860839844
         ],
         "y": [
          7.795780181884766
         ]
        },
        {
         "marker": {
          "color": "red"
         },
         "mode": "markers+text",
         "text": "resume_52",
         "textposition": "bottom center",
         "type": "scatter",
         "x": [
          13.730521202087402
         ],
         "y": [
          10.818033218383789
         ]
        },
        {
         "marker": {
          "color": "red"
         },
         "mode": "markers+text",
         "text": "resume_53",
         "textposition": "bottom center",
         "type": "scatter",
         "x": [
          -13.782970428466797
         ],
         "y": [
          14.128714561462402
         ]
        },
        {
         "marker": {
          "color": "red"
         },
         "mode": "markers+text",
         "text": "resume_54",
         "textposition": "bottom center",
         "type": "scatter",
         "x": [
          -11.435564041137695
         ],
         "y": [
          -6.66447639465332
         ]
        },
        {
         "marker": {
          "color": "red"
         },
         "mode": "markers+text",
         "text": "resume_55",
         "textposition": "bottom center",
         "type": "scatter",
         "x": [
          -1.2700310945510864
         ],
         "y": [
          9.04170036315918
         ]
        },
        {
         "marker": {
          "color": "red"
         },
         "mode": "markers+text",
         "text": "resume_56",
         "textposition": "bottom center",
         "type": "scatter",
         "x": [
          11.377117156982422
         ],
         "y": [
          -18.61705780029297
         ]
        },
        {
         "marker": {
          "color": "red"
         },
         "mode": "markers+text",
         "text": "resume_57",
         "textposition": "bottom center",
         "type": "scatter",
         "x": [
          24.638874053955078
         ],
         "y": [
          -19.648014068603516
         ]
        },
        {
         "marker": {
          "color": "red"
         },
         "mode": "markers+text",
         "text": "resume_58",
         "textposition": "bottom center",
         "type": "scatter",
         "x": [
          -12.137118339538574
         ],
         "y": [
          10.619598388671875
         ]
        },
        {
         "marker": {
          "color": "red"
         },
         "mode": "markers+text",
         "text": "resume_59",
         "textposition": "bottom center",
         "type": "scatter",
         "x": [
          -16.256820678710938
         ],
         "y": [
          3.4878320693969727
         ]
        },
        {
         "marker": {
          "color": "red"
         },
         "mode": "markers+text",
         "text": "resume_60",
         "textposition": "bottom center",
         "type": "scatter",
         "x": [
          -25.14257049560547
         ],
         "y": [
          8.247137069702148
         ]
        },
        {
         "marker": {
          "color": "red"
         },
         "mode": "markers+text",
         "text": "resume_61",
         "textposition": "bottom center",
         "type": "scatter",
         "x": [
          14.416786193847656
         ],
         "y": [
          4.611454486846924
         ]
        },
        {
         "marker": {
          "color": "red"
         },
         "mode": "markers+text",
         "text": "resume_62",
         "textposition": "bottom center",
         "type": "scatter",
         "x": [
          -3.535571575164795
         ],
         "y": [
          -5.300992488861084
         ]
        },
        {
         "marker": {
          "color": "red"
         },
         "mode": "markers+text",
         "text": "resume_63",
         "textposition": "bottom center",
         "type": "scatter",
         "x": [
          -51.34830093383789
         ],
         "y": [
          12.6495943069458
         ]
        },
        {
         "marker": {
          "color": "red"
         },
         "mode": "markers+text",
         "text": "resume_64",
         "textposition": "bottom center",
         "type": "scatter",
         "x": [
          28.604385375976562
         ],
         "y": [
          -6.307994365692139
         ]
        },
        {
         "marker": {
          "color": "red"
         },
         "mode": "markers+text",
         "text": "resume_65",
         "textposition": "bottom center",
         "type": "scatter",
         "x": [
          -31.66668701171875
         ],
         "y": [
          12.104609489440918
         ]
        },
        {
         "marker": {
          "color": "red"
         },
         "mode": "markers+text",
         "text": "resume_66",
         "textposition": "bottom center",
         "type": "scatter",
         "x": [
          -16.441818237304688
         ],
         "y": [
          4.667251110076904
         ]
        },
        {
         "marker": {
          "color": "red"
         },
         "mode": "markers+text",
         "text": "resume_67",
         "textposition": "bottom center",
         "type": "scatter",
         "x": [
          -28.733631134033203
         ],
         "y": [
          7.617188930511475
         ]
        },
        {
         "marker": {
          "color": "red"
         },
         "mode": "markers+text",
         "text": "resume_68",
         "textposition": "bottom center",
         "type": "scatter",
         "x": [
          17.323989868164062
         ],
         "y": [
          8.50931453704834
         ]
        },
        {
         "marker": {
          "color": "red"
         },
         "mode": "markers+text",
         "text": "resume_69",
         "textposition": "bottom center",
         "type": "scatter",
         "x": [
          12.289478302001953
         ],
         "y": [
          5.084933280944824
         ]
        },
        {
         "marker": {
          "color": "red"
         },
         "mode": "markers+text",
         "text": "resume_70",
         "textposition": "bottom center",
         "type": "scatter",
         "x": [
          -26.275514602661133
         ],
         "y": [
          7.2325897216796875
         ]
        },
        {
         "marker": {
          "color": "red"
         },
         "mode": "markers+text",
         "text": "resume_71",
         "textposition": "bottom center",
         "type": "scatter",
         "x": [
          -13.021478652954102
         ],
         "y": [
          -2.605571746826172
         ]
        },
        {
         "marker": {
          "color": "red"
         },
         "mode": "markers+text",
         "text": "resume_72",
         "textposition": "bottom center",
         "type": "scatter",
         "x": [
          10.133354187011719
         ],
         "y": [
          -7.552331447601318
         ]
        },
        {
         "marker": {
          "color": "red"
         },
         "mode": "markers+text",
         "text": "resume_73",
         "textposition": "bottom center",
         "type": "scatter",
         "x": [
          14.113532066345215
         ],
         "y": [
          0.6869832873344421
         ]
        },
        {
         "marker": {
          "color": "red"
         },
         "mode": "markers+text",
         "text": "resume_74",
         "textposition": "bottom center",
         "type": "scatter",
         "x": [
          -52.742374420166016
         ],
         "y": [
          11.313517570495605
         ]
        },
        {
         "marker": {
          "color": "red"
         },
         "mode": "markers+text",
         "text": "resume_75",
         "textposition": "bottom center",
         "type": "scatter",
         "x": [
          -33.901084899902344
         ],
         "y": [
          11.17533016204834
         ]
        },
        {
         "marker": {
          "color": "red"
         },
         "mode": "markers+text",
         "text": "resume_76",
         "textposition": "bottom center",
         "type": "scatter",
         "x": [
          3.7179510593414307
         ],
         "y": [
          -1.0312014818191528
         ]
        },
        {
         "marker": {
          "color": "red"
         },
         "mode": "markers+text",
         "text": "resume_77",
         "textposition": "bottom center",
         "type": "scatter",
         "x": [
          28.204853057861328
         ],
         "y": [
          6.218965530395508
         ]
        },
        {
         "marker": {
          "color": "red"
         },
         "mode": "markers+text",
         "text": "resume_78",
         "textposition": "bottom center",
         "type": "scatter",
         "x": [
          13.421643257141113
         ],
         "y": [
          -13.67196273803711
         ]
        },
        {
         "marker": {
          "color": "red"
         },
         "mode": "markers+text",
         "text": "resume_79",
         "textposition": "bottom center",
         "type": "scatter",
         "x": [
          2.138521909713745
         ],
         "y": [
          8.987628936767578
         ]
        },
        {
         "marker": {
          "color": "red"
         },
         "mode": "markers+text",
         "text": "resume_80",
         "textposition": "bottom center",
         "type": "scatter",
         "x": [
          -16.6623477935791
         ],
         "y": [
          4.150339126586914
         ]
        },
        {
         "marker": {
          "color": "red"
         },
         "mode": "markers+text",
         "text": "resume_81",
         "textposition": "bottom center",
         "type": "scatter",
         "x": [
          -17.199481964111328
         ],
         "y": [
          5.2130818367004395
         ]
        },
        {
         "marker": {
          "color": "red"
         },
         "mode": "markers+text",
         "text": "resume_82",
         "textposition": "bottom center",
         "type": "scatter",
         "x": [
          -32.20992660522461
         ],
         "y": [
          10.602517127990723
         ]
        },
        {
         "marker": {
          "color": "red"
         },
         "mode": "markers+text",
         "text": "resume_83",
         "textposition": "bottom center",
         "type": "scatter",
         "x": [
          23.9998779296875
         ],
         "y": [
          -10.088302612304688
         ]
        },
        {
         "marker": {
          "color": "red"
         },
         "mode": "markers+text",
         "text": "resume_84",
         "textposition": "bottom center",
         "type": "scatter",
         "x": [
          16.230148315429688
         ],
         "y": [
          -18.61037254333496
         ]
        },
        {
         "marker": {
          "color": "red"
         },
         "mode": "markers+text",
         "text": "resume_85",
         "textposition": "bottom center",
         "type": "scatter",
         "x": [
          11.429267883300781
         ],
         "y": [
          -9.222877502441406
         ]
        },
        {
         "marker": {
          "color": "red"
         },
         "mode": "markers+text",
         "text": "resume_86",
         "textposition": "bottom center",
         "type": "scatter",
         "x": [
          20.272085189819336
         ],
         "y": [
          -12.969827651977539
         ]
        },
        {
         "marker": {
          "color": "red"
         },
         "mode": "markers+text",
         "text": "resume_87",
         "textposition": "bottom center",
         "type": "scatter",
         "x": [
          -23.711885452270508
         ],
         "y": [
          7.274947166442871
         ]
        },
        {
         "marker": {
          "color": "red"
         },
         "mode": "markers+text",
         "text": "resume_88",
         "textposition": "bottom center",
         "type": "scatter",
         "x": [
          -20.700803756713867
         ],
         "y": [
          8.167486190795898
         ]
        },
        {
         "marker": {
          "color": "red"
         },
         "mode": "markers+text",
         "text": "resume_89",
         "textposition": "bottom center",
         "type": "scatter",
         "x": [
          -48.79819869995117
         ],
         "y": [
          4.998611927032471
         ]
        },
        {
         "marker": {
          "color": "red"
         },
         "mode": "markers+text",
         "text": "resume_90",
         "textposition": "bottom center",
         "type": "scatter",
         "x": [
          13.791047096252441
         ],
         "y": [
          -0.8053735494613647
         ]
        },
        {
         "marker": {
          "color": "red"
         },
         "mode": "markers+text",
         "text": "resume_91",
         "textposition": "bottom center",
         "type": "scatter",
         "x": [
          -45.59480667114258
         ],
         "y": [
          9.222753524780273
         ]
        },
        {
         "marker": {
          "color": "red"
         },
         "mode": "markers+text",
         "text": "resume_92",
         "textposition": "bottom center",
         "type": "scatter",
         "x": [
          4.579331398010254
         ],
         "y": [
          13.00920581817627
         ]
        },
        {
         "marker": {
          "color": "red"
         },
         "mode": "markers+text",
         "text": "resume_93",
         "textposition": "bottom center",
         "type": "scatter",
         "x": [
          25.97423553466797
         ],
         "y": [
          -3.4859108924865723
         ]
        },
        {
         "marker": {
          "color": "red"
         },
         "mode": "markers+text",
         "text": "resume_94",
         "textposition": "bottom center",
         "type": "scatter",
         "x": [
          16.624732971191406
         ],
         "y": [
          -0.23490767180919647
         ]
        },
        {
         "marker": {
          "color": "red"
         },
         "mode": "markers+text",
         "text": "resume_95",
         "textposition": "bottom center",
         "type": "scatter",
         "x": [
          2.1345388889312744
         ],
         "y": [
          -2.42856502532959
         ]
        },
        {
         "marker": {
          "color": "red"
         },
         "mode": "markers+text",
         "text": "resume_96",
         "textposition": "bottom center",
         "type": "scatter",
         "x": [
          16.748607635498047
         ],
         "y": [
          -7.498776435852051
         ]
        },
        {
         "marker": {
          "color": "red"
         },
         "mode": "markers+text",
         "text": "resume_97",
         "textposition": "bottom center",
         "type": "scatter",
         "x": [
          0.13413821160793304
         ],
         "y": [
          -3.0009522438049316
         ]
        },
        {
         "marker": {
          "color": "red"
         },
         "mode": "markers+text",
         "text": "resume_98",
         "textposition": "bottom center",
         "type": "scatter",
         "x": [
          3.539909601211548
         ],
         "y": [
          14.87055778503418
         ]
        },
        {
         "marker": {
          "color": "red"
         },
         "mode": "markers+text",
         "text": "resume_99",
         "textposition": "bottom center",
         "type": "scatter",
         "x": [
          -26.356304168701172
         ],
         "y": [
          5.592794895172119
         ]
        },
        {
         "marker": {
          "color": "red"
         },
         "mode": "markers+text",
         "text": "resume_100",
         "textposition": "bottom center",
         "type": "scatter",
         "x": [
          8.030757904052734
         ],
         "y": [
          -7.651364803314209
         ]
        },
        {
         "marker": {
          "color": "red"
         },
         "mode": "markers+text",
         "text": "resume_101",
         "textposition": "bottom center",
         "type": "scatter",
         "x": [
          5.460469722747803
         ],
         "y": [
          4.696805477142334
         ]
        },
        {
         "marker": {
          "color": "red"
         },
         "mode": "markers+text",
         "text": "resume_102",
         "textposition": "bottom center",
         "type": "scatter",
         "x": [
          3.9596669673919678
         ],
         "y": [
          4.9337158203125
         ]
        },
        {
         "marker": {
          "color": "red"
         },
         "mode": "markers+text",
         "text": "resume_103",
         "textposition": "bottom center",
         "type": "scatter",
         "x": [
          26.27689552307129
         ],
         "y": [
          -11.014156341552734
         ]
        },
        {
         "marker": {
          "color": "red"
         },
         "mode": "markers+text",
         "text": "resume_104",
         "textposition": "bottom center",
         "type": "scatter",
         "x": [
          22.731369018554688
         ],
         "y": [
          0.8444246053695679
         ]
        },
        {
         "marker": {
          "color": "red"
         },
         "mode": "markers+text",
         "text": "resume_105",
         "textposition": "bottom center",
         "type": "scatter",
         "x": [
          19.020875930786133
         ],
         "y": [
          -17.087566375732422
         ]
        },
        {
         "marker": {
          "color": "red"
         },
         "mode": "markers+text",
         "text": "resume_106",
         "textposition": "bottom center",
         "type": "scatter",
         "x": [
          15.762138366699219
         ],
         "y": [
          -2.184068202972412
         ]
        },
        {
         "marker": {
          "color": "red"
         },
         "mode": "markers+text",
         "text": "resume_107",
         "textposition": "bottom center",
         "type": "scatter",
         "x": [
          -49.302085876464844
         ],
         "y": [
          13.374380111694336
         ]
        },
        {
         "marker": {
          "color": "red"
         },
         "mode": "markers+text",
         "text": "resume_108",
         "textposition": "bottom center",
         "type": "scatter",
         "x": [
          20.088340759277344
         ],
         "y": [
          -4.239582061767578
         ]
        },
        {
         "marker": {
          "color": "red"
         },
         "mode": "markers+text",
         "text": "resume_109",
         "textposition": "bottom center",
         "type": "scatter",
         "x": [
          -25.675430297851562
         ],
         "y": [
          4.872897624969482
         ]
        },
        {
         "marker": {
          "color": "red"
         },
         "mode": "markers+text",
         "text": "resume_110",
         "textposition": "bottom center",
         "type": "scatter",
         "x": [
          -28.199941635131836
         ],
         "y": [
          5.55219030380249
         ]
        },
        {
         "marker": {
          "color": "red"
         },
         "mode": "markers+text",
         "text": "resume_111",
         "textposition": "bottom center",
         "type": "scatter",
         "x": [
          -16.76889419555664
         ],
         "y": [
          9.25918197631836
         ]
        },
        {
         "marker": {
          "color": "red"
         },
         "mode": "markers+text",
         "text": "resume_112",
         "textposition": "bottom center",
         "type": "scatter",
         "x": [
          28.380325317382812
         ],
         "y": [
          5.522254467010498
         ]
        },
        {
         "marker": {
          "color": "red"
         },
         "mode": "markers+text",
         "text": "resume_113",
         "textposition": "bottom center",
         "type": "scatter",
         "x": [
          24.23811912536621
         ],
         "y": [
          8.154288291931152
         ]
        },
        {
         "marker": {
          "color": "red"
         },
         "mode": "markers+text",
         "text": "resume_114",
         "textposition": "bottom center",
         "type": "scatter",
         "x": [
          8.956901550292969
         ],
         "y": [
          -3.0202691555023193
         ]
        },
        {
         "marker": {
          "color": "red"
         },
         "mode": "markers+text",
         "text": "resume_115",
         "textposition": "bottom center",
         "type": "scatter",
         "x": [
          0.48381635546684265
         ],
         "y": [
          5.96589994430542
         ]
        },
        {
         "marker": {
          "color": "red"
         },
         "mode": "markers+text",
         "text": "resume_116",
         "textposition": "bottom center",
         "type": "scatter",
         "x": [
          15.847448348999023
         ],
         "y": [
          -20.75423240661621
         ]
        },
        {
         "marker": {
          "color": "red"
         },
         "mode": "markers+text",
         "text": "resume_117",
         "textposition": "bottom center",
         "type": "scatter",
         "x": [
          8.459829330444336
         ],
         "y": [
          16.38705825805664
         ]
        },
        {
         "marker": {
          "color": "red"
         },
         "mode": "markers+text",
         "text": "resume_118",
         "textposition": "bottom center",
         "type": "scatter",
         "x": [
          -45.09839630126953
         ],
         "y": [
          14.040776252746582
         ]
        },
        {
         "marker": {
          "color": "red"
         },
         "mode": "markers+text",
         "text": "resume_119",
         "textposition": "bottom center",
         "type": "scatter",
         "x": [
          19.17237663269043
         ],
         "y": [
          3.520134449005127
         ]
        },
        {
         "marker": {
          "color": "red"
         },
         "mode": "markers+text",
         "text": "resume_120",
         "textposition": "bottom center",
         "type": "scatter",
         "x": [
          29.249048233032227
         ],
         "y": [
          -10.461560249328613
         ]
        },
        {
         "marker": {
          "color": "red"
         },
         "mode": "markers+text",
         "text": "resume_121",
         "textposition": "bottom center",
         "type": "scatter",
         "x": [
          19.609628677368164
         ],
         "y": [
          -21.056936264038086
         ]
        },
        {
         "marker": {
          "color": "red"
         },
         "mode": "markers+text",
         "text": "resume_122",
         "textposition": "bottom center",
         "type": "scatter",
         "x": [
          -21.957374572753906
         ],
         "y": [
          3.954068660736084
         ]
        },
        {
         "marker": {
          "color": "red"
         },
         "mode": "markers+text",
         "text": "resume_123",
         "textposition": "bottom center",
         "type": "scatter",
         "x": [
          -3.572601079940796
         ],
         "y": [
          12.985991477966309
         ]
        },
        {
         "marker": {
          "color": "red"
         },
         "mode": "markers+text",
         "text": "resume_124",
         "textposition": "bottom center",
         "type": "scatter",
         "x": [
          25.800220489501953
         ],
         "y": [
          -7.182880878448486
         ]
        },
        {
         "marker": {
          "color": "red"
         },
         "mode": "markers+text",
         "text": "resume_125",
         "textposition": "bottom center",
         "type": "scatter",
         "x": [
          21.999298095703125
         ],
         "y": [
          -17.603775024414062
         ]
        },
        {
         "marker": {
          "color": "red"
         },
         "mode": "markers+text",
         "text": "resume_126",
         "textposition": "bottom center",
         "type": "scatter",
         "x": [
          -48.46989822387695
         ],
         "y": [
          12.311991691589355
         ]
        },
        {
         "marker": {
          "color": "red"
         },
         "mode": "markers+text",
         "text": "resume_127",
         "textposition": "bottom center",
         "type": "scatter",
         "x": [
          -14.68292236328125
         ],
         "y": [
          2.4689934253692627
         ]
        },
        {
         "marker": {
          "color": "red"
         },
         "mode": "markers+text",
         "text": "resume_128",
         "textposition": "bottom center",
         "type": "scatter",
         "x": [
          11.224392890930176
         ],
         "y": [
          3.701197385787964
         ]
        },
        {
         "marker": {
          "color": "red"
         },
         "mode": "markers+text",
         "text": "resume_129",
         "textposition": "bottom center",
         "type": "scatter",
         "x": [
          18.536409378051758
         ],
         "y": [
          12.531529426574707
         ]
        },
        {
         "marker": {
          "color": "red"
         },
         "mode": "markers+text",
         "text": "resume_130",
         "textposition": "bottom center",
         "type": "scatter",
         "x": [
          -33.846431732177734
         ],
         "y": [
          8.744404792785645
         ]
        },
        {
         "marker": {
          "color": "red"
         },
         "mode": "markers+text",
         "text": "resume_131",
         "textposition": "bottom center",
         "type": "scatter",
         "x": [
          3.9110472202301025
         ],
         "y": [
          -4.699552536010742
         ]
        },
        {
         "marker": {
          "color": "red"
         },
         "mode": "markers+text",
         "text": "resume_132",
         "textposition": "bottom center",
         "type": "scatter",
         "x": [
          -46.4170036315918
         ],
         "y": [
          9.001288414001465
         ]
        },
        {
         "marker": {
          "color": "red"
         },
         "mode": "markers+text",
         "text": "resume_133",
         "textposition": "bottom center",
         "type": "scatter",
         "x": [
          21.88054656982422
         ],
         "y": [
          -13.711016654968262
         ]
        },
        {
         "marker": {
          "color": "red"
         },
         "mode": "markers+text",
         "text": "resume_134",
         "textposition": "bottom center",
         "type": "scatter",
         "x": [
          15.983962059020996
         ],
         "y": [
          -4.954958438873291
         ]
        },
        {
         "marker": {
          "color": "red"
         },
         "mode": "markers+text",
         "text": "resume_135",
         "textposition": "bottom center",
         "type": "scatter",
         "x": [
          -48.35525894165039
         ],
         "y": [
          12.730782508850098
         ]
        },
        {
         "marker": {
          "color": "red"
         },
         "mode": "markers+text",
         "text": "resume_136",
         "textposition": "bottom center",
         "type": "scatter",
         "x": [
          24.84189796447754
         ],
         "y": [
          -7.23836612701416
         ]
        },
        {
         "marker": {
          "color": "red"
         },
         "mode": "markers+text",
         "text": "resume_137",
         "textposition": "bottom center",
         "type": "scatter",
         "x": [
          -48.80653762817383
         ],
         "y": [
          11.345993041992188
         ]
        },
        {
         "marker": {
          "color": "red"
         },
         "mode": "markers+text",
         "text": "resume_138",
         "textposition": "bottom center",
         "type": "scatter",
         "x": [
          -6.703247547149658
         ],
         "y": [
          8.709300994873047
         ]
        },
        {
         "marker": {
          "color": "red"
         },
         "mode": "markers+text",
         "text": "resume_139",
         "textposition": "bottom center",
         "type": "scatter",
         "x": [
          -31.61827850341797
         ],
         "y": [
          12.162683486938477
         ]
        },
        {
         "marker": {
          "color": "red"
         },
         "mode": "markers+text",
         "text": "resume_140",
         "textposition": "bottom center",
         "type": "scatter",
         "x": [
          9.859145164489746
         ],
         "y": [
          6.476299285888672
         ]
        },
        {
         "marker": {
          "color": "red"
         },
         "mode": "markers+text",
         "text": "resume_141",
         "textposition": "bottom center",
         "type": "scatter",
         "x": [
          -0.5276540517807007
         ],
         "y": [
          0.6525300741195679
         ]
        },
        {
         "marker": {
          "color": "red"
         },
         "mode": "markers+text",
         "text": "resume_142",
         "textposition": "bottom center",
         "type": "scatter",
         "x": [
          22.792219161987305
         ],
         "y": [
          2.785953998565674
         ]
        },
        {
         "marker": {
          "color": "red"
         },
         "mode": "markers+text",
         "text": "resume_143",
         "textposition": "bottom center",
         "type": "scatter",
         "x": [
          -49.546958923339844
         ],
         "y": [
          11.631012916564941
         ]
        },
        {
         "marker": {
          "color": "red"
         },
         "mode": "markers+text",
         "text": "resume_144",
         "textposition": "bottom center",
         "type": "scatter",
         "x": [
          -47.53855895996094
         ],
         "y": [
          15.954324722290039
         ]
        },
        {
         "marker": {
          "color": "red"
         },
         "mode": "markers+text",
         "text": "resume_145",
         "textposition": "bottom center",
         "type": "scatter",
         "x": [
          20.232942581176758
         ],
         "y": [
          6.916060447692871
         ]
        },
        {
         "marker": {
          "color": "red"
         },
         "mode": "markers+text",
         "text": "resume_146",
         "textposition": "bottom center",
         "type": "scatter",
         "x": [
          8.568323135375977
         ],
         "y": [
          3.7028872966766357
         ]
        },
        {
         "marker": {
          "color": "red"
         },
         "mode": "markers+text",
         "text": "resume_147",
         "textposition": "bottom center",
         "type": "scatter",
         "x": [
          23.323375701904297
         ],
         "y": [
          -5.631964683532715
         ]
        },
        {
         "marker": {
          "color": "red"
         },
         "mode": "markers+text",
         "text": "resume_148",
         "textposition": "bottom center",
         "type": "scatter",
         "x": [
          4.111795902252197
         ],
         "y": [
          7.2663984298706055
         ]
        },
        {
         "marker": {
          "color": "red"
         },
         "mode": "markers+text",
         "text": "resume_149",
         "textposition": "bottom center",
         "type": "scatter",
         "x": [
          -49.68254852294922
         ],
         "y": [
          7.480644702911377
         ]
        },
        {
         "marker": {
          "color": "red"
         },
         "mode": "markers+text",
         "text": "resume_150",
         "textposition": "bottom center",
         "type": "scatter",
         "x": [
          -54.85173034667969
         ],
         "y": [
          10.42653751373291
         ]
        },
        {
         "marker": {
          "color": "red"
         },
         "mode": "markers+text",
         "text": "resume_151",
         "textposition": "bottom center",
         "type": "scatter",
         "x": [
          21.628210067749023
         ],
         "y": [
          -0.27914151549339294
         ]
        },
        {
         "marker": {
          "color": "red"
         },
         "mode": "markers+text",
         "text": "resume_152",
         "textposition": "bottom center",
         "type": "scatter",
         "x": [
          -24.637983322143555
         ],
         "y": [
          11.776206970214844
         ]
        },
        {
         "marker": {
          "color": "red"
         },
         "mode": "markers+text",
         "text": "resume_153",
         "textposition": "bottom center",
         "type": "scatter",
         "x": [
          -51.741722106933594
         ],
         "y": [
          5.755198955535889
         ]
        },
        {
         "marker": {
          "color": "red"
         },
         "mode": "markers+text",
         "text": "resume_154",
         "textposition": "bottom center",
         "type": "scatter",
         "x": [
          15.760444641113281
         ],
         "y": [
          -14.982864379882812
         ]
        },
        {
         "marker": {
          "color": "red"
         },
         "mode": "markers+text",
         "text": "resume_155",
         "textposition": "bottom center",
         "type": "scatter",
         "x": [
          17.00970458984375
         ],
         "y": [
          -8.61671257019043
         ]
        },
        {
         "marker": {
          "color": "red"
         },
         "mode": "markers+text",
         "text": "resume_156",
         "textposition": "bottom center",
         "type": "scatter",
         "x": [
          -25.45345115661621
         ],
         "y": [
          5.050363540649414
         ]
        },
        {
         "marker": {
          "color": "red"
         },
         "mode": "markers+text",
         "text": "resume_157",
         "textposition": "bottom center",
         "type": "scatter",
         "x": [
          9.667308807373047
         ],
         "y": [
          -3.513549327850342
         ]
        },
        {
         "marker": {
          "color": "red"
         },
         "mode": "markers+text",
         "text": "resume_158",
         "textposition": "bottom center",
         "type": "scatter",
         "x": [
          15.041864395141602
         ],
         "y": [
          8.134754180908203
         ]
        },
        {
         "marker": {
          "color": "red"
         },
         "mode": "markers+text",
         "text": "resume_159",
         "textposition": "bottom center",
         "type": "scatter",
         "x": [
          -1.7214412689208984
         ],
         "y": [
          7.402095794677734
         ]
        },
        {
         "marker": {
          "color": "red"
         },
         "mode": "markers+text",
         "text": "resume_160",
         "textposition": "bottom center",
         "type": "scatter",
         "x": [
          20.446184158325195
         ],
         "y": [
          0.7163530588150024
         ]
        },
        {
         "marker": {
          "color": "red"
         },
         "mode": "markers+text",
         "text": "resume_161",
         "textposition": "bottom center",
         "type": "scatter",
         "x": [
          -1.105086088180542
         ],
         "y": [
          -2.1939010620117188
         ]
        },
        {
         "marker": {
          "color": "red"
         },
         "mode": "markers+text",
         "text": "resume_162",
         "textposition": "bottom center",
         "type": "scatter",
         "x": [
          -21.967906951904297
         ],
         "y": [
          5.671753406524658
         ]
        },
        {
         "marker": {
          "color": "red"
         },
         "mode": "markers+text",
         "text": "resume_163",
         "textposition": "bottom center",
         "type": "scatter",
         "x": [
          28.08855438232422
         ],
         "y": [
          -6.113073348999023
         ]
        },
        {
         "marker": {
          "color": "red"
         },
         "mode": "markers+text",
         "text": "resume_164",
         "textposition": "bottom center",
         "type": "scatter",
         "x": [
          15.253816604614258
         ],
         "y": [
          0.31815287470817566
         ]
        },
        {
         "marker": {
          "color": "red"
         },
         "mode": "markers+text",
         "text": "resume_165",
         "textposition": "bottom center",
         "type": "scatter",
         "x": [
          16.541790008544922
         ],
         "y": [
          1.078084111213684
         ]
        },
        {
         "marker": {
          "color": "red"
         },
         "mode": "markers+text",
         "text": "resume_166",
         "textposition": "bottom center",
         "type": "scatter",
         "x": [
          17.319591522216797
         ],
         "y": [
          -8.880322456359863
         ]
        },
        {
         "marker": {
          "color": "red"
         },
         "mode": "markers+text",
         "text": "resume_167",
         "textposition": "bottom center",
         "type": "scatter",
         "x": [
          18.957746505737305
         ],
         "y": [
          -18.130783081054688
         ]
        },
        {
         "marker": {
          "color": "red"
         },
         "mode": "markers+text",
         "text": "resume_168",
         "textposition": "bottom center",
         "type": "scatter",
         "x": [
          18.9677734375
         ],
         "y": [
          -15.460289001464844
         ]
        },
        {
         "marker": {
          "color": "red"
         },
         "mode": "markers+text",
         "text": "resume_169",
         "textposition": "bottom center",
         "type": "scatter",
         "x": [
          24.909042358398438
         ],
         "y": [
          -8.061905860900879
         ]
        },
        {
         "marker": {
          "color": "red"
         },
         "mode": "markers+text",
         "text": "resume_170",
         "textposition": "bottom center",
         "type": "scatter",
         "x": [
          4.567397594451904
         ],
         "y": [
          1.7800981998443604
         ]
        },
        {
         "marker": {
          "color": "red"
         },
         "mode": "markers+text",
         "text": "resume_171",
         "textposition": "bottom center",
         "type": "scatter",
         "x": [
          8.868393898010254
         ],
         "y": [
          15.19188404083252
         ]
        },
        {
         "marker": {
          "color": "red"
         },
         "mode": "markers+text",
         "text": "resume_172",
         "textposition": "bottom center",
         "type": "scatter",
         "x": [
          14.46261978149414
         ],
         "y": [
          -11.218827247619629
         ]
        },
        {
         "marker": {
          "color": "red"
         },
         "mode": "markers+text",
         "text": "resume_173",
         "textposition": "bottom center",
         "type": "scatter",
         "x": [
          14.792383193969727
         ],
         "y": [
          -16.112497329711914
         ]
        },
        {
         "marker": {
          "color": "red"
         },
         "mode": "markers+text",
         "text": "resume_174",
         "textposition": "bottom center",
         "type": "scatter",
         "x": [
          24.476179122924805
         ],
         "y": [
          -15.85368824005127
         ]
        },
        {
         "marker": {
          "color": "red"
         },
         "mode": "markers+text",
         "text": "resume_175",
         "textposition": "bottom center",
         "type": "scatter",
         "x": [
          5.803273677825928
         ],
         "y": [
          -4.644565105438232
         ]
        },
        {
         "marker": {
          "color": "red"
         },
         "mode": "markers+text",
         "text": "resume_176",
         "textposition": "bottom center",
         "type": "scatter",
         "x": [
          25.458541870117188
         ],
         "y": [
          3.1433727741241455
         ]
        },
        {
         "marker": {
          "color": "red"
         },
         "mode": "markers+text",
         "text": "resume_177",
         "textposition": "bottom center",
         "type": "scatter",
         "x": [
          -16.130094528198242
         ],
         "y": [
          -2.7935140132904053
         ]
        },
        {
         "marker": {
          "color": "red"
         },
         "mode": "markers+text",
         "text": "resume_178",
         "textposition": "bottom center",
         "type": "scatter",
         "x": [
          21.966136932373047
         ],
         "y": [
          -21.475475311279297
         ]
        },
        {
         "marker": {
          "color": "red"
         },
         "mode": "markers+text",
         "text": "resume_179",
         "textposition": "bottom center",
         "type": "scatter",
         "x": [
          2.924030065536499
         ],
         "y": [
          4.6230340003967285
         ]
        },
        {
         "marker": {
          "color": "red"
         },
         "mode": "markers+text",
         "text": "resume_180",
         "textposition": "bottom center",
         "type": "scatter",
         "x": [
          7.376927375793457
         ],
         "y": [
          -17.31696319580078
         ]
        },
        {
         "marker": {
          "color": "red"
         },
         "mode": "markers+text",
         "text": "resume_181",
         "textposition": "bottom center",
         "type": "scatter",
         "x": [
          15.060283660888672
         ],
         "y": [
          12.370772361755371
         ]
        },
        {
         "marker": {
          "color": "red"
         },
         "mode": "markers+text",
         "text": "resume_182",
         "textposition": "bottom center",
         "type": "scatter",
         "x": [
          20.945693969726562
         ],
         "y": [
          9.998953819274902
         ]
        },
        {
         "marker": {
          "color": "red"
         },
         "mode": "markers+text",
         "text": "resume_183",
         "textposition": "bottom center",
         "type": "scatter",
         "x": [
          22.511775970458984
         ],
         "y": [
          5.433992862701416
         ]
        },
        {
         "marker": {
          "color": "red"
         },
         "mode": "markers+text",
         "text": "resume_184",
         "textposition": "bottom center",
         "type": "scatter",
         "x": [
          2.799774169921875
         ],
         "y": [
          -3.2360589504241943
         ]
        },
        {
         "marker": {
          "color": "red"
         },
         "mode": "markers+text",
         "text": "resume_185",
         "textposition": "bottom center",
         "type": "scatter",
         "x": [
          -49.74161148071289
         ],
         "y": [
          7.474493980407715
         ]
        },
        {
         "marker": {
          "color": "red"
         },
         "mode": "markers+text",
         "text": "resume_186",
         "textposition": "bottom center",
         "type": "scatter",
         "x": [
          7.897007942199707
         ],
         "y": [
          -12.83112621307373
         ]
        },
        {
         "marker": {
          "color": "red"
         },
         "mode": "markers+text",
         "text": "resume_187",
         "textposition": "bottom center",
         "type": "scatter",
         "x": [
          -16.78887176513672
         ],
         "y": [
          -6.142397403717041
         ]
        },
        {
         "marker": {
          "color": "red"
         },
         "mode": "markers+text",
         "text": "resume_188",
         "textposition": "bottom center",
         "type": "scatter",
         "x": [
          -14.884188652038574
         ],
         "y": [
          13.36178970336914
         ]
        },
        {
         "marker": {
          "color": "red"
         },
         "mode": "markers+text",
         "text": "resume_189",
         "textposition": "bottom center",
         "type": "scatter",
         "x": [
          -2.5509839057922363
         ],
         "y": [
          8.467320442199707
         ]
        },
        {
         "marker": {
          "color": "red"
         },
         "mode": "markers+text",
         "text": "resume_190",
         "textposition": "bottom center",
         "type": "scatter",
         "x": [
          -0.8054212927818298
         ],
         "y": [
          4.435540199279785
         ]
        },
        {
         "marker": {
          "color": "red"
         },
         "mode": "markers+text",
         "text": "resume_191",
         "textposition": "bottom center",
         "type": "scatter",
         "x": [
          -52.35240936279297
         ],
         "y": [
          10.144312858581543
         ]
        },
        {
         "marker": {
          "color": "red"
         },
         "mode": "markers+text",
         "text": "resume_192",
         "textposition": "bottom center",
         "type": "scatter",
         "x": [
          5.253645896911621
         ],
         "y": [
          -3.8030450344085693
         ]
        },
        {
         "marker": {
          "color": "red"
         },
         "mode": "markers+text",
         "text": "resume_193",
         "textposition": "bottom center",
         "type": "scatter",
         "x": [
          -52.86921691894531
         ],
         "y": [
          8.708964347839355
         ]
        },
        {
         "marker": {
          "color": "red"
         },
         "mode": "markers+text",
         "text": "resume_194",
         "textposition": "bottom center",
         "type": "scatter",
         "x": [
          23.839975357055664
         ],
         "y": [
          1.8724346160888672
         ]
        },
        {
         "marker": {
          "color": "red"
         },
         "mode": "markers+text",
         "text": "resume_195",
         "textposition": "bottom center",
         "type": "scatter",
         "x": [
          -49.74201583862305
         ],
         "y": [
          7.409083366394043
         ]
        },
        {
         "marker": {
          "color": "red"
         },
         "mode": "markers+text",
         "text": "resume_196",
         "textposition": "bottom center",
         "type": "scatter",
         "x": [
          8.534942626953125
         ],
         "y": [
          -13.624770164489746
         ]
        },
        {
         "marker": {
          "color": "red"
         },
         "mode": "markers+text",
         "text": "resume_197",
         "textposition": "bottom center",
         "type": "scatter",
         "x": [
          -48.80517578125
         ],
         "y": [
          5.004306793212891
         ]
        },
        {
         "marker": {
          "color": "red"
         },
         "mode": "markers+text",
         "text": "resume_198",
         "textposition": "bottom center",
         "type": "scatter",
         "x": [
          2.964491128921509
         ],
         "y": [
          1.1227524280548096
         ]
        },
        {
         "marker": {
          "color": "red"
         },
         "mode": "markers+text",
         "text": "resume_199",
         "textposition": "bottom center",
         "type": "scatter",
         "x": [
          -30.64570426940918
         ],
         "y": [
          9.615906715393066
         ]
        },
        {
         "marker": {
          "color": "red"
         },
         "mode": "markers+text",
         "text": "resume_200",
         "textposition": "bottom center",
         "type": "scatter",
         "x": [
          29.63869857788086
         ],
         "y": [
          1.8830763101577759
         ]
        },
        {
         "marker": {
          "color": "red"
         },
         "mode": "markers+text",
         "text": "resume_201",
         "textposition": "bottom center",
         "type": "scatter",
         "x": [
          11.302802085876465
         ],
         "y": [
          -1.620994210243225
         ]
        },
        {
         "marker": {
          "color": "red"
         },
         "mode": "markers+text",
         "text": "resume_202",
         "textposition": "bottom center",
         "type": "scatter",
         "x": [
          14.780041694641113
         ],
         "y": [
          -20.82213020324707
         ]
        },
        {
         "marker": {
          "color": "red"
         },
         "mode": "markers+text",
         "text": "resume_203",
         "textposition": "bottom center",
         "type": "scatter",
         "x": [
          31.815332412719727
         ],
         "y": [
          -11.311880111694336
         ]
        },
        {
         "marker": {
          "color": "red"
         },
         "mode": "markers+text",
         "text": "resume_204",
         "textposition": "bottom center",
         "type": "scatter",
         "x": [
          -6.977210998535156
         ],
         "y": [
          -9.676372528076172
         ]
        },
        {
         "marker": {
          "color": "red"
         },
         "mode": "markers+text",
         "text": "resume_205",
         "textposition": "bottom center",
         "type": "scatter",
         "x": [
          28.420562744140625
         ],
         "y": [
          -12.423299789428711
         ]
        },
        {
         "marker": {
          "color": "red"
         },
         "mode": "markers+text",
         "text": "resume_206",
         "textposition": "bottom center",
         "type": "scatter",
         "x": [
          -1.6667149066925049
         ],
         "y": [
          0.21750611066818237
         ]
        },
        {
         "marker": {
          "color": "red"
         },
         "mode": "markers+text",
         "text": "resume_207",
         "textposition": "bottom center",
         "type": "scatter",
         "x": [
          22.983959197998047
         ],
         "y": [
          -11.726036071777344
         ]
        },
        {
         "marker": {
          "color": "red"
         },
         "mode": "markers+text",
         "text": "resume_208",
         "textposition": "bottom center",
         "type": "scatter",
         "x": [
          -30.057514190673828
         ],
         "y": [
          6.077106475830078
         ]
        },
        {
         "marker": {
          "color": "red"
         },
         "mode": "markers+text",
         "text": "resume_209",
         "textposition": "bottom center",
         "type": "scatter",
         "x": [
          2.440765619277954
         ],
         "y": [
          14.549149513244629
         ]
        },
        {
         "marker": {
          "color": "red"
         },
         "mode": "markers+text",
         "text": "resume_210",
         "textposition": "bottom center",
         "type": "scatter",
         "x": [
          23.899436950683594
         ],
         "y": [
          -5.342285633087158
         ]
        },
        {
         "marker": {
          "color": "red"
         },
         "mode": "markers+text",
         "text": "resume_211",
         "textposition": "bottom center",
         "type": "scatter",
         "x": [
          -13.258978843688965
         ],
         "y": [
          -0.2805953621864319
         ]
        },
        {
         "marker": {
          "color": "red"
         },
         "mode": "markers+text",
         "text": "resume_212",
         "textposition": "bottom center",
         "type": "scatter",
         "x": [
          8.30427074432373
         ],
         "y": [
          17.994035720825195
         ]
        },
        {
         "marker": {
          "color": "red"
         },
         "mode": "markers+text",
         "text": "resume_213",
         "textposition": "bottom center",
         "type": "scatter",
         "x": [
          -14.10619831085205
         ],
         "y": [
          -5.482502460479736
         ]
        },
        {
         "marker": {
          "color": "red"
         },
         "mode": "markers+text",
         "text": "resume_214",
         "textposition": "bottom center",
         "type": "scatter",
         "x": [
          24.901369094848633
         ],
         "y": [
          -1.4778852462768555
         ]
        },
        {
         "marker": {
          "color": "red"
         },
         "mode": "markers+text",
         "text": "resume_215",
         "textposition": "bottom center",
         "type": "scatter",
         "x": [
          19.84560203552246
         ],
         "y": [
          -21.233295440673828
         ]
        },
        {
         "marker": {
          "color": "red"
         },
         "mode": "markers+text",
         "text": "resume_216",
         "textposition": "bottom center",
         "type": "scatter",
         "x": [
          25.65941047668457
         ],
         "y": [
          -10.666604042053223
         ]
        },
        {
         "marker": {
          "color": "red"
         },
         "mode": "markers+text",
         "text": "resume_217",
         "textposition": "bottom center",
         "type": "scatter",
         "x": [
          22.241939544677734
         ],
         "y": [
          5.10975456237793
         ]
        },
        {
         "marker": {
          "color": "red"
         },
         "mode": "markers+text",
         "text": "resume_218",
         "textposition": "bottom center",
         "type": "scatter",
         "x": [
          -11.979817390441895
         ],
         "y": [
          0.4308975338935852
         ]
        },
        {
         "marker": {
          "color": "red"
         },
         "mode": "markers+text",
         "text": "resume_219",
         "textposition": "bottom center",
         "type": "scatter",
         "x": [
          8.13443660736084
         ],
         "y": [
          -10.391120910644531
         ]
        },
        {
         "marker": {
          "color": "red"
         },
         "mode": "markers+text",
         "text": "resume_220",
         "textposition": "bottom center",
         "type": "scatter",
         "x": [
          -31.622095108032227
         ],
         "y": [
          12.1670560836792
         ]
        },
        {
         "marker": {
          "color": "red"
         },
         "mode": "markers+text",
         "text": "resume_221",
         "textposition": "bottom center",
         "type": "scatter",
         "x": [
          13.188031196594238
         ],
         "y": [
          1.6286319494247437
         ]
        },
        {
         "marker": {
          "color": "red"
         },
         "mode": "markers+text",
         "text": "resume_222",
         "textposition": "bottom center",
         "type": "scatter",
         "x": [
          -16.3134708404541
         ],
         "y": [
          9.973993301391602
         ]
        },
        {
         "marker": {
          "color": "red"
         },
         "mode": "markers+text",
         "text": "resume_223",
         "textposition": "bottom center",
         "type": "scatter",
         "x": [
          -26.48518180847168
         ],
         "y": [
          4.210498332977295
         ]
        },
        {
         "marker": {
          "color": "red"
         },
         "mode": "markers+text",
         "text": "resume_224",
         "textposition": "bottom center",
         "type": "scatter",
         "x": [
          22.818761825561523
         ],
         "y": [
          -18.39680290222168
         ]
        },
        {
         "marker": {
          "color": "red"
         },
         "mode": "markers+text",
         "text": "resume_225",
         "textposition": "bottom center",
         "type": "scatter",
         "x": [
          -30.558277130126953
         ],
         "y": [
          9.177042007446289
         ]
        },
        {
         "marker": {
          "color": "red"
         },
         "mode": "markers+text",
         "text": "resume_226",
         "textposition": "bottom center",
         "type": "scatter",
         "x": [
          14.056401252746582
         ],
         "y": [
          -15.227660179138184
         ]
        },
        {
         "marker": {
          "color": "red"
         },
         "mode": "markers+text",
         "text": "resume_227",
         "textposition": "bottom center",
         "type": "scatter",
         "x": [
          -48.81061553955078
         ],
         "y": [
          5.010095596313477
         ]
        },
        {
         "marker": {
          "color": "red"
         },
         "mode": "markers+text",
         "text": "resume_228",
         "textposition": "bottom center",
         "type": "scatter",
         "x": [
          20.758934020996094
         ],
         "y": [
          -2.1161441802978516
         ]
        },
        {
         "marker": {
          "color": "red"
         },
         "mode": "markers+text",
         "text": "resume_229",
         "textposition": "bottom center",
         "type": "scatter",
         "x": [
          19.54265594482422
         ],
         "y": [
          -1.5754377841949463
         ]
        },
        {
         "marker": {
          "color": "red"
         },
         "mode": "markers+text",
         "text": "resume_230",
         "textposition": "bottom center",
         "type": "scatter",
         "x": [
          -7.5277276039123535
         ],
         "y": [
          -2.5852890014648438
         ]
        },
        {
         "marker": {
          "color": "red"
         },
         "mode": "markers+text",
         "text": "resume_231",
         "textposition": "bottom center",
         "type": "scatter",
         "x": [
          -15.679743766784668
         ],
         "y": [
          2.012573480606079
         ]
        },
        {
         "marker": {
          "color": "red"
         },
         "mode": "markers+text",
         "text": "resume_232",
         "textposition": "bottom center",
         "type": "scatter",
         "x": [
          18.069448471069336
         ],
         "y": [
          -0.4700354039669037
         ]
        },
        {
         "marker": {
          "color": "red"
         },
         "mode": "markers+text",
         "text": "resume_233",
         "textposition": "bottom center",
         "type": "scatter",
         "x": [
          22.620464324951172
         ],
         "y": [
          -8.676405906677246
         ]
        },
        {
         "marker": {
          "color": "red"
         },
         "mode": "markers+text",
         "text": "resume_234",
         "textposition": "bottom center",
         "type": "scatter",
         "x": [
          -14.373725891113281
         ],
         "y": [
          12.986276626586914
         ]
        },
        {
         "marker": {
          "color": "red"
         },
         "mode": "markers+text",
         "text": "resume_235",
         "textposition": "bottom center",
         "type": "scatter",
         "x": [
          -17.00363540649414
         ],
         "y": [
          3.607921838760376
         ]
        },
        {
         "marker": {
          "color": "red"
         },
         "mode": "markers+text",
         "text": "resume_236",
         "textposition": "bottom center",
         "type": "scatter",
         "x": [
          -7.0935516357421875
         ],
         "y": [
          5.12449312210083
         ]
        },
        {
         "marker": {
          "color": "red"
         },
         "mode": "markers+text",
         "text": "resume_237",
         "textposition": "bottom center",
         "type": "scatter",
         "x": [
          12.841691970825195
         ],
         "y": [
          -10.804521560668945
         ]
        },
        {
         "marker": {
          "color": "red"
         },
         "mode": "markers+text",
         "text": "resume_238",
         "textposition": "bottom center",
         "type": "scatter",
         "x": [
          28.59701156616211
         ],
         "y": [
          -11.253732681274414
         ]
        },
        {
         "marker": {
          "color": "red"
         },
         "mode": "markers+text",
         "text": "resume_239",
         "textposition": "bottom center",
         "type": "scatter",
         "x": [
          11.67250919342041
         ],
         "y": [
          -18.04985809326172
         ]
        },
        {
         "marker": {
          "color": "red"
         },
         "mode": "markers+text",
         "text": "resume_240",
         "textposition": "bottom center",
         "type": "scatter",
         "x": [
          -0.06816115230321884
         ],
         "y": [
          -1.385123372077942
         ]
        },
        {
         "marker": {
          "color": "red"
         },
         "mode": "markers+text",
         "text": "resume_241",
         "textposition": "bottom center",
         "type": "scatter",
         "x": [
          -2.596055269241333
         ],
         "y": [
          -8.158393859863281
         ]
        },
        {
         "marker": {
          "color": "red"
         },
         "mode": "markers+text",
         "text": "resume_242",
         "textposition": "bottom center",
         "type": "scatter",
         "x": [
          16.693675994873047
         ],
         "y": [
          -6.68440580368042
         ]
        },
        {
         "marker": {
          "color": "red"
         },
         "mode": "markers+text",
         "text": "resume_243",
         "textposition": "bottom center",
         "type": "scatter",
         "x": [
          -3.810133934020996
         ],
         "y": [
          1.7019710540771484
         ]
        },
        {
         "marker": {
          "color": "red"
         },
         "mode": "markers+text",
         "text": "resume_244",
         "textposition": "bottom center",
         "type": "scatter",
         "x": [
          -2.455921173095703
         ],
         "y": [
          -1.12539541721344
         ]
        },
        {
         "marker": {
          "color": "red"
         },
         "mode": "markers+text",
         "text": "resume_245",
         "textposition": "bottom center",
         "type": "scatter",
         "x": [
          2.211960792541504
         ],
         "y": [
          -13.322246551513672
         ]
        },
        {
         "marker": {
          "color": "red"
         },
         "mode": "markers+text",
         "text": "resume_246",
         "textposition": "bottom center",
         "type": "scatter",
         "x": [
          -5.955332279205322
         ],
         "y": [
          11.469401359558105
         ]
        },
        {
         "marker": {
          "color": "red"
         },
         "mode": "markers+text",
         "text": "resume_247",
         "textposition": "bottom center",
         "type": "scatter",
         "x": [
          8.909504890441895
         ],
         "y": [
          -3.6801750659942627
         ]
        },
        {
         "marker": {
          "color": "red"
         },
         "mode": "markers+text",
         "text": "resume_248",
         "textposition": "bottom center",
         "type": "scatter",
         "x": [
          5.756175994873047
         ],
         "y": [
          7.931174278259277
         ]
        },
        {
         "marker": {
          "color": "red"
         },
         "mode": "markers+text",
         "text": "resume_249",
         "textposition": "bottom center",
         "type": "scatter",
         "x": [
          -18.557252883911133
         ],
         "y": [
          6.588535308837891
         ]
        },
        {
         "marker": {
          "color": "red"
         },
         "mode": "markers+text",
         "text": "resume_250",
         "textposition": "bottom center",
         "type": "scatter",
         "x": [
          -15.826960563659668
         ],
         "y": [
          4.268184185028076
         ]
        },
        {
         "marker": {
          "color": "red"
         },
         "mode": "markers+text",
         "text": "resume_251",
         "textposition": "bottom center",
         "type": "scatter",
         "x": [
          19.961103439331055
         ],
         "y": [
          4.536966800689697
         ]
        },
        {
         "marker": {
          "color": "red"
         },
         "mode": "markers+text",
         "text": "resume_252",
         "textposition": "bottom center",
         "type": "scatter",
         "x": [
          -7.015018463134766
         ],
         "y": [
          -9.005660057067871
         ]
        },
        {
         "marker": {
          "color": "red"
         },
         "mode": "markers+text",
         "text": "resume_253",
         "textposition": "bottom center",
         "type": "scatter",
         "x": [
          -25.88361358642578
         ],
         "y": [
          5.49828577041626
         ]
        },
        {
         "marker": {
          "color": "red"
         },
         "mode": "markers+text",
         "text": "resume_254",
         "textposition": "bottom center",
         "type": "scatter",
         "x": [
          -4.032054424285889
         ],
         "y": [
          12.601490020751953
         ]
        },
        {
         "marker": {
          "color": "red"
         },
         "mode": "markers+text",
         "text": "resume_255",
         "textposition": "bottom center",
         "type": "scatter",
         "x": [
          18.48460578918457
         ],
         "y": [
          -5.420387268066406
         ]
        },
        {
         "marker": {
          "color": "red"
         },
         "mode": "markers+text",
         "text": "resume_256",
         "textposition": "bottom center",
         "type": "scatter",
         "x": [
          21.75448989868164
         ],
         "y": [
          8.414382934570312
         ]
        },
        {
         "marker": {
          "color": "red"
         },
         "mode": "markers+text",
         "text": "resume_257",
         "textposition": "bottom center",
         "type": "scatter",
         "x": [
          16.59174346923828
         ],
         "y": [
          -0.5101416707038879
         ]
        },
        {
         "marker": {
          "color": "red"
         },
         "mode": "markers+text",
         "text": "resume_258",
         "textposition": "bottom center",
         "type": "scatter",
         "x": [
          4.467747688293457
         ],
         "y": [
          7.908883094787598
         ]
        },
        {
         "marker": {
          "color": "red"
         },
         "mode": "markers+text",
         "text": "resume_259",
         "textposition": "bottom center",
         "type": "scatter",
         "x": [
          -0.755600094795227
         ],
         "y": [
          -2.5577635765075684
         ]
        },
        {
         "marker": {
          "color": "red"
         },
         "mode": "markers+text",
         "text": "resume_260",
         "textposition": "bottom center",
         "type": "scatter",
         "x": [
          22.908639907836914
         ],
         "y": [
          -0.6590442657470703
         ]
        },
        {
         "marker": {
          "color": "red"
         },
         "mode": "markers+text",
         "text": "resume_261",
         "textposition": "bottom center",
         "type": "scatter",
         "x": [
          -13.812421798706055
         ],
         "y": [
          4.079333782196045
         ]
        },
        {
         "marker": {
          "color": "red"
         },
         "mode": "markers+text",
         "text": "resume_262",
         "textposition": "bottom center",
         "type": "scatter",
         "x": [
          6.1573920249938965
         ],
         "y": [
          -17.247854232788086
         ]
        },
        {
         "marker": {
          "color": "red"
         },
         "mode": "markers+text",
         "text": "resume_263",
         "textposition": "bottom center",
         "type": "scatter",
         "x": [
          16.818416595458984
         ],
         "y": [
          -17.576580047607422
         ]
        },
        {
         "marker": {
          "color": "red"
         },
         "mode": "markers+text",
         "text": "resume_264",
         "textposition": "bottom center",
         "type": "scatter",
         "x": [
          24.874696731567383
         ],
         "y": [
          -20.97748374938965
         ]
        },
        {
         "marker": {
          "color": "red"
         },
         "mode": "markers+text",
         "text": "resume_265",
         "textposition": "bottom center",
         "type": "scatter",
         "x": [
          -8.534895896911621
         ],
         "y": [
          3.1420202255249023
         ]
        },
        {
         "marker": {
          "color": "red"
         },
         "mode": "markers+text",
         "text": "resume_266",
         "textposition": "bottom center",
         "type": "scatter",
         "x": [
          3.9489529132843018
         ],
         "y": [
          -3.207566261291504
         ]
        },
        {
         "marker": {
          "color": "red"
         },
         "mode": "markers+text",
         "text": "resume_267",
         "textposition": "bottom center",
         "type": "scatter",
         "x": [
          29.848726272583008
         ],
         "y": [
          -19.2259521484375
         ]
        },
        {
         "marker": {
          "color": "red"
         },
         "mode": "markers+text",
         "text": "resume_268",
         "textposition": "bottom center",
         "type": "scatter",
         "x": [
          29.551227569580078
         ],
         "y": [
          -10.443462371826172
         ]
        },
        {
         "marker": {
          "color": "red"
         },
         "mode": "markers+text",
         "text": "resume_269",
         "textposition": "bottom center",
         "type": "scatter",
         "x": [
          19.61809539794922
         ],
         "y": [
          -0.18752293288707733
         ]
        },
        {
         "marker": {
          "color": "red"
         },
         "mode": "markers+text",
         "text": "resume_270",
         "textposition": "bottom center",
         "type": "scatter",
         "x": [
          -10.11139965057373
         ],
         "y": [
          -2.069148063659668
         ]
        },
        {
         "marker": {
          "color": "red"
         },
         "mode": "markers+text",
         "text": "resume_271",
         "textposition": "bottom center",
         "type": "scatter",
         "x": [
          5.867493629455566
         ],
         "y": [
          18.022703170776367
         ]
        },
        {
         "marker": {
          "color": "red"
         },
         "mode": "markers+text",
         "text": "resume_272",
         "textposition": "bottom center",
         "type": "scatter",
         "x": [
          21.059375762939453
         ],
         "y": [
          -2.603764533996582
         ]
        },
        {
         "marker": {
          "color": "red"
         },
         "mode": "markers+text",
         "text": "resume_273",
         "textposition": "bottom center",
         "type": "scatter",
         "x": [
          1.0980548858642578
         ],
         "y": [
          1.0615730285644531
         ]
        },
        {
         "marker": {
          "color": "red"
         },
         "mode": "markers+text",
         "text": "resume_274",
         "textposition": "bottom center",
         "type": "scatter",
         "x": [
          -15.717062950134277
         ],
         "y": [
          -0.15885518491268158
         ]
        },
        {
         "marker": {
          "color": "red"
         },
         "mode": "markers+text",
         "text": "resume_275",
         "textposition": "bottom center",
         "type": "scatter",
         "x": [
          -24.50998878479004
         ],
         "y": [
          5.259082794189453
         ]
        },
        {
         "marker": {
          "color": "red"
         },
         "mode": "markers+text",
         "text": "resume_276",
         "textposition": "bottom center",
         "type": "scatter",
         "x": [
          3.9825408458709717
         ],
         "y": [
          6.266427993774414
         ]
        },
        {
         "marker": {
          "color": "red"
         },
         "mode": "markers+text",
         "text": "resume_277",
         "textposition": "bottom center",
         "type": "scatter",
         "x": [
          27.284221649169922
         ],
         "y": [
          -16.207698822021484
         ]
        },
        {
         "marker": {
          "color": "red"
         },
         "mode": "markers+text",
         "text": "resume_278",
         "textposition": "bottom center",
         "type": "scatter",
         "x": [
          -53.651649475097656
         ],
         "y": [
          14.047798156738281
         ]
        },
        {
         "marker": {
          "color": "red"
         },
         "mode": "markers+text",
         "text": "resume_279",
         "textposition": "bottom center",
         "type": "scatter",
         "x": [
          15.20341968536377
         ],
         "y": [
          -18.566133499145508
         ]
        },
        {
         "marker": {
          "color": "red"
         },
         "mode": "markers+text",
         "text": "resume_280",
         "textposition": "bottom center",
         "type": "scatter",
         "x": [
          7.207273006439209
         ],
         "y": [
          -5.292909622192383
         ]
        },
        {
         "marker": {
          "color": "red"
         },
         "mode": "markers+text",
         "text": "resume_281",
         "textposition": "bottom center",
         "type": "scatter",
         "x": [
          -7.209005355834961
         ],
         "y": [
          8.929339408874512
         ]
        },
        {
         "marker": {
          "color": "red"
         },
         "mode": "markers+text",
         "text": "resume_282",
         "textposition": "bottom center",
         "type": "scatter",
         "x": [
          -18.609445571899414
         ],
         "y": [
          4.855175495147705
         ]
        },
        {
         "marker": {
          "color": "red"
         },
         "mode": "markers+text",
         "text": "resume_283",
         "textposition": "bottom center",
         "type": "scatter",
         "x": [
          -46.41426086425781
         ],
         "y": [
          8.978641510009766
         ]
        },
        {
         "marker": {
          "color": "red"
         },
         "mode": "markers+text",
         "text": "resume_284",
         "textposition": "bottom center",
         "type": "scatter",
         "x": [
          -19.238388061523438
         ],
         "y": [
          3.256044626235962
         ]
        },
        {
         "marker": {
          "color": "red"
         },
         "mode": "markers+text",
         "text": "resume_285",
         "textposition": "bottom center",
         "type": "scatter",
         "x": [
          11.501957893371582
         ],
         "y": [
          10.195711135864258
         ]
        },
        {
         "marker": {
          "color": "red"
         },
         "mode": "markers+text",
         "text": "resume_286",
         "textposition": "bottom center",
         "type": "scatter",
         "x": [
          16.605560302734375
         ],
         "y": [
          -4.368743896484375
         ]
        },
        {
         "marker": {
          "color": "red"
         },
         "mode": "markers+text",
         "text": "resume_287",
         "textposition": "bottom center",
         "type": "scatter",
         "x": [
          16.135221481323242
         ],
         "y": [
          -5.771022796630859
         ]
        },
        {
         "marker": {
          "color": "red"
         },
         "mode": "markers+text",
         "text": "resume_288",
         "textposition": "bottom center",
         "type": "scatter",
         "x": [
          -1.8280982971191406
         ],
         "y": [
          2.71802020072937
         ]
        },
        {
         "marker": {
          "color": "red"
         },
         "mode": "markers+text",
         "text": "resume_289",
         "textposition": "bottom center",
         "type": "scatter",
         "x": [
          -12.12446403503418
         ],
         "y": [
          6.91379976272583
         ]
        },
        {
         "marker": {
          "color": "red"
         },
         "mode": "markers+text",
         "text": "resume_290",
         "textposition": "bottom center",
         "type": "scatter",
         "x": [
          -25.298416137695312
         ],
         "y": [
          3.8192474842071533
         ]
        },
        {
         "marker": {
          "color": "red"
         },
         "mode": "markers+text",
         "text": "resume_291",
         "textposition": "bottom center",
         "type": "scatter",
         "x": [
          4.431079387664795
         ],
         "y": [
          10.171185493469238
         ]
        },
        {
         "marker": {
          "color": "red"
         },
         "mode": "markers+text",
         "text": "resume_292",
         "textposition": "bottom center",
         "type": "scatter",
         "x": [
          12.071898460388184
         ],
         "y": [
          12.517637252807617
         ]
        },
        {
         "marker": {
          "color": "red"
         },
         "mode": "markers+text",
         "text": "resume_293",
         "textposition": "bottom center",
         "type": "scatter",
         "x": [
          20.216686248779297
         ],
         "y": [
          -4.088461399078369
         ]
        },
        {
         "marker": {
          "color": "red"
         },
         "mode": "markers+text",
         "text": "resume_294",
         "textposition": "bottom center",
         "type": "scatter",
         "x": [
          25.70112419128418
         ],
         "y": [
          3.1781840324401855
         ]
        },
        {
         "marker": {
          "color": "red"
         },
         "mode": "markers+text",
         "text": "resume_295",
         "textposition": "bottom center",
         "type": "scatter",
         "x": [
          21.631027221679688
         ],
         "y": [
          -16.470611572265625
         ]
        },
        {
         "marker": {
          "color": "red"
         },
         "mode": "markers+text",
         "text": "resume_296",
         "textposition": "bottom center",
         "type": "scatter",
         "x": [
          5.791467189788818
         ],
         "y": [
          -7.179195880889893
         ]
        },
        {
         "marker": {
          "color": "red"
         },
         "mode": "markers+text",
         "text": "resume_297",
         "textposition": "bottom center",
         "type": "scatter",
         "x": [
          7.871414661407471
         ],
         "y": [
          -8.001419067382812
         ]
        },
        {
         "marker": {
          "color": "red"
         },
         "mode": "markers+text",
         "text": "resume_298",
         "textposition": "bottom center",
         "type": "scatter",
         "x": [
          6.9879021644592285
         ],
         "y": [
          -20.69607162475586
         ]
        },
        {
         "marker": {
          "color": "red"
         },
         "mode": "markers+text",
         "text": "resume_299",
         "textposition": "bottom center",
         "type": "scatter",
         "x": [
          -3.4108726978302
         ],
         "y": [
          10.444557189941406
         ]
        },
        {
         "marker": {
          "color": "red"
         },
         "mode": "markers+text",
         "text": "resume_300",
         "textposition": "bottom center",
         "type": "scatter",
         "x": [
          -2.4202523231506348
         ],
         "y": [
          1.016201376914978
         ]
        },
        {
         "marker": {
          "color": "red"
         },
         "mode": "markers+text",
         "text": "resume_301",
         "textposition": "bottom center",
         "type": "scatter",
         "x": [
          12.475908279418945
         ],
         "y": [
          -4.33200740814209
         ]
        },
        {
         "marker": {
          "color": "red"
         },
         "mode": "markers+text",
         "text": "resume_302",
         "textposition": "bottom center",
         "type": "scatter",
         "x": [
          19.65273094177246
         ],
         "y": [
          -7.765162944793701
         ]
        },
        {
         "marker": {
          "color": "red"
         },
         "mode": "markers+text",
         "text": "resume_303",
         "textposition": "bottom center",
         "type": "scatter",
         "x": [
          30.29911994934082
         ],
         "y": [
          -3.087082862854004
         ]
        },
        {
         "marker": {
          "color": "red"
         },
         "mode": "markers+text",
         "text": "resume_304",
         "textposition": "bottom center",
         "type": "scatter",
         "x": [
          -7.7655534744262695
         ],
         "y": [
          0.45674991607666016
         ]
        },
        {
         "marker": {
          "color": "red"
         },
         "mode": "markers+text",
         "text": "resume_305",
         "textposition": "bottom center",
         "type": "scatter",
         "x": [
          -13.003754615783691
         ],
         "y": [
          3.6117324829101562
         ]
        },
        {
         "marker": {
          "color": "red"
         },
         "mode": "markers+text",
         "text": "resume_306",
         "textposition": "bottom center",
         "type": "scatter",
         "x": [
          26.484411239624023
         ],
         "y": [
          -14.212908744812012
         ]
        },
        {
         "marker": {
          "color": "red"
         },
         "mode": "markers+text",
         "text": "resume_307",
         "textposition": "bottom center",
         "type": "scatter",
         "x": [
          18.845361709594727
         ],
         "y": [
          12.323134422302246
         ]
        },
        {
         "marker": {
          "color": "red"
         },
         "mode": "markers+text",
         "text": "resume_308",
         "textposition": "bottom center",
         "type": "scatter",
         "x": [
          18.84267807006836
         ],
         "y": [
          13.449790000915527
         ]
        },
        {
         "marker": {
          "color": "red"
         },
         "mode": "markers+text",
         "text": "resume_309",
         "textposition": "bottom center",
         "type": "scatter",
         "x": [
          13.412859916687012
         ],
         "y": [
          -3.4174416065216064
         ]
        },
        {
         "marker": {
          "color": "red"
         },
         "mode": "markers+text",
         "text": "resume_310",
         "textposition": "bottom center",
         "type": "scatter",
         "x": [
          4.901343822479248
         ],
         "y": [
          -10.11484432220459
         ]
        },
        {
         "marker": {
          "color": "red"
         },
         "mode": "markers+text",
         "text": "resume_311",
         "textposition": "bottom center",
         "type": "scatter",
         "x": [
          15.78953742980957
         ],
         "y": [
          3.742133140563965
         ]
        },
        {
         "marker": {
          "color": "red"
         },
         "mode": "markers+text",
         "text": "resume_312",
         "textposition": "bottom center",
         "type": "scatter",
         "x": [
          -16.164674758911133
         ],
         "y": [
          5.796754837036133
         ]
        },
        {
         "marker": {
          "color": "red"
         },
         "mode": "markers+text",
         "text": "resume_313",
         "textposition": "bottom center",
         "type": "scatter",
         "x": [
          20.743316650390625
         ],
         "y": [
          -21.39198112487793
         ]
        },
        {
         "marker": {
          "color": "red"
         },
         "mode": "markers+text",
         "text": "resume_314",
         "textposition": "bottom center",
         "type": "scatter",
         "x": [
          27.544885635375977
         ],
         "y": [
          -18.05860710144043
         ]
        },
        {
         "marker": {
          "color": "red"
         },
         "mode": "markers+text",
         "text": "resume_315",
         "textposition": "bottom center",
         "type": "scatter",
         "x": [
          -5.765750885009766
         ],
         "y": [
          4.025511741638184
         ]
        },
        {
         "marker": {
          "color": "red"
         },
         "mode": "markers+text",
         "text": "resume_316",
         "textposition": "bottom center",
         "type": "scatter",
         "x": [
          -49.714149475097656
         ],
         "y": [
          7.36665678024292
         ]
        },
        {
         "marker": {
          "color": "red"
         },
         "mode": "markers+text",
         "text": "resume_317",
         "textposition": "bottom center",
         "type": "scatter",
         "x": [
          -54.088348388671875
         ],
         "y": [
          14.534829139709473
         ]
        },
        {
         "marker": {
          "color": "red"
         },
         "mode": "markers+text",
         "text": "resume_318",
         "textposition": "bottom center",
         "type": "scatter",
         "x": [
          -48.54373550415039
         ],
         "y": [
          10.813741683959961
         ]
        },
        {
         "marker": {
          "color": "red"
         },
         "mode": "markers+text",
         "text": "resume_319",
         "textposition": "bottom center",
         "type": "scatter",
         "x": [
          25.146562576293945
         ],
         "y": [
          -15.400283813476562
         ]
        },
        {
         "marker": {
          "color": "red"
         },
         "mode": "markers+text",
         "text": "resume_320",
         "textposition": "bottom center",
         "type": "scatter",
         "x": [
          5.566500186920166
         ],
         "y": [
          0.23927003145217896
         ]
        },
        {
         "marker": {
          "color": "red"
         },
         "mode": "markers+text",
         "text": "resume_321",
         "textposition": "bottom center",
         "type": "scatter",
         "x": [
          -51.345149993896484
         ],
         "y": [
          12.654178619384766
         ]
        },
        {
         "marker": {
          "color": "red"
         },
         "mode": "markers+text",
         "text": "resume_322",
         "textposition": "bottom center",
         "type": "scatter",
         "x": [
          -15.861397743225098
         ],
         "y": [
          -0.6876608729362488
         ]
        },
        {
         "marker": {
          "color": "red"
         },
         "mode": "markers+text",
         "text": "resume_323",
         "textposition": "bottom center",
         "type": "scatter",
         "x": [
          12.182307243347168
         ],
         "y": [
          18.256296157836914
         ]
        },
        {
         "marker": {
          "color": "red"
         },
         "mode": "markers+text",
         "text": "resume_324",
         "textposition": "bottom center",
         "type": "scatter",
         "x": [
          -28.429502487182617
         ],
         "y": [
          6.459052562713623
         ]
        },
        {
         "marker": {
          "color": "red"
         },
         "mode": "markers+text",
         "text": "resume_325",
         "textposition": "bottom center",
         "type": "scatter",
         "x": [
          -3.3639843463897705
         ],
         "y": [
          -4.0720062255859375
         ]
        },
        {
         "marker": {
          "color": "red"
         },
         "mode": "markers+text",
         "text": "resume_326",
         "textposition": "bottom center",
         "type": "scatter",
         "x": [
          -5.627398490905762
         ],
         "y": [
          -5.616514205932617
         ]
        },
        {
         "marker": {
          "color": "red"
         },
         "mode": "markers+text",
         "text": "resume_327",
         "textposition": "bottom center",
         "type": "scatter",
         "x": [
          -47.68962478637695
         ],
         "y": [
          8.438309669494629
         ]
        },
        {
         "marker": {
          "color": "red"
         },
         "mode": "markers+text",
         "text": "resume_328",
         "textposition": "bottom center",
         "type": "scatter",
         "x": [
          26.685348510742188
         ],
         "y": [
          1.0140153169631958
         ]
        },
        {
         "marker": {
          "color": "red"
         },
         "mode": "markers+text",
         "text": "resume_329",
         "textposition": "bottom center",
         "type": "scatter",
         "x": [
          29.88821792602539
         ],
         "y": [
          -2.782590627670288
         ]
        },
        {
         "marker": {
          "color": "red"
         },
         "mode": "markers+text",
         "text": "resume_330",
         "textposition": "bottom center",
         "type": "scatter",
         "x": [
          11.369321823120117
         ],
         "y": [
          -9.759443283081055
         ]
        },
        {
         "marker": {
          "color": "red"
         },
         "mode": "markers+text",
         "text": "resume_331",
         "textposition": "bottom center",
         "type": "scatter",
         "x": [
          0.9262059330940247
         ],
         "y": [
          2.8568501472473145
         ]
        },
        {
         "marker": {
          "color": "red"
         },
         "mode": "markers+text",
         "text": "resume_332",
         "textposition": "bottom center",
         "type": "scatter",
         "x": [
          -29.534482955932617
         ],
         "y": [
          10.086259841918945
         ]
        },
        {
         "marker": {
          "color": "red"
         },
         "mode": "markers+text",
         "text": "resume_333",
         "textposition": "bottom center",
         "type": "scatter",
         "x": [
          24.372119903564453
         ],
         "y": [
          -9.009364128112793
         ]
        },
        {
         "marker": {
          "color": "red"
         },
         "mode": "markers+text",
         "text": "resume_334",
         "textposition": "bottom center",
         "type": "scatter",
         "x": [
          -1.3424220085144043
         ],
         "y": [
          -15.124640464782715
         ]
        },
        {
         "marker": {
          "color": "red"
         },
         "mode": "markers+text",
         "text": "resume_335",
         "textposition": "bottom center",
         "type": "scatter",
         "x": [
          0.761817991733551
         ],
         "y": [
          -0.2653423547744751
         ]
        },
        {
         "marker": {
          "color": "red"
         },
         "mode": "markers+text",
         "text": "resume_336",
         "textposition": "bottom center",
         "type": "scatter",
         "x": [
          -54.824581146240234
         ],
         "y": [
          10.441320419311523
         ]
        },
        {
         "marker": {
          "color": "red"
         },
         "mode": "markers+text",
         "text": "resume_337",
         "textposition": "bottom center",
         "type": "scatter",
         "x": [
          -29.356307983398438
         ],
         "y": [
          6.05080509185791
         ]
        },
        {
         "marker": {
          "color": "red"
         },
         "mode": "markers+text",
         "text": "resume_338",
         "textposition": "bottom center",
         "type": "scatter",
         "x": [
          -6.29326057434082
         ],
         "y": [
          0.6339136958122253
         ]
        },
        {
         "marker": {
          "color": "red"
         },
         "mode": "markers+text",
         "text": "resume_339",
         "textposition": "bottom center",
         "type": "scatter",
         "x": [
          -56.61715316772461
         ],
         "y": [
          7.164182186126709
         ]
        },
        {
         "marker": {
          "color": "red"
         },
         "mode": "markers+text",
         "text": "resume_340",
         "textposition": "bottom center",
         "type": "scatter",
         "x": [
          25.095386505126953
         ],
         "y": [
          -12.430595397949219
         ]
        },
        {
         "marker": {
          "color": "red"
         },
         "mode": "markers+text",
         "text": "resume_341",
         "textposition": "bottom center",
         "type": "scatter",
         "x": [
          -28.343828201293945
         ],
         "y": [
          3.0596840381622314
         ]
        },
        {
         "marker": {
          "color": "red"
         },
         "mode": "markers+text",
         "text": "resume_342",
         "textposition": "bottom center",
         "type": "scatter",
         "x": [
          18.466819763183594
         ],
         "y": [
          -3.3140530586242676
         ]
        },
        {
         "marker": {
          "color": "red"
         },
         "mode": "markers+text",
         "text": "resume_343",
         "textposition": "bottom center",
         "type": "scatter",
         "x": [
          -52.78031921386719
         ],
         "y": [
          9.291662216186523
         ]
        },
        {
         "marker": {
          "color": "red"
         },
         "mode": "markers+text",
         "text": "resume_344",
         "textposition": "bottom center",
         "type": "scatter",
         "x": [
          15.930797576904297
         ],
         "y": [
          -19.188003540039062
         ]
        },
        {
         "marker": {
          "color": "red"
         },
         "mode": "markers+text",
         "text": "resume_345",
         "textposition": "bottom center",
         "type": "scatter",
         "x": [
          8.73491096496582
         ],
         "y": [
          18.04200553894043
         ]
        },
        {
         "marker": {
          "color": "red"
         },
         "mode": "markers+text",
         "text": "resume_346",
         "textposition": "bottom center",
         "type": "scatter",
         "x": [
          14.218273162841797
         ],
         "y": [
          10.520252227783203
         ]
        },
        {
         "marker": {
          "color": "red"
         },
         "mode": "markers+text",
         "text": "resume_347",
         "textposition": "bottom center",
         "type": "scatter",
         "x": [
          23.3709716796875
         ],
         "y": [
          -18.15896224975586
         ]
        },
        {
         "marker": {
          "color": "red"
         },
         "mode": "markers+text",
         "text": "resume_348",
         "textposition": "bottom center",
         "type": "scatter",
         "x": [
          -1.3978776931762695
         ],
         "y": [
          -0.47505199909210205
         ]
        },
        {
         "marker": {
          "color": "red"
         },
         "mode": "markers+text",
         "text": "resume_349",
         "textposition": "bottom center",
         "type": "scatter",
         "x": [
          -16.497983932495117
         ],
         "y": [
          8.862074851989746
         ]
        },
        {
         "marker": {
          "color": "red"
         },
         "mode": "markers+text",
         "text": "resume_350",
         "textposition": "bottom center",
         "type": "scatter",
         "x": [
          12.559942245483398
         ],
         "y": [
          -7.927357196807861
         ]
        },
        {
         "marker": {
          "color": "red"
         },
         "mode": "markers+text",
         "text": "resume_351",
         "textposition": "bottom center",
         "type": "scatter",
         "x": [
          16.095781326293945
         ],
         "y": [
          -0.9402920007705688
         ]
        },
        {
         "marker": {
          "color": "red"
         },
         "mode": "markers+text",
         "text": "resume_352",
         "textposition": "bottom center",
         "type": "scatter",
         "x": [
          -44.96174240112305
         ],
         "y": [
          10.350760459899902
         ]
        },
        {
         "marker": {
          "color": "red"
         },
         "mode": "markers+text",
         "text": "resume_353",
         "textposition": "bottom center",
         "type": "scatter",
         "x": [
          18.967947006225586
         ],
         "y": [
          -0.99217689037323
         ]
        },
        {
         "marker": {
          "color": "red"
         },
         "mode": "markers+text",
         "text": "resume_354",
         "textposition": "bottom center",
         "type": "scatter",
         "x": [
          -15.169488906860352
         ],
         "y": [
          11.420823097229004
         ]
        },
        {
         "marker": {
          "color": "red"
         },
         "mode": "markers+text",
         "text": "resume_355",
         "textposition": "bottom center",
         "type": "scatter",
         "x": [
          21.394203186035156
         ],
         "y": [
          10.422252655029297
         ]
        },
        {
         "marker": {
          "color": "red"
         },
         "mode": "markers+text",
         "text": "resume_356",
         "textposition": "bottom center",
         "type": "scatter",
         "x": [
          -8.20433235168457
         ],
         "y": [
          -3.7635631561279297
         ]
        },
        {
         "marker": {
          "color": "red"
         },
         "mode": "markers+text",
         "text": "resume_357",
         "textposition": "bottom center",
         "type": "scatter",
         "x": [
          -31.874462127685547
         ],
         "y": [
          4.577919006347656
         ]
        },
        {
         "marker": {
          "color": "red"
         },
         "mode": "markers+text",
         "text": "resume_358",
         "textposition": "bottom center",
         "type": "scatter",
         "x": [
          -52.00369644165039
         ],
         "y": [
          5.454941749572754
         ]
        },
        {
         "marker": {
          "color": "red"
         },
         "mode": "markers+text",
         "text": "resume_359",
         "textposition": "bottom center",
         "type": "scatter",
         "x": [
          24.22060203552246
         ],
         "y": [
          -3.125098466873169
         ]
        },
        {
         "marker": {
          "color": "red"
         },
         "mode": "markers+text",
         "text": "resume_360",
         "textposition": "bottom center",
         "type": "scatter",
         "x": [
          6.436663627624512
         ],
         "y": [
          -20.18189239501953
         ]
        },
        {
         "marker": {
          "color": "red"
         },
         "mode": "markers+text",
         "text": "resume_361",
         "textposition": "bottom center",
         "type": "scatter",
         "x": [
          16.818021774291992
         ],
         "y": [
          2.7387478351593018
         ]
        },
        {
         "marker": {
          "color": "red"
         },
         "mode": "markers+text",
         "text": "resume_362",
         "textposition": "bottom center",
         "type": "scatter",
         "x": [
          -25.62896728515625
         ],
         "y": [
          4.415966987609863
         ]
        },
        {
         "marker": {
          "color": "red"
         },
         "mode": "markers+text",
         "text": "resume_363",
         "textposition": "bottom center",
         "type": "scatter",
         "x": [
          15.447636604309082
         ],
         "y": [
          -4.314723014831543
         ]
        },
        {
         "marker": {
          "color": "red"
         },
         "mode": "markers+text",
         "text": "resume_364",
         "textposition": "bottom center",
         "type": "scatter",
         "x": [
          -28.63339614868164
         ],
         "y": [
          7.600320339202881
         ]
        },
        {
         "marker": {
          "color": "red"
         },
         "mode": "markers+text",
         "text": "resume_365",
         "textposition": "bottom center",
         "type": "scatter",
         "x": [
          -32.20979690551758
         ],
         "y": [
          8.590049743652344
         ]
        },
        {
         "marker": {
          "color": "red"
         },
         "mode": "markers+text",
         "text": "resume_366",
         "textposition": "bottom center",
         "type": "scatter",
         "x": [
          16.914703369140625
         ],
         "y": [
          12.259821891784668
         ]
        },
        {
         "marker": {
          "color": "red"
         },
         "mode": "markers+text",
         "text": "resume_367",
         "textposition": "bottom center",
         "type": "scatter",
         "x": [
          25.49221420288086
         ],
         "y": [
          -1.9177188873291016
         ]
        },
        {
         "marker": {
          "color": "red"
         },
         "mode": "markers+text",
         "text": "resume_368",
         "textposition": "bottom center",
         "type": "scatter",
         "x": [
          -10.734890937805176
         ],
         "y": [
          2.393986701965332
         ]
        },
        {
         "marker": {
          "color": "red"
         },
         "mode": "markers+text",
         "text": "resume_369",
         "textposition": "bottom center",
         "type": "scatter",
         "x": [
          -26.583648681640625
         ],
         "y": [
          4.696463584899902
         ]
        },
        {
         "marker": {
          "color": "red"
         },
         "mode": "markers+text",
         "text": "resume_370",
         "textposition": "bottom center",
         "type": "scatter",
         "x": [
          23.768898010253906
         ],
         "y": [
          -7.545032501220703
         ]
        },
        {
         "marker": {
          "color": "red"
         },
         "mode": "markers+text",
         "text": "resume_371",
         "textposition": "bottom center",
         "type": "scatter",
         "x": [
          22.75048828125
         ],
         "y": [
          1.2221074104309082
         ]
        },
        {
         "marker": {
          "color": "red"
         },
         "mode": "markers+text",
         "text": "resume_372",
         "textposition": "bottom center",
         "type": "scatter",
         "x": [
          32.22466278076172
         ],
         "y": [
          -4.265113830566406
         ]
        },
        {
         "marker": {
          "color": "red"
         },
         "mode": "markers+text",
         "text": "resume_373",
         "textposition": "bottom center",
         "type": "scatter",
         "x": [
          30.687984466552734
         ],
         "y": [
          -8.131574630737305
         ]
        },
        {
         "marker": {
          "color": "red"
         },
         "mode": "markers+text",
         "text": "resume_374",
         "textposition": "bottom center",
         "type": "scatter",
         "x": [
          -44.69023895263672
         ],
         "y": [
          10.980714797973633
         ]
        },
        {
         "marker": {
          "color": "red"
         },
         "mode": "markers+text",
         "text": "resume_375",
         "textposition": "bottom center",
         "type": "scatter",
         "x": [
          -13.290144920349121
         ],
         "y": [
          2.5887179374694824
         ]
        },
        {
         "marker": {
          "color": "red"
         },
         "mode": "markers+text",
         "text": "resume_376",
         "textposition": "bottom center",
         "type": "scatter",
         "x": [
          6.988838195800781
         ],
         "y": [
          3.9735782146453857
         ]
        },
        {
         "marker": {
          "color": "red"
         },
         "mode": "markers+text",
         "text": "resume_377",
         "textposition": "bottom center",
         "type": "scatter",
         "x": [
          -3.400083303451538
         ],
         "y": [
          7.507002830505371
         ]
        },
        {
         "marker": {
          "color": "red"
         },
         "mode": "markers+text",
         "text": "resume_378",
         "textposition": "bottom center",
         "type": "scatter",
         "x": [
          17.486433029174805
         ],
         "y": [
          -4.377244472503662
         ]
        },
        {
         "marker": {
          "color": "red"
         },
         "mode": "markers+text",
         "text": "resume_379",
         "textposition": "bottom center",
         "type": "scatter",
         "x": [
          -14.690900802612305
         ],
         "y": [
          11.21674919128418
         ]
        },
        {
         "marker": {
          "color": "red"
         },
         "mode": "markers+text",
         "text": "resume_380",
         "textposition": "bottom center",
         "type": "scatter",
         "x": [
          -48.519649505615234
         ],
         "y": [
          14.25767707824707
         ]
        },
        {
         "marker": {
          "color": "red"
         },
         "mode": "markers+text",
         "text": "resume_381",
         "textposition": "bottom center",
         "type": "scatter",
         "x": [
          15.618638038635254
         ],
         "y": [
          -8.028611183166504
         ]
        },
        {
         "marker": {
          "color": "red"
         },
         "mode": "markers+text",
         "text": "resume_382",
         "textposition": "bottom center",
         "type": "scatter",
         "x": [
          25.561912536621094
         ],
         "y": [
          -3.358774185180664
         ]
        },
        {
         "marker": {
          "color": "red"
         },
         "mode": "markers+text",
         "text": "resume_383",
         "textposition": "bottom center",
         "type": "scatter",
         "x": [
          28.234874725341797
         ],
         "y": [
          6.0547380447387695
         ]
        },
        {
         "marker": {
          "color": "red"
         },
         "mode": "markers+text",
         "text": "resume_384",
         "textposition": "bottom center",
         "type": "scatter",
         "x": [
          -0.3324771225452423
         ],
         "y": [
          2.4090449810028076
         ]
        },
        {
         "marker": {
          "color": "red"
         },
         "mode": "markers+text",
         "text": "resume_385",
         "textposition": "bottom center",
         "type": "scatter",
         "x": [
          -52.53425598144531
         ],
         "y": [
          6.306788921356201
         ]
        },
        {
         "marker": {
          "color": "red"
         },
         "mode": "markers+text",
         "text": "resume_386",
         "textposition": "bottom center",
         "type": "scatter",
         "x": [
          12.873433113098145
         ],
         "y": [
          -18.768978118896484
         ]
        },
        {
         "marker": {
          "color": "red"
         },
         "mode": "markers+text",
         "text": "resume_387",
         "textposition": "bottom center",
         "type": "scatter",
         "x": [
          -50.53955841064453
         ],
         "y": [
          10.984342575073242
         ]
        },
        {
         "marker": {
          "color": "red"
         },
         "mode": "markers+text",
         "text": "resume_388",
         "textposition": "bottom center",
         "type": "scatter",
         "x": [
          -1.279875636100769
         ],
         "y": [
          -1.2291351556777954
         ]
        },
        {
         "marker": {
          "color": "red"
         },
         "mode": "markers+text",
         "text": "resume_389",
         "textposition": "bottom center",
         "type": "scatter",
         "x": [
          21.789026260375977
         ],
         "y": [
          10.909932136535645
         ]
        },
        {
         "marker": {
          "color": "red"
         },
         "mode": "markers+text",
         "text": "resume_390",
         "textposition": "bottom center",
         "type": "scatter",
         "x": [
          -14.768221855163574
         ],
         "y": [
          8.08441162109375
         ]
        },
        {
         "marker": {
          "color": "red"
         },
         "mode": "markers+text",
         "text": "resume_391",
         "textposition": "bottom center",
         "type": "scatter",
         "x": [
          -16.159996032714844
         ],
         "y": [
          4.123379230499268
         ]
        },
        {
         "marker": {
          "color": "red"
         },
         "mode": "markers+text",
         "text": "resume_392",
         "textposition": "bottom center",
         "type": "scatter",
         "x": [
          21.426977157592773
         ],
         "y": [
          0.9287317395210266
         ]
        },
        {
         "marker": {
          "color": "red"
         },
         "mode": "markers+text",
         "text": "resume_393",
         "textposition": "bottom center",
         "type": "scatter",
         "x": [
          9.731205940246582
         ],
         "y": [
          -8.983244895935059
         ]
        },
        {
         "marker": {
          "color": "red"
         },
         "mode": "markers+text",
         "text": "resume_394",
         "textposition": "bottom center",
         "type": "scatter",
         "x": [
          -1.9625297784805298
         ],
         "y": [
          -3.2999260425567627
         ]
        },
        {
         "marker": {
          "color": "red"
         },
         "mode": "markers+text",
         "text": "resume_395",
         "textposition": "bottom center",
         "type": "scatter",
         "x": [
          21.61541175842285
         ],
         "y": [
          1.2916852235794067
         ]
        },
        {
         "marker": {
          "color": "red"
         },
         "mode": "markers+text",
         "text": "resume_396",
         "textposition": "bottom center",
         "type": "scatter",
         "x": [
          14.461174011230469
         ],
         "y": [
          -2.0655553340911865
         ]
        },
        {
         "marker": {
          "color": "red"
         },
         "mode": "markers+text",
         "text": "resume_397",
         "textposition": "bottom center",
         "type": "scatter",
         "x": [
          -17.09966278076172
         ],
         "y": [
          2.291738748550415
         ]
        },
        {
         "marker": {
          "color": "red"
         },
         "mode": "markers+text",
         "text": "resume_398",
         "textposition": "bottom center",
         "type": "scatter",
         "x": [
          -27.672122955322266
         ],
         "y": [
          4.134347915649414
         ]
        },
        {
         "marker": {
          "color": "red"
         },
         "mode": "markers+text",
         "text": "resume_399",
         "textposition": "bottom center",
         "type": "scatter",
         "x": [
          -12.150741577148438
         ],
         "y": [
          2.3818020820617676
         ]
        },
        {
         "marker": {
          "color": "red"
         },
         "mode": "markers+text",
         "text": "resume_400",
         "textposition": "bottom center",
         "type": "scatter",
         "x": [
          2.3502731323242188
         ],
         "y": [
          -7.44163179397583
         ]
        },
        {
         "marker": {
          "color": "red"
         },
         "mode": "markers+text",
         "text": "resume_401",
         "textposition": "bottom center",
         "type": "scatter",
         "x": [
          9.178876876831055
         ],
         "y": [
          4.55178689956665
         ]
        },
        {
         "marker": {
          "color": "red"
         },
         "mode": "markers+text",
         "text": "resume_402",
         "textposition": "bottom center",
         "type": "scatter",
         "x": [
          10.492344856262207
         ],
         "y": [
          -2.7019617557525635
         ]
        },
        {
         "marker": {
          "color": "red"
         },
         "mode": "markers+text",
         "text": "resume_403",
         "textposition": "bottom center",
         "type": "scatter",
         "x": [
          10.42867374420166
         ],
         "y": [
          -0.9470393061637878
         ]
        },
        {
         "marker": {
          "color": "red"
         },
         "mode": "markers+text",
         "text": "resume_404",
         "textposition": "bottom center",
         "type": "scatter",
         "x": [
          8.155198097229004
         ],
         "y": [
          13.588247299194336
         ]
        },
        {
         "marker": {
          "color": "red"
         },
         "mode": "markers+text",
         "text": "resume_405",
         "textposition": "bottom center",
         "type": "scatter",
         "x": [
          10.231151580810547
         ],
         "y": [
          3.039048671722412
         ]
        },
        {
         "marker": {
          "color": "red"
         },
         "mode": "markers+text",
         "text": "resume_406",
         "textposition": "bottom center",
         "type": "scatter",
         "x": [
          8.148161888122559
         ],
         "y": [
          -1.556294560432434
         ]
        },
        {
         "marker": {
          "color": "red"
         },
         "mode": "markers+text",
         "text": "resume_407",
         "textposition": "bottom center",
         "type": "scatter",
         "x": [
          -29.948545455932617
         ],
         "y": [
          8.636159896850586
         ]
        },
        {
         "marker": {
          "color": "red"
         },
         "mode": "markers+text",
         "text": "resume_408",
         "textposition": "bottom center",
         "type": "scatter",
         "x": [
          -2.960188388824463
         ],
         "y": [
          4.484555244445801
         ]
        },
        {
         "marker": {
          "color": "red"
         },
         "mode": "markers+text",
         "text": "resume_409",
         "textposition": "bottom center",
         "type": "scatter",
         "x": [
          -23.652851104736328
         ],
         "y": [
          9.705909729003906
         ]
        },
        {
         "marker": {
          "color": "red"
         },
         "mode": "markers+text",
         "text": "resume_410",
         "textposition": "bottom center",
         "type": "scatter",
         "x": [
          -46.92753601074219
         ],
         "y": [
          11.615195274353027
         ]
        },
        {
         "marker": {
          "color": "red"
         },
         "mode": "markers+text",
         "text": "resume_411",
         "textposition": "bottom center",
         "type": "scatter",
         "x": [
          4.226226806640625
         ],
         "y": [
          10.142027854919434
         ]
        },
        {
         "marker": {
          "color": "red"
         },
         "mode": "markers+text",
         "text": "resume_412",
         "textposition": "bottom center",
         "type": "scatter",
         "x": [
          -4.551786422729492
         ],
         "y": [
          -10.858359336853027
         ]
        },
        {
         "marker": {
          "color": "red"
         },
         "mode": "markers+text",
         "text": "resume_413",
         "textposition": "bottom center",
         "type": "scatter",
         "x": [
          8.118464469909668
         ],
         "y": [
          11.749151229858398
         ]
        },
        {
         "marker": {
          "color": "red"
         },
         "mode": "markers+text",
         "text": "resume_414",
         "textposition": "bottom center",
         "type": "scatter",
         "x": [
          3.9684996604919434
         ],
         "y": [
          0.08909519016742706
         ]
        },
        {
         "marker": {
          "color": "red"
         },
         "mode": "markers+text",
         "text": "resume_415",
         "textposition": "bottom center",
         "type": "scatter",
         "x": [
          -29.664655685424805
         ],
         "y": [
          9.195329666137695
         ]
        },
        {
         "marker": {
          "color": "red"
         },
         "mode": "markers+text",
         "text": "resume_416",
         "textposition": "bottom center",
         "type": "scatter",
         "x": [
          -14.814188003540039
         ],
         "y": [
          8.098546028137207
         ]
        },
        {
         "marker": {
          "color": "red"
         },
         "mode": "markers+text",
         "text": "resume_417",
         "textposition": "bottom center",
         "type": "scatter",
         "x": [
          16.26761817932129
         ],
         "y": [
          6.417172908782959
         ]
        },
        {
         "marker": {
          "color": "red"
         },
         "mode": "markers+text",
         "text": "resume_418",
         "textposition": "bottom center",
         "type": "scatter",
         "x": [
          -1.6640195846557617
         ],
         "y": [
          -3.969961404800415
         ]
        },
        {
         "marker": {
          "color": "red"
         },
         "mode": "markers+text",
         "text": "resume_419",
         "textposition": "bottom center",
         "type": "scatter",
         "x": [
          28.977128982543945
         ],
         "y": [
          -19.944122314453125
         ]
        },
        {
         "marker": {
          "color": "red"
         },
         "mode": "markers+text",
         "text": "resume_420",
         "textposition": "bottom center",
         "type": "scatter",
         "x": [
          29.21401596069336
         ],
         "y": [
          -18.15752601623535
         ]
        },
        {
         "marker": {
          "color": "red"
         },
         "mode": "markers+text",
         "text": "resume_421",
         "textposition": "bottom center",
         "type": "scatter",
         "x": [
          -48.72785949707031
         ],
         "y": [
          10.125465393066406
         ]
        },
        {
         "marker": {
          "color": "red"
         },
         "mode": "markers+text",
         "text": "resume_422",
         "textposition": "bottom center",
         "type": "scatter",
         "x": [
          -12.553125381469727
         ],
         "y": [
          7.317758560180664
         ]
        },
        {
         "marker": {
          "color": "red"
         },
         "mode": "markers+text",
         "text": "resume_423",
         "textposition": "bottom center",
         "type": "scatter",
         "x": [
          -54.51434326171875
         ],
         "y": [
          13.078819274902344
         ]
        },
        {
         "marker": {
          "color": "red"
         },
         "mode": "markers+text",
         "text": "resume_424",
         "textposition": "bottom center",
         "type": "scatter",
         "x": [
          -56.60472106933594
         ],
         "y": [
          7.167519569396973
         ]
        },
        {
         "marker": {
          "color": "red"
         },
         "mode": "markers+text",
         "text": "resume_425",
         "textposition": "bottom center",
         "type": "scatter",
         "x": [
          8.267807960510254
         ],
         "y": [
          2.705901622772217
         ]
        },
        {
         "marker": {
          "color": "red"
         },
         "mode": "markers+text",
         "text": "resume_426",
         "textposition": "bottom center",
         "type": "scatter",
         "x": [
          9.631158828735352
         ],
         "y": [
          3.72369384765625
         ]
        },
        {
         "marker": {
          "color": "red"
         },
         "mode": "markers+text",
         "text": "resume_427",
         "textposition": "bottom center",
         "type": "scatter",
         "x": [
          -23.94061851501465
         ],
         "y": [
          5.124216079711914
         ]
        },
        {
         "marker": {
          "color": "red"
         },
         "mode": "markers+text",
         "text": "resume_428",
         "textposition": "bottom center",
         "type": "scatter",
         "x": [
          13.882197380065918
         ],
         "y": [
          -16.54366683959961
         ]
        },
        {
         "marker": {
          "color": "red"
         },
         "mode": "markers+text",
         "text": "resume_429",
         "textposition": "bottom center",
         "type": "scatter",
         "x": [
          -20.97592544555664
         ],
         "y": [
          8.301883697509766
         ]
        },
        {
         "marker": {
          "color": "red"
         },
         "mode": "markers+text",
         "text": "resume_430",
         "textposition": "bottom center",
         "type": "scatter",
         "x": [
          -6.049569129943848
         ],
         "y": [
          -1.505230188369751
         ]
        },
        {
         "marker": {
          "color": "red"
         },
         "mode": "markers+text",
         "text": "resume_431",
         "textposition": "bottom center",
         "type": "scatter",
         "x": [
          -15.183039665222168
         ],
         "y": [
          -5.4597249031066895
         ]
        },
        {
         "marker": {
          "color": "red"
         },
         "mode": "markers+text",
         "text": "resume_432",
         "textposition": "bottom center",
         "type": "scatter",
         "x": [
          13.334978103637695
         ],
         "y": [
          -6.592564582824707
         ]
        },
        {
         "marker": {
          "color": "red"
         },
         "mode": "markers+text",
         "text": "resume_433",
         "textposition": "bottom center",
         "type": "scatter",
         "x": [
          13.755311965942383
         ],
         "y": [
          -2.2929413318634033
         ]
        },
        {
         "marker": {
          "color": "red"
         },
         "mode": "markers+text",
         "text": "resume_434",
         "textposition": "bottom center",
         "type": "scatter",
         "x": [
          7.227921009063721
         ],
         "y": [
          -12.451579093933105
         ]
        },
        {
         "marker": {
          "color": "red"
         },
         "mode": "markers+text",
         "text": "resume_435",
         "textposition": "bottom center",
         "type": "scatter",
         "x": [
          28.597543716430664
         ],
         "y": [
          -10.430767059326172
         ]
        },
        {
         "marker": {
          "color": "red"
         },
         "mode": "markers+text",
         "text": "resume_436",
         "textposition": "bottom center",
         "type": "scatter",
         "x": [
          24.751296997070312
         ],
         "y": [
          -11.834596633911133
         ]
        },
        {
         "marker": {
          "color": "red"
         },
         "mode": "markers+text",
         "text": "resume_437",
         "textposition": "bottom center",
         "type": "scatter",
         "x": [
          0.29998141527175903
         ],
         "y": [
          11.733453750610352
         ]
        },
        {
         "marker": {
          "color": "red"
         },
         "mode": "markers+text",
         "text": "resume_438",
         "textposition": "bottom center",
         "type": "scatter",
         "x": [
          -4.70725154876709
         ],
         "y": [
          -2.9739747047424316
         ]
        },
        {
         "marker": {
          "color": "red"
         },
         "mode": "markers+text",
         "text": "resume_439",
         "textposition": "bottom center",
         "type": "scatter",
         "x": [
          17.687423706054688
         ],
         "y": [
          8.693280220031738
         ]
        },
        {
         "marker": {
          "color": "red"
         },
         "mode": "markers+text",
         "text": "resume_440",
         "textposition": "bottom center",
         "type": "scatter",
         "x": [
          18.736360549926758
         ],
         "y": [
          -0.032237596809864044
         ]
        },
        {
         "marker": {
          "color": "red"
         },
         "mode": "markers+text",
         "text": "resume_441",
         "textposition": "bottom center",
         "type": "scatter",
         "x": [
          -51.32649230957031
         ],
         "y": [
          12.59512710571289
         ]
        },
        {
         "marker": {
          "color": "red"
         },
         "mode": "markers+text",
         "text": "resume_442",
         "textposition": "bottom center",
         "type": "scatter",
         "x": [
          -24.109113693237305
         ],
         "y": [
          6.103235721588135
         ]
        },
        {
         "marker": {
          "color": "red"
         },
         "mode": "markers+text",
         "text": "resume_443",
         "textposition": "bottom center",
         "type": "scatter",
         "x": [
          -4.572885036468506
         ],
         "y": [
          3.5377016067504883
         ]
        },
        {
         "marker": {
          "color": "red"
         },
         "mode": "markers+text",
         "text": "resume_444",
         "textposition": "bottom center",
         "type": "scatter",
         "x": [
          10.483508110046387
         ],
         "y": [
          1.0500129461288452
         ]
        },
        {
         "marker": {
          "color": "red"
         },
         "mode": "markers+text",
         "text": "resume_445",
         "textposition": "bottom center",
         "type": "scatter",
         "x": [
          5.766319751739502
         ],
         "y": [
          6.229668140411377
         ]
        },
        {
         "marker": {
          "color": "red"
         },
         "mode": "markers+text",
         "text": "resume_446",
         "textposition": "bottom center",
         "type": "scatter",
         "x": [
          -7.486567974090576
         ],
         "y": [
          -8.179527282714844
         ]
        },
        {
         "marker": {
          "color": "red"
         },
         "mode": "markers+text",
         "text": "resume_447",
         "textposition": "bottom center",
         "type": "scatter",
         "x": [
          0.08434557169675827
         ],
         "y": [
          7.421603202819824
         ]
        },
        {
         "marker": {
          "color": "red"
         },
         "mode": "markers+text",
         "text": "resume_448",
         "textposition": "bottom center",
         "type": "scatter",
         "x": [
          -26.754657745361328
         ],
         "y": [
          8.957409858703613
         ]
        },
        {
         "marker": {
          "color": "red"
         },
         "mode": "markers+text",
         "text": "resume_449",
         "textposition": "bottom center",
         "type": "scatter",
         "x": [
          -0.7270628213882446
         ],
         "y": [
          14.518298149108887
         ]
        },
        {
         "marker": {
          "color": "red"
         },
         "mode": "markers+text",
         "text": "resume_450",
         "textposition": "bottom center",
         "type": "scatter",
         "x": [
          15.357845306396484
         ],
         "y": [
          -9.587729454040527
         ]
        },
        {
         "marker": {
          "color": "red"
         },
         "mode": "markers+text",
         "text": "resume_451",
         "textposition": "bottom center",
         "type": "scatter",
         "x": [
          -16.81981658935547
         ],
         "y": [
          3.6800549030303955
         ]
        },
        {
         "marker": {
          "color": "red"
         },
         "mode": "markers+text",
         "text": "resume_452",
         "textposition": "bottom center",
         "type": "scatter",
         "x": [
          26.282541275024414
         ],
         "y": [
          -6.906835556030273
         ]
        },
        {
         "marker": {
          "color": "red"
         },
         "mode": "markers+text",
         "text": "resume_453",
         "textposition": "bottom center",
         "type": "scatter",
         "x": [
          -13.64448356628418
         ],
         "y": [
          11.218185424804688
         ]
        },
        {
         "marker": {
          "color": "red"
         },
         "mode": "markers+text",
         "text": "resume_454",
         "textposition": "bottom center",
         "type": "scatter",
         "x": [
          3.876389741897583
         ],
         "y": [
          -5.867015361785889
         ]
        },
        {
         "marker": {
          "color": "red"
         },
         "mode": "markers+text",
         "text": "resume_455",
         "textposition": "bottom center",
         "type": "scatter",
         "x": [
          -1.0294432640075684
         ],
         "y": [
          14.0741605758667
         ]
        },
        {
         "marker": {
          "color": "red"
         },
         "mode": "markers+text",
         "text": "resume_456",
         "textposition": "bottom center",
         "type": "scatter",
         "x": [
          2.552554130554199
         ],
         "y": [
          -4.385433673858643
         ]
        },
        {
         "marker": {
          "color": "red"
         },
         "mode": "markers+text",
         "text": "resume_457",
         "textposition": "bottom center",
         "type": "scatter",
         "x": [
          -15.521900177001953
         ],
         "y": [
          -5.976954936981201
         ]
        },
        {
         "marker": {
          "color": "red"
         },
         "mode": "markers+text",
         "text": "resume_458",
         "textposition": "bottom center",
         "type": "scatter",
         "x": [
          5.301043510437012
         ],
         "y": [
          3.2026054859161377
         ]
        },
        {
         "marker": {
          "color": "red"
         },
         "mode": "markers+text",
         "text": "resume_459",
         "textposition": "bottom center",
         "type": "scatter",
         "x": [
          -10.784363746643066
         ],
         "y": [
          3.0885298252105713
         ]
        },
        {
         "marker": {
          "color": "red"
         },
         "mode": "markers+text",
         "text": "resume_460",
         "textposition": "bottom center",
         "type": "scatter",
         "x": [
          9.584564208984375
         ],
         "y": [
          2.2759318351745605
         ]
        },
        {
         "marker": {
          "color": "red"
         },
         "mode": "markers+text",
         "text": "resume_461",
         "textposition": "bottom center",
         "type": "scatter",
         "x": [
          12.389223098754883
         ],
         "y": [
          -3.626447916030884
         ]
        },
        {
         "marker": {
          "color": "red"
         },
         "mode": "markers+text",
         "text": "resume_462",
         "textposition": "bottom center",
         "type": "scatter",
         "x": [
          22.683494567871094
         ],
         "y": [
          -8.488059043884277
         ]
        },
        {
         "marker": {
          "color": "red"
         },
         "mode": "markers+text",
         "text": "resume_463",
         "textposition": "bottom center",
         "type": "scatter",
         "x": [
          14.165156364440918
         ],
         "y": [
          -11.836735725402832
         ]
        },
        {
         "marker": {
          "color": "red"
         },
         "mode": "markers+text",
         "text": "resume_464",
         "textposition": "bottom center",
         "type": "scatter",
         "x": [
          -1.2352879047393799
         ],
         "y": [
          1.54784095287323
         ]
        },
        {
         "marker": {
          "color": "red"
         },
         "mode": "markers+text",
         "text": "resume_465",
         "textposition": "bottom center",
         "type": "scatter",
         "x": [
          5.441526889801025
         ],
         "y": [
          -21.851085662841797
         ]
        },
        {
         "marker": {
          "color": "red"
         },
         "mode": "markers+text",
         "text": "resume_466",
         "textposition": "bottom center",
         "type": "scatter",
         "x": [
          26.19633674621582
         ],
         "y": [
          -16.821691513061523
         ]
        },
        {
         "marker": {
          "color": "red"
         },
         "mode": "markers+text",
         "text": "resume_467",
         "textposition": "bottom center",
         "type": "scatter",
         "x": [
          -48.81467056274414
         ],
         "y": [
          5.016482830047607
         ]
        },
        {
         "marker": {
          "color": "red"
         },
         "mode": "markers+text",
         "text": "resume_468",
         "textposition": "bottom center",
         "type": "scatter",
         "x": [
          -52.340248107910156
         ],
         "y": [
          10.162773132324219
         ]
        },
        {
         "marker": {
          "color": "red"
         },
         "mode": "markers+text",
         "text": "resume_469",
         "textposition": "bottom center",
         "type": "scatter",
         "x": [
          -50.119224548339844
         ],
         "y": [
          10.043632507324219
         ]
        },
        {
         "marker": {
          "color": "red"
         },
         "mode": "markers+text",
         "text": "resume_470",
         "textposition": "bottom center",
         "type": "scatter",
         "x": [
          -17.53923797607422
         ],
         "y": [
          -3.5610098838806152
         ]
        },
        {
         "marker": {
          "color": "red"
         },
         "mode": "markers+text",
         "text": "resume_471",
         "textposition": "bottom center",
         "type": "scatter",
         "x": [
          16.107332229614258
         ],
         "y": [
          4.3431010246276855
         ]
        },
        {
         "marker": {
          "color": "red"
         },
         "mode": "markers+text",
         "text": "resume_472",
         "textposition": "bottom center",
         "type": "scatter",
         "x": [
          20.434377670288086
         ],
         "y": [
          -17.557294845581055
         ]
        },
        {
         "marker": {
          "color": "red"
         },
         "mode": "markers+text",
         "text": "resume_473",
         "textposition": "bottom center",
         "type": "scatter",
         "x": [
          15.918519973754883
         ],
         "y": [
          -11.37131118774414
         ]
        },
        {
         "marker": {
          "color": "red"
         },
         "mode": "markers+text",
         "text": "resume_474",
         "textposition": "bottom center",
         "type": "scatter",
         "x": [
          18.841262817382812
         ],
         "y": [
          5.616042137145996
         ]
        },
        {
         "marker": {
          "color": "red"
         },
         "mode": "markers+text",
         "text": "resume_475",
         "textposition": "bottom center",
         "type": "scatter",
         "x": [
          -15.697224617004395
         ],
         "y": [
          4.390439033508301
         ]
        },
        {
         "marker": {
          "color": "red"
         },
         "mode": "markers+text",
         "text": "resume_476",
         "textposition": "bottom center",
         "type": "scatter",
         "x": [
          -46.949947357177734
         ],
         "y": [
          6.875584602355957
         ]
        },
        {
         "marker": {
          "color": "red"
         },
         "mode": "markers+text",
         "text": "resume_477",
         "textposition": "bottom center",
         "type": "scatter",
         "x": [
          11.954606056213379
         ],
         "y": [
          18.176176071166992
         ]
        },
        {
         "marker": {
          "color": "red"
         },
         "mode": "markers+text",
         "text": "resume_478",
         "textposition": "bottom center",
         "type": "scatter",
         "x": [
          27.207942962646484
         ],
         "y": [
          -10.743963241577148
         ]
        },
        {
         "marker": {
          "color": "red"
         },
         "mode": "markers+text",
         "text": "resume_479",
         "textposition": "bottom center",
         "type": "scatter",
         "x": [
          31.233997344970703
         ],
         "y": [
          -9.041376113891602
         ]
        },
        {
         "marker": {
          "color": "red"
         },
         "mode": "markers+text",
         "text": "resume_480",
         "textposition": "bottom center",
         "type": "scatter",
         "x": [
          24.67912483215332
         ],
         "y": [
          4.629366874694824
         ]
        },
        {
         "marker": {
          "color": "red"
         },
         "mode": "markers+text",
         "text": "resume_481",
         "textposition": "bottom center",
         "type": "scatter",
         "x": [
          -28.107454299926758
         ],
         "y": [
          8.799623489379883
         ]
        },
        {
         "marker": {
          "color": "red"
         },
         "mode": "markers+text",
         "text": "resume_482",
         "textposition": "bottom center",
         "type": "scatter",
         "x": [
          -22.200687408447266
         ],
         "y": [
          2.284630060195923
         ]
        },
        {
         "marker": {
          "color": "red"
         },
         "mode": "markers+text",
         "text": "resume_483",
         "textposition": "bottom center",
         "type": "scatter",
         "x": [
          26.636432647705078
         ],
         "y": [
          -0.9209411144256592
         ]
        },
        {
         "marker": {
          "color": "red"
         },
         "mode": "markers+text",
         "text": "resume_484",
         "textposition": "bottom center",
         "type": "scatter",
         "x": [
          7.861388206481934
         ],
         "y": [
          7.85888147354126
         ]
        },
        {
         "marker": {
          "color": "red"
         },
         "mode": "markers+text",
         "text": "resume_485",
         "textposition": "bottom center",
         "type": "scatter",
         "x": [
          1.344144582748413
         ],
         "y": [
          10.049922943115234
         ]
        },
        {
         "marker": {
          "color": "red"
         },
         "mode": "markers+text",
         "text": "resume_486",
         "textposition": "bottom center",
         "type": "scatter",
         "x": [
          -12.274581909179688
         ],
         "y": [
          10.133259773254395
         ]
        },
        {
         "marker": {
          "color": "red"
         },
         "mode": "markers+text",
         "text": "resume_487",
         "textposition": "bottom center",
         "type": "scatter",
         "x": [
          8.530220031738281
         ],
         "y": [
          -6.955760478973389
         ]
        },
        {
         "marker": {
          "color": "red"
         },
         "mode": "markers+text",
         "text": "resume_488",
         "textposition": "bottom center",
         "type": "scatter",
         "x": [
          27.48178482055664
         ],
         "y": [
          -16.595701217651367
         ]
        },
        {
         "marker": {
          "color": "red"
         },
         "mode": "markers+text",
         "text": "resume_489",
         "textposition": "bottom center",
         "type": "scatter",
         "x": [
          4.8345465660095215
         ],
         "y": [
          -1.9694697856903076
         ]
        },
        {
         "marker": {
          "color": "red"
         },
         "mode": "markers+text",
         "text": "resume_490",
         "textposition": "bottom center",
         "type": "scatter",
         "x": [
          -26.539615631103516
         ],
         "y": [
          4.778295993804932
         ]
        },
        {
         "marker": {
          "color": "red"
         },
         "mode": "markers+text",
         "text": "resume_491",
         "textposition": "bottom center",
         "type": "scatter",
         "x": [
          -18.658254623413086
         ],
         "y": [
          0.16990534961223602
         ]
        },
        {
         "marker": {
          "color": "red"
         },
         "mode": "markers+text",
         "text": "resume_492",
         "textposition": "bottom center",
         "type": "scatter",
         "x": [
          -15.268253326416016
         ],
         "y": [
          5.483480930328369
         ]
        },
        {
         "marker": {
          "color": "red"
         },
         "mode": "markers+text",
         "text": "resume_493",
         "textposition": "bottom center",
         "type": "scatter",
         "x": [
          16.75387191772461
         ],
         "y": [
          9.290422439575195
         ]
        },
        {
         "marker": {
          "color": "red"
         },
         "mode": "markers+text",
         "text": "resume_494",
         "textposition": "bottom center",
         "type": "scatter",
         "x": [
          -11.468605995178223
         ],
         "y": [
          4.846836090087891
         ]
        },
        {
         "marker": {
          "color": "red"
         },
         "mode": "markers+text",
         "text": "resume_495",
         "textposition": "bottom center",
         "type": "scatter",
         "x": [
          -14.721141815185547
         ],
         "y": [
          8.075443267822266
         ]
        },
        {
         "marker": {
          "color": "red"
         },
         "mode": "markers+text",
         "text": "resume_496",
         "textposition": "bottom center",
         "type": "scatter",
         "x": [
          11.897915840148926
         ],
         "y": [
          15.476240158081055
         ]
        },
        {
         "marker": {
          "color": "red"
         },
         "mode": "markers+text",
         "text": "resume_497",
         "textposition": "bottom center",
         "type": "scatter",
         "x": [
          -1.4442912340164185
         ],
         "y": [
          -1.342280626296997
         ]
        },
        {
         "marker": {
          "color": "red"
         },
         "mode": "markers+text",
         "text": "resume_498",
         "textposition": "bottom center",
         "type": "scatter",
         "x": [
          29.879119873046875
         ],
         "y": [
          -12.024152755737305
         ]
        },
        {
         "marker": {
          "color": "red"
         },
         "mode": "markers+text",
         "text": "resume_499",
         "textposition": "bottom center",
         "type": "scatter",
         "x": [
          7.047887325286865
         ],
         "y": [
          -11.78749942779541
         ]
        },
        {
         "marker": {
          "color": "red"
         },
         "mode": "markers+text",
         "text": "resume_500",
         "textposition": "bottom center",
         "type": "scatter",
         "x": [
          -49.88874053955078
         ],
         "y": [
          8.301887512207031
         ]
        },
        {
         "marker": {
          "color": "red"
         },
         "mode": "markers+text",
         "text": "resume_501",
         "textposition": "bottom center",
         "type": "scatter",
         "x": [
          -17.489582061767578
         ],
         "y": [
          3.5044186115264893
         ]
        },
        {
         "marker": {
          "color": "red"
         },
         "mode": "markers+text",
         "text": "resume_502",
         "textposition": "bottom center",
         "type": "scatter",
         "x": [
          18.10342025756836
         ],
         "y": [
          -10.31411361694336
         ]
        },
        {
         "marker": {
          "color": "red"
         },
         "mode": "markers+text",
         "text": "resume_503",
         "textposition": "bottom center",
         "type": "scatter",
         "x": [
          19.749860763549805
         ],
         "y": [
          0.1564655900001526
         ]
        },
        {
         "marker": {
          "color": "red"
         },
         "mode": "markers+text",
         "text": "resume_504",
         "textposition": "bottom center",
         "type": "scatter",
         "x": [
          -46.962215423583984
         ],
         "y": [
          6.854345798492432
         ]
        },
        {
         "marker": {
          "color": "red"
         },
         "mode": "markers+text",
         "text": "resume_505",
         "textposition": "bottom center",
         "type": "scatter",
         "x": [
          1.1734074354171753
         ],
         "y": [
          -4.068089962005615
         ]
        },
        {
         "marker": {
          "color": "red"
         },
         "mode": "markers+text",
         "text": "resume_506",
         "textposition": "bottom center",
         "type": "scatter",
         "x": [
          10.999491691589355
         ],
         "y": [
          -3.0622692108154297
         ]
        },
        {
         "marker": {
          "color": "red"
         },
         "mode": "markers+text",
         "text": "resume_507",
         "textposition": "bottom center",
         "type": "scatter",
         "x": [
          8.526016235351562
         ],
         "y": [
          6.025022983551025
         ]
        },
        {
         "marker": {
          "color": "red"
         },
         "mode": "markers+text",
         "text": "resume_508",
         "textposition": "bottom center",
         "type": "scatter",
         "x": [
          -13.787362098693848
         ],
         "y": [
          3.6589550971984863
         ]
        },
        {
         "marker": {
          "color": "red"
         },
         "mode": "markers+text",
         "text": "resume_509",
         "textposition": "bottom center",
         "type": "scatter",
         "x": [
          -49.684200286865234
         ],
         "y": [
          7.390438556671143
         ]
        },
        {
         "marker": {
          "color": "red"
         },
         "mode": "markers+text",
         "text": "resume_510",
         "textposition": "bottom center",
         "type": "scatter",
         "x": [
          -15.959260940551758
         ],
         "y": [
          3.1595637798309326
         ]
        },
        {
         "marker": {
          "color": "red"
         },
         "mode": "markers+text",
         "text": "resume_511",
         "textposition": "bottom center",
         "type": "scatter",
         "x": [
          0.29520678520202637
         ],
         "y": [
          -9.649334907531738
         ]
        },
        {
         "marker": {
          "color": "red"
         },
         "mode": "markers+text",
         "text": "resume_512",
         "textposition": "bottom center",
         "type": "scatter",
         "x": [
          25.213184356689453
         ],
         "y": [
          4.370820999145508
         ]
        },
        {
         "marker": {
          "color": "red"
         },
         "mode": "markers+text",
         "text": "resume_513",
         "textposition": "bottom center",
         "type": "scatter",
         "x": [
          12.284636497497559
         ],
         "y": [
          -17.06083106994629
         ]
        },
        {
         "marker": {
          "color": "red"
         },
         "mode": "markers+text",
         "text": "resume_514",
         "textposition": "bottom center",
         "type": "scatter",
         "x": [
          -19.241315841674805
         ],
         "y": [
          11.846566200256348
         ]
        },
        {
         "marker": {
          "color": "red"
         },
         "mode": "markers+text",
         "text": "resume_515",
         "textposition": "bottom center",
         "type": "scatter",
         "x": [
          4.098258018493652
         ],
         "y": [
          -6.548218727111816
         ]
        },
        {
         "marker": {
          "color": "red"
         },
         "mode": "markers+text",
         "text": "resume_516",
         "textposition": "bottom center",
         "type": "scatter",
         "x": [
          2.2206616401672363
         ],
         "y": [
          11.003843307495117
         ]
        },
        {
         "marker": {
          "color": "red"
         },
         "mode": "markers+text",
         "text": "resume_517",
         "textposition": "bottom center",
         "type": "scatter",
         "x": [
          -47.025997161865234
         ],
         "y": [
          6.881760597229004
         ]
        },
        {
         "marker": {
          "color": "red"
         },
         "mode": "markers+text",
         "text": "resume_518",
         "textposition": "bottom center",
         "type": "scatter",
         "x": [
          9.374065399169922
         ],
         "y": [
          9.90605640411377
         ]
        },
        {
         "marker": {
          "color": "red"
         },
         "mode": "markers+text",
         "text": "resume_519",
         "textposition": "bottom center",
         "type": "scatter",
         "x": [
          18.976781845092773
         ],
         "y": [
          -4.744999408721924
         ]
        },
        {
         "marker": {
          "color": "red"
         },
         "mode": "markers+text",
         "text": "resume_520",
         "textposition": "bottom center",
         "type": "scatter",
         "x": [
          -10.178414344787598
         ],
         "y": [
          5.442963600158691
         ]
        },
        {
         "marker": {
          "color": "red"
         },
         "mode": "markers+text",
         "text": "resume_521",
         "textposition": "bottom center",
         "type": "scatter",
         "x": [
          10.742403984069824
         ],
         "y": [
          -1.830917477607727
         ]
        },
        {
         "marker": {
          "color": "red"
         },
         "mode": "markers+text",
         "text": "resume_522",
         "textposition": "bottom center",
         "type": "scatter",
         "x": [
          -30.316675186157227
         ],
         "y": [
          6.075534343719482
         ]
        },
        {
         "marker": {
          "color": "red"
         },
         "mode": "markers+text",
         "text": "resume_523",
         "textposition": "bottom center",
         "type": "scatter",
         "x": [
          14.300686836242676
         ],
         "y": [
          -3.7530159950256348
         ]
        },
        {
         "marker": {
          "color": "red"
         },
         "mode": "markers+text",
         "text": "resume_524",
         "textposition": "bottom center",
         "type": "scatter",
         "x": [
          22.413148880004883
         ],
         "y": [
          -10.524870872497559
         ]
        },
        {
         "marker": {
          "color": "red"
         },
         "mode": "markers+text",
         "text": "resume_525",
         "textposition": "bottom center",
         "type": "scatter",
         "x": [
          3.2528228759765625
         ],
         "y": [
          7.486699104309082
         ]
        },
        {
         "marker": {
          "color": "red"
         },
         "mode": "markers+text",
         "text": "resume_526",
         "textposition": "bottom center",
         "type": "scatter",
         "x": [
          -56.61245346069336
         ],
         "y": [
          7.168762683868408
         ]
        },
        {
         "marker": {
          "color": "red"
         },
         "mode": "markers+text",
         "text": "resume_527",
         "textposition": "bottom center",
         "type": "scatter",
         "x": [
          28.955533981323242
         ],
         "y": [
          -16.50405502319336
         ]
        },
        {
         "marker": {
          "color": "red"
         },
         "mode": "markers+text",
         "text": "resume_528",
         "textposition": "bottom center",
         "type": "scatter",
         "x": [
          22.792146682739258
         ],
         "y": [
          -4.756376266479492
         ]
        },
        {
         "marker": {
          "color": "red"
         },
         "mode": "markers+text",
         "text": "resume_529",
         "textposition": "bottom center",
         "type": "scatter",
         "x": [
          6.800605297088623
         ],
         "y": [
          5.971863746643066
         ]
        },
        {
         "marker": {
          "color": "red"
         },
         "mode": "markers+text",
         "text": "resume_530",
         "textposition": "bottom center",
         "type": "scatter",
         "x": [
          -1.8787803649902344
         ],
         "y": [
          -2.3288705348968506
         ]
        },
        {
         "marker": {
          "color": "red"
         },
         "mode": "markers+text",
         "text": "resume_531",
         "textposition": "bottom center",
         "type": "scatter",
         "x": [
          8.569619178771973
         ],
         "y": [
          0.17315198481082916
         ]
        },
        {
         "marker": {
          "color": "red"
         },
         "mode": "markers+text",
         "text": "resume_532",
         "textposition": "bottom center",
         "type": "scatter",
         "x": [
          -49.340484619140625
         ],
         "y": [
          13.316758155822754
         ]
        },
        {
         "marker": {
          "color": "red"
         },
         "mode": "markers+text",
         "text": "resume_533",
         "textposition": "bottom center",
         "type": "scatter",
         "x": [
          -47.51826858520508
         ],
         "y": [
          15.98794174194336
         ]
        },
        {
         "marker": {
          "color": "red"
         },
         "mode": "markers+text",
         "text": "resume_534",
         "textposition": "bottom center",
         "type": "scatter",
         "x": [
          9.836749076843262
         ],
         "y": [
          -11.294882774353027
         ]
        },
        {
         "marker": {
          "color": "red"
         },
         "mode": "markers+text",
         "text": "resume_535",
         "textposition": "bottom center",
         "type": "scatter",
         "x": [
          -28.77533531188965
         ],
         "y": [
          8.691204071044922
         ]
        },
        {
         "marker": {
          "color": "red"
         },
         "mode": "markers+text",
         "text": "resume_536",
         "textposition": "bottom center",
         "type": "scatter",
         "x": [
          -1.2755528688430786
         ],
         "y": [
          -5.053865909576416
         ]
        },
        {
         "marker": {
          "color": "red"
         },
         "mode": "markers+text",
         "text": "resume_537",
         "textposition": "bottom center",
         "type": "scatter",
         "x": [
          -24.382923126220703
         ],
         "y": [
          6.403156280517578
         ]
        },
        {
         "marker": {
          "color": "red"
         },
         "mode": "markers+text",
         "text": "resume_538",
         "textposition": "bottom center",
         "type": "scatter",
         "x": [
          4.814721584320068
         ],
         "y": [
          1.6746585369110107
         ]
        },
        {
         "marker": {
          "color": "red"
         },
         "mode": "markers+text",
         "text": "resume_539",
         "textposition": "bottom center",
         "type": "scatter",
         "x": [
          22.819175720214844
         ],
         "y": [
          -5.099554061889648
         ]
        },
        {
         "marker": {
          "color": "red"
         },
         "mode": "markers+text",
         "text": "resume_540",
         "textposition": "bottom center",
         "type": "scatter",
         "x": [
          10.966777801513672
         ],
         "y": [
          2.987459897994995
         ]
        },
        {
         "marker": {
          "color": "red"
         },
         "mode": "markers+text",
         "text": "resume_541",
         "textposition": "bottom center",
         "type": "scatter",
         "x": [
          27.151620864868164
         ],
         "y": [
          -10.847478866577148
         ]
        },
        {
         "marker": {
          "color": "red"
         },
         "mode": "markers+text",
         "text": "resume_542",
         "textposition": "bottom center",
         "type": "scatter",
         "x": [
          -29.63356590270996
         ],
         "y": [
          9.616639137268066
         ]
        },
        {
         "marker": {
          "color": "red"
         },
         "mode": "markers+text",
         "text": "resume_543",
         "textposition": "bottom center",
         "type": "scatter",
         "x": [
          -4.2333083152771
         ],
         "y": [
          -1.4080989360809326
         ]
        },
        {
         "marker": {
          "color": "red"
         },
         "mode": "markers+text",
         "text": "resume_544",
         "textposition": "bottom center",
         "type": "scatter",
         "x": [
          -25.700902938842773
         ],
         "y": [
          5.627356052398682
         ]
        },
        {
         "marker": {
          "color": "red"
         },
         "mode": "markers+text",
         "text": "resume_545",
         "textposition": "bottom center",
         "type": "scatter",
         "x": [
          27.269969940185547
         ],
         "y": [
          -9.34293270111084
         ]
        },
        {
         "marker": {
          "color": "red"
         },
         "mode": "markers+text",
         "text": "resume_546",
         "textposition": "bottom center",
         "type": "scatter",
         "x": [
          22.62899398803711
         ],
         "y": [
          -13.69353199005127
         ]
        },
        {
         "marker": {
          "color": "red"
         },
         "mode": "markers+text",
         "text": "resume_547",
         "textposition": "bottom center",
         "type": "scatter",
         "x": [
          2.042788028717041
         ],
         "y": [
          -13.392892837524414
         ]
        },
        {
         "marker": {
          "color": "red"
         },
         "mode": "markers+text",
         "text": "resume_548",
         "textposition": "bottom center",
         "type": "scatter",
         "x": [
          22.179353713989258
         ],
         "y": [
          -1.782895565032959
         ]
        },
        {
         "marker": {
          "color": "red"
         },
         "mode": "markers+text",
         "text": "resume_549",
         "textposition": "bottom center",
         "type": "scatter",
         "x": [
          -33.789146423339844
         ],
         "y": [
          7.277975082397461
         ]
        },
        {
         "marker": {
          "color": "red"
         },
         "mode": "markers+text",
         "text": "resume_550",
         "textposition": "bottom center",
         "type": "scatter",
         "x": [
          -11.030569076538086
         ],
         "y": [
          0.004660625476390123
         ]
        },
        {
         "marker": {
          "color": "red"
         },
         "mode": "markers+text",
         "text": "resume_551",
         "textposition": "bottom center",
         "type": "scatter",
         "x": [
          22.53251075744629
         ],
         "y": [
          -6.792710304260254
         ]
        },
        {
         "marker": {
          "color": "red"
         },
         "mode": "markers+text",
         "text": "resume_552",
         "textposition": "bottom center",
         "type": "scatter",
         "x": [
          17.40550994873047
         ],
         "y": [
          8.092292785644531
         ]
        },
        {
         "marker": {
          "color": "red"
         },
         "mode": "markers+text",
         "text": "resume_553",
         "textposition": "bottom center",
         "type": "scatter",
         "x": [
          -10.445256233215332
         ],
         "y": [
          -0.9678258299827576
         ]
        },
        {
         "marker": {
          "color": "red"
         },
         "mode": "markers+text",
         "text": "resume_554",
         "textposition": "bottom center",
         "type": "scatter",
         "x": [
          -30.21942901611328
         ],
         "y": [
          9.922896385192871
         ]
        },
        {
         "marker": {
          "color": "red"
         },
         "mode": "markers+text",
         "text": "resume_555",
         "textposition": "bottom center",
         "type": "scatter",
         "x": [
          -13.577204704284668
         ],
         "y": [
          1.7825312614440918
         ]
        },
        {
         "marker": {
          "color": "red"
         },
         "mode": "markers+text",
         "text": "resume_556",
         "textposition": "bottom center",
         "type": "scatter",
         "x": [
          20.096975326538086
         ],
         "y": [
          4.703367710113525
         ]
        },
        {
         "marker": {
          "color": "red"
         },
         "mode": "markers+text",
         "text": "resume_557",
         "textposition": "bottom center",
         "type": "scatter",
         "x": [
          21.42896842956543
         ],
         "y": [
          -16.870241165161133
         ]
        },
        {
         "marker": {
          "color": "red"
         },
         "mode": "markers+text",
         "text": "resume_558",
         "textposition": "bottom center",
         "type": "scatter",
         "x": [
          0.6500064730644226
         ],
         "y": [
          -6.679111003875732
         ]
        },
        {
         "marker": {
          "color": "red"
         },
         "mode": "markers+text",
         "text": "resume_559",
         "textposition": "bottom center",
         "type": "scatter",
         "x": [
          9.27502727508545
         ],
         "y": [
          13.22728157043457
         ]
        },
        {
         "marker": {
          "color": "red"
         },
         "mode": "markers+text",
         "text": "resume_560",
         "textposition": "bottom center",
         "type": "scatter",
         "x": [
          15.32606029510498
         ],
         "y": [
          -13.072009086608887
         ]
        },
        {
         "marker": {
          "color": "red"
         },
         "mode": "markers+text",
         "text": "resume_561",
         "textposition": "bottom center",
         "type": "scatter",
         "x": [
          -54.1478157043457
         ],
         "y": [
          12.24335765838623
         ]
        },
        {
         "marker": {
          "color": "red"
         },
         "mode": "markers+text",
         "text": "resume_562",
         "textposition": "bottom center",
         "type": "scatter",
         "x": [
          -0.8051941394805908
         ],
         "y": [
          11.254719734191895
         ]
        },
        {
         "marker": {
          "color": "red"
         },
         "mode": "markers+text",
         "text": "resume_563",
         "textposition": "bottom center",
         "type": "scatter",
         "x": [
          25.096649169921875
         ],
         "y": [
          -21.415380477905273
         ]
        },
        {
         "marker": {
          "color": "red"
         },
         "mode": "markers+text",
         "text": "resume_564",
         "textposition": "bottom center",
         "type": "scatter",
         "x": [
          -1.4718718528747559
         ],
         "y": [
          8.870223045349121
         ]
        },
        {
         "marker": {
          "color": "red"
         },
         "mode": "markers+text",
         "text": "resume_565",
         "textposition": "bottom center",
         "type": "scatter",
         "x": [
          10.41464900970459
         ],
         "y": [
          13.171154022216797
         ]
        },
        {
         "marker": {
          "color": "red"
         },
         "mode": "markers+text",
         "text": "resume_566",
         "textposition": "bottom center",
         "type": "scatter",
         "x": [
          -45.3415641784668
         ],
         "y": [
          13.24328899383545
         ]
        },
        {
         "marker": {
          "color": "red"
         },
         "mode": "markers+text",
         "text": "resume_567",
         "textposition": "bottom center",
         "type": "scatter",
         "x": [
          -26.992908477783203
         ],
         "y": [
          5.5749077796936035
         ]
        },
        {
         "marker": {
          "color": "red"
         },
         "mode": "markers+text",
         "text": "resume_568",
         "textposition": "bottom center",
         "type": "scatter",
         "x": [
          -17.953916549682617
         ],
         "y": [
          2.3894643783569336
         ]
        },
        {
         "marker": {
          "color": "red"
         },
         "mode": "markers+text",
         "text": "resume_569",
         "textposition": "bottom center",
         "type": "scatter",
         "x": [
          1.9985753297805786
         ],
         "y": [
          -1.3474647998809814
         ]
        },
        {
         "marker": {
          "color": "red"
         },
         "mode": "markers+text",
         "text": "resume_570",
         "textposition": "bottom center",
         "type": "scatter",
         "x": [
          2.032428503036499
         ],
         "y": [
          -8.248244285583496
         ]
        },
        {
         "marker": {
          "color": "red"
         },
         "mode": "markers+text",
         "text": "resume_571",
         "textposition": "bottom center",
         "type": "scatter",
         "x": [
          7.791932582855225
         ],
         "y": [
          13.958950996398926
         ]
        },
        {
         "marker": {
          "color": "red"
         },
         "mode": "markers+text",
         "text": "resume_572",
         "textposition": "bottom center",
         "type": "scatter",
         "x": [
          3.3436176776885986
         ],
         "y": [
          -17.655004501342773
         ]
        },
        {
         "marker": {
          "color": "red"
         },
         "mode": "markers+text",
         "text": "resume_573",
         "textposition": "bottom center",
         "type": "scatter",
         "x": [
          17.18429946899414
         ],
         "y": [
          -13.495870590209961
         ]
        },
        {
         "marker": {
          "color": "red"
         },
         "mode": "markers+text",
         "text": "resume_574",
         "textposition": "bottom center",
         "type": "scatter",
         "x": [
          -31.109220504760742
         ],
         "y": [
          6.313745975494385
         ]
        },
        {
         "marker": {
          "color": "red"
         },
         "mode": "markers+text",
         "text": "resume_575",
         "textposition": "bottom center",
         "type": "scatter",
         "x": [
          25.387794494628906
         ],
         "y": [
          -7.089345932006836
         ]
        },
        {
         "marker": {
          "color": "red"
         },
         "mode": "markers+text",
         "text": "resume_576",
         "textposition": "bottom center",
         "type": "scatter",
         "x": [
          6.198081970214844
         ],
         "y": [
          -8.892206192016602
         ]
        },
        {
         "marker": {
          "color": "red"
         },
         "mode": "markers+text",
         "text": "resume_577",
         "textposition": "bottom center",
         "type": "scatter",
         "x": [
          5.483822345733643
         ],
         "y": [
          -3.7047791481018066
         ]
        },
        {
         "marker": {
          "color": "red"
         },
         "mode": "markers+text",
         "text": "resume_578",
         "textposition": "bottom center",
         "type": "scatter",
         "x": [
          10.313271522521973
         ],
         "y": [
          1.5959861278533936
         ]
        },
        {
         "marker": {
          "color": "red"
         },
         "mode": "markers+text",
         "text": "resume_579",
         "textposition": "bottom center",
         "type": "scatter",
         "x": [
          16.423105239868164
         ],
         "y": [
          -19.75210952758789
         ]
        },
        {
         "marker": {
          "color": "red"
         },
         "mode": "markers+text",
         "text": "resume_580",
         "textposition": "bottom center",
         "type": "scatter",
         "x": [
          -19.032066345214844
         ],
         "y": [
          6.843999862670898
         ]
        },
        {
         "marker": {
          "color": "red"
         },
         "mode": "markers+text",
         "text": "resume_581",
         "textposition": "bottom center",
         "type": "scatter",
         "x": [
          5.380408763885498
         ],
         "y": [
          13.124796867370605
         ]
        },
        {
         "marker": {
          "color": "red"
         },
         "mode": "markers+text",
         "text": "resume_582",
         "textposition": "bottom center",
         "type": "scatter",
         "x": [
          -8.737204551696777
         ],
         "y": [
          -1.5487849712371826
         ]
        },
        {
         "marker": {
          "color": "red"
         },
         "mode": "markers+text",
         "text": "resume_583",
         "textposition": "bottom center",
         "type": "scatter",
         "x": [
          24.716646194458008
         ],
         "y": [
          -13.720673561096191
         ]
        },
        {
         "marker": {
          "color": "red"
         },
         "mode": "markers+text",
         "text": "resume_584",
         "textposition": "bottom center",
         "type": "scatter",
         "x": [
          6.371943950653076
         ],
         "y": [
          -2.1707019805908203
         ]
        },
        {
         "marker": {
          "color": "red"
         },
         "mode": "markers+text",
         "text": "resume_585",
         "textposition": "bottom center",
         "type": "scatter",
         "x": [
          -30.052104949951172
         ],
         "y": [
          9.013111114501953
         ]
        },
        {
         "marker": {
          "color": "red"
         },
         "mode": "markers+text",
         "text": "resume_586",
         "textposition": "bottom center",
         "type": "scatter",
         "x": [
          -1.9549793004989624
         ],
         "y": [
          -0.4376055598258972
         ]
        },
        {
         "marker": {
          "color": "red"
         },
         "mode": "markers+text",
         "text": "resume_587",
         "textposition": "bottom center",
         "type": "scatter",
         "x": [
          -32.94503402709961
         ],
         "y": [
          7.542956352233887
         ]
        },
        {
         "marker": {
          "color": "red"
         },
         "mode": "markers+text",
         "text": "resume_588",
         "textposition": "bottom center",
         "type": "scatter",
         "x": [
          8.38436508178711
         ],
         "y": [
          -19.978679656982422
         ]
        },
        {
         "marker": {
          "color": "red"
         },
         "mode": "markers+text",
         "text": "resume_589",
         "textposition": "bottom center",
         "type": "scatter",
         "x": [
          1.9837826490402222
         ],
         "y": [
          -9.676612854003906
         ]
        },
        {
         "marker": {
          "color": "red"
         },
         "mode": "markers+text",
         "text": "resume_590",
         "textposition": "bottom center",
         "type": "scatter",
         "x": [
          -6.362912178039551
         ],
         "y": [
          2.2032864093780518
         ]
        },
        {
         "marker": {
          "color": "red"
         },
         "mode": "markers+text",
         "text": "resume_591",
         "textposition": "bottom center",
         "type": "scatter",
         "x": [
          -52.04133224487305
         ],
         "y": [
          14.92414379119873
         ]
        },
        {
         "marker": {
          "color": "red"
         },
         "mode": "markers+text",
         "text": "resume_592",
         "textposition": "bottom center",
         "type": "scatter",
         "x": [
          13.191051483154297
         ],
         "y": [
          3.654715061187744
         ]
        },
        {
         "marker": {
          "color": "red"
         },
         "mode": "markers+text",
         "text": "resume_593",
         "textposition": "bottom center",
         "type": "scatter",
         "x": [
          3.5450925827026367
         ],
         "y": [
          -1.90334153175354
         ]
        },
        {
         "marker": {
          "color": "red"
         },
         "mode": "markers+text",
         "text": "resume_594",
         "textposition": "bottom center",
         "type": "scatter",
         "x": [
          4.881959915161133
         ],
         "y": [
          -17.95822525024414
         ]
        },
        {
         "marker": {
          "color": "red"
         },
         "mode": "markers+text",
         "text": "resume_595",
         "textposition": "bottom center",
         "type": "scatter",
         "x": [
          -52.069087982177734
         ],
         "y": [
          14.924778938293457
         ]
        },
        {
         "marker": {
          "color": "red"
         },
         "mode": "markers+text",
         "text": "resume_596",
         "textposition": "bottom center",
         "type": "scatter",
         "x": [
          27.959863662719727
         ],
         "y": [
          -7.771882057189941
         ]
        },
        {
         "marker": {
          "color": "red"
         },
         "mode": "markers+text",
         "text": "resume_597",
         "textposition": "bottom center",
         "type": "scatter",
         "x": [
          -47.01788330078125
         ],
         "y": [
          6.964546203613281
         ]
        },
        {
         "marker": {
          "color": "red"
         },
         "mode": "markers+text",
         "text": "resume_598",
         "textposition": "bottom center",
         "type": "scatter",
         "x": [
          -51.86050033569336
         ],
         "y": [
          5.3856329917907715
         ]
        },
        {
         "marker": {
          "color": "red"
         },
         "mode": "markers+text",
         "text": "resume_599",
         "textposition": "bottom center",
         "type": "scatter",
         "x": [
          -25.58913230895996
         ],
         "y": [
          7.877930641174316
         ]
        },
        {
         "marker": {
          "color": "red"
         },
         "mode": "markers+text",
         "text": "resume_600",
         "textposition": "bottom center",
         "type": "scatter",
         "x": [
          14.872750282287598
         ],
         "y": [
          9.799782752990723
         ]
        },
        {
         "marker": {
          "color": "red"
         },
         "mode": "markers+text",
         "text": "resume_601",
         "textposition": "bottom center",
         "type": "scatter",
         "x": [
          13.2252836227417
         ],
         "y": [
          -18.25405502319336
         ]
        },
        {
         "marker": {
          "color": "red"
         },
         "mode": "markers+text",
         "text": "resume_602",
         "textposition": "bottom center",
         "type": "scatter",
         "x": [
          23.43570899963379
         ],
         "y": [
          -1.6397883892059326
         ]
        },
        {
         "marker": {
          "color": "red"
         },
         "mode": "markers+text",
         "text": "resume_603",
         "textposition": "bottom center",
         "type": "scatter",
         "x": [
          6.735160827636719
         ],
         "y": [
          2.3675248622894287
         ]
        },
        {
         "marker": {
          "color": "red"
         },
         "mode": "markers+text",
         "text": "resume_604",
         "textposition": "bottom center",
         "type": "scatter",
         "x": [
          8.026320457458496
         ],
         "y": [
          -3.9334678649902344
         ]
        },
        {
         "marker": {
          "color": "red"
         },
         "mode": "markers+text",
         "text": "resume_605",
         "textposition": "bottom center",
         "type": "scatter",
         "x": [
          -14.116382598876953
         ],
         "y": [
          2.040663242340088
         ]
        },
        {
         "marker": {
          "color": "red"
         },
         "mode": "markers+text",
         "text": "resume_606",
         "textposition": "bottom center",
         "type": "scatter",
         "x": [
          0.12323292344808578
         ],
         "y": [
          -6.107375621795654
         ]
        },
        {
         "marker": {
          "color": "red"
         },
         "mode": "markers+text",
         "text": "resume_607",
         "textposition": "bottom center",
         "type": "scatter",
         "x": [
          -12.496861457824707
         ],
         "y": [
          1.5493565797805786
         ]
        },
        {
         "marker": {
          "color": "red"
         },
         "mode": "markers+text",
         "text": "resume_608",
         "textposition": "bottom center",
         "type": "scatter",
         "x": [
          24.472471237182617
         ],
         "y": [
          -5.845856666564941
         ]
        },
        {
         "marker": {
          "color": "red"
         },
         "mode": "markers+text",
         "text": "resume_609",
         "textposition": "bottom center",
         "type": "scatter",
         "x": [
          -1.2599923610687256
         ],
         "y": [
          7.479942321777344
         ]
        },
        {
         "marker": {
          "color": "red"
         },
         "mode": "markers+text",
         "text": "resume_610",
         "textposition": "bottom center",
         "type": "scatter",
         "x": [
          5.949004173278809
         ],
         "y": [
          13.724691390991211
         ]
        },
        {
         "marker": {
          "color": "red"
         },
         "mode": "markers+text",
         "text": "resume_611",
         "textposition": "bottom center",
         "type": "scatter",
         "x": [
          13.729514122009277
         ],
         "y": [
          3.157167673110962
         ]
        },
        {
         "marker": {
          "color": "red"
         },
         "mode": "markers+text",
         "text": "resume_612",
         "textposition": "bottom center",
         "type": "scatter",
         "x": [
          7.572970867156982
         ],
         "y": [
          -4.931486129760742
         ]
        },
        {
         "marker": {
          "color": "red"
         },
         "mode": "markers+text",
         "text": "resume_613",
         "textposition": "bottom center",
         "type": "scatter",
         "x": [
          20.2814998626709
         ],
         "y": [
          -5.025756359100342
         ]
        },
        {
         "marker": {
          "color": "red"
         },
         "mode": "markers+text",
         "text": "resume_614",
         "textposition": "bottom center",
         "type": "scatter",
         "x": [
          12.528241157531738
         ],
         "y": [
          -15.900510787963867
         ]
        },
        {
         "marker": {
          "color": "red"
         },
         "mode": "markers+text",
         "text": "resume_615",
         "textposition": "bottom center",
         "type": "scatter",
         "x": [
          27.68429946899414
         ],
         "y": [
          -2.174041748046875
         ]
        },
        {
         "marker": {
          "color": "red"
         },
         "mode": "markers+text",
         "text": "resume_616",
         "textposition": "bottom center",
         "type": "scatter",
         "x": [
          14.822624206542969
         ],
         "y": [
          -2.6301209926605225
         ]
        },
        {
         "marker": {
          "color": "red"
         },
         "mode": "markers+text",
         "text": "resume_617",
         "textposition": "bottom center",
         "type": "scatter",
         "x": [
          -5.255613327026367
         ],
         "y": [
          12.207948684692383
         ]
        },
        {
         "marker": {
          "color": "red"
         },
         "mode": "markers+text",
         "text": "resume_618",
         "textposition": "bottom center",
         "type": "scatter",
         "x": [
          24.246082305908203
         ],
         "y": [
          0.6195619702339172
         ]
        },
        {
         "marker": {
          "color": "red"
         },
         "mode": "markers+text",
         "text": "resume_619",
         "textposition": "bottom center",
         "type": "scatter",
         "x": [
          0.0950729250907898
         ],
         "y": [
          11.293819427490234
         ]
        },
        {
         "marker": {
          "color": "red"
         },
         "mode": "markers+text",
         "text": "resume_620",
         "textposition": "bottom center",
         "type": "scatter",
         "x": [
          -50.88030242919922
         ],
         "y": [
          13.4161958694458
         ]
        },
        {
         "marker": {
          "color": "red"
         },
         "mode": "markers+text",
         "text": "resume_621",
         "textposition": "bottom center",
         "type": "scatter",
         "x": [
          31.976863861083984
         ],
         "y": [
          -11.364411354064941
         ]
        },
        {
         "marker": {
          "color": "red"
         },
         "mode": "markers+text",
         "text": "resume_622",
         "textposition": "bottom center",
         "type": "scatter",
         "x": [
          -45.69804382324219
         ],
         "y": [
          4.262467861175537
         ]
        },
        {
         "marker": {
          "color": "red"
         },
         "mode": "markers+text",
         "text": "resume_623",
         "textposition": "bottom center",
         "type": "scatter",
         "x": [
          -16.19367218017578
         ],
         "y": [
          1.3574870824813843
         ]
        },
        {
         "marker": {
          "color": "red"
         },
         "mode": "markers+text",
         "text": "resume_624",
         "textposition": "bottom center",
         "type": "scatter",
         "x": [
          15.275858879089355
         ],
         "y": [
          -5.974057197570801
         ]
        },
        {
         "marker": {
          "color": "red"
         },
         "mode": "markers+text",
         "text": "resume_625",
         "textposition": "bottom center",
         "type": "scatter",
         "x": [
          17.274200439453125
         ],
         "y": [
          -6.66272497177124
         ]
        },
        {
         "marker": {
          "color": "red"
         },
         "mode": "markers+text",
         "text": "resume_626",
         "textposition": "bottom center",
         "type": "scatter",
         "x": [
          -10.063767433166504
         ],
         "y": [
          5.46008825302124
         ]
        },
        {
         "marker": {
          "color": "red"
         },
         "mode": "markers+text",
         "text": "resume_627",
         "textposition": "bottom center",
         "type": "scatter",
         "x": [
          -2.537447929382324
         ],
         "y": [
          -2.722736358642578
         ]
        },
        {
         "marker": {
          "color": "red"
         },
         "mode": "markers+text",
         "text": "resume_628",
         "textposition": "bottom center",
         "type": "scatter",
         "x": [
          -14.862582206726074
         ],
         "y": [
          -4.9449286460876465
         ]
        },
        {
         "marker": {
          "color": "red"
         },
         "mode": "markers+text",
         "text": "resume_629",
         "textposition": "bottom center",
         "type": "scatter",
         "x": [
          23.912580490112305
         ],
         "y": [
          -4.455480575561523
         ]
        },
        {
         "marker": {
          "color": "red"
         },
         "mode": "markers+text",
         "text": "resume_630",
         "textposition": "bottom center",
         "type": "scatter",
         "x": [
          -11.622225761413574
         ],
         "y": [
          3.6651759147644043
         ]
        },
        {
         "marker": {
          "color": "red"
         },
         "mode": "markers+text",
         "text": "resume_631",
         "textposition": "bottom center",
         "type": "scatter",
         "x": [
          11.782271385192871
         ],
         "y": [
          6.494599342346191
         ]
        },
        {
         "marker": {
          "color": "red"
         },
         "mode": "markers+text",
         "text": "resume_632",
         "textposition": "bottom center",
         "type": "scatter",
         "x": [
          30.036968231201172
         ],
         "y": [
          -0.048135749995708466
         ]
        },
        {
         "marker": {
          "color": "red"
         },
         "mode": "markers+text",
         "text": "resume_633",
         "textposition": "bottom center",
         "type": "scatter",
         "x": [
          8.948981285095215
         ],
         "y": [
          1.3621233701705933
         ]
        },
        {
         "marker": {
          "color": "red"
         },
         "mode": "markers+text",
         "text": "resume_634",
         "textposition": "bottom center",
         "type": "scatter",
         "x": [
          -29.52324676513672
         ],
         "y": [
          8.509208679199219
         ]
        },
        {
         "marker": {
          "color": "red"
         },
         "mode": "markers+text",
         "text": "resume_635",
         "textposition": "bottom center",
         "type": "scatter",
         "x": [
          -15.26719856262207
         ],
         "y": [
          2.7008113861083984
         ]
        },
        {
         "marker": {
          "color": "red"
         },
         "mode": "markers+text",
         "text": "resume_636",
         "textposition": "bottom center",
         "type": "scatter",
         "x": [
          4.272431373596191
         ],
         "y": [
          14.468696594238281
         ]
        },
        {
         "marker": {
          "color": "red"
         },
         "mode": "markers+text",
         "text": "resume_637",
         "textposition": "bottom center",
         "type": "scatter",
         "x": [
          -10.169862747192383
         ],
         "y": [
          0.14905931055545807
         ]
        },
        {
         "marker": {
          "color": "red"
         },
         "mode": "markers+text",
         "text": "resume_638",
         "textposition": "bottom center",
         "type": "scatter",
         "x": [
          18.298051834106445
         ],
         "y": [
          -5.083857536315918
         ]
        },
        {
         "marker": {
          "color": "red"
         },
         "mode": "markers+text",
         "text": "resume_639",
         "textposition": "bottom center",
         "type": "scatter",
         "x": [
          -44.9450798034668
         ],
         "y": [
          10.347867965698242
         ]
        },
        {
         "marker": {
          "color": "red"
         },
         "mode": "markers+text",
         "text": "resume_640",
         "textposition": "bottom center",
         "type": "scatter",
         "x": [
          21.147554397583008
         ],
         "y": [
          -19.017793655395508
         ]
        },
        {
         "marker": {
          "color": "red"
         },
         "mode": "markers+text",
         "text": "resume_641",
         "textposition": "bottom center",
         "type": "scatter",
         "x": [
          25.925922393798828
         ],
         "y": [
          -8.747075080871582
         ]
        },
        {
         "marker": {
          "color": "red"
         },
         "mode": "markers+text",
         "text": "resume_642",
         "textposition": "bottom center",
         "type": "scatter",
         "x": [
          18.348827362060547
         ],
         "y": [
          -16.201284408569336
         ]
        },
        {
         "marker": {
          "color": "red"
         },
         "mode": "markers+text",
         "text": "resume_643",
         "textposition": "bottom center",
         "type": "scatter",
         "x": [
          16.002042770385742
         ],
         "y": [
          -3.438176155090332
         ]
        },
        {
         "marker": {
          "color": "red"
         },
         "mode": "markers+text",
         "text": "resume_644",
         "textposition": "bottom center",
         "type": "scatter",
         "x": [
          -0.22488999366760254
         ],
         "y": [
          -4.357867240905762
         ]
        },
        {
         "marker": {
          "color": "red"
         },
         "mode": "markers+text",
         "text": "resume_645",
         "textposition": "bottom center",
         "type": "scatter",
         "x": [
          -47.429847717285156
         ],
         "y": [
          12.374080657958984
         ]
        },
        {
         "marker": {
          "color": "red"
         },
         "mode": "markers+text",
         "text": "resume_646",
         "textposition": "bottom center",
         "type": "scatter",
         "x": [
          -5.110739707946777
         ],
         "y": [
          -6.170123100280762
         ]
        },
        {
         "marker": {
          "color": "red"
         },
         "mode": "markers+text",
         "text": "resume_647",
         "textposition": "bottom center",
         "type": "scatter",
         "x": [
          25.607154846191406
         ],
         "y": [
          -1.6560657024383545
         ]
        },
        {
         "marker": {
          "color": "red"
         },
         "mode": "markers+text",
         "text": "resume_648",
         "textposition": "bottom center",
         "type": "scatter",
         "x": [
          28.644006729125977
         ],
         "y": [
          1.061341404914856
         ]
        },
        {
         "marker": {
          "color": "red"
         },
         "mode": "markers+text",
         "text": "resume_649",
         "textposition": "bottom center",
         "type": "scatter",
         "x": [
          -29.149381637573242
         ],
         "y": [
          4.824736595153809
         ]
        },
        {
         "marker": {
          "color": "red"
         },
         "mode": "markers+text",
         "text": "resume_650",
         "textposition": "bottom center",
         "type": "scatter",
         "x": [
          8.82372760772705
         ],
         "y": [
          -14.106521606445312
         ]
        },
        {
         "marker": {
          "color": "red"
         },
         "mode": "markers+text",
         "text": "resume_651",
         "textposition": "bottom center",
         "type": "scatter",
         "x": [
          17.024213790893555
         ],
         "y": [
          -2.1708953380584717
         ]
        },
        {
         "marker": {
          "color": "red"
         },
         "mode": "markers+text",
         "text": "resume_652",
         "textposition": "bottom center",
         "type": "scatter",
         "x": [
          28.19184684753418
         ],
         "y": [
          -2.991227149963379
         ]
        },
        {
         "marker": {
          "color": "red"
         },
         "mode": "markers+text",
         "text": "resume_653",
         "textposition": "bottom center",
         "type": "scatter",
         "x": [
          1.1813684701919556
         ],
         "y": [
          1.7541524171829224
         ]
        },
        {
         "marker": {
          "color": "red"
         },
         "mode": "markers+text",
         "text": "resume_654",
         "textposition": "bottom center",
         "type": "scatter",
         "x": [
          -46.463783264160156
         ],
         "y": [
          8.972079277038574
         ]
        },
        {
         "marker": {
          "color": "red"
         },
         "mode": "markers+text",
         "text": "resume_655",
         "textposition": "bottom center",
         "type": "scatter",
         "x": [
          18.944974899291992
         ],
         "y": [
          -10.783514022827148
         ]
        },
        {
         "marker": {
          "color": "red"
         },
         "mode": "markers+text",
         "text": "resume_656",
         "textposition": "bottom center",
         "type": "scatter",
         "x": [
          4.34583854675293
         ],
         "y": [
          -12.295207977294922
         ]
        },
        {
         "marker": {
          "color": "red"
         },
         "mode": "markers+text",
         "text": "resume_657",
         "textposition": "bottom center",
         "type": "scatter",
         "x": [
          14.395024299621582
         ],
         "y": [
          -1.1446868181228638
         ]
        },
        {
         "marker": {
          "color": "red"
         },
         "mode": "markers+text",
         "text": "resume_658",
         "textposition": "bottom center",
         "type": "scatter",
         "x": [
          7.372983932495117
         ],
         "y": [
          -16.84265899658203
         ]
        },
        {
         "marker": {
          "color": "red"
         },
         "mode": "markers+text",
         "text": "resume_659",
         "textposition": "bottom center",
         "type": "scatter",
         "x": [
          6.710732460021973
         ],
         "y": [
          -12.806342124938965
         ]
        },
        {
         "marker": {
          "color": "red"
         },
         "mode": "markers+text",
         "text": "resume_660",
         "textposition": "bottom center",
         "type": "scatter",
         "x": [
          0.7975767254829407
         ],
         "y": [
          4.384344577789307
         ]
        },
        {
         "marker": {
          "color": "red"
         },
         "mode": "markers+text",
         "text": "resume_661",
         "textposition": "bottom center",
         "type": "scatter",
         "x": [
          -56.61692810058594
         ],
         "y": [
          7.1643853187561035
         ]
        },
        {
         "marker": {
          "color": "red"
         },
         "mode": "markers+text",
         "text": "resume_662",
         "textposition": "bottom center",
         "type": "scatter",
         "x": [
          29.837514877319336
         ],
         "y": [
          -8.06367301940918
         ]
        },
        {
         "marker": {
          "color": "red"
         },
         "mode": "markers+text",
         "text": "resume_663",
         "textposition": "bottom center",
         "type": "scatter",
         "x": [
          -33.11445999145508
         ],
         "y": [
          7.511061191558838
         ]
        },
        {
         "marker": {
          "color": "red"
         },
         "mode": "markers+text",
         "text": "resume_664",
         "textposition": "bottom center",
         "type": "scatter",
         "x": [
          -44.642913818359375
         ],
         "y": [
          9.238080978393555
         ]
        },
        {
         "marker": {
          "color": "red"
         },
         "mode": "markers+text",
         "text": "resume_665",
         "textposition": "bottom center",
         "type": "scatter",
         "x": [
          -11.1092529296875
         ],
         "y": [
          10.949422836303711
         ]
        },
        {
         "marker": {
          "color": "red"
         },
         "mode": "markers+text",
         "text": "resume_666",
         "textposition": "bottom center",
         "type": "scatter",
         "x": [
          -15.382779121398926
         ],
         "y": [
          14.01258373260498
         ]
        },
        {
         "marker": {
          "color": "red"
         },
         "mode": "markers+text",
         "text": "resume_667",
         "textposition": "bottom center",
         "type": "scatter",
         "x": [
          4.384929656982422
         ],
         "y": [
          -7.948301315307617
         ]
        },
        {
         "marker": {
          "color": "red"
         },
         "mode": "markers+text",
         "text": "resume_668",
         "textposition": "bottom center",
         "type": "scatter",
         "x": [
          27.586917877197266
         ],
         "y": [
          -5.580181121826172
         ]
        },
        {
         "marker": {
          "color": "red"
         },
         "mode": "markers+text",
         "text": "resume_669",
         "textposition": "bottom center",
         "type": "scatter",
         "x": [
          -23.83557891845703
         ],
         "y": [
          9.43390941619873
         ]
        },
        {
         "marker": {
          "color": "red"
         },
         "mode": "markers+text",
         "text": "resume_670",
         "textposition": "bottom center",
         "type": "scatter",
         "x": [
          3.137307643890381
         ],
         "y": [
          2.5662896633148193
         ]
        },
        {
         "marker": {
          "color": "red"
         },
         "mode": "markers+text",
         "text": "resume_671",
         "textposition": "bottom center",
         "type": "scatter",
         "x": [
          28.37872886657715
         ],
         "y": [
          6.872795581817627
         ]
        },
        {
         "marker": {
          "color": "red"
         },
         "mode": "markers+text",
         "text": "resume_672",
         "textposition": "bottom center",
         "type": "scatter",
         "x": [
          -45.31727600097656
         ],
         "y": [
          13.310715675354004
         ]
        },
        {
         "marker": {
          "color": "red"
         },
         "mode": "markers+text",
         "text": "resume_673",
         "textposition": "bottom center",
         "type": "scatter",
         "x": [
          21.195491790771484
         ],
         "y": [
          -11.338424682617188
         ]
        },
        {
         "marker": {
          "color": "red"
         },
         "mode": "markers+text",
         "text": "resume_674",
         "textposition": "bottom center",
         "type": "scatter",
         "x": [
          -3.170285224914551
         ],
         "y": [
          -3.9025707244873047
         ]
        },
        {
         "marker": {
          "color": "red"
         },
         "mode": "markers+text",
         "text": "resume_675",
         "textposition": "bottom center",
         "type": "scatter",
         "x": [
          9.447941780090332
         ],
         "y": [
          13.244303703308105
         ]
        },
        {
         "marker": {
          "color": "red"
         },
         "mode": "markers+text",
         "text": "resume_676",
         "textposition": "bottom center",
         "type": "scatter",
         "x": [
          0.9416583180427551
         ],
         "y": [
          10.415023803710938
         ]
        },
        {
         "marker": {
          "color": "red"
         },
         "mode": "markers+text",
         "text": "resume_677",
         "textposition": "bottom center",
         "type": "scatter",
         "x": [
          29.346933364868164
         ],
         "y": [
          -13.46336555480957
         ]
        },
        {
         "marker": {
          "color": "red"
         },
         "mode": "markers+text",
         "text": "resume_678",
         "textposition": "bottom center",
         "type": "scatter",
         "x": [
          14.412522315979004
         ],
         "y": [
          -17.641796112060547
         ]
        },
        {
         "marker": {
          "color": "red"
         },
         "mode": "markers+text",
         "text": "resume_679",
         "textposition": "bottom center",
         "type": "scatter",
         "x": [
          -28.718278884887695
         ],
         "y": [
          2.7087209224700928
         ]
        },
        {
         "marker": {
          "color": "red"
         },
         "mode": "markers+text",
         "text": "resume_680",
         "textposition": "bottom center",
         "type": "scatter",
         "x": [
          17.7497501373291
         ],
         "y": [
          4.633666515350342
         ]
        },
        {
         "marker": {
          "color": "red"
         },
         "mode": "markers+text",
         "text": "resume_681",
         "textposition": "bottom center",
         "type": "scatter",
         "x": [
          31.53261375427246
         ],
         "y": [
          1.2521727085113525
         ]
        },
        {
         "marker": {
          "color": "red"
         },
         "mode": "markers+text",
         "text": "resume_682",
         "textposition": "bottom center",
         "type": "scatter",
         "x": [
          -11.932653427124023
         ],
         "y": [
          -2.147613286972046
         ]
        },
        {
         "marker": {
          "color": "red"
         },
         "mode": "markers+text",
         "text": "resume_683",
         "textposition": "bottom center",
         "type": "scatter",
         "x": [
          -31.619354248046875
         ],
         "y": [
          12.178553581237793
         ]
        },
        {
         "marker": {
          "color": "red"
         },
         "mode": "markers+text",
         "text": "resume_684",
         "textposition": "bottom center",
         "type": "scatter",
         "x": [
          12.592180252075195
         ],
         "y": [
          -0.14795070886611938
         ]
        },
        {
         "marker": {
          "color": "red"
         },
         "mode": "markers+text",
         "text": "resume_685",
         "textposition": "bottom center",
         "type": "scatter",
         "x": [
          18.95576286315918
         ],
         "y": [
          2.4715147018432617
         ]
        },
        {
         "marker": {
          "color": "red"
         },
         "mode": "markers+text",
         "text": "resume_686",
         "textposition": "bottom center",
         "type": "scatter",
         "x": [
          -5.436133861541748
         ],
         "y": [
          2.303738832473755
         ]
        },
        {
         "marker": {
          "color": "red"
         },
         "mode": "markers+text",
         "text": "resume_687",
         "textposition": "bottom center",
         "type": "scatter",
         "x": [
          14.82124137878418
         ],
         "y": [
          -0.5648230910301208
         ]
        },
        {
         "marker": {
          "color": "red"
         },
         "mode": "markers+text",
         "text": "resume_688",
         "textposition": "bottom center",
         "type": "scatter",
         "x": [
          -2.81412410736084
         ],
         "y": [
          -3.4014084339141846
         ]
        },
        {
         "marker": {
          "color": "red"
         },
         "mode": "markers+text",
         "text": "resume_689",
         "textposition": "bottom center",
         "type": "scatter",
         "x": [
          -4.895207405090332
         ],
         "y": [
          10.831002235412598
         ]
        },
        {
         "marker": {
          "color": "red"
         },
         "mode": "markers+text",
         "text": "resume_690",
         "textposition": "bottom center",
         "type": "scatter",
         "x": [
          -14.45793342590332
         ],
         "y": [
          3.322226047515869
         ]
        },
        {
         "marker": {
          "color": "red"
         },
         "mode": "markers+text",
         "text": "resume_691",
         "textposition": "bottom center",
         "type": "scatter",
         "x": [
          18.402528762817383
         ],
         "y": [
          -1.7705788612365723
         ]
        },
        {
         "marker": {
          "color": "red"
         },
         "mode": "markers+text",
         "text": "resume_692",
         "textposition": "bottom center",
         "type": "scatter",
         "x": [
          -7.160141468048096
         ],
         "y": [
          8.312822341918945
         ]
        },
        {
         "marker": {
          "color": "red"
         },
         "mode": "markers+text",
         "text": "resume_693",
         "textposition": "bottom center",
         "type": "scatter",
         "x": [
          11.808653831481934
         ],
         "y": [
          -13.2132568359375
         ]
        },
        {
         "marker": {
          "color": "red"
         },
         "mode": "markers+text",
         "text": "resume_694",
         "textposition": "bottom center",
         "type": "scatter",
         "x": [
          13.178163528442383
         ],
         "y": [
          -9.253344535827637
         ]
        },
        {
         "marker": {
          "color": "red"
         },
         "mode": "markers+text",
         "text": "resume_695",
         "textposition": "bottom center",
         "type": "scatter",
         "x": [
          2.4100282192230225
         ],
         "y": [
          3.3186440467834473
         ]
        },
        {
         "marker": {
          "color": "red"
         },
         "mode": "markers+text",
         "text": "resume_696",
         "textposition": "bottom center",
         "type": "scatter",
         "x": [
          3.39066743850708
         ],
         "y": [
          -18.314611434936523
         ]
        },
        {
         "marker": {
          "color": "red"
         },
         "mode": "markers+text",
         "text": "resume_697",
         "textposition": "bottom center",
         "type": "scatter",
         "x": [
          11.604996681213379
         ],
         "y": [
          -0.03967757895588875
         ]
        },
        {
         "marker": {
          "color": "red"
         },
         "mode": "markers+text",
         "text": "resume_698",
         "textposition": "bottom center",
         "type": "scatter",
         "x": [
          -0.10500732064247131
         ],
         "y": [
          -5.55766487121582
         ]
        },
        {
         "marker": {
          "color": "red"
         },
         "mode": "markers+text",
         "text": "resume_699",
         "textposition": "bottom center",
         "type": "scatter",
         "x": [
          -31.400712966918945
         ],
         "y": [
          7.045146942138672
         ]
        },
        {
         "marker": {
          "color": "red"
         },
         "mode": "markers+text",
         "text": "resume_700",
         "textposition": "bottom center",
         "type": "scatter",
         "x": [
          8.107549667358398
         ],
         "y": [
          0.1698327362537384
         ]
        },
        {
         "marker": {
          "color": "red"
         },
         "mode": "markers+text",
         "text": "resume_701",
         "textposition": "bottom center",
         "type": "scatter",
         "x": [
          21.444896697998047
         ],
         "y": [
          -6.3506269454956055
         ]
        },
        {
         "marker": {
          "color": "red"
         },
         "mode": "markers+text",
         "text": "resume_702",
         "textposition": "bottom center",
         "type": "scatter",
         "x": [
          -45.70368957519531
         ],
         "y": [
          4.255497932434082
         ]
        },
        {
         "marker": {
          "color": "red"
         },
         "mode": "markers+text",
         "text": "resume_703",
         "textposition": "bottom center",
         "type": "scatter",
         "x": [
          7.215096473693848
         ],
         "y": [
          17.354719161987305
         ]
        },
        {
         "marker": {
          "color": "red"
         },
         "mode": "markers+text",
         "text": "resume_704",
         "textposition": "bottom center",
         "type": "scatter",
         "x": [
          -46.42201232910156
         ],
         "y": [
          8.966495513916016
         ]
        },
        {
         "marker": {
          "color": "red"
         },
         "mode": "markers+text",
         "text": "resume_705",
         "textposition": "bottom center",
         "type": "scatter",
         "x": [
          8.483078002929688
         ],
         "y": [
          -16.324186325073242
         ]
        },
        {
         "marker": {
          "color": "red"
         },
         "mode": "markers+text",
         "text": "resume_706",
         "textposition": "bottom center",
         "type": "scatter",
         "x": [
          25.001726150512695
         ],
         "y": [
          0.07849840074777603
         ]
        },
        {
         "marker": {
          "color": "red"
         },
         "mode": "markers+text",
         "text": "resume_707",
         "textposition": "bottom center",
         "type": "scatter",
         "x": [
          6.487492084503174
         ],
         "y": [
          -0.3768431544303894
         ]
        },
        {
         "marker": {
          "color": "red"
         },
         "mode": "markers+text",
         "text": "resume_708",
         "textposition": "bottom center",
         "type": "scatter",
         "x": [
          -48.80961608886719
         ],
         "y": [
          14.860284805297852
         ]
        },
        {
         "marker": {
          "color": "red"
         },
         "mode": "markers+text",
         "text": "resume_709",
         "textposition": "bottom center",
         "type": "scatter",
         "x": [
          -19.251604080200195
         ],
         "y": [
          11.153013229370117
         ]
        },
        {
         "marker": {
          "color": "red"
         },
         "mode": "markers+text",
         "text": "resume_710",
         "textposition": "bottom center",
         "type": "scatter",
         "x": [
          -16.437536239624023
         ],
         "y": [
          3.93210768699646
         ]
        },
        {
         "marker": {
          "color": "red"
         },
         "mode": "markers+text",
         "text": "resume_711",
         "textposition": "bottom center",
         "type": "scatter",
         "x": [
          5.900619983673096
         ],
         "y": [
          -21.39421272277832
         ]
        },
        {
         "marker": {
          "color": "red"
         },
         "mode": "markers+text",
         "text": "resume_712",
         "textposition": "bottom center",
         "type": "scatter",
         "x": [
          20.81012725830078
         ],
         "y": [
          -7.900400638580322
         ]
        },
        {
         "marker": {
          "color": "red"
         },
         "mode": "markers+text",
         "text": "resume_713",
         "textposition": "bottom center",
         "type": "scatter",
         "x": [
          -11.563745498657227
         ],
         "y": [
          7.249381065368652
         ]
        },
        {
         "marker": {
          "color": "red"
         },
         "mode": "markers+text",
         "text": "resume_714",
         "textposition": "bottom center",
         "type": "scatter",
         "x": [
          -0.44022879004478455
         ],
         "y": [
          -0.544287919998169
         ]
        },
        {
         "marker": {
          "color": "red"
         },
         "mode": "markers+text",
         "text": "resume_715",
         "textposition": "bottom center",
         "type": "scatter",
         "x": [
          -15.753625869750977
         ],
         "y": [
          3.6330013275146484
         ]
        },
        {
         "marker": {
          "color": "red"
         },
         "mode": "markers+text",
         "text": "resume_716",
         "textposition": "bottom center",
         "type": "scatter",
         "x": [
          23.66889762878418
         ],
         "y": [
          -17.11456298828125
         ]
        },
        {
         "marker": {
          "color": "red"
         },
         "mode": "markers+text",
         "text": "resume_717",
         "textposition": "bottom center",
         "type": "scatter",
         "x": [
          22.672813415527344
         ],
         "y": [
          -15.223868370056152
         ]
        },
        {
         "marker": {
          "color": "red"
         },
         "mode": "markers+text",
         "text": "resume_718",
         "textposition": "bottom center",
         "type": "scatter",
         "x": [
          19.283849716186523
         ],
         "y": [
          0.42289093136787415
         ]
        },
        {
         "marker": {
          "color": "red"
         },
         "mode": "markers+text",
         "text": "resume_719",
         "textposition": "bottom center",
         "type": "scatter",
         "x": [
          1.0399914979934692
         ],
         "y": [
          1.142203450202942
         ]
        },
        {
         "marker": {
          "color": "red"
         },
         "mode": "markers+text",
         "text": "resume_720",
         "textposition": "bottom center",
         "type": "scatter",
         "x": [
          6.5781402587890625
         ],
         "y": [
          9.316154479980469
         ]
        },
        {
         "marker": {
          "color": "red"
         },
         "mode": "markers+text",
         "text": "resume_721",
         "textposition": "bottom center",
         "type": "scatter",
         "x": [
          -0.5885931849479675
         ],
         "y": [
          -15.472262382507324
         ]
        },
        {
         "marker": {
          "color": "red"
         },
         "mode": "markers+text",
         "text": "resume_722",
         "textposition": "bottom center",
         "type": "scatter",
         "x": [
          -34.27308654785156
         ],
         "y": [
          11.489787101745605
         ]
        },
        {
         "marker": {
          "color": "red"
         },
         "mode": "markers+text",
         "text": "resume_723",
         "textposition": "bottom center",
         "type": "scatter",
         "x": [
          18.512474060058594
         ],
         "y": [
          -14.091395378112793
         ]
        },
        {
         "marker": {
          "color": "red"
         },
         "mode": "markers+text",
         "text": "resume_724",
         "textposition": "bottom center",
         "type": "scatter",
         "x": [
          30.18645477294922
         ],
         "y": [
          -12.185006141662598
         ]
        },
        {
         "marker": {
          "color": "red"
         },
         "mode": "markers+text",
         "text": "resume_725",
         "textposition": "bottom center",
         "type": "scatter",
         "x": [
          25.596851348876953
         ],
         "y": [
          -17.515281677246094
         ]
        },
        {
         "marker": {
          "color": "red"
         },
         "mode": "markers+text",
         "text": "resume_726",
         "textposition": "bottom center",
         "type": "scatter",
         "x": [
          -45.471492767333984
         ],
         "y": [
          7.794698238372803
         ]
        },
        {
         "marker": {
          "color": "red"
         },
         "mode": "markers+text",
         "text": "resume_727",
         "textposition": "bottom center",
         "type": "scatter",
         "x": [
          20.408353805541992
         ],
         "y": [
          -0.3772347867488861
         ]
        },
        {
         "marker": {
          "color": "red"
         },
         "mode": "markers+text",
         "text": "resume_728",
         "textposition": "bottom center",
         "type": "scatter",
         "x": [
          23.54551887512207
         ],
         "y": [
          -0.6148757934570312
         ]
        },
        {
         "marker": {
          "color": "red"
         },
         "mode": "markers+text",
         "text": "resume_729",
         "textposition": "bottom center",
         "type": "scatter",
         "x": [
          -52.076534271240234
         ],
         "y": [
          5.474540710449219
         ]
        },
        {
         "marker": {
          "color": "red"
         },
         "mode": "markers+text",
         "text": "resume_730",
         "textposition": "bottom center",
         "type": "scatter",
         "x": [
          11.343938827514648
         ],
         "y": [
          2.2339112758636475
         ]
        },
        {
         "marker": {
          "color": "red"
         },
         "mode": "markers+text",
         "text": "resume_731",
         "textposition": "bottom center",
         "type": "scatter",
         "x": [
          -7.994254112243652
         ],
         "y": [
          -8.368256568908691
         ]
        },
        {
         "marker": {
          "color": "red"
         },
         "mode": "markers+text",
         "text": "resume_732",
         "textposition": "bottom center",
         "type": "scatter",
         "x": [
          -32.94749450683594
         ],
         "y": [
          6.1405930519104
         ]
        },
        {
         "marker": {
          "color": "red"
         },
         "mode": "markers+text",
         "text": "resume_733",
         "textposition": "bottom center",
         "type": "scatter",
         "x": [
          20.4759578704834
         ],
         "y": [
          -1.3283956050872803
         ]
        },
        {
         "marker": {
          "color": "red"
         },
         "mode": "markers+text",
         "text": "resume_734",
         "textposition": "bottom center",
         "type": "scatter",
         "x": [
          -9.508310317993164
         ],
         "y": [
          3.359658718109131
         ]
        },
        {
         "marker": {
          "color": "red"
         },
         "mode": "markers+text",
         "text": "resume_735",
         "textposition": "bottom center",
         "type": "scatter",
         "x": [
          6.6540350914001465
         ],
         "y": [
          -20.491863250732422
         ]
        },
        {
         "marker": {
          "color": "red"
         },
         "mode": "markers+text",
         "text": "resume_736",
         "textposition": "bottom center",
         "type": "scatter",
         "x": [
          2.5470268726348877
         ],
         "y": [
          -5.982429504394531
         ]
        },
        {
         "marker": {
          "color": "red"
         },
         "mode": "markers+text",
         "text": "resume_737",
         "textposition": "bottom center",
         "type": "scatter",
         "x": [
          26.22242546081543
         ],
         "y": [
          1.1397416591644287
         ]
        },
        {
         "marker": {
          "color": "red"
         },
         "mode": "markers+text",
         "text": "resume_738",
         "textposition": "bottom center",
         "type": "scatter",
         "x": [
          -18.162738800048828
         ],
         "y": [
          0.18557441234588623
         ]
        },
        {
         "marker": {
          "color": "red"
         },
         "mode": "markers+text",
         "text": "resume_739",
         "textposition": "bottom center",
         "type": "scatter",
         "x": [
          11.313766479492188
         ],
         "y": [
          -13.097064018249512
         ]
        },
        {
         "marker": {
          "color": "red"
         },
         "mode": "markers+text",
         "text": "resume_740",
         "textposition": "bottom center",
         "type": "scatter",
         "x": [
          -10.58055305480957
         ],
         "y": [
          7.898395538330078
         ]
        },
        {
         "marker": {
          "color": "red"
         },
         "mode": "markers+text",
         "text": "resume_741",
         "textposition": "bottom center",
         "type": "scatter",
         "x": [
          6.498398303985596
         ],
         "y": [
          4.432983875274658
         ]
        },
        {
         "marker": {
          "color": "red"
         },
         "mode": "markers+text",
         "text": "resume_742",
         "textposition": "bottom center",
         "type": "scatter",
         "x": [
          13.983044624328613
         ],
         "y": [
          6.296681880950928
         ]
        },
        {
         "marker": {
          "color": "red"
         },
         "mode": "markers+text",
         "text": "resume_743",
         "textposition": "bottom center",
         "type": "scatter",
         "x": [
          28.833372116088867
         ],
         "y": [
          -15.97569465637207
         ]
        },
        {
         "marker": {
          "color": "red"
         },
         "mode": "markers+text",
         "text": "resume_744",
         "textposition": "bottom center",
         "type": "scatter",
         "x": [
          13.47138500213623
         ],
         "y": [
          -5.121833324432373
         ]
        },
        {
         "marker": {
          "color": "red"
         },
         "mode": "markers+text",
         "text": "resume_745",
         "textposition": "bottom center",
         "type": "scatter",
         "x": [
          -9.368450164794922
         ],
         "y": [
          3.2537577152252197
         ]
        },
        {
         "marker": {
          "color": "red"
         },
         "mode": "markers+text",
         "text": "resume_746",
         "textposition": "bottom center",
         "type": "scatter",
         "x": [
          22.831735610961914
         ],
         "y": [
          -10.706064224243164
         ]
        },
        {
         "marker": {
          "color": "red"
         },
         "mode": "markers+text",
         "text": "resume_747",
         "textposition": "bottom center",
         "type": "scatter",
         "x": [
          -2.297133207321167
         ],
         "y": [
          -4.086392879486084
         ]
        },
        {
         "marker": {
          "color": "red"
         },
         "mode": "markers+text",
         "text": "resume_748",
         "textposition": "bottom center",
         "type": "scatter",
         "x": [
          -8.942065238952637
         ],
         "y": [
          -4.423767566680908
         ]
        },
        {
         "marker": {
          "color": "red"
         },
         "mode": "markers+text",
         "text": "resume_749",
         "textposition": "bottom center",
         "type": "scatter",
         "x": [
          25.5175724029541
         ],
         "y": [
          -5.3085432052612305
         ]
        },
        {
         "marker": {
          "color": "red"
         },
         "mode": "markers+text",
         "text": "resume_750",
         "textposition": "bottom center",
         "type": "scatter",
         "x": [
          6.532268047332764
         ],
         "y": [
          -0.5190080404281616
         ]
        },
        {
         "marker": {
          "color": "red"
         },
         "mode": "markers+text",
         "text": "resume_751",
         "textposition": "bottom center",
         "type": "scatter",
         "x": [
          2.282787322998047
         ],
         "y": [
          0.09670902043581009
         ]
        },
        {
         "marker": {
          "color": "red"
         },
         "mode": "markers+text",
         "text": "resume_752",
         "textposition": "bottom center",
         "type": "scatter",
         "x": [
          -16.66255760192871
         ],
         "y": [
          -6.494160175323486
         ]
        },
        {
         "marker": {
          "color": "red"
         },
         "mode": "markers+text",
         "text": "resume_753",
         "textposition": "bottom center",
         "type": "scatter",
         "x": [
          -1.9312565326690674
         ],
         "y": [
          -3.514894723892212
         ]
        },
        {
         "marker": {
          "color": "red"
         },
         "mode": "markers+text",
         "text": "resume_754",
         "textposition": "bottom center",
         "type": "scatter",
         "x": [
          -49.70463562011719
         ],
         "y": [
          15.391310691833496
         ]
        },
        {
         "marker": {
          "color": "red"
         },
         "mode": "markers+text",
         "text": "resume_755",
         "textposition": "bottom center",
         "type": "scatter",
         "x": [
          -4.540461540222168
         ],
         "y": [
          -7.113638877868652
         ]
        },
        {
         "marker": {
          "color": "red"
         },
         "mode": "markers+text",
         "text": "resume_756",
         "textposition": "bottom center",
         "type": "scatter",
         "x": [
          21.375730514526367
         ],
         "y": [
          -6.384295463562012
         ]
        },
        {
         "marker": {
          "color": "red"
         },
         "mode": "markers+text",
         "text": "resume_757",
         "textposition": "bottom center",
         "type": "scatter",
         "x": [
          -50.11315155029297
         ],
         "y": [
          10.049662590026855
         ]
        },
        {
         "marker": {
          "color": "red"
         },
         "mode": "markers+text",
         "text": "resume_758",
         "textposition": "bottom center",
         "type": "scatter",
         "x": [
          7.3380842208862305
         ],
         "y": [
          6.0399346351623535
         ]
        },
        {
         "marker": {
          "color": "red"
         },
         "mode": "markers+text",
         "text": "resume_759",
         "textposition": "bottom center",
         "type": "scatter",
         "x": [
          -44.333248138427734
         ],
         "y": [
          10.30325984954834
         ]
        },
        {
         "marker": {
          "color": "red"
         },
         "mode": "markers+text",
         "text": "resume_760",
         "textposition": "bottom center",
         "type": "scatter",
         "x": [
          -4.42230224609375
         ],
         "y": [
          6.0119242668151855
         ]
        },
        {
         "marker": {
          "color": "red"
         },
         "mode": "markers+text",
         "text": "resume_761",
         "textposition": "bottom center",
         "type": "scatter",
         "x": [
          -14.530280113220215
         ],
         "y": [
          4.6591668128967285
         ]
        },
        {
         "marker": {
          "color": "red"
         },
         "mode": "markers+text",
         "text": "resume_762",
         "textposition": "bottom center",
         "type": "scatter",
         "x": [
          14.74330997467041
         ],
         "y": [
          -9.333537101745605
         ]
        },
        {
         "marker": {
          "color": "red"
         },
         "mode": "markers+text",
         "text": "resume_763",
         "textposition": "bottom center",
         "type": "scatter",
         "x": [
          8.033949851989746
         ],
         "y": [
          13.365947723388672
         ]
        },
        {
         "marker": {
          "color": "red"
         },
         "mode": "markers+text",
         "text": "resume_764",
         "textposition": "bottom center",
         "type": "scatter",
         "x": [
          3.4036238193511963
         ],
         "y": [
          14.39985179901123
         ]
        },
        {
         "marker": {
          "color": "red"
         },
         "mode": "markers+text",
         "text": "resume_765",
         "textposition": "bottom center",
         "type": "scatter",
         "x": [
          -17.285707473754883
         ],
         "y": [
          -2.6973228454589844
         ]
        },
        {
         "marker": {
          "color": "red"
         },
         "mode": "markers+text",
         "text": "resume_766",
         "textposition": "bottom center",
         "type": "scatter",
         "x": [
          25.359739303588867
         ],
         "y": [
          -18.334144592285156
         ]
        },
        {
         "marker": {
          "color": "red"
         },
         "mode": "markers+text",
         "text": "resume_767",
         "textposition": "bottom center",
         "type": "scatter",
         "x": [
          -32.959712982177734
         ],
         "y": [
          9.128410339355469
         ]
        },
        {
         "marker": {
          "color": "red"
         },
         "mode": "markers+text",
         "text": "resume_768",
         "textposition": "bottom center",
         "type": "scatter",
         "x": [
          21.265220642089844
         ],
         "y": [
          -14.3346586227417
         ]
        },
        {
         "marker": {
          "color": "red"
         },
         "mode": "markers+text",
         "text": "resume_769",
         "textposition": "bottom center",
         "type": "scatter",
         "x": [
          -46.33127975463867
         ],
         "y": [
          10.031371116638184
         ]
        },
        {
         "marker": {
          "color": "red"
         },
         "mode": "markers+text",
         "text": "resume_770",
         "textposition": "bottom center",
         "type": "scatter",
         "x": [
          -27.151206970214844
         ],
         "y": [
          5.400880336761475
         ]
        },
        {
         "marker": {
          "color": "red"
         },
         "mode": "markers+text",
         "text": "resume_771",
         "textposition": "bottom center",
         "type": "scatter",
         "x": [
          15.634378433227539
         ],
         "y": [
          1.8075624704360962
         ]
        },
        {
         "marker": {
          "color": "red"
         },
         "mode": "markers+text",
         "text": "resume_772",
         "textposition": "bottom center",
         "type": "scatter",
         "x": [
          17.77742576599121
         ],
         "y": [
          0.8335766792297363
         ]
        },
        {
         "marker": {
          "color": "red"
         },
         "mode": "markers+text",
         "text": "resume_773",
         "textposition": "bottom center",
         "type": "scatter",
         "x": [
          12.313544273376465
         ],
         "y": [
          -8.067350387573242
         ]
        },
        {
         "marker": {
          "color": "red"
         },
         "mode": "markers+text",
         "text": "resume_774",
         "textposition": "bottom center",
         "type": "scatter",
         "x": [
          -0.4790887236595154
         ],
         "y": [
          -3.264364242553711
         ]
        },
        {
         "marker": {
          "color": "red"
         },
         "mode": "markers+text",
         "text": "resume_775",
         "textposition": "bottom center",
         "type": "scatter",
         "x": [
          -12.683631896972656
         ],
         "y": [
          -0.693249523639679
         ]
        },
        {
         "marker": {
          "color": "red"
         },
         "mode": "markers+text",
         "text": "resume_776",
         "textposition": "bottom center",
         "type": "scatter",
         "x": [
          20.998167037963867
         ],
         "y": [
          9.673360824584961
         ]
        },
        {
         "marker": {
          "color": "red"
         },
         "mode": "markers+text",
         "text": "resume_777",
         "textposition": "bottom center",
         "type": "scatter",
         "x": [
          -29.368127822875977
         ],
         "y": [
          9.437667846679688
         ]
        },
        {
         "marker": {
          "color": "red"
         },
         "mode": "markers+text",
         "text": "resume_778",
         "textposition": "bottom center",
         "type": "scatter",
         "x": [
          21.749080657958984
         ],
         "y": [
          2.1562209129333496
         ]
        },
        {
         "marker": {
          "color": "red"
         },
         "mode": "markers+text",
         "text": "resume_779",
         "textposition": "bottom center",
         "type": "scatter",
         "x": [
          -48.439456939697266
         ],
         "y": [
          10.21614933013916
         ]
        },
        {
         "marker": {
          "color": "red"
         },
         "mode": "markers+text",
         "text": "resume_780",
         "textposition": "bottom center",
         "type": "scatter",
         "x": [
          -1.9957348108291626
         ],
         "y": [
          7.5282511711120605
         ]
        },
        {
         "marker": {
          "color": "red"
         },
         "mode": "markers+text",
         "text": "resume_781",
         "textposition": "bottom center",
         "type": "scatter",
         "x": [
          10.52949047088623
         ],
         "y": [
          -4.295412540435791
         ]
        },
        {
         "marker": {
          "color": "red"
         },
         "mode": "markers+text",
         "text": "resume_782",
         "textposition": "bottom center",
         "type": "scatter",
         "x": [
          18.914674758911133
         ],
         "y": [
          -17.076709747314453
         ]
        },
        {
         "marker": {
          "color": "red"
         },
         "mode": "markers+text",
         "text": "resume_783",
         "textposition": "bottom center",
         "type": "scatter",
         "x": [
          -32.122581481933594
         ],
         "y": [
          7.39054536819458
         ]
        },
        {
         "marker": {
          "color": "red"
         },
         "mode": "markers+text",
         "text": "resume_784",
         "textposition": "bottom center",
         "type": "scatter",
         "x": [
          -13.88580322265625
         ],
         "y": [
          4.830560684204102
         ]
        },
        {
         "marker": {
          "color": "red"
         },
         "mode": "markers+text",
         "text": "resume_785",
         "textposition": "bottom center",
         "type": "scatter",
         "x": [
          -3.27325177192688
         ],
         "y": [
          13.28700065612793
         ]
        },
        {
         "marker": {
          "color": "red"
         },
         "mode": "markers+text",
         "text": "resume_786",
         "textposition": "bottom center",
         "type": "scatter",
         "x": [
          30.8779239654541
         ],
         "y": [
          -6.248220443725586
         ]
        },
        {
         "marker": {
          "color": "red"
         },
         "mode": "markers+text",
         "text": "resume_787",
         "textposition": "bottom center",
         "type": "scatter",
         "x": [
          29.218456268310547
         ],
         "y": [
          -8.629117012023926
         ]
        },
        {
         "marker": {
          "color": "red"
         },
         "mode": "markers+text",
         "text": "resume_788",
         "textposition": "bottom center",
         "type": "scatter",
         "x": [
          -16.29786491394043
         ],
         "y": [
          7.755829334259033
         ]
        },
        {
         "marker": {
          "color": "red"
         },
         "mode": "markers+text",
         "text": "resume_789",
         "textposition": "bottom center",
         "type": "scatter",
         "x": [
          7.46586275100708
         ],
         "y": [
          -3.4132297039031982
         ]
        },
        {
         "marker": {
          "color": "red"
         },
         "mode": "markers+text",
         "text": "resume_790",
         "textposition": "bottom center",
         "type": "scatter",
         "x": [
          7.698014736175537
         ],
         "y": [
          -21.470569610595703
         ]
        },
        {
         "marker": {
          "color": "red"
         },
         "mode": "markers+text",
         "text": "resume_791",
         "textposition": "bottom center",
         "type": "scatter",
         "x": [
          -15.290708541870117
         ],
         "y": [
          -5.3063859939575195
         ]
        },
        {
         "marker": {
          "color": "red"
         },
         "mode": "markers+text",
         "text": "resume_792",
         "textposition": "bottom center",
         "type": "scatter",
         "x": [
          -3.262521266937256
         ],
         "y": [
          3.1611545085906982
         ]
        },
        {
         "marker": {
          "color": "red"
         },
         "mode": "markers+text",
         "text": "resume_793",
         "textposition": "bottom center",
         "type": "scatter",
         "x": [
          -5.306672096252441
         ],
         "y": [
          -10.266581535339355
         ]
        },
        {
         "marker": {
          "color": "red"
         },
         "mode": "markers+text",
         "text": "resume_794",
         "textposition": "bottom center",
         "type": "scatter",
         "x": [
          -45.40135955810547
         ],
         "y": [
          7.747175693511963
         ]
        },
        {
         "marker": {
          "color": "red"
         },
         "mode": "markers+text",
         "text": "resume_795",
         "textposition": "bottom center",
         "type": "scatter",
         "x": [
          0.688999593257904
         ],
         "y": [
          -1.5953630208969116
         ]
        },
        {
         "marker": {
          "color": "red"
         },
         "mode": "markers+text",
         "text": "resume_796",
         "textposition": "bottom center",
         "type": "scatter",
         "x": [
          3.4507992267608643
         ],
         "y": [
          4.817824840545654
         ]
        },
        {
         "marker": {
          "color": "red"
         },
         "mode": "markers+text",
         "text": "resume_797",
         "textposition": "bottom center",
         "type": "scatter",
         "x": [
          22.19652557373047
         ],
         "y": [
          2.424494743347168
         ]
        },
        {
         "marker": {
          "color": "red"
         },
         "mode": "markers+text",
         "text": "resume_798",
         "textposition": "bottom center",
         "type": "scatter",
         "x": [
          -46.988895416259766
         ],
         "y": [
          6.874942779541016
         ]
        },
        {
         "marker": {
          "color": "red"
         },
         "mode": "markers+text",
         "text": "resume_799",
         "textposition": "bottom center",
         "type": "scatter",
         "x": [
          4.82684326171875
         ],
         "y": [
          -15.11331844329834
         ]
        },
        {
         "marker": {
          "color": "red"
         },
         "mode": "markers+text",
         "text": "resume_800",
         "textposition": "bottom center",
         "type": "scatter",
         "x": [
          12.700072288513184
         ],
         "y": [
          -19.263925552368164
         ]
        },
        {
         "marker": {
          "color": "red"
         },
         "mode": "markers+text",
         "text": "resume_801",
         "textposition": "bottom center",
         "type": "scatter",
         "x": [
          11.986146926879883
         ],
         "y": [
          -7.842722415924072
         ]
        },
        {
         "marker": {
          "color": "red"
         },
         "mode": "markers+text",
         "text": "resume_802",
         "textposition": "bottom center",
         "type": "scatter",
         "x": [
          15.359593391418457
         ],
         "y": [
          -16.018917083740234
         ]
        },
        {
         "marker": {
          "color": "red"
         },
         "mode": "markers+text",
         "text": "resume_803",
         "textposition": "bottom center",
         "type": "scatter",
         "x": [
          10.105338096618652
         ],
         "y": [
          0.5987362861633301
         ]
        },
        {
         "marker": {
          "color": "red"
         },
         "mode": "markers+text",
         "text": "resume_804",
         "textposition": "bottom center",
         "type": "scatter",
         "x": [
          -0.21728838980197906
         ],
         "y": [
          -7.845046043395996
         ]
        },
        {
         "marker": {
          "color": "red"
         },
         "mode": "markers+text",
         "text": "resume_805",
         "textposition": "bottom center",
         "type": "scatter",
         "x": [
          -20.5194034576416
         ],
         "y": [
          4.957952499389648
         ]
        },
        {
         "marker": {
          "color": "red"
         },
         "mode": "markers+text",
         "text": "resume_806",
         "textposition": "bottom center",
         "type": "scatter",
         "x": [
          18.21019172668457
         ],
         "y": [
          1.1110800504684448
         ]
        },
        {
         "marker": {
          "color": "red"
         },
         "mode": "markers+text",
         "text": "resume_807",
         "textposition": "bottom center",
         "type": "scatter",
         "x": [
          -47.55611801147461
         ],
         "y": [
          15.898710250854492
         ]
        },
        {
         "marker": {
          "color": "red"
         },
         "mode": "markers+text",
         "text": "resume_808",
         "textposition": "bottom center",
         "type": "scatter",
         "x": [
          22.270061492919922
         ],
         "y": [
          2.0996041297912598
         ]
        },
        {
         "marker": {
          "color": "red"
         },
         "mode": "markers+text",
         "text": "resume_809",
         "textposition": "bottom center",
         "type": "scatter",
         "x": [
          16.683032989501953
         ],
         "y": [
          -5.044693946838379
         ]
        },
        {
         "marker": {
          "color": "red"
         },
         "mode": "markers+text",
         "text": "resume_810",
         "textposition": "bottom center",
         "type": "scatter",
         "x": [
          11.899809837341309
         ],
         "y": [
          7.0615692138671875
         ]
        },
        {
         "marker": {
          "color": "red"
         },
         "mode": "markers+text",
         "text": "resume_811",
         "textposition": "bottom center",
         "type": "scatter",
         "x": [
          -13.403499603271484
         ],
         "y": [
          1.5487791299819946
         ]
        },
        {
         "marker": {
          "color": "red"
         },
         "mode": "markers+text",
         "text": "resume_812",
         "textposition": "bottom center",
         "type": "scatter",
         "x": [
          -51.90811538696289
         ],
         "y": [
          5.772625923156738
         ]
        },
        {
         "marker": {
          "color": "red"
         },
         "mode": "markers+text",
         "text": "resume_813",
         "textposition": "bottom center",
         "type": "scatter",
         "x": [
          -3.498642683029175
         ],
         "y": [
          -2.952954053878784
         ]
        },
        {
         "marker": {
          "color": "red"
         },
         "mode": "markers+text",
         "text": "resume_814",
         "textposition": "bottom center",
         "type": "scatter",
         "x": [
          7.0973358154296875
         ],
         "y": [
          -5.780646800994873
         ]
        },
        {
         "marker": {
          "color": "red"
         },
         "mode": "markers+text",
         "text": "resume_815",
         "textposition": "bottom center",
         "type": "scatter",
         "x": [
          -49.61729431152344
         ],
         "y": [
          7.365917205810547
         ]
        },
        {
         "marker": {
          "color": "red"
         },
         "mode": "markers+text",
         "text": "resume_816",
         "textposition": "bottom center",
         "type": "scatter",
         "x": [
          -20.845748901367188
         ],
         "y": [
          0.10462461411952972
         ]
        },
        {
         "marker": {
          "color": "red"
         },
         "mode": "markers+text",
         "text": "resume_817",
         "textposition": "bottom center",
         "type": "scatter",
         "x": [
          17.990629196166992
         ],
         "y": [
          -10.52879810333252
         ]
        },
        {
         "marker": {
          "color": "red"
         },
         "mode": "markers+text",
         "text": "resume_818",
         "textposition": "bottom center",
         "type": "scatter",
         "x": [
          6.821181774139404
         ],
         "y": [
          3.9563989639282227
         ]
        },
        {
         "marker": {
          "color": "red"
         },
         "mode": "markers+text",
         "text": "resume_819",
         "textposition": "bottom center",
         "type": "scatter",
         "x": [
          -16.634357452392578
         ],
         "y": [
          1.3772878646850586
         ]
        },
        {
         "marker": {
          "color": "red"
         },
         "mode": "markers+text",
         "text": "resume_820",
         "textposition": "bottom center",
         "type": "scatter",
         "x": [
          19.844621658325195
         ],
         "y": [
          2.804049491882324
         ]
        },
        {
         "marker": {
          "color": "red"
         },
         "mode": "markers+text",
         "text": "resume_821",
         "textposition": "bottom center",
         "type": "scatter",
         "x": [
          14.479888916015625
         ],
         "y": [
          2.1008553504943848
         ]
        },
        {
         "marker": {
          "color": "red"
         },
         "mode": "markers+text",
         "text": "resume_822",
         "textposition": "bottom center",
         "type": "scatter",
         "x": [
          4.184340476989746
         ],
         "y": [
          4.344588756561279
         ]
        },
        {
         "marker": {
          "color": "red"
         },
         "mode": "markers+text",
         "text": "resume_823",
         "textposition": "bottom center",
         "type": "scatter",
         "x": [
          21.679141998291016
         ],
         "y": [
          -13.900735855102539
         ]
        },
        {
         "marker": {
          "color": "red"
         },
         "mode": "markers+text",
         "text": "resume_824",
         "textposition": "bottom center",
         "type": "scatter",
         "x": [
          3.4725759029388428
         ],
         "y": [
          -17.918270111083984
         ]
        },
        {
         "marker": {
          "color": "red"
         },
         "mode": "markers+text",
         "text": "resume_825",
         "textposition": "bottom center",
         "type": "scatter",
         "x": [
          -2.1687119007110596
         ],
         "y": [
          -10.0103120803833
         ]
        },
        {
         "marker": {
          "color": "red"
         },
         "mode": "markers+text",
         "text": "resume_826",
         "textposition": "bottom center",
         "type": "scatter",
         "x": [
          -7.351564884185791
         ],
         "y": [
          8.517120361328125
         ]
        },
        {
         "marker": {
          "color": "red"
         },
         "mode": "markers+text",
         "text": "resume_827",
         "textposition": "bottom center",
         "type": "scatter",
         "x": [
          -0.8574098944664001
         ],
         "y": [
          -15.268644332885742
         ]
        },
        {
         "marker": {
          "color": "red"
         },
         "mode": "markers+text",
         "text": "resume_828",
         "textposition": "bottom center",
         "type": "scatter",
         "x": [
          18.95465087890625
         ],
         "y": [
          -13.459747314453125
         ]
        },
        {
         "marker": {
          "color": "red"
         },
         "mode": "markers+text",
         "text": "resume_829",
         "textposition": "bottom center",
         "type": "scatter",
         "x": [
          7.564265727996826
         ],
         "y": [
          17.21321678161621
         ]
        },
        {
         "marker": {
          "color": "red"
         },
         "mode": "markers+text",
         "text": "resume_830",
         "textposition": "bottom center",
         "type": "scatter",
         "x": [
          0.7040594816207886
         ],
         "y": [
          -2.0294060707092285
         ]
        },
        {
         "marker": {
          "color": "red"
         },
         "mode": "markers+text",
         "text": "resume_831",
         "textposition": "bottom center",
         "type": "scatter",
         "x": [
          -15.877596855163574
         ],
         "y": [
          8.276286125183105
         ]
        },
        {
         "marker": {
          "color": "red"
         },
         "mode": "markers+text",
         "text": "resume_832",
         "textposition": "bottom center",
         "type": "scatter",
         "x": [
          -29.8187198638916
         ],
         "y": [
          9.896736145019531
         ]
        },
        {
         "marker": {
          "color": "red"
         },
         "mode": "markers+text",
         "text": "resume_833",
         "textposition": "bottom center",
         "type": "scatter",
         "x": [
          15.365976333618164
         ],
         "y": [
          -1.5911390781402588
         ]
        },
        {
         "marker": {
          "color": "red"
         },
         "mode": "markers+text",
         "text": "resume_834",
         "textposition": "bottom center",
         "type": "scatter",
         "x": [
          29.319549560546875
         ],
         "y": [
          -18.359102249145508
         ]
        },
        {
         "marker": {
          "color": "red"
         },
         "mode": "markers+text",
         "text": "resume_835",
         "textposition": "bottom center",
         "type": "scatter",
         "x": [
          7.570592880249023
         ],
         "y": [
          4.519840717315674
         ]
        },
        {
         "marker": {
          "color": "red"
         },
         "mode": "markers+text",
         "text": "resume_836",
         "textposition": "bottom center",
         "type": "scatter",
         "x": [
          -14.277721405029297
         ],
         "y": [
          -1.5204870700836182
         ]
        },
        {
         "marker": {
          "color": "red"
         },
         "mode": "markers+text",
         "text": "resume_837",
         "textposition": "bottom center",
         "type": "scatter",
         "x": [
          -22.698930740356445
         ],
         "y": [
          2.679777145385742
         ]
        },
        {
         "marker": {
          "color": "red"
         },
         "mode": "markers+text",
         "text": "resume_838",
         "textposition": "bottom center",
         "type": "scatter",
         "x": [
          2.7321770191192627
         ],
         "y": [
          -7.8948493003845215
         ]
        },
        {
         "marker": {
          "color": "red"
         },
         "mode": "markers+text",
         "text": "resume_839",
         "textposition": "bottom center",
         "type": "scatter",
         "x": [
          16.850902557373047
         ],
         "y": [
          -5.889564514160156
         ]
        },
        {
         "marker": {
          "color": "red"
         },
         "mode": "markers+text",
         "text": "resume_840",
         "textposition": "bottom center",
         "type": "scatter",
         "x": [
          5.951676845550537
         ],
         "y": [
          1.528265357017517
         ]
        },
        {
         "marker": {
          "color": "red"
         },
         "mode": "markers+text",
         "text": "resume_841",
         "textposition": "bottom center",
         "type": "scatter",
         "x": [
          -44.386783599853516
         ],
         "y": [
          13.055632591247559
         ]
        },
        {
         "marker": {
          "color": "red"
         },
         "mode": "markers+text",
         "text": "resume_842",
         "textposition": "bottom center",
         "type": "scatter",
         "x": [
          17.853811264038086
         ],
         "y": [
          2.342477798461914
         ]
        },
        {
         "marker": {
          "color": "red"
         },
         "mode": "markers+text",
         "text": "resume_843",
         "textposition": "bottom center",
         "type": "scatter",
         "x": [
          29.051136016845703
         ],
         "y": [
          -5.927367687225342
         ]
        },
        {
         "marker": {
          "color": "red"
         },
         "mode": "markers+text",
         "text": "resume_844",
         "textposition": "bottom center",
         "type": "scatter",
         "x": [
          28.0450382232666
         ],
         "y": [
          -20.15239143371582
         ]
        },
        {
         "marker": {
          "color": "red"
         },
         "mode": "markers+text",
         "text": "resume_845",
         "textposition": "bottom center",
         "type": "scatter",
         "x": [
          28.237520217895508
         ],
         "y": [
          -13.434232711791992
         ]
        },
        {
         "marker": {
          "color": "red"
         },
         "mode": "markers+text",
         "text": "resume_846",
         "textposition": "bottom center",
         "type": "scatter",
         "x": [
          1.3544138669967651
         ],
         "y": [
          7.215257167816162
         ]
        },
        {
         "marker": {
          "color": "red"
         },
         "mode": "markers+text",
         "text": "resume_847",
         "textposition": "bottom center",
         "type": "scatter",
         "x": [
          -28.469463348388672
         ],
         "y": [
          10.314083099365234
         ]
        },
        {
         "marker": {
          "color": "red"
         },
         "mode": "markers+text",
         "text": "resume_848",
         "textposition": "bottom center",
         "type": "scatter",
         "x": [
          31.089893341064453
         ],
         "y": [
          1.1287800073623657
         ]
        },
        {
         "marker": {
          "color": "red"
         },
         "mode": "markers+text",
         "text": "resume_849",
         "textposition": "bottom center",
         "type": "scatter",
         "x": [
          -49.87690734863281
         ],
         "y": [
          15.653318405151367
         ]
        },
        {
         "marker": {
          "color": "red"
         },
         "mode": "markers+text",
         "text": "resume_850",
         "textposition": "bottom center",
         "type": "scatter",
         "x": [
          30.127653121948242
         ],
         "y": [
          1.1477364301681519
         ]
        },
        {
         "marker": {
          "color": "red"
         },
         "mode": "markers+text",
         "text": "resume_851",
         "textposition": "bottom center",
         "type": "scatter",
         "x": [
          2.5026166439056396
         ],
         "y": [
          6.490293979644775
         ]
        },
        {
         "marker": {
          "color": "red"
         },
         "mode": "markers+text",
         "text": "resume_852",
         "textposition": "bottom center",
         "type": "scatter",
         "x": [
          -52.7750244140625
         ],
         "y": [
          9.294913291931152
         ]
        },
        {
         "marker": {
          "color": "red"
         },
         "mode": "markers+text",
         "text": "resume_853",
         "textposition": "bottom center",
         "type": "scatter",
         "x": [
          3.725233316421509
         ],
         "y": [
          -4.490203380584717
         ]
        },
        {
         "marker": {
          "color": "red"
         },
         "mode": "markers+text",
         "text": "resume_854",
         "textposition": "bottom center",
         "type": "scatter",
         "x": [
          16.78590965270996
         ],
         "y": [
          -16.488601684570312
         ]
        },
        {
         "marker": {
          "color": "red"
         },
         "mode": "markers+text",
         "text": "resume_855",
         "textposition": "bottom center",
         "type": "scatter",
         "x": [
          5.966902256011963
         ],
         "y": [
          -5.400539398193359
         ]
        },
        {
         "marker": {
          "color": "red"
         },
         "mode": "markers+text",
         "text": "resume_856",
         "textposition": "bottom center",
         "type": "scatter",
         "x": [
          14.31753158569336
         ],
         "y": [
          6.485192775726318
         ]
        },
        {
         "marker": {
          "color": "red"
         },
         "mode": "markers+text",
         "text": "resume_857",
         "textposition": "bottom center",
         "type": "scatter",
         "x": [
          19.48741340637207
         ],
         "y": [
          -14.993803024291992
         ]
        },
        {
         "marker": {
          "color": "red"
         },
         "mode": "markers+text",
         "text": "resume_858",
         "textposition": "bottom center",
         "type": "scatter",
         "x": [
          15.20188045501709
         ],
         "y": [
          12.259419441223145
         ]
        },
        {
         "marker": {
          "color": "red"
         },
         "mode": "markers+text",
         "text": "resume_859",
         "textposition": "bottom center",
         "type": "scatter",
         "x": [
          -28.210296630859375
         ],
         "y": [
          5.277693748474121
         ]
        },
        {
         "marker": {
          "color": "red"
         },
         "mode": "markers+text",
         "text": "resume_860",
         "textposition": "bottom center",
         "type": "scatter",
         "x": [
          30.370250701904297
         ],
         "y": [
          -16.364126205444336
         ]
        },
        {
         "marker": {
          "color": "red"
         },
         "mode": "markers+text",
         "text": "resume_861",
         "textposition": "bottom center",
         "type": "scatter",
         "x": [
          -17.17098617553711
         ],
         "y": [
          2.4695041179656982
         ]
        },
        {
         "marker": {
          "color": "red"
         },
         "mode": "markers+text",
         "text": "resume_862",
         "textposition": "bottom center",
         "type": "scatter",
         "x": [
          7.170670032501221
         ],
         "y": [
          0.9816716909408569
         ]
        },
        {
         "marker": {
          "color": "red"
         },
         "mode": "markers+text",
         "text": "resume_863",
         "textposition": "bottom center",
         "type": "scatter",
         "x": [
          -6.207181453704834
         ],
         "y": [
          -5.5907979011535645
         ]
        },
        {
         "marker": {
          "color": "red"
         },
         "mode": "markers+text",
         "text": "resume_864",
         "textposition": "bottom center",
         "type": "scatter",
         "x": [
          13.699712753295898
         ],
         "y": [
          0.6297463774681091
         ]
        },
        {
         "marker": {
          "color": "red"
         },
         "mode": "markers+text",
         "text": "resume_865",
         "textposition": "bottom center",
         "type": "scatter",
         "x": [
          13.682857513427734
         ],
         "y": [
          -1.7622451782226562
         ]
        },
        {
         "marker": {
          "color": "red"
         },
         "mode": "markers+text",
         "text": "resume_866",
         "textposition": "bottom center",
         "type": "scatter",
         "x": [
          -49.320125579833984
         ],
         "y": [
          13.33900260925293
         ]
        },
        {
         "marker": {
          "color": "red"
         },
         "mode": "markers+text",
         "text": "resume_867",
         "textposition": "bottom center",
         "type": "scatter",
         "x": [
          -5.605977535247803
         ],
         "y": [
          8.81315803527832
         ]
        },
        {
         "marker": {
          "color": "red"
         },
         "mode": "markers+text",
         "text": "resume_868",
         "textposition": "bottom center",
         "type": "scatter",
         "x": [
          11.57425594329834
         ],
         "y": [
          14.827696800231934
         ]
        },
        {
         "marker": {
          "color": "red"
         },
         "mode": "markers+text",
         "text": "resume_869",
         "textposition": "bottom center",
         "type": "scatter",
         "x": [
          21.906145095825195
         ],
         "y": [
          -3.7229888439178467
         ]
        },
        {
         "marker": {
          "color": "red"
         },
         "mode": "markers+text",
         "text": "resume_870",
         "textposition": "bottom center",
         "type": "scatter",
         "x": [
          -48.894813537597656
         ],
         "y": [
          12.145804405212402
         ]
        },
        {
         "marker": {
          "color": "red"
         },
         "mode": "markers+text",
         "text": "resume_871",
         "textposition": "bottom center",
         "type": "scatter",
         "x": [
          -31.20351791381836
         ],
         "y": [
          7.799957275390625
         ]
        },
        {
         "marker": {
          "color": "red"
         },
         "mode": "markers+text",
         "text": "resume_872",
         "textposition": "bottom center",
         "type": "scatter",
         "x": [
          -16.654926300048828
         ],
         "y": [
          2.875127077102661
         ]
        },
        {
         "marker": {
          "color": "red"
         },
         "mode": "markers+text",
         "text": "resume_873",
         "textposition": "bottom center",
         "type": "scatter",
         "x": [
          24.113155364990234
         ],
         "y": [
          -15.691973686218262
         ]
        },
        {
         "marker": {
          "color": "red"
         },
         "mode": "markers+text",
         "text": "resume_874",
         "textposition": "bottom center",
         "type": "scatter",
         "x": [
          -12.153909683227539
         ],
         "y": [
          -0.9686300158500671
         ]
        },
        {
         "marker": {
          "color": "red"
         },
         "mode": "markers+text",
         "text": "resume_875",
         "textposition": "bottom center",
         "type": "scatter",
         "x": [
          18.02761459350586
         ],
         "y": [
          -20.874177932739258
         ]
        },
        {
         "marker": {
          "color": "red"
         },
         "mode": "markers+text",
         "text": "resume_876",
         "textposition": "bottom center",
         "type": "scatter",
         "x": [
          -22.994234085083008
         ],
         "y": [
          5.180718898773193
         ]
        },
        {
         "marker": {
          "color": "red"
         },
         "mode": "markers+text",
         "text": "resume_877",
         "textposition": "bottom center",
         "type": "scatter",
         "x": [
          3.0142548084259033
         ],
         "y": [
          -7.400745391845703
         ]
        },
        {
         "marker": {
          "color": "red"
         },
         "mode": "markers+text",
         "text": "resume_878",
         "textposition": "bottom center",
         "type": "scatter",
         "x": [
          -2.5695064067840576
         ],
         "y": [
          6.0456366539001465
         ]
        },
        {
         "marker": {
          "color": "red"
         },
         "mode": "markers+text",
         "text": "resume_879",
         "textposition": "bottom center",
         "type": "scatter",
         "x": [
          12.306544303894043
         ],
         "y": [
          8.650273323059082
         ]
        },
        {
         "marker": {
          "color": "red"
         },
         "mode": "markers+text",
         "text": "resume_880",
         "textposition": "bottom center",
         "type": "scatter",
         "x": [
          -1.3999911546707153
         ],
         "y": [
          5.000458240509033
         ]
        },
        {
         "marker": {
          "color": "red"
         },
         "mode": "markers+text",
         "text": "resume_881",
         "textposition": "bottom center",
         "type": "scatter",
         "x": [
          3.0279150009155273
         ],
         "y": [
          -1.118598222732544
         ]
        },
        {
         "marker": {
          "color": "red"
         },
         "mode": "markers+text",
         "text": "resume_882",
         "textposition": "bottom center",
         "type": "scatter",
         "x": [
          -51.63181686401367
         ],
         "y": [
          5.464207649230957
         ]
        },
        {
         "marker": {
          "color": "red"
         },
         "mode": "markers+text",
         "text": "resume_883",
         "textposition": "bottom center",
         "type": "scatter",
         "x": [
          0.40157678723335266
         ],
         "y": [
          1.5269402265548706
         ]
        },
        {
         "marker": {
          "color": "red"
         },
         "mode": "markers+text",
         "text": "resume_884",
         "textposition": "bottom center",
         "type": "scatter",
         "x": [
          17.596458435058594
         ],
         "y": [
          -15.558449745178223
         ]
        },
        {
         "marker": {
          "color": "red"
         },
         "mode": "markers+text",
         "text": "resume_885",
         "textposition": "bottom center",
         "type": "scatter",
         "x": [
          12.591034889221191
         ],
         "y": [
          -1.9529471397399902
         ]
        },
        {
         "marker": {
          "color": "red"
         },
         "mode": "markers+text",
         "text": "resume_886",
         "textposition": "bottom center",
         "type": "scatter",
         "x": [
          -24.09918212890625
         ],
         "y": [
          5.05774450302124
         ]
        },
        {
         "marker": {
          "color": "red"
         },
         "mode": "markers+text",
         "text": "resume_887",
         "textposition": "bottom center",
         "type": "scatter",
         "x": [
          -15.857420921325684
         ],
         "y": [
          -5.591677665710449
         ]
        },
        {
         "marker": {
          "color": "red"
         },
         "mode": "markers+text",
         "text": "resume_888",
         "textposition": "bottom center",
         "type": "scatter",
         "x": [
          1.463160753250122
         ],
         "y": [
          -5.24934196472168
         ]
        },
        {
         "marker": {
          "color": "red"
         },
         "mode": "markers+text",
         "text": "resume_889",
         "textposition": "bottom center",
         "type": "scatter",
         "x": [
          -1.9270272254943848
         ],
         "y": [
          0.669780969619751
         ]
        },
        {
         "marker": {
          "color": "red"
         },
         "mode": "markers+text",
         "text": "resume_890",
         "textposition": "bottom center",
         "type": "scatter",
         "x": [
          -16.70945930480957
         ],
         "y": [
          13.010761260986328
         ]
        },
        {
         "marker": {
          "color": "red"
         },
         "mode": "markers+text",
         "text": "resume_891",
         "textposition": "bottom center",
         "type": "scatter",
         "x": [
          27.2556209564209
         ],
         "y": [
          -4.490015506744385
         ]
        },
        {
         "marker": {
          "color": "red"
         },
         "mode": "markers+text",
         "text": "resume_892",
         "textposition": "bottom center",
         "type": "scatter",
         "x": [
          -3.5183980464935303
         ],
         "y": [
          0.3196493983268738
         ]
        },
        {
         "marker": {
          "color": "red"
         },
         "mode": "markers+text",
         "text": "resume_893",
         "textposition": "bottom center",
         "type": "scatter",
         "x": [
          0.8168480396270752
         ],
         "y": [
          -4.917938709259033
         ]
        },
        {
         "marker": {
          "color": "red"
         },
         "mode": "markers+text",
         "text": "resume_894",
         "textposition": "bottom center",
         "type": "scatter",
         "x": [
          9.512354850769043
         ],
         "y": [
          9.864490509033203
         ]
        },
        {
         "marker": {
          "color": "red"
         },
         "mode": "markers+text",
         "text": "resume_895",
         "textposition": "bottom center",
         "type": "scatter",
         "x": [
          -4.771539688110352
         ],
         "y": [
          0.32059940695762634
         ]
        },
        {
         "marker": {
          "color": "red"
         },
         "mode": "markers+text",
         "text": "resume_896",
         "textposition": "bottom center",
         "type": "scatter",
         "x": [
          23.385683059692383
         ],
         "y": [
          -16.679115295410156
         ]
        },
        {
         "marker": {
          "color": "red"
         },
         "mode": "markers+text",
         "text": "resume_897",
         "textposition": "bottom center",
         "type": "scatter",
         "x": [
          24.41161346435547
         ],
         "y": [
          -19.970712661743164
         ]
        },
        {
         "marker": {
          "color": "red"
         },
         "mode": "markers+text",
         "text": "resume_898",
         "textposition": "bottom center",
         "type": "scatter",
         "x": [
          -2.4162566661834717
         ],
         "y": [
          -8.602129936218262
         ]
        },
        {
         "marker": {
          "color": "red"
         },
         "mode": "markers+text",
         "text": "resume_899",
         "textposition": "bottom center",
         "type": "scatter",
         "x": [
          10.232723236083984
         ],
         "y": [
          -2.5548017024993896
         ]
        },
        {
         "marker": {
          "color": "red"
         },
         "mode": "markers+text",
         "text": "resume_900",
         "textposition": "bottom center",
         "type": "scatter",
         "x": [
          27.727684020996094
         ],
         "y": [
          -16.542593002319336
         ]
        },
        {
         "marker": {
          "color": "red"
         },
         "mode": "markers+text",
         "text": "resume_901",
         "textposition": "bottom center",
         "type": "scatter",
         "x": [
          25.26447868347168
         ],
         "y": [
          7.0231852531433105
         ]
        },
        {
         "marker": {
          "color": "red"
         },
         "mode": "markers+text",
         "text": "resume_902",
         "textposition": "bottom center",
         "type": "scatter",
         "x": [
          7.662208080291748
         ],
         "y": [
          -1.8404265642166138
         ]
        },
        {
         "marker": {
          "color": "red"
         },
         "mode": "markers+text",
         "text": "resume_903",
         "textposition": "bottom center",
         "type": "scatter",
         "x": [
          1.7271981239318848
         ],
         "y": [
          5.037049770355225
         ]
        },
        {
         "marker": {
          "color": "red"
         },
         "mode": "markers+text",
         "text": "resume_904",
         "textposition": "bottom center",
         "type": "scatter",
         "x": [
          30.978124618530273
         ],
         "y": [
          -7.642784595489502
         ]
        },
        {
         "marker": {
          "color": "red"
         },
         "mode": "markers+text",
         "text": "resume_905",
         "textposition": "bottom center",
         "type": "scatter",
         "x": [
          6.7836833000183105
         ],
         "y": [
          9.586602210998535
         ]
        },
        {
         "marker": {
          "color": "red"
         },
         "mode": "markers+text",
         "text": "resume_906",
         "textposition": "bottom center",
         "type": "scatter",
         "x": [
          -6.506357192993164
         ],
         "y": [
          7.509164810180664
         ]
        },
        {
         "marker": {
          "color": "red"
         },
         "mode": "markers+text",
         "text": "resume_907",
         "textposition": "bottom center",
         "type": "scatter",
         "x": [
          17.209125518798828
         ],
         "y": [
          -3.594388008117676
         ]
        },
        {
         "marker": {
          "color": "red"
         },
         "mode": "markers+text",
         "text": "resume_908",
         "textposition": "bottom center",
         "type": "scatter",
         "x": [
          20.28505516052246
         ],
         "y": [
          -9.253884315490723
         ]
        },
        {
         "marker": {
          "color": "red"
         },
         "mode": "markers+text",
         "text": "resume_909",
         "textposition": "bottom center",
         "type": "scatter",
         "x": [
          -12.787863731384277
         ],
         "y": [
          0.09144223481416702
         ]
        },
        {
         "marker": {
          "color": "red"
         },
         "mode": "markers+text",
         "text": "resume_910",
         "textposition": "bottom center",
         "type": "scatter",
         "x": [
          -2.585766315460205
         ],
         "y": [
          -5.47625207901001
         ]
        },
        {
         "marker": {
          "color": "red"
         },
         "mode": "markers+text",
         "text": "resume_911",
         "textposition": "bottom center",
         "type": "scatter",
         "x": [
          -2.2150721549987793
         ],
         "y": [
          -10.52464485168457
         ]
        },
        {
         "marker": {
          "color": "red"
         },
         "mode": "markers+text",
         "text": "resume_912",
         "textposition": "bottom center",
         "type": "scatter",
         "x": [
          5.524860858917236
         ],
         "y": [
          -0.8415774703025818
         ]
        },
        {
         "marker": {
          "color": "red"
         },
         "mode": "markers+text",
         "text": "resume_913",
         "textposition": "bottom center",
         "type": "scatter",
         "x": [
          -44.00078201293945
         ],
         "y": [
          5.182261943817139
         ]
        },
        {
         "marker": {
          "color": "red"
         },
         "mode": "markers+text",
         "text": "resume_914",
         "textposition": "bottom center",
         "type": "scatter",
         "x": [
          19.99026870727539
         ],
         "y": [
          -6.269193649291992
         ]
        },
        {
         "marker": {
          "color": "red"
         },
         "mode": "markers+text",
         "text": "resume_915",
         "textposition": "bottom center",
         "type": "scatter",
         "x": [
          4.804923057556152
         ],
         "y": [
          -9.947343826293945
         ]
        },
        {
         "marker": {
          "color": "red"
         },
         "mode": "markers+text",
         "text": "resume_916",
         "textposition": "bottom center",
         "type": "scatter",
         "x": [
          4.430992126464844
         ],
         "y": [
          -8.386392593383789
         ]
        },
        {
         "marker": {
          "color": "red"
         },
         "mode": "markers+text",
         "text": "resume_917",
         "textposition": "bottom center",
         "type": "scatter",
         "x": [
          22.73926544189453
         ],
         "y": [
          -2.684645652770996
         ]
        },
        {
         "marker": {
          "color": "red"
         },
         "mode": "markers+text",
         "text": "resume_918",
         "textposition": "bottom center",
         "type": "scatter",
         "x": [
          -0.5046107172966003
         ],
         "y": [
          1.363358974456787
         ]
        },
        {
         "marker": {
          "color": "red"
         },
         "mode": "markers+text",
         "text": "resume_919",
         "textposition": "bottom center",
         "type": "scatter",
         "x": [
          -9.084972381591797
         ],
         "y": [
          -4.772834777832031
         ]
        },
        {
         "marker": {
          "color": "red"
         },
         "mode": "markers+text",
         "text": "resume_920",
         "textposition": "bottom center",
         "type": "scatter",
         "x": [
          2.4727089405059814
         ],
         "y": [
          -6.0051398277282715
         ]
        },
        {
         "marker": {
          "color": "red"
         },
         "mode": "markers+text",
         "text": "resume_921",
         "textposition": "bottom center",
         "type": "scatter",
         "x": [
          9.063324928283691
         ],
         "y": [
          3.67704439163208
         ]
        },
        {
         "marker": {
          "color": "red"
         },
         "mode": "markers+text",
         "text": "resume_922",
         "textposition": "bottom center",
         "type": "scatter",
         "x": [
          -24.679889678955078
         ],
         "y": [
          1.982362985610962
         ]
        },
        {
         "marker": {
          "color": "red"
         },
         "mode": "markers+text",
         "text": "resume_923",
         "textposition": "bottom center",
         "type": "scatter",
         "x": [
          9.76033878326416
         ],
         "y": [
          7.496294021606445
         ]
        },
        {
         "marker": {
          "color": "red"
         },
         "mode": "markers+text",
         "text": "resume_924",
         "textposition": "bottom center",
         "type": "scatter",
         "x": [
          -54.52691650390625
         ],
         "y": [
          13.072070121765137
         ]
        },
        {
         "marker": {
          "color": "red"
         },
         "mode": "markers+text",
         "text": "resume_925",
         "textposition": "bottom center",
         "type": "scatter",
         "x": [
          16.136131286621094
         ],
         "y": [
          -16.51062774658203
         ]
        },
        {
         "marker": {
          "color": "red"
         },
         "mode": "markers+text",
         "text": "resume_926",
         "textposition": "bottom center",
         "type": "scatter",
         "x": [
          12.918386459350586
         ],
         "y": [
          -3.492288589477539
         ]
        },
        {
         "marker": {
          "color": "red"
         },
         "mode": "markers+text",
         "text": "resume_927",
         "textposition": "bottom center",
         "type": "scatter",
         "x": [
          -30.310802459716797
         ],
         "y": [
          8.753629684448242
         ]
        },
        {
         "marker": {
          "color": "red"
         },
         "mode": "markers+text",
         "text": "resume_928",
         "textposition": "bottom center",
         "type": "scatter",
         "x": [
          6.092531681060791
         ],
         "y": [
          3.452965259552002
         ]
        },
        {
         "marker": {
          "color": "red"
         },
         "mode": "markers+text",
         "text": "resume_929",
         "textposition": "bottom center",
         "type": "scatter",
         "x": [
          -15.854114532470703
         ],
         "y": [
          12.56929874420166
         ]
        },
        {
         "marker": {
          "color": "red"
         },
         "mode": "markers+text",
         "text": "resume_930",
         "textposition": "bottom center",
         "type": "scatter",
         "x": [
          14.247167587280273
         ],
         "y": [
          -7.790244102478027
         ]
        },
        {
         "marker": {
          "color": "red"
         },
         "mode": "markers+text",
         "text": "resume_931",
         "textposition": "bottom center",
         "type": "scatter",
         "x": [
          -46.9083137512207
         ],
         "y": [
          11.582138061523438
         ]
        },
        {
         "marker": {
          "color": "red"
         },
         "mode": "markers+text",
         "text": "resume_932",
         "textposition": "bottom center",
         "type": "scatter",
         "x": [
          2.0544016361236572
         ],
         "y": [
          5.943438529968262
         ]
        },
        {
         "marker": {
          "color": "red"
         },
         "mode": "markers+text",
         "text": "resume_933",
         "textposition": "bottom center",
         "type": "scatter",
         "x": [
          8.508109092712402
         ],
         "y": [
          14.023892402648926
         ]
        },
        {
         "marker": {
          "color": "red"
         },
         "mode": "markers+text",
         "text": "resume_934",
         "textposition": "bottom center",
         "type": "scatter",
         "x": [
          10.64084529876709
         ],
         "y": [
          1.958361029624939
         ]
        },
        {
         "marker": {
          "color": "red"
         },
         "mode": "markers+text",
         "text": "resume_935",
         "textposition": "bottom center",
         "type": "scatter",
         "x": [
          21.33096694946289
         ],
         "y": [
          3.1209304332733154
         ]
        },
        {
         "marker": {
          "color": "red"
         },
         "mode": "markers+text",
         "text": "resume_936",
         "textposition": "bottom center",
         "type": "scatter",
         "x": [
          20.866268157958984
         ],
         "y": [
          2.3000261783599854
         ]
        },
        {
         "marker": {
          "color": "red"
         },
         "mode": "markers+text",
         "text": "resume_937",
         "textposition": "bottom center",
         "type": "scatter",
         "x": [
          9.100753784179688
         ],
         "y": [
          -0.5960593819618225
         ]
        },
        {
         "marker": {
          "color": "red"
         },
         "mode": "markers+text",
         "text": "resume_938",
         "textposition": "bottom center",
         "type": "scatter",
         "x": [
          -14.078627586364746
         ],
         "y": [
          -0.007089089136570692
         ]
        },
        {
         "marker": {
          "color": "red"
         },
         "mode": "markers+text",
         "text": "resume_939",
         "textposition": "bottom center",
         "type": "scatter",
         "x": [
          16.8205509185791
         ],
         "y": [
          12.270526885986328
         ]
        },
        {
         "marker": {
          "color": "red"
         },
         "mode": "markers+text",
         "text": "resume_940",
         "textposition": "bottom center",
         "type": "scatter",
         "x": [
          -12.351040840148926
         ],
         "y": [
          -0.9652981758117676
         ]
        },
        {
         "marker": {
          "color": "red"
         },
         "mode": "markers+text",
         "text": "resume_941",
         "textposition": "bottom center",
         "type": "scatter",
         "x": [
          -52.323577880859375
         ],
         "y": [
          10.180314064025879
         ]
        },
        {
         "marker": {
          "color": "red"
         },
         "mode": "markers+text",
         "text": "resume_942",
         "textposition": "bottom center",
         "type": "scatter",
         "x": [
          12.583015441894531
         ],
         "y": [
          -0.6204710602760315
         ]
        },
        {
         "marker": {
          "color": "red"
         },
         "mode": "markers+text",
         "text": "resume_943",
         "textposition": "bottom center",
         "type": "scatter",
         "x": [
          13.789058685302734
         ],
         "y": [
          -4.900643348693848
         ]
        },
        {
         "marker": {
          "color": "red"
         },
         "mode": "markers+text",
         "text": "resume_944",
         "textposition": "bottom center",
         "type": "scatter",
         "x": [
          -6.893307685852051
         ],
         "y": [
          9.357420921325684
         ]
        },
        {
         "marker": {
          "color": "red"
         },
         "mode": "markers+text",
         "text": "resume_945",
         "textposition": "bottom center",
         "type": "scatter",
         "x": [
          -30.3713436126709
         ],
         "y": [
          7.044147491455078
         ]
        },
        {
         "marker": {
          "color": "red"
         },
         "mode": "markers+text",
         "text": "resume_946",
         "textposition": "bottom center",
         "type": "scatter",
         "x": [
          9.987037658691406
         ],
         "y": [
          -10.872268676757812
         ]
        },
        {
         "marker": {
          "color": "red"
         },
         "mode": "markers+text",
         "text": "resume_947",
         "textposition": "bottom center",
         "type": "scatter",
         "x": [
          16.257965087890625
         ],
         "y": [
          -12.714076042175293
         ]
        },
        {
         "marker": {
          "color": "red"
         },
         "mode": "markers+text",
         "text": "resume_948",
         "textposition": "bottom center",
         "type": "scatter",
         "x": [
          -53.63530349731445
         ],
         "y": [
          14.042101860046387
         ]
        },
        {
         "marker": {
          "color": "red"
         },
         "mode": "markers+text",
         "text": "resume_949",
         "textposition": "bottom center",
         "type": "scatter",
         "x": [
          -54.148536682128906
         ],
         "y": [
          12.267389297485352
         ]
        },
        {
         "marker": {
          "color": "red"
         },
         "mode": "markers+text",
         "text": "resume_950",
         "textposition": "bottom center",
         "type": "scatter",
         "x": [
          -1.1861670017242432
         ],
         "y": [
          -6.051145553588867
         ]
        },
        {
         "marker": {
          "color": "red"
         },
         "mode": "markers+text",
         "text": "resume_951",
         "textposition": "bottom center",
         "type": "scatter",
         "x": [
          11.747111320495605
         ],
         "y": [
          -14.198478698730469
         ]
        },
        {
         "marker": {
          "color": "red"
         },
         "mode": "markers+text",
         "text": "resume_952",
         "textposition": "bottom center",
         "type": "scatter",
         "x": [
          24.27705955505371
         ],
         "y": [
          8.391985893249512
         ]
        },
        {
         "marker": {
          "color": "red"
         },
         "mode": "markers+text",
         "text": "resume_953",
         "textposition": "bottom center",
         "type": "scatter",
         "x": [
          15.252181053161621
         ],
         "y": [
          7.59928035736084
         ]
        },
        {
         "marker": {
          "color": "red"
         },
         "mode": "markers+text",
         "text": "resume_954",
         "textposition": "bottom center",
         "type": "scatter",
         "x": [
          -51.893829345703125
         ],
         "y": [
          13.351018905639648
         ]
        },
        {
         "marker": {
          "color": "red"
         },
         "mode": "markers+text",
         "text": "resume_955",
         "textposition": "bottom center",
         "type": "scatter",
         "x": [
          20.04779624938965
         ],
         "y": [
          1.4971195459365845
         ]
        },
        {
         "marker": {
          "color": "red"
         },
         "mode": "markers+text",
         "text": "resume_956",
         "textposition": "bottom center",
         "type": "scatter",
         "x": [
          10.437671661376953
         ],
         "y": [
          -6.1638383865356445
         ]
        },
        {
         "marker": {
          "color": "red"
         },
         "mode": "markers+text",
         "text": "resume_957",
         "textposition": "bottom center",
         "type": "scatter",
         "x": [
          -29.350481033325195
         ],
         "y": [
          8.816581726074219
         ]
        },
        {
         "marker": {
          "color": "red"
         },
         "mode": "markers+text",
         "text": "resume_958",
         "textposition": "bottom center",
         "type": "scatter",
         "x": [
          12.595953941345215
         ],
         "y": [
          -12.692957878112793
         ]
        },
        {
         "marker": {
          "color": "red"
         },
         "mode": "markers+text",
         "text": "resume_959",
         "textposition": "bottom center",
         "type": "scatter",
         "x": [
          -9.057539939880371
         ],
         "y": [
          1.2840732336044312
         ]
        },
        {
         "marker": {
          "color": "red"
         },
         "mode": "markers+text",
         "text": "resume_960",
         "textposition": "bottom center",
         "type": "scatter",
         "x": [
          18.74134635925293
         ],
         "y": [
          -6.287407875061035
         ]
        },
        {
         "marker": {
          "color": "red"
         },
         "mode": "markers+text",
         "text": "resume_961",
         "textposition": "bottom center",
         "type": "scatter",
         "x": [
          30.28724479675293
         ],
         "y": [
          -6.867308139801025
         ]
        },
        {
         "marker": {
          "color": "red"
         },
         "mode": "markers+text",
         "text": "resume_962",
         "textposition": "bottom center",
         "type": "scatter",
         "x": [
          -17.74083137512207
         ],
         "y": [
          7.05910587310791
         ]
        },
        {
         "marker": {
          "color": "red"
         },
         "mode": "markers+text",
         "text": "resume_963",
         "textposition": "bottom center",
         "type": "scatter",
         "x": [
          32.29474639892578
         ],
         "y": [
          -11.486824989318848
         ]
        },
        {
         "marker": {
          "color": "red"
         },
         "mode": "markers+text",
         "text": "resume_964",
         "textposition": "bottom center",
         "type": "scatter",
         "x": [
          19.693002700805664
         ],
         "y": [
          0.9488838315010071
         ]
        },
        {
         "marker": {
          "color": "red"
         },
         "mode": "markers+text",
         "text": "resume_965",
         "textposition": "bottom center",
         "type": "scatter",
         "x": [
          -14.898515701293945
         ],
         "y": [
          1.0023221969604492
         ]
        },
        {
         "marker": {
          "color": "red"
         },
         "mode": "markers+text",
         "text": "resume_966",
         "textposition": "bottom center",
         "type": "scatter",
         "x": [
          7.844143867492676
         ],
         "y": [
          7.603512763977051
         ]
        },
        {
         "marker": {
          "color": "red"
         },
         "mode": "markers+text",
         "text": "resume_967",
         "textposition": "bottom center",
         "type": "scatter",
         "x": [
          -2.4771478176116943
         ],
         "y": [
          -4.689940452575684
         ]
        },
        {
         "marker": {
          "color": "red"
         },
         "mode": "markers+text",
         "text": "resume_968",
         "textposition": "bottom center",
         "type": "scatter",
         "x": [
          -3.649279832839966
         ],
         "y": [
          -2.266803026199341
         ]
        },
        {
         "marker": {
          "color": "red"
         },
         "mode": "markers+text",
         "text": "resume_969",
         "textposition": "bottom center",
         "type": "scatter",
         "x": [
          -45.322818756103516
         ],
         "y": [
          13.349220275878906
         ]
        },
        {
         "marker": {
          "color": "red"
         },
         "mode": "markers+text",
         "text": "resume_970",
         "textposition": "bottom center",
         "type": "scatter",
         "x": [
          -50.979976654052734
         ],
         "y": [
          11.522198677062988
         ]
        },
        {
         "marker": {
          "color": "red"
         },
         "mode": "markers+text",
         "text": "resume_971",
         "textposition": "bottom center",
         "type": "scatter",
         "x": [
          -28.433374404907227
         ],
         "y": [
          7.607143878936768
         ]
        },
        {
         "marker": {
          "color": "red"
         },
         "mode": "markers+text",
         "text": "resume_972",
         "textposition": "bottom center",
         "type": "scatter",
         "x": [
          -18.7820987701416
         ],
         "y": [
          -0.30538275837898254
         ]
        },
        {
         "marker": {
          "color": "red"
         },
         "mode": "markers+text",
         "text": "resume_973",
         "textposition": "bottom center",
         "type": "scatter",
         "x": [
          15.321592330932617
         ],
         "y": [
          -6.936214923858643
         ]
        },
        {
         "marker": {
          "color": "red"
         },
         "mode": "markers+text",
         "text": "resume_974",
         "textposition": "bottom center",
         "type": "scatter",
         "x": [
          19.10532569885254
         ],
         "y": [
          -11.090133666992188
         ]
        },
        {
         "marker": {
          "color": "red"
         },
         "mode": "markers+text",
         "text": "resume_975",
         "textposition": "bottom center",
         "type": "scatter",
         "x": [
          -50.894012451171875
         ],
         "y": [
          13.981752395629883
         ]
        },
        {
         "marker": {
          "color": "red"
         },
         "mode": "markers+text",
         "text": "resume_976",
         "textposition": "bottom center",
         "type": "scatter",
         "x": [
          -20.91375160217285
         ],
         "y": [
          4.880890846252441
         ]
        },
        {
         "marker": {
          "color": "red"
         },
         "mode": "markers+text",
         "text": "resume_977",
         "textposition": "bottom center",
         "type": "scatter",
         "x": [
          21.417522430419922
         ],
         "y": [
          -8.12770938873291
         ]
        },
        {
         "marker": {
          "color": "red"
         },
         "mode": "markers+text",
         "text": "resume_978",
         "textposition": "bottom center",
         "type": "scatter",
         "x": [
          17.327972412109375
         ],
         "y": [
          -4.541149139404297
         ]
        },
        {
         "marker": {
          "color": "red"
         },
         "mode": "markers+text",
         "text": "resume_979",
         "textposition": "bottom center",
         "type": "scatter",
         "x": [
          2.747196674346924
         ],
         "y": [
          -0.7108434438705444
         ]
        },
        {
         "marker": {
          "color": "red"
         },
         "mode": "markers+text",
         "text": "resume_980",
         "textposition": "bottom center",
         "type": "scatter",
         "x": [
          13.071481704711914
         ],
         "y": [
          -1.5026253461837769
         ]
        },
        {
         "marker": {
          "color": "red"
         },
         "mode": "markers+text",
         "text": "resume_981",
         "textposition": "bottom center",
         "type": "scatter",
         "x": [
          5.74865198135376
         ],
         "y": [
          12.089728355407715
         ]
        },
        {
         "marker": {
          "color": "red"
         },
         "mode": "markers+text",
         "text": "resume_982",
         "textposition": "bottom center",
         "type": "scatter",
         "x": [
          9.727598190307617
         ],
         "y": [
          -4.779458045959473
         ]
        },
        {
         "marker": {
          "color": "red"
         },
         "mode": "markers+text",
         "text": "resume_983",
         "textposition": "bottom center",
         "type": "scatter",
         "x": [
          29.988862991333008
         ],
         "y": [
          0.787987470626831
         ]
        },
        {
         "marker": {
          "color": "red"
         },
         "mode": "markers+text",
         "text": "resume_984",
         "textposition": "bottom center",
         "type": "scatter",
         "x": [
          13.78030014038086
         ],
         "y": [
          -19.047990798950195
         ]
        },
        {
         "marker": {
          "color": "red"
         },
         "mode": "markers+text",
         "text": "resume_985",
         "textposition": "bottom center",
         "type": "scatter",
         "x": [
          20.280303955078125
         ],
         "y": [
          -9.414867401123047
         ]
        },
        {
         "marker": {
          "color": "red"
         },
         "mode": "markers+text",
         "text": "resume_986",
         "textposition": "bottom center",
         "type": "scatter",
         "x": [
          8.126151084899902
         ],
         "y": [
          6.154148101806641
         ]
        },
        {
         "marker": {
          "color": "red"
         },
         "mode": "markers+text",
         "text": "resume_987",
         "textposition": "bottom center",
         "type": "scatter",
         "x": [
          -2.5951826572418213
         ],
         "y": [
          7.701229572296143
         ]
        },
        {
         "marker": {
          "color": "red"
         },
         "mode": "markers+text",
         "text": "resume_988",
         "textposition": "bottom center",
         "type": "scatter",
         "x": [
          -18.925039291381836
         ],
         "y": [
          2.296623706817627
         ]
        },
        {
         "marker": {
          "color": "red"
         },
         "mode": "markers+text",
         "text": "resume_989",
         "textposition": "bottom center",
         "type": "scatter",
         "x": [
          12.170808792114258
         ],
         "y": [
          1.198089599609375
         ]
        },
        {
         "marker": {
          "color": "red"
         },
         "mode": "markers+text",
         "text": "resume_990",
         "textposition": "bottom center",
         "type": "scatter",
         "x": [
          -50.89373779296875
         ],
         "y": [
          13.981950759887695
         ]
        },
        {
         "marker": {
          "color": "red"
         },
         "mode": "markers+text",
         "text": "resume_991",
         "textposition": "bottom center",
         "type": "scatter",
         "x": [
          2.552028179168701
         ],
         "y": [
          9.049057960510254
         ]
        },
        {
         "marker": {
          "color": "red"
         },
         "mode": "markers+text",
         "text": "resume_992",
         "textposition": "bottom center",
         "type": "scatter",
         "x": [
          -19.235998153686523
         ],
         "y": [
          11.162893295288086
         ]
        },
        {
         "marker": {
          "color": "red"
         },
         "mode": "markers+text",
         "text": "resume_993",
         "textposition": "bottom center",
         "type": "scatter",
         "x": [
          -22.64040184020996
         ],
         "y": [
          6.3358869552612305
         ]
        },
        {
         "marker": {
          "color": "red"
         },
         "mode": "markers+text",
         "text": "resume_994",
         "textposition": "bottom center",
         "type": "scatter",
         "x": [
          -51.93058776855469
         ],
         "y": [
          5.775994300842285
         ]
        },
        {
         "marker": {
          "color": "red"
         },
         "mode": "markers+text",
         "text": "resume_995",
         "textposition": "bottom center",
         "type": "scatter",
         "x": [
          -49.68655014038086
         ],
         "y": [
          15.397772789001465
         ]
        },
        {
         "marker": {
          "color": "red"
         },
         "mode": "markers+text",
         "text": "resume_996",
         "textposition": "bottom center",
         "type": "scatter",
         "x": [
          -4.286639213562012
         ],
         "y": [
          -3.5381319522857666
         ]
        },
        {
         "marker": {
          "color": "red"
         },
         "mode": "markers+text",
         "text": "resume_997",
         "textposition": "bottom center",
         "type": "scatter",
         "x": [
          -30.305612564086914
         ],
         "y": [
          9.321280479431152
         ]
        },
        {
         "marker": {
          "color": "red"
         },
         "mode": "markers+text",
         "text": "resume_998",
         "textposition": "bottom center",
         "type": "scatter",
         "x": [
          10.170174598693848
         ],
         "y": [
          -0.8725110292434692
         ]
        },
        {
         "marker": {
          "color": "red"
         },
         "mode": "markers+text",
         "text": "resume_999",
         "textposition": "bottom center",
         "type": "scatter",
         "x": [
          -12.12004280090332
         ],
         "y": [
          -3.612358570098877
         ]
        }
       ],
       "layout": {
        "showlegend": false,
        "template": {
         "data": {
          "bar": [
           {
            "error_x": {
             "color": "#2a3f5f"
            },
            "error_y": {
             "color": "#2a3f5f"
            },
            "marker": {
             "line": {
              "color": "#E5ECF6",
              "width": 0.5
             },
             "pattern": {
              "fillmode": "overlay",
              "size": 10,
              "solidity": 0.2
             }
            },
            "type": "bar"
           }
          ],
          "barpolar": [
           {
            "marker": {
             "line": {
              "color": "#E5ECF6",
              "width": 0.5
             },
             "pattern": {
              "fillmode": "overlay",
              "size": 10,
              "solidity": 0.2
             }
            },
            "type": "barpolar"
           }
          ],
          "carpet": [
           {
            "aaxis": {
             "endlinecolor": "#2a3f5f",
             "gridcolor": "white",
             "linecolor": "white",
             "minorgridcolor": "white",
             "startlinecolor": "#2a3f5f"
            },
            "baxis": {
             "endlinecolor": "#2a3f5f",
             "gridcolor": "white",
             "linecolor": "white",
             "minorgridcolor": "white",
             "startlinecolor": "#2a3f5f"
            },
            "type": "carpet"
           }
          ],
          "choropleth": [
           {
            "colorbar": {
             "outlinewidth": 0,
             "ticks": ""
            },
            "type": "choropleth"
           }
          ],
          "contour": [
           {
            "colorbar": {
             "outlinewidth": 0,
             "ticks": ""
            },
            "colorscale": [
             [
              0,
              "#0d0887"
             ],
             [
              0.1111111111111111,
              "#46039f"
             ],
             [
              0.2222222222222222,
              "#7201a8"
             ],
             [
              0.3333333333333333,
              "#9c179e"
             ],
             [
              0.4444444444444444,
              "#bd3786"
             ],
             [
              0.5555555555555556,
              "#d8576b"
             ],
             [
              0.6666666666666666,
              "#ed7953"
             ],
             [
              0.7777777777777778,
              "#fb9f3a"
             ],
             [
              0.8888888888888888,
              "#fdca26"
             ],
             [
              1,
              "#f0f921"
             ]
            ],
            "type": "contour"
           }
          ],
          "contourcarpet": [
           {
            "colorbar": {
             "outlinewidth": 0,
             "ticks": ""
            },
            "type": "contourcarpet"
           }
          ],
          "heatmap": [
           {
            "colorbar": {
             "outlinewidth": 0,
             "ticks": ""
            },
            "colorscale": [
             [
              0,
              "#0d0887"
             ],
             [
              0.1111111111111111,
              "#46039f"
             ],
             [
              0.2222222222222222,
              "#7201a8"
             ],
             [
              0.3333333333333333,
              "#9c179e"
             ],
             [
              0.4444444444444444,
              "#bd3786"
             ],
             [
              0.5555555555555556,
              "#d8576b"
             ],
             [
              0.6666666666666666,
              "#ed7953"
             ],
             [
              0.7777777777777778,
              "#fb9f3a"
             ],
             [
              0.8888888888888888,
              "#fdca26"
             ],
             [
              1,
              "#f0f921"
             ]
            ],
            "type": "heatmap"
           }
          ],
          "heatmapgl": [
           {
            "colorbar": {
             "outlinewidth": 0,
             "ticks": ""
            },
            "colorscale": [
             [
              0,
              "#0d0887"
             ],
             [
              0.1111111111111111,
              "#46039f"
             ],
             [
              0.2222222222222222,
              "#7201a8"
             ],
             [
              0.3333333333333333,
              "#9c179e"
             ],
             [
              0.4444444444444444,
              "#bd3786"
             ],
             [
              0.5555555555555556,
              "#d8576b"
             ],
             [
              0.6666666666666666,
              "#ed7953"
             ],
             [
              0.7777777777777778,
              "#fb9f3a"
             ],
             [
              0.8888888888888888,
              "#fdca26"
             ],
             [
              1,
              "#f0f921"
             ]
            ],
            "type": "heatmapgl"
           }
          ],
          "histogram": [
           {
            "marker": {
             "pattern": {
              "fillmode": "overlay",
              "size": 10,
              "solidity": 0.2
             }
            },
            "type": "histogram"
           }
          ],
          "histogram2d": [
           {
            "colorbar": {
             "outlinewidth": 0,
             "ticks": ""
            },
            "colorscale": [
             [
              0,
              "#0d0887"
             ],
             [
              0.1111111111111111,
              "#46039f"
             ],
             [
              0.2222222222222222,
              "#7201a8"
             ],
             [
              0.3333333333333333,
              "#9c179e"
             ],
             [
              0.4444444444444444,
              "#bd3786"
             ],
             [
              0.5555555555555556,
              "#d8576b"
             ],
             [
              0.6666666666666666,
              "#ed7953"
             ],
             [
              0.7777777777777778,
              "#fb9f3a"
             ],
             [
              0.8888888888888888,
              "#fdca26"
             ],
             [
              1,
              "#f0f921"
             ]
            ],
            "type": "histogram2d"
           }
          ],
          "histogram2dcontour": [
           {
            "colorbar": {
             "outlinewidth": 0,
             "ticks": ""
            },
            "colorscale": [
             [
              0,
              "#0d0887"
             ],
             [
              0.1111111111111111,
              "#46039f"
             ],
             [
              0.2222222222222222,
              "#7201a8"
             ],
             [
              0.3333333333333333,
              "#9c179e"
             ],
             [
              0.4444444444444444,
              "#bd3786"
             ],
             [
              0.5555555555555556,
              "#d8576b"
             ],
             [
              0.6666666666666666,
              "#ed7953"
             ],
             [
              0.7777777777777778,
              "#fb9f3a"
             ],
             [
              0.8888888888888888,
              "#fdca26"
             ],
             [
              1,
              "#f0f921"
             ]
            ],
            "type": "histogram2dcontour"
           }
          ],
          "mesh3d": [
           {
            "colorbar": {
             "outlinewidth": 0,
             "ticks": ""
            },
            "type": "mesh3d"
           }
          ],
          "parcoords": [
           {
            "line": {
             "colorbar": {
              "outlinewidth": 0,
              "ticks": ""
             }
            },
            "type": "parcoords"
           }
          ],
          "pie": [
           {
            "automargin": true,
            "type": "pie"
           }
          ],
          "scatter": [
           {
            "fillpattern": {
             "fillmode": "overlay",
             "size": 10,
             "solidity": 0.2
            },
            "type": "scatter"
           }
          ],
          "scatter3d": [
           {
            "line": {
             "colorbar": {
              "outlinewidth": 0,
              "ticks": ""
             }
            },
            "marker": {
             "colorbar": {
              "outlinewidth": 0,
              "ticks": ""
             }
            },
            "type": "scatter3d"
           }
          ],
          "scattercarpet": [
           {
            "marker": {
             "colorbar": {
              "outlinewidth": 0,
              "ticks": ""
             }
            },
            "type": "scattercarpet"
           }
          ],
          "scattergeo": [
           {
            "marker": {
             "colorbar": {
              "outlinewidth": 0,
              "ticks": ""
             }
            },
            "type": "scattergeo"
           }
          ],
          "scattergl": [
           {
            "marker": {
             "colorbar": {
              "outlinewidth": 0,
              "ticks": ""
             }
            },
            "type": "scattergl"
           }
          ],
          "scattermapbox": [
           {
            "marker": {
             "colorbar": {
              "outlinewidth": 0,
              "ticks": ""
             }
            },
            "type": "scattermapbox"
           }
          ],
          "scatterpolar": [
           {
            "marker": {
             "colorbar": {
              "outlinewidth": 0,
              "ticks": ""
             }
            },
            "type": "scatterpolar"
           }
          ],
          "scatterpolargl": [
           {
            "marker": {
             "colorbar": {
              "outlinewidth": 0,
              "ticks": ""
             }
            },
            "type": "scatterpolargl"
           }
          ],
          "scatterternary": [
           {
            "marker": {
             "colorbar": {
              "outlinewidth": 0,
              "ticks": ""
             }
            },
            "type": "scatterternary"
           }
          ],
          "surface": [
           {
            "colorbar": {
             "outlinewidth": 0,
             "ticks": ""
            },
            "colorscale": [
             [
              0,
              "#0d0887"
             ],
             [
              0.1111111111111111,
              "#46039f"
             ],
             [
              0.2222222222222222,
              "#7201a8"
             ],
             [
              0.3333333333333333,
              "#9c179e"
             ],
             [
              0.4444444444444444,
              "#bd3786"
             ],
             [
              0.5555555555555556,
              "#d8576b"
             ],
             [
              0.6666666666666666,
              "#ed7953"
             ],
             [
              0.7777777777777778,
              "#fb9f3a"
             ],
             [
              0.8888888888888888,
              "#fdca26"
             ],
             [
              1,
              "#f0f921"
             ]
            ],
            "type": "surface"
           }
          ],
          "table": [
           {
            "cells": {
             "fill": {
              "color": "#EBF0F8"
             },
             "line": {
              "color": "white"
             }
            },
            "header": {
             "fill": {
              "color": "#C8D4E3"
             },
             "line": {
              "color": "white"
             }
            },
            "type": "table"
           }
          ]
         },
         "layout": {
          "annotationdefaults": {
           "arrowcolor": "#2a3f5f",
           "arrowhead": 0,
           "arrowwidth": 1
          },
          "autotypenumbers": "strict",
          "coloraxis": {
           "colorbar": {
            "outlinewidth": 0,
            "ticks": ""
           }
          },
          "colorscale": {
           "diverging": [
            [
             0,
             "#8e0152"
            ],
            [
             0.1,
             "#c51b7d"
            ],
            [
             0.2,
             "#de77ae"
            ],
            [
             0.3,
             "#f1b6da"
            ],
            [
             0.4,
             "#fde0ef"
            ],
            [
             0.5,
             "#f7f7f7"
            ],
            [
             0.6,
             "#e6f5d0"
            ],
            [
             0.7,
             "#b8e186"
            ],
            [
             0.8,
             "#7fbc41"
            ],
            [
             0.9,
             "#4d9221"
            ],
            [
             1,
             "#276419"
            ]
           ],
           "sequential": [
            [
             0,
             "#0d0887"
            ],
            [
             0.1111111111111111,
             "#46039f"
            ],
            [
             0.2222222222222222,
             "#7201a8"
            ],
            [
             0.3333333333333333,
             "#9c179e"
            ],
            [
             0.4444444444444444,
             "#bd3786"
            ],
            [
             0.5555555555555556,
             "#d8576b"
            ],
            [
             0.6666666666666666,
             "#ed7953"
            ],
            [
             0.7777777777777778,
             "#fb9f3a"
            ],
            [
             0.8888888888888888,
             "#fdca26"
            ],
            [
             1,
             "#f0f921"
            ]
           ],
           "sequentialminus": [
            [
             0,
             "#0d0887"
            ],
            [
             0.1111111111111111,
             "#46039f"
            ],
            [
             0.2222222222222222,
             "#7201a8"
            ],
            [
             0.3333333333333333,
             "#9c179e"
            ],
            [
             0.4444444444444444,
             "#bd3786"
            ],
            [
             0.5555555555555556,
             "#d8576b"
            ],
            [
             0.6666666666666666,
             "#ed7953"
            ],
            [
             0.7777777777777778,
             "#fb9f3a"
            ],
            [
             0.8888888888888888,
             "#fdca26"
            ],
            [
             1,
             "#f0f921"
            ]
           ]
          },
          "colorway": [
           "#636efa",
           "#EF553B",
           "#00cc96",
           "#ab63fa",
           "#FFA15A",
           "#19d3f3",
           "#FF6692",
           "#B6E880",
           "#FF97FF",
           "#FECB52"
          ],
          "font": {
           "color": "#2a3f5f"
          },
          "geo": {
           "bgcolor": "white",
           "lakecolor": "white",
           "landcolor": "#E5ECF6",
           "showlakes": true,
           "showland": true,
           "subunitcolor": "white"
          },
          "hoverlabel": {
           "align": "left"
          },
          "hovermode": "closest",
          "mapbox": {
           "style": "light"
          },
          "paper_bgcolor": "white",
          "plot_bgcolor": "#E5ECF6",
          "polar": {
           "angularaxis": {
            "gridcolor": "white",
            "linecolor": "white",
            "ticks": ""
           },
           "bgcolor": "#E5ECF6",
           "radialaxis": {
            "gridcolor": "white",
            "linecolor": "white",
            "ticks": ""
           }
          },
          "scene": {
           "xaxis": {
            "backgroundcolor": "#E5ECF6",
            "gridcolor": "white",
            "gridwidth": 2,
            "linecolor": "white",
            "showbackground": true,
            "ticks": "",
            "zerolinecolor": "white"
           },
           "yaxis": {
            "backgroundcolor": "#E5ECF6",
            "gridcolor": "white",
            "gridwidth": 2,
            "linecolor": "white",
            "showbackground": true,
            "ticks": "",
            "zerolinecolor": "white"
           },
           "zaxis": {
            "backgroundcolor": "#E5ECF6",
            "gridcolor": "white",
            "gridwidth": 2,
            "linecolor": "white",
            "showbackground": true,
            "ticks": "",
            "zerolinecolor": "white"
           }
          },
          "shapedefaults": {
           "line": {
            "color": "#2a3f5f"
           }
          },
          "ternary": {
           "aaxis": {
            "gridcolor": "white",
            "linecolor": "white",
            "ticks": ""
           },
           "baxis": {
            "gridcolor": "white",
            "linecolor": "white",
            "ticks": ""
           },
           "bgcolor": "#E5ECF6",
           "caxis": {
            "gridcolor": "white",
            "linecolor": "white",
            "ticks": ""
           }
          },
          "title": {
           "x": 0.05
          },
          "xaxis": {
           "automargin": true,
           "gridcolor": "white",
           "linecolor": "white",
           "ticks": "",
           "title": {
            "standoff": 15
           },
           "zerolinecolor": "white",
           "zerolinewidth": 2
          },
          "yaxis": {
           "automargin": true,
           "gridcolor": "white",
           "linecolor": "white",
           "ticks": "",
           "title": {
            "standoff": 15
           },
           "zerolinecolor": "white",
           "zerolinewidth": 2
          }
         }
        },
        "title": {
         "text": "Embeddings Visualization"
        }
       }
      }
     },
     "metadata": {},
     "output_type": "display_data"
    }
   ],
   "source": [
    "plot_embeddings(model, tagged_data[:1000])"
   ]
  },
  {
   "cell_type": "markdown",
   "metadata": {},
   "source": [
    "## BERT"
   ]
  },
  {
   "cell_type": "code",
   "execution_count": 259,
   "metadata": {},
   "outputs": [
    {
     "name": "stderr",
     "output_type": "stream",
     "text": [
      "Some weights of the model checkpoint at DeepPavlov/rubert-base-cased were not used when initializing BertModel: ['cls.predictions.bias', 'cls.predictions.transform.dense.bias', 'cls.predictions.transform.LayerNorm.weight', 'cls.seq_relationship.weight', 'cls.predictions.decoder.weight', 'cls.predictions.transform.dense.weight', 'cls.predictions.decoder.bias', 'cls.seq_relationship.bias', 'cls.predictions.transform.LayerNorm.bias']\n",
      "- This IS expected if you are initializing BertModel from the checkpoint of a model trained on another task or with another architecture (e.g. initializing a BertForSequenceClassification model from a BertForPreTraining model).\n",
      "- This IS NOT expected if you are initializing BertModel from the checkpoint of a model that you expect to be exactly identical (initializing a BertForSequenceClassification model from a BertForSequenceClassification model).\n"
     ]
    }
   ],
   "source": [
    "bert_model = BertModel.from_pretrained(BERT_MODEL_NAME)\n",
    "tokenizer = BertTokenizer.from_pretrained(BERT_MODEL_NAME)"
   ]
  },
  {
   "cell_type": "code",
   "execution_count": 260,
   "metadata": {},
   "outputs": [],
   "source": [
    "def get_bert_embeddings(texts, bert_model, tokenizer):\n",
    "    embeddings = []\n",
    "    for text in texts:\n",
    "        encoded_input = tokenizer(text, return_tensors='pt', padding=True, truncation=True, max_length=BERT_MAX_LENGTH)\n",
    "        with torch.no_grad():\n",
    "            model_output = bert_model(**encoded_input)\n",
    "        emb = model_output.last_hidden_state.mean(dim=1)\n",
    "        if emb.shape[-1] != 768:\n",
    "            emb = np.zeros((1, 768))\n",
    "        else:\n",
    "            emb = emb.detach().cpu().numpy()\n",
    "            emb = np.squeeze(emb)\n",
    "            if emb.shape[0] != 768:\n",
    "                emb = np.zeros(768)\n",
    "        embeddings.append(emb)\n",
    "    return np.array(embeddings)"
   ]
  },
  {
   "cell_type": "markdown",
   "metadata": {},
   "source": [
    "## Doc2Vec + BERT"
   ]
  },
  {
   "cell_type": "code",
   "execution_count": 446,
   "metadata": {},
   "outputs": [],
   "source": [
    "def combine_embeddings(doc2vec_model, bert_embeddings, texts, doc2vec_weight=1.0, bert_weight=0.5):\n",
    "    combined_embeddings = []\n",
    "    for bert_emb, text in zip(bert_embeddings, texts):\n",
    "        doc2vec_emb = doc2vec_model.infer_vector(text.split())\n",
    "        doc2vec_emb = np.atleast_1d(doc2vec_emb)\n",
    "        \n",
    "        weighted_doc2vec_emb = doc2vec_emb * doc2vec_weight\n",
    "        weighted_bert_emb = bert_emb * bert_weight\n",
    "\n",
    "        combined_emb = np.concatenate((weighted_doc2vec_emb, weighted_bert_emb), axis=0)\n",
    "        combined_embeddings.append(combined_emb)\n",
    "    return combined_embeddings"
   ]
  },
  {
   "cell_type": "markdown",
   "metadata": {},
   "source": [
    "# Ranking"
   ]
  },
  {
   "cell_type": "code",
   "execution_count": 262,
   "metadata": {},
   "outputs": [],
   "source": [
    "resumes = [\n",
    "    \"Опытный системный аналитик с пятилетним стажем работы в крупной IT-компании. Основные обязанности включали анализ бизнес-процессов, сбор требований от заказчиков, разработку технических заданий и координацию разработчиков. Умею работать с SQL, UML, BPMN. Опыт работы с Agile и Scrum. В прошлом году успешно реализовал проект автоматизации процессов для крупного ритейлера, что позволило клиенту увеличить эффективность работы на 20%. Отличные коммуникативные навыки, способность работать в команде и под высоким давлением.\",\n",
    "    \"Менеджер по продажам с более чем десятилетним опытом в сфере B2B и B2C. Специализируюсь на продажах в области финансовых услуг и страхования. Отлично разбираюсь в продуктах компании, умею находить подход к различным типам клиентов. Имею опыт организации и проведения презентаций, участия в переговорах и заключения крупных сделок. В прошлом году лично привлек более 30 новых корпоративных клиентов, что способствовало росту общего оборота компании на 15%. Владею техниками активных продаж, хорошо ориентируюсь в CRM-системах.\",\n",
    "    \"Главный инженер с более чем 15-летним опытом работы в сфере машиностроения. Ответственен за разработку и внедрение новых технологий, управление инженерными командами, контроль качества продукции. Имею опыт работы с CAD/CAM системами, знаком с современными методами производства и автоматизации. На моем счету множество успешно реализованных проектов, в том числе разработка и запуск новой линии по производству автомобильных компонентов. Отличные лидерские качества, способность принимать быстрые и эффективные решения в критических ситуациях.\",\n",
    "    \"Веб-разработчик с опытом работы более 8 лет. Специализируюсь на front-end и back-end разработке. Владею HTML, CSS, JavaScript, а также фреймворками React и Node.js. Работал над созданием и поддержкой нескольких крупных веб-платформ, включая интернет-магазины и корпоративные сайты. Имею опыт работы в Agile-командах, умею четко следовать срокам и требованиям заказчика. За последний год разработал и внедрил новый интерфейс для онлайн-магазина, что привело к увеличению конверсии на 30%.\",\n",
    "    \"Творческий и инновационный графический дизайнер с 7-летним опытом работы в рекламных агентствах и дизайн-студиях. Специализируюсь на создании брендинга, рекламных материалов, веб-дизайна и UX/UI. Владею Adobe Photoshop, Illustrator, InDesign. Мои работы отличаются оригинальностью и уникальностью, я всегда стремлюсь найти нестандартные решения для задач клиентов. Разработал брендинг и фирменный стиль для нескольких стартапов, что помогло им выделиться на рынке и привлечь новых клиентов. Умею работать в сжатые сроки, легко адаптируюсь к новым требованиям и тенденциям в дизайне.\"\n",
    "]\n",
    "\n",
    "jobs = [\n",
    "    \"Требуется опытный руководитель отдела продаж для работы в крупной торговой компании. Обязанности: разработка и реализация стратегии продаж, управление командой менеджеров, анализ рынка и конкурентов, участие в переговорах на высоком уровне. Требования: опыт работы на аналогичной должности не менее 5 лет, отличные навыки управления и коммуникации, знание современных технологий продаж. Предлагаем стабильную работу в динамично развивающейся компании, конкурентоспособную заработную плату и возможности для профессионального роста.\",\n",
    "    \"ИТ-компания ищет талантливого программиста 1C для разработки и поддержки корпоративных приложений. Основные задачи: разработка и оптимизация программных решений на платформе 1C, работа с клиентами по техническим заданиям, тестирование и документирование программного обеспечения. Требуется знание 1C:Предприятие 8, опыт программирования и понимание бизнес-процессов. Мы предлагаем работу в комфортабельном офисе, дружный коллектив и достойную заработную плату.\",\n",
    "    \"В маркетинговое агентство требуется креативный и амбициозный маркетолог. Обязанности: разработка маркетинговых стратегий, проведение рекламных кампаний, анализ эффективности маркетинговых действий, работа с социальными сетями и контентом. Требуется опыт в маркетинге не менее 3 лет, умение работать в команде, знание инструментов интернет-маркетинга. Мы предлагаем работу в динамичной среде, возможность реализовать свои идеи и конкурентоспособную заработную плату.\",\n",
    "    \"Требуется инженер-конструктор в инженерно-проектное бюро. Задачи: разработка проектной документации, расчеты и моделирование в CAD-системах, сопровождение проектов на всех этапах. Требования: высшее техническое образование, опыт работы в проектировании, знание AutoCAD и других CAD-систем. Предлагаем интересные проекты, работу в команде профессионалов, стабильную заработную плату и возможности для карьерного роста.\",\n",
    "    \"В рекламное агентство требуется творческий копирайтер для создания текстов различной тематики. Обязанности: написание рекламных и PR-текстов, создание контента для сайтов и социальных сетей, работа над креативными концепциями. Требуется опыт написания текстов, креативность, отличное владение русским языком. Мы предлагаем возможность реализации творческого потенциала, работу над интересными проектами и достойную оплату труда.\"\n",
    "]"
   ]
  },
  {
   "cell_type": "code",
   "execution_count": 263,
   "metadata": {},
   "outputs": [],
   "source": [
    "def preprocess_text(text):\n",
    "    text = text.lower()\n",
    "    pattern = re.compile(\"[^а-яА-Яa-zA-Z0-9\\-.,;]+\")\n",
    "    text = pattern.sub(\" \", text)\n",
    "    text = ' '.join(text.split())\n",
    "    return text"
   ]
  },
  {
   "cell_type": "markdown",
   "metadata": {},
   "source": [
    "## Doc2Vec"
   ]
  },
  {
   "cell_type": "code",
   "execution_count": 264,
   "metadata": {},
   "outputs": [],
   "source": [
    "def rank_items_doc2vec(doc2vec_model, desc, items, threshold=0.5):\n",
    "    desc = preprocess_text(desc)\n",
    "    desc_vector = doc2vec_model.infer_vector(desc.split()).reshape(1, -1)\n",
    "    ranked_items = []\n",
    "    for item in items:\n",
    "        item = preprocess_text(item)\n",
    "        item_vector = model.infer_vector(item.split()).reshape(1, -1)\n",
    "        similarity = cosine_similarity(desc_vector, item_vector)[0][0]\n",
    "        if similarity >= threshold:\n",
    "            ranked_items.append((item, similarity))\n",
    "    ranked_items.sort(key=lambda x: x[1], reverse=True)\n",
    "    return [(item, round(similarity * 100, 2)) for item, similarity in ranked_items]"
   ]
  },
  {
   "cell_type": "markdown",
   "metadata": {},
   "source": [
    "### Example"
   ]
  },
  {
   "cell_type": "code",
   "execution_count": 265,
   "metadata": {},
   "outputs": [],
   "source": [
    "doc2vec_model = Doc2Vec.load(DOC2VEC_MODEL_PATH)\n",
    "doc2vec_model.random.seed(SEED)"
   ]
  },
  {
   "cell_type": "code",
   "execution_count": 266,
   "metadata": {},
   "outputs": [
    {
     "data": {
      "text/plain": [
       "[('главный инженер с более чем 15-летним опытом работы в сфере машиностроения. ответственен за разработку и внедрение новых технологий, управление инженерными командами, контроль качества продукции. имею опыт работы с cad cam системами, знаком с современными методами производства и автоматизации. на моем счету множество успешно реализованных проектов, в том числе разработка и запуск новой линии по производству автомобильных компонентов. отличные лидерские качества, способность принимать быстрые и эффективные решения в критических ситуациях.',\n",
       "  72.83),\n",
       " ('веб-разработчик с опытом работы более 8 лет. специализируюсь на front-end и back-end разработке. владею html, css, javascript, а также фреймворками react и node.js. работал над созданием и поддержкой нескольких крупных веб-платформ, включая интернет-магазины и корпоративные сайты. имею опыт работы в agile-командах, умею четко следовать срокам и требованиям заказчика. за последний год разработал и внедрил новый интерфейс для онлайн-магазина, что привело к увеличению конверсии на 30 .',\n",
       "  67.28),\n",
       " ('менеджер по продажам с более чем десятилетним опытом в сфере b2b и b2c. специализируюсь на продажах в области финансовых услуг и страхования. отлично разбираюсь в продуктах компании, умею находить подход к различным типам клиентов. имею опыт организации и проведения презентаций, участия в переговорах и заключения крупных сделок. в прошлом году лично привлек более 30 новых корпоративных клиентов, что способствовало росту общего оборота компании на 15 . владею техниками активных продаж, хорошо ориентируюсь в crm-системах.',\n",
       "  65.73),\n",
       " ('опытный системный аналитик с пятилетним стажем работы в крупной it-компании. основные обязанности включали анализ бизнес-процессов, сбор требований от заказчиков, разработку технических заданий и координацию разработчиков. умею работать с sql, uml, bpmn. опыт работы с agile и scrum. в прошлом году успешно реализовал проект автоматизации процессов для крупного ритейлера, что позволило клиенту увеличить эффективность работы на 20 . отличные коммуникативные навыки, способность работать в команде и под высоким давлением.',\n",
       "  56.5)]"
      ]
     },
     "execution_count": 266,
     "metadata": {},
     "output_type": "execute_result"
    }
   ],
   "source": [
    "rank_items_doc2vec(doc2vec_model, jobs[3], resumes) # вакансия инженера-конструктора"
   ]
  },
  {
   "cell_type": "code",
   "execution_count": 267,
   "metadata": {},
   "outputs": [
    {
     "data": {
      "text/plain": [
       "[]"
      ]
     },
     "execution_count": 267,
     "metadata": {},
     "output_type": "execute_result"
    }
   ],
   "source": [
    "rank_items_doc2vec(doc2vec_model, resumes[4], jobs) # резюме дизайнера"
   ]
  },
  {
   "cell_type": "markdown",
   "metadata": {},
   "source": [
    "## BERT"
   ]
  },
  {
   "cell_type": "code",
   "execution_count": 268,
   "metadata": {},
   "outputs": [],
   "source": [
    "def rank_items_bert(bert_model, tokenizer, desc, items, threshold=0.5):\n",
    "    desc = preprocess_text(desc)\n",
    "    desc_bert_emb = get_bert_embeddings([desc], bert_model, tokenizer)[0]\n",
    "    items_bert_embs = get_bert_embeddings(items, bert_model, tokenizer)\n",
    "    similarities = cosine_similarity([desc_bert_emb], items_bert_embs)[0]\n",
    "    ranked_items = [(item, similarity) for item, similarity in zip(items, similarities) if similarity >= threshold]\n",
    "    ranked_items.sort(key=lambda x: x[1], reverse=True)\n",
    "    return [(item, round(similarity * 100, 2)) for item, similarity in ranked_items]"
   ]
  },
  {
   "cell_type": "markdown",
   "metadata": {},
   "source": [
    "### Example"
   ]
  },
  {
   "cell_type": "code",
   "execution_count": null,
   "metadata": {},
   "outputs": [],
   "source": [
    "bert_model = BertModel.from_pretrained(BERT_MODEL_NAME)\n",
    "tokenizer = BertTokenizer.from_pretrained(BERT_MODEL_NAME)"
   ]
  },
  {
   "cell_type": "code",
   "execution_count": 437,
   "metadata": {},
   "outputs": [
    {
     "data": {
      "text/plain": [
       "[('Опытный системный аналитик с пятилетним стажем работы в крупной IT-компании. Основные обязанности включали анализ бизнес-процессов, сбор требований от заказчиков, разработку технических заданий и координацию разработчиков. Умею работать с SQL, UML, BPMN. Опыт работы с Agile и Scrum. В прошлом году успешно реализовал проект автоматизации процессов для крупного ритейлера, что позволило клиенту увеличить эффективность работы на 20%. Отличные коммуникативные навыки, способность работать в команде и под высоким давлением.',\n",
       "  84.73),\n",
       " ('Творческий и инновационный графический дизайнер с 7-летним опытом работы в рекламных агентствах и дизайн-студиях. Специализируюсь на создании брендинга, рекламных материалов, веб-дизайна и UX/UI. Владею Adobe Photoshop, Illustrator, InDesign. Мои работы отличаются оригинальностью и уникальностью, я всегда стремлюсь найти нестандартные решения для задач клиентов. Разработал брендинг и фирменный стиль для нескольких стартапов, что помогло им выделиться на рынке и привлечь новых клиентов. Умею работать в сжатые сроки, легко адаптируюсь к новым требованиям и тенденциям в дизайне.',\n",
       "  81.67),\n",
       " ('Веб-разработчик с опытом работы более 8 лет. Специализируюсь на front-end и back-end разработке. Владею HTML, CSS, JavaScript, а также фреймворками React и Node.js. Работал над созданием и поддержкой нескольких крупных веб-платформ, включая интернет-магазины и корпоративные сайты. Имею опыт работы в Agile-командах, умею четко следовать срокам и требованиям заказчика. За последний год разработал и внедрил новый интерфейс для онлайн-магазина, что привело к увеличению конверсии на 30%.',\n",
       "  80.36),\n",
       " ('Менеджер по продажам с более чем десятилетним опытом в сфере B2B и B2C. Специализируюсь на продажах в области финансовых услуг и страхования. Отлично разбираюсь в продуктах компании, умею находить подход к различным типам клиентов. Имею опыт организации и проведения презентаций, участия в переговорах и заключения крупных сделок. В прошлом году лично привлек более 30 новых корпоративных клиентов, что способствовало росту общего оборота компании на 15%. Владею техниками активных продаж, хорошо ориентируюсь в CRM-системах.',\n",
       "  79.86),\n",
       " ('Главный инженер с более чем 15-летним опытом работы в сфере машиностроения. Ответственен за разработку и внедрение новых технологий, управление инженерными командами, контроль качества продукции. Имею опыт работы с CAD/CAM системами, знаком с современными методами производства и автоматизации. На моем счету множество успешно реализованных проектов, в том числе разработка и запуск новой линии по производству автомобильных компонентов. Отличные лидерские качества, способность принимать быстрые и эффективные решения в критических ситуациях.',\n",
       "  79.77)]"
      ]
     },
     "execution_count": 437,
     "metadata": {},
     "output_type": "execute_result"
    }
   ],
   "source": [
    "rank_items_bert(bert_model, tokenizer, jobs[3], resumes) # Ранжирование резюме для вакансии инженера-конструктора"
   ]
  },
  {
   "cell_type": "code",
   "execution_count": 432,
   "metadata": {},
   "outputs": [
    {
     "data": {
      "text/plain": [
       "[('В рекламное агентство требуется творческий копирайтер для создания текстов различной тематики. Обязанности: написание рекламных и PR-текстов, создание контента для сайтов и социальных сетей, работа над креативными концепциями. Требуется опыт написания текстов, креативность, отличное владение русским языком. Мы предлагаем возможность реализации творческого потенциала, работу над интересными проектами и достойную оплату труда.',\n",
       "  82.77),\n",
       " ('В маркетинговое агентство требуется креативный и амбициозный маркетолог. Обязанности: разработка маркетинговых стратегий, проведение рекламных кампаний, анализ эффективности маркетинговых действий, работа с социальными сетями и контентом. Требуется опыт в маркетинге не менее 3 лет, умение работать в команде, знание инструментов интернет-маркетинга. Мы предлагаем работу в динамичной среде, возможность реализовать свои идеи и конкурентоспособную заработную плату.',\n",
       "  80.53),\n",
       " ('ИТ-компания ищет талантливого программиста 1C для разработки и поддержки корпоративных приложений. Основные задачи: разработка и оптимизация программных решений на платформе 1C, работа с клиентами по техническим заданиям, тестирование и документирование программного обеспечения. Требуется знание 1C:Предприятие 8, опыт программирования и понимание бизнес-процессов. Мы предлагаем работу в комфортабельном офисе, дружный коллектив и достойную заработную плату.',\n",
       "  79.34),\n",
       " ('Требуется инженер-конструктор в инженерно-проектное бюро. Задачи: разработка проектной документации, расчеты и моделирование в CAD-системах, сопровождение проектов на всех этапах. Требования: высшее техническое образование, опыт работы в проектировании, знание AutoCAD и других CAD-систем. Предлагаем интересные проекты, работу в команде профессионалов, стабильную заработную плату и возможности для карьерного роста.',\n",
       "  77.56),\n",
       " ('Требуется опытный руководитель отдела продаж для работы в крупной торговой компании. Обязанности: разработка и реализация стратегии продаж, управление командой менеджеров, анализ рынка и конкурентов, участие в переговорах на высоком уровне. Требования: опыт работы на аналогичной должности не менее 5 лет, отличные навыки управления и коммуникации, знание современных технологий продаж. Предлагаем стабильную работу в динамично развивающейся компании, конкурентоспособную заработную плату и возможности для профессионального роста.',\n",
       "  73.97)]"
      ]
     },
     "execution_count": 432,
     "metadata": {},
     "output_type": "execute_result"
    }
   ],
   "source": [
    "rank_items_bert(bert_model, tokenizer, resumes[4], jobs) # Ранжирование вакансий для резюме дизайнера"
   ]
  },
  {
   "cell_type": "markdown",
   "metadata": {},
   "source": [
    "## Doc2Vec + BERT"
   ]
  },
  {
   "cell_type": "code",
   "execution_count": 272,
   "metadata": {},
   "outputs": [],
   "source": [
    "def rank_items_doc2vec_bert(doc2vec_model, bert_model, tokenizer, desc, items, threshold=0.5):\n",
    "    desc = preprocess_text(desc)\n",
    "    desc_bert_embs = get_bert_embeddings([desc], bert_model, tokenizer)\n",
    "    desc_vector = combine_embeddings(doc2vec_model, desc_bert_embs, [desc])[0]\n",
    "\n",
    "    items_bert_embs = get_bert_embeddings(items, bert_model, tokenizer)\n",
    "    combined_new_resume_embs = combine_embeddings(doc2vec_model, items_bert_embs, items)\n",
    "\n",
    "    similarities = cosine_similarity([desc_vector], combined_new_resume_embs)[0]\n",
    "    ranked_items = [(item, similarity) for item, similarity in zip(items, similarities) if similarity >= threshold]\n",
    "    ranked_items.sort(key=lambda x: x[1], reverse=True)\n",
    "\n",
    "    return [(item, round(similarity * 100, 2)) for item, similarity in ranked_items]"
   ]
  },
  {
   "cell_type": "markdown",
   "metadata": {},
   "source": [
    "### Example"
   ]
  },
  {
   "cell_type": "code",
   "execution_count": null,
   "metadata": {},
   "outputs": [],
   "source": [
    "doc2vec_model = Doc2Vec.load(DOC2VEC_MODEL_PATH)\n",
    "doc2vec_model.random.seed(SEED)\n",
    "bert_model = BertModel.from_pretrained(BERT_MODEL_NAME)\n",
    "tokenizer = BertTokenizer.from_pretrained(BERT_MODEL_NAME)"
   ]
  },
  {
   "cell_type": "code",
   "execution_count": 450,
   "metadata": {},
   "outputs": [
    {
     "data": {
      "text/plain": [
       "[('Опытный системный аналитик с пятилетним стажем работы в крупной IT-компании. Основные обязанности включали анализ бизнес-процессов, сбор требований от заказчиков, разработку технических заданий и координацию разработчиков. Умею работать с SQL, UML, BPMN. Опыт работы с Agile и Scrum. В прошлом году успешно реализовал проект автоматизации процессов для крупного ритейлера, что позволило клиенту увеличить эффективность работы на 20%. Отличные коммуникативные навыки, способность работать в команде и под высоким давлением.',\n",
       "  83.24),\n",
       " ('Главный инженер с более чем 15-летним опытом работы в сфере машиностроения. Ответственен за разработку и внедрение новых технологий, управление инженерными командами, контроль качества продукции. Имею опыт работы с CAD/CAM системами, знаком с современными методами производства и автоматизации. На моем счету множество успешно реализованных проектов, в том числе разработка и запуск новой линии по производству автомобильных компонентов. Отличные лидерские качества, способность принимать быстрые и эффективные решения в критических ситуациях.',\n",
       "  81.91),\n",
       " ('Менеджер по продажам с более чем десятилетним опытом в сфере B2B и B2C. Специализируюсь на продажах в области финансовых услуг и страхования. Отлично разбираюсь в продуктах компании, умею находить подход к различным типам клиентов. Имею опыт организации и проведения презентаций, участия в переговорах и заключения крупных сделок. В прошлом году лично привлек более 30 новых корпоративных клиентов, что способствовало росту общего оборота компании на 15%. Владею техниками активных продаж, хорошо ориентируюсь в CRM-системах.',\n",
       "  79.93),\n",
       " ('Веб-разработчик с опытом работы более 8 лет. Специализируюсь на front-end и back-end разработке. Владею HTML, CSS, JavaScript, а также фреймворками React и Node.js. Работал над созданием и поддержкой нескольких крупных веб-платформ, включая интернет-магазины и корпоративные сайты. Имею опыт работы в Agile-командах, умею четко следовать срокам и требованиям заказчика. За последний год разработал и внедрил новый интерфейс для онлайн-магазина, что привело к увеличению конверсии на 30%.',\n",
       "  79.37),\n",
       " ('Творческий и инновационный графический дизайнер с 7-летним опытом работы в рекламных агентствах и дизайн-студиях. Специализируюсь на создании брендинга, рекламных материалов, веб-дизайна и UX/UI. Владею Adobe Photoshop, Illustrator, InDesign. Мои работы отличаются оригинальностью и уникальностью, я всегда стремлюсь найти нестандартные решения для задач клиентов. Разработал брендинг и фирменный стиль для нескольких стартапов, что помогло им выделиться на рынке и привлечь новых клиентов. Умею работать в сжатые сроки, легко адаптируюсь к новым требованиям и тенденциям в дизайне.',\n",
       "  78.75)]"
      ]
     },
     "execution_count": 450,
     "metadata": {},
     "output_type": "execute_result"
    }
   ],
   "source": [
    "rank_items_doc2vec_bert(doc2vec_model, bert_model, tokenizer, jobs[3], resumes) # вакансия инженера-конструктора"
   ]
  },
  {
   "cell_type": "code",
   "execution_count": 448,
   "metadata": {},
   "outputs": [
    {
     "data": {
      "text/plain": [
       "[('В рекламное агентство требуется творческий копирайтер для создания текстов различной тематики. Обязанности: написание рекламных и PR-текстов, создание контента для сайтов и социальных сетей, работа над креативными концепциями. Требуется опыт написания текстов, креативность, отличное владение русским языком. Мы предлагаем возможность реализации творческого потенциала, работу над интересными проектами и достойную оплату труда.',\n",
       "  79.99),\n",
       " ('В маркетинговое агентство требуется креативный и амбициозный маркетолог. Обязанности: разработка маркетинговых стратегий, проведение рекламных кампаний, анализ эффективности маркетинговых действий, работа с социальными сетями и контентом. Требуется опыт в маркетинге не менее 3 лет, умение работать в команде, знание инструментов интернет-маркетинга. Мы предлагаем работу в динамичной среде, возможность реализовать свои идеи и конкурентоспособную заработную плату.',\n",
       "  76.8),\n",
       " ('ИТ-компания ищет талантливого программиста 1C для разработки и поддержки корпоративных приложений. Основные задачи: разработка и оптимизация программных решений на платформе 1C, работа с клиентами по техническим заданиям, тестирование и документирование программного обеспечения. Требуется знание 1C:Предприятие 8, опыт программирования и понимание бизнес-процессов. Мы предлагаем работу в комфортабельном офисе, дружный коллектив и достойную заработную плату.',\n",
       "  75.99),\n",
       " ('Требуется инженер-конструктор в инженерно-проектное бюро. Задачи: разработка проектной документации, расчеты и моделирование в CAD-системах, сопровождение проектов на всех этапах. Требования: высшее техническое образование, опыт работы в проектировании, знание AutoCAD и других CAD-систем. Предлагаем интересные проекты, работу в команде профессионалов, стабильную заработную плату и возможности для карьерного роста.',\n",
       "  75.16),\n",
       " ('Требуется опытный руководитель отдела продаж для работы в крупной торговой компании. Обязанности: разработка и реализация стратегии продаж, управление командой менеджеров, анализ рынка и конкурентов, участие в переговорах на высоком уровне. Требования: опыт работы на аналогичной должности не менее 5 лет, отличные навыки управления и коммуникации, знание современных технологий продаж. Предлагаем стабильную работу в динамично развивающейся компании, конкурентоспособную заработную плату и возможности для профессионального роста.',\n",
       "  71.24)]"
      ]
     },
     "execution_count": 448,
     "metadata": {},
     "output_type": "execute_result"
    }
   ],
   "source": [
    "rank_items_doc2vec_bert(doc2vec_model, bert_model, tokenizer, resumes[4], jobs) # резюме дизайнера"
   ]
  },
  {
   "cell_type": "markdown",
   "metadata": {},
   "source": [
    "# Summary"
   ]
  },
  {
   "cell_type": "markdown",
   "metadata": {},
   "source": [
    "**Useful links:**\n",
    "- [CV Job Matching using Doc2Vec](https://github.com/kirudang/CV-Job-matching/blob/main/Matching_Algorithm.ipynb)\n",
    "\n",
    "**Datasets:**\n",
    "- [Резюме из ЕЦП «Работа в России»](https://trudvsem.ru/opendata/datasets)\n",
    "- [Вакансии всех регионов России из ЕЦП «Работа в России»](https://trudvsem.ru/opendata/datasets)\n",
    "\n",
    "**Approaches:**\n",
    "- Doc2Vec _(gensim)_\n",
    "- BERT _(DeepPavlov/rubert-base-cased)_\n",
    "- Doc2Vec + BERT\n",
    "\n",
    "**Pipeline:**\n",
    "1. Converting tabular data to text format\n",
    "2. Data cleanup and tokenization\n",
    "3. Creating a Doc2Vec embedding space\n",
    "4. Creating functions that accept texts, create vectors in Doc2Vec, create embiddings in BERT, concatenate them and then compare based on cosine_similarity"
   ]
  }
 ],
 "metadata": {
  "kernelspec": {
   "display_name": "Python 3",
   "language": "python",
   "name": "python3"
  },
  "language_info": {
   "codemirror_mode": {
    "name": "ipython",
    "version": 3
   },
   "file_extension": ".py",
   "mimetype": "text/x-python",
   "name": "python",
   "nbconvert_exporter": "python",
   "pygments_lexer": "ipython3",
   "version": "3.11.6"
  }
 },
 "nbformat": 4,
 "nbformat_minor": 2
}
