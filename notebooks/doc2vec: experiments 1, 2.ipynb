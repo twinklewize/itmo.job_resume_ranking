{
 "cells": [
  {
   "cell_type": "markdown",
   "metadata": {},
   "source": [
    "# Packages"
   ]
  },
  {
   "cell_type": "code",
   "execution_count": 351,
   "metadata": {},
   "outputs": [],
   "source": [
    "import pandas as pd\n",
    "import numpy as np\n",
    "import json\n",
    "import html\n",
    "import re\n",
    "import plotly.graph_objs as go\n",
    "from sklearn.manifold import TSNE\n",
    "\n",
    "import pymorphy3\n",
    "from nltk.corpus import stopwords\n",
    "from gensim.utils import simple_preprocess\n",
    "from gensim.models.doc2vec import Doc2Vec, TaggedDocument\n",
    "\n",
    "import warnings\n",
    "warnings.filterwarnings(\"ignore\", category=FutureWarning)"
   ]
  },
  {
   "cell_type": "markdown",
   "metadata": {},
   "source": [
    "# Config"
   ]
  },
  {
   "cell_type": "code",
   "execution_count": 169,
   "metadata": {},
   "outputs": [],
   "source": [
    "# Doc2Vec - Experiment 1\n",
    "# NROWS = 5000\n",
    "# VECTOR_SIZE = 50\n",
    "# MIN_COUNT = 5\n",
    "# EPOCHS = 100\n",
    "# ALPHA = 0.001\n",
    "# MODEL_PATH = 'rjm_doc2vec_5000rows_exp1'\n",
    "\n",
    "# Doc2Vec - Experiment 2\n",
    "NROWS = 20000\n",
    "VECTOR_SIZE = 50\n",
    "MIN_COUNT = 5\n",
    "EPOCHS = 100\n",
    "ALPHA = 0.001\n",
    "MODEL_PATH = 'rjm_doc2vec_20000rows_exp2'"
   ]
  },
  {
   "cell_type": "markdown",
   "metadata": {},
   "source": [
    "# Data\n"
   ]
  },
  {
   "cell_type": "code",
   "execution_count": 170,
   "metadata": {},
   "outputs": [],
   "source": [
    "def remove_html(text):\n",
    "    if pd.isna(text):\n",
    "        return np.nan\n",
    "    text = re.sub(r\"<[^>]+>\", \"\", text)\n",
    "    text = html.unescape(text)\n",
    "    return text\n",
    "\n",
    "\n",
    "def remove_divis(text):\n",
    "    if pd.isna(text) or text.isdigit():\n",
    "        return np.nan\n",
    "    return text.replace(\"-\", \" \")\n",
    "\n",
    "\n",
    "def map_digits(digits):\n",
    "    if pd.isna(digits):\n",
    "        return np.nan\n",
    "    try:\n",
    "        experience_num = float(digits)\n",
    "        if experience_num < 0 or experience_num > 1500000:\n",
    "            return np.nan\n",
    "        return experience_num\n",
    "    except ValueError:\n",
    "        return np.nan\n",
    "\n",
    "\n",
    "def map_boolean_to_yes_no(value):\n",
    "    if pd.isna(value):\n",
    "        return np.nan\n",
    "    return \"Да\" if value else \"Нет\"\n",
    "\n",
    "\n",
    "def map_country(text):\n",
    "    if pd.isna(text):\n",
    "        return np.nan\n",
    "    try:\n",
    "        json_data = json.loads(text)\n",
    "        if isinstance(json_data, list) and \"countryName\" in json_data[0]:\n",
    "            return json_data[0][\"countryName\"]\n",
    "    except json.JSONDecodeError:\n",
    "        return np.nan\n",
    "    return np.nan\n",
    "\n",
    "\n",
    "def map_languageKnowledgeResume(text):\n",
    "    if pd.isna(text):\n",
    "        return np.nan\n",
    "    try:\n",
    "        json_data = json.loads(text)\n",
    "        if isinstance(json_data, list) and json_data:\n",
    "            languages = []\n",
    "            for lang in json_data:\n",
    "                if \"codeLanguage\" in lang and \"level\" in lang:\n",
    "                    languages.append(\n",
    "                        \"{}: {}\".format(lang[\"codeLanguage\"], lang[\"level\"])\n",
    "                    )\n",
    "            if languages:\n",
    "                return \"; \".join(languages)\n",
    "    except json.JSONDecodeError:\n",
    "        return np.nan\n",
    "    return np.nan\n",
    "\n",
    "\n",
    "def map_hardSkillsResume(text):\n",
    "    if pd.isna(text):\n",
    "        return np.nan\n",
    "    try:\n",
    "        json_data = json.loads(text)\n",
    "        if isinstance(json_data, list) and json_data:\n",
    "            hard_skills = [skill[\"hardSkillName\"] for skill in json_data]\n",
    "            return \"; \".join(hard_skills)\n",
    "    except json.JSONDecodeError:\n",
    "        return np.nan\n",
    "    return np.nan\n",
    "\n",
    "\n",
    "def map_softSkillsResume(text):\n",
    "    if pd.isna(text):\n",
    "        return np.nan\n",
    "    try:\n",
    "        json_data = json.loads(text)\n",
    "        if isinstance(json_data, list) and json_data:\n",
    "            soft_skills = [skill[\"softSkillName\"] for skill in json_data]\n",
    "            return \"; \".join(soft_skills)\n",
    "    except json.JSONDecodeError:\n",
    "        return np.nan\n",
    "    return np.nan\n",
    "\n",
    "def map_hardSkillsJob(text):\n",
    "    if pd.isna(text):\n",
    "        return np.nan\n",
    "    try:\n",
    "        json_data = json.loads(text)\n",
    "        if isinstance(json_data, list) and json_data:\n",
    "            hard_skills = [skill[\"hard_skill_name\"] for skill in json_data]\n",
    "            return \"; \".join(hard_skills)\n",
    "    except json.JSONDecodeError:\n",
    "        return np.nan\n",
    "    return np.nan\n",
    "\n",
    "def map_languageKnowledgeJob(text):\n",
    "    if pd.isna(text):\n",
    "        return np.nan\n",
    "    try:\n",
    "        json_data = json.loads(text)\n",
    "        if isinstance(json_data, list) and json_data:\n",
    "            languages = []\n",
    "            for lang in json_data:\n",
    "                if \"code_language\" in lang and \"level\" in lang:\n",
    "                    languages.append(\n",
    "                        \"{}: {}\".format(lang[\"code_language\"], lang[\"level\"])\n",
    "                    )\n",
    "            if languages:\n",
    "                return \"; \".join(languages)\n",
    "    except json.JSONDecodeError:\n",
    "        return np.nan\n",
    "    return np.nan\n",
    "\n",
    "def map_softSkillsJob(text):\n",
    "    if pd.isna(text):\n",
    "        return np.nan\n",
    "    try:\n",
    "        json_data = json.loads(text)\n",
    "        if isinstance(json_data, list) and json_data:\n",
    "            soft_skills = [skill[\"soft_skill_name\"] for skill in json_data]\n",
    "            return \"; \".join(soft_skills)\n",
    "    except json.JSONDecodeError:\n",
    "        return np.nan\n",
    "    return np.nan\n",
    "\n",
    "def map_driveLicenses(text):\n",
    "    if pd.isna(text):\n",
    "        return np.nan\n",
    "    try:\n",
    "        json_data = json.loads(text)\n",
    "        if isinstance(json_data, list) and json_data:\n",
    "            return \", \".join(json_data)\n",
    "    except json.JSONDecodeError:\n",
    "        return np.nan\n",
    "    return np.nan\n",
    "\n",
    "\n",
    "def map_educationList(text):\n",
    "    if pd.isna(text):\n",
    "        return np.nan\n",
    "    try:\n",
    "        json_data = json.loads(text)\n",
    "        if isinstance(json_data, list) and json_data and json_data:\n",
    "            education_info = []\n",
    "            for edu in json_data:\n",
    "                edu_str = \"\"\n",
    "                if \"instituteName\" in edu:\n",
    "                    edu_str += edu[\"instituteName\"]\n",
    "                if \"faculty\" in edu:\n",
    "                    edu_str += \", факультет: \" + edu[\"faculty\"]\n",
    "                if \"speciality\" in edu:\n",
    "                    edu_str += \", специальность: \" + edu[\"speciality\"]\n",
    "                if \"qualification\" in edu:\n",
    "                    edu_str += \", квалификация: \" + edu[\"qualification\"]\n",
    "                if \"graduateYear\" in edu:\n",
    "                    edu_str += \", год окончания: \" + str(edu[\"graduateYear\"])\n",
    "                education_info.append(edu_str)\n",
    "\n",
    "            return \"; \".join(education_info)\n",
    "    except json.JSONDecodeError:\n",
    "        return np.nan\n",
    "    return np.nan\n",
    "\n",
    "\n",
    "def map_workExperienceList(text):\n",
    "    if pd.isna(text):\n",
    "        return np.nan\n",
    "    try:\n",
    "        json_data = json.loads(text)\n",
    "        if isinstance(json_data, list) and json_data:\n",
    "            work_experience_info = []\n",
    "            for experience in json_data:\n",
    "                experience_str = \"\"\n",
    "                if \"companyName\" in experience:\n",
    "                    experience_str += experience[\"companyName\"]\n",
    "                if \"jobTitle\" in experience:\n",
    "                    experience_str += \", должность: \" + experience[\"jobTitle\"]\n",
    "                if \"dateFrom\" in experience and \"dateTo\" in experience:\n",
    "                    experience_str += \", период работы: {} - {}\".format(\n",
    "                        experience[\"dateFrom\"][:10], experience[\"dateTo\"][:10]\n",
    "                    )\n",
    "                if \"demands\" in experience:\n",
    "                    demands_cleaned = html.unescape(\n",
    "                        html.unescape(experience[\"demands\"])\n",
    "                    )\n",
    "                    experience_str += \", обязанности: \" + demands_cleaned.strip(\n",
    "                        \"<p></p>\\\\r\\\\n\"\n",
    "                    ).replace(\"<p>\", \"\").replace(\"</p>\", \"; \")\n",
    "                work_experience_info.append(experience_str)\n",
    "\n",
    "            return \"; \".join(work_experience_info)\n",
    "    except json.JSONDecodeError:\n",
    "        return np.nan\n",
    "    return np.nan\n",
    "\n",
    "\n",
    "def map_otherCertificates(text):\n",
    "    if pd.isna(text):\n",
    "        return np.nan\n",
    "    if not text or text in [\n",
    "        '<p><br-data-mce-bogus=\"1\"></p>',\n",
    "        \"<p></p>-<p></p>\",\n",
    "        \"<ol>-<li></li>-</ol>\",\n",
    "        \"[]\",\n",
    "    ]:\n",
    "        return np.nan\n",
    "    else:\n",
    "        cleaned_str = html.unescape(html.unescape(text))\n",
    "        cleaned_str = (\n",
    "            cleaned_str.replace(\"-\", \" \")\n",
    "            .replace(\"<p>\", \"\")\n",
    "            .replace(\"</p>\", \"; \")\n",
    "            .replace(\"<ol>\", \"\")\n",
    "            .replace(\"</ol>\", \"\")\n",
    "            .replace(\"<li>\", \"\")\n",
    "            .replace(\"</li>\", \"; \")\n",
    "            .strip()\n",
    "        )\n",
    "        if cleaned_str:\n",
    "            return cleaned_str\n",
    "        else:\n",
    "            return np.nan\n",
    "\n",
    "\n",
    "def map_additionalEducationList(text):\n",
    "    if pd.isna(text):\n",
    "        return np.nan\n",
    "    try:\n",
    "        json_data = json.loads(text)\n",
    "        if isinstance(json_data, list) and json_data:\n",
    "            additional_education_info = []\n",
    "            for course in json_data:\n",
    "                course_str = \"\"\n",
    "                if \"organization\" in course:\n",
    "                    course_str += course[\"organization\"]\n",
    "                if \"graduateYear\" in course:\n",
    "                    course_str += \", год окончания: \" + str(course[\"graduateYear\"])\n",
    "                additional_education_info.append(course_str)\n",
    "\n",
    "            return \"; \".join(additional_education_info)\n",
    "    except json.JSONDecodeError:\n",
    "        return np.nan\n",
    "    return np.nan\n",
    "\n",
    "\n",
    "def map_birthday(birthday):\n",
    "    if pd.isna(birthday):\n",
    "        return np.nan\n",
    "    try:\n",
    "        birth_date = pd.to_datetime(birthday)\n",
    "        if birth_date.year < 1900 or birth_date.year > 2023:\n",
    "            return np.nan\n",
    "        return birth_date.strftime(\"%Y-%m-%d\")\n",
    "    except:\n",
    "        return np.nan\n",
    "\n",
    "\n",
    "def map_worldskills(json_str):\n",
    "    if pd.isna(json_str) or json_str == \"[]\":\n",
    "        return np.nan\n",
    "    try:\n",
    "        json_data = json.loads(json_str)\n",
    "        if isinstance(json_data, list) and json_data:\n",
    "            skills = [\n",
    "                skill[\"russianName\"] for skill in json_data if \"russianName\" in skill\n",
    "            ]\n",
    "            if skills:\n",
    "                return \"; \".join(skills)\n",
    "    except json.JSONDecodeError:\n",
    "        return np.nan\n",
    "    return np.nan\n",
    "\n",
    "\n",
    "def map_accommodation_type(value):\n",
    "    if pd.isna(value):\n",
    "        return np.nan\n",
    "    accommodation_types = {\n",
    "        \"ROOM\": \"Комната\",\n",
    "        \"FLAT\": \"Квартира\",\n",
    "        \"DORMITORY\": \"Общежитие\",\n",
    "        \"HOUSE\": \"Дом\",\n",
    "    }\n",
    "    return accommodation_types.get(value, value)\n",
    "\n",
    "\n",
    "def map_company_business_size(value):\n",
    "    if pd.isna(value):\n",
    "        return np.nan\n",
    "    business_sizes = {\n",
    "        \"SMALL\": \"Малый бизнес\",\n",
    "        \"MICRO\": \"Микробизнес\",\n",
    "        \"LARGE\": \"Крупный бизнес\",\n",
    "        \"BIG\": \"Большой бизнес\",\n",
    "        \"MIDDLE\": \"Средний бизнес\",\n",
    "    }\n",
    "    return business_sizes.get(value, value)\n",
    "\n",
    "\n",
    "def map_transport_compensation(value):\n",
    "    if pd.isna(value):\n",
    "        return np.nan\n",
    "    compensation_types = {\n",
    "        \"PASSAGE_PAID\": \"Оплачивается проезд\",\n",
    "        \"FUEL_PAID\": \"Оплачивается топливо\",\n",
    "        \"AUTO\": \"Предоставляется автомобиль\",\n",
    "    }\n",
    "    return compensation_types.get(value, value)\n",
    "\n",
    "\n",
    "def map_retraining_capability(value):\n",
    "    if pd.isna(value):\n",
    "        return np.nan\n",
    "    return \"Возможность переобучения\" if value else \"Переобучение отсутствует\"\n",
    "\n",
    "\n",
    "def map_retraining_grant(value):\n",
    "    if pd.isna(value):\n",
    "        return np.nan\n",
    "    grant_types = {\"нет стипендии\": \"Нет\", \"есть стипендия\": \"Есть\"}\n",
    "    return grant_types.get(value, value)"
   ]
  },
  {
   "cell_type": "markdown",
   "metadata": {},
   "source": [
    "## Resume\n"
   ]
  },
  {
   "cell_type": "code",
   "execution_count": 171,
   "metadata": {},
   "outputs": [
    {
     "data": {
      "text/html": [
       "<div>\n",
       "<style scoped>\n",
       "    .dataframe tbody tr th:only-of-type {\n",
       "        vertical-align: middle;\n",
       "    }\n",
       "\n",
       "    .dataframe tbody tr th {\n",
       "        vertical-align: top;\n",
       "    }\n",
       "\n",
       "    .dataframe thead th {\n",
       "        text-align: right;\n",
       "    }\n",
       "</style>\n",
       "<table border=\"1\" class=\"dataframe\">\n",
       "  <thead>\n",
       "    <tr style=\"text-align: right;\">\n",
       "      <th></th>\n",
       "      <th>id</th>\n",
       "      <th>candidateId</th>\n",
       "      <th>stateRegionCode</th>\n",
       "      <th>locality</th>\n",
       "      <th>localityName</th>\n",
       "      <th>birthday</th>\n",
       "      <th>gender</th>\n",
       "      <th>age</th>\n",
       "      <th>positionName</th>\n",
       "      <th>dateCreate</th>\n",
       "      <th>...</th>\n",
       "      <th>softSkills</th>\n",
       "      <th>workExperienceList</th>\n",
       "      <th>scheduleType</th>\n",
       "      <th>salary</th>\n",
       "      <th>busyType</th>\n",
       "      <th>retrainingCapability</th>\n",
       "      <th>businessTrip</th>\n",
       "      <th>languageKnowledge</th>\n",
       "      <th>relocation</th>\n",
       "      <th>innerInfo</th>\n",
       "    </tr>\n",
       "  </thead>\n",
       "  <tbody>\n",
       "    <tr>\n",
       "      <th>0</th>\n",
       "      <td>06a52780-63b5-11ec-83de-839f0d9a4379</td>\n",
       "      <td>faf6f9d0-63ab-11ec-bd03-956717074877</td>\n",
       "      <td>4700000000000</td>\n",
       "      <td>4701300004000</td>\n",
       "      <td>Ленинградская-область,-Скреблово-поселок</td>\n",
       "      <td>1963-03-01T15:00:00+0300</td>\n",
       "      <td>Мужской</td>\n",
       "      <td>60.0</td>\n",
       "      <td>водитель</td>\n",
       "      <td>2021-12-23T08:56:09+0300</td>\n",
       "      <td>...</td>\n",
       "      <td>[]</td>\n",
       "      <td>[{\"companyName\": \"OAO Hовый мир\", \"dateFrom\": ...</td>\n",
       "      <td>Полный-рабочий-день</td>\n",
       "      <td>30000</td>\n",
       "      <td>Полная-занятость</td>\n",
       "      <td>Готов-к-переобучению</td>\n",
       "      <td>Готов-к-командировкам</td>\n",
       "      <td>[{\"codeLanguage\": \"Русский\", \"level\": \"Базовый...</td>\n",
       "      <td>Не-готов-к-переезду</td>\n",
       "      <td>{\"idUser\": \"9a2fe7d0-20ad-11e5-8442-1ff7059456...</td>\n",
       "    </tr>\n",
       "    <tr>\n",
       "      <th>1</th>\n",
       "      <td>06a52740-cd4f-11ec-b524-4febb26dc4ec</td>\n",
       "      <td>9892ca00-b8aa-11eb-9459-a75f74b7b031</td>\n",
       "      <td>7200000000000</td>\n",
       "      <td>7200900100000</td>\n",
       "      <td>Тюменская-область,-г.-Заводоуковск</td>\n",
       "      <td>2006-08-04T16:00:00+0400</td>\n",
       "      <td>Женский</td>\n",
       "      <td>17.0</td>\n",
       "      <td>помощник-воспитателя</td>\n",
       "      <td>2022-05-06T18:13:03+0300</td>\n",
       "      <td>...</td>\n",
       "      <td>[]</td>\n",
       "      <td>[]</td>\n",
       "      <td>Неполный-рабочий-день</td>\n",
       "      <td>8000</td>\n",
       "      <td>Полная-занятость</td>\n",
       "      <td>Не-готов-к-переобучению</td>\n",
       "      <td>Не-готов-к-командировкам</td>\n",
       "      <td>[]</td>\n",
       "      <td>Не-готов-к-переезду</td>\n",
       "      <td>{\"idUser\": \"baa57df0-1ff3-11e5-8442-1ff7059456...</td>\n",
       "    </tr>\n",
       "    <tr>\n",
       "      <th>2</th>\n",
       "      <td>06a52710-696a-11ed-a1b4-27c2a54abdc4</td>\n",
       "      <td>7b52bfa0-e760-11ec-b3c2-d9d2057e0201</td>\n",
       "      <td>4500000000000</td>\n",
       "      <td>4502100005600</td>\n",
       "      <td>Курганская-область,-Маслянское-село</td>\n",
       "      <td>2006-01-12T15:00:00+0300</td>\n",
       "      <td>Женский</td>\n",
       "      <td>17.0</td>\n",
       "      <td>кухонный-рабочий</td>\n",
       "      <td>2022-11-21T09:59:21+0300</td>\n",
       "      <td>...</td>\n",
       "      <td>[]</td>\n",
       "      <td>[]</td>\n",
       "      <td>Неполный-рабочий-день</td>\n",
       "      <td>18000</td>\n",
       "      <td>Частичная-занятость</td>\n",
       "      <td>Готов-к-переобучению</td>\n",
       "      <td>Не-готов-к-командировкам</td>\n",
       "      <td>[{\"codeLanguage\": \"Русский\", \"level\": \"Базовый...</td>\n",
       "      <td>Не-готов-к-переезду</td>\n",
       "      <td>{\"idUser\": \"dc68ed30-fdd8-11ec-ba55-296f7e9e47...</td>\n",
       "    </tr>\n",
       "    <tr>\n",
       "      <th>3</th>\n",
       "      <td>06a52650-8c6a-11ea-81e5-ef76bd2a03c1</td>\n",
       "      <td>61579a80-8c68-11ea-81e5-ef76bd2a03c1</td>\n",
       "      <td>7700000000000</td>\n",
       "      <td>7700000000000</td>\n",
       "      <td>г.-Москва</td>\n",
       "      <td>NaN</td>\n",
       "      <td>Мужской</td>\n",
       "      <td>NaN</td>\n",
       "      <td>Водитель-автомобиля</td>\n",
       "      <td>2020-05-02T14:42:39+0300</td>\n",
       "      <td>...</td>\n",
       "      <td>[]</td>\n",
       "      <td>[]</td>\n",
       "      <td>Сменный-график,Полный-рабочий-день</td>\n",
       "      <td>30000</td>\n",
       "      <td>Полная-занятость</td>\n",
       "      <td>Не-готов-к-переобучению</td>\n",
       "      <td>Не-готов-к-командировкам</td>\n",
       "      <td>[]</td>\n",
       "      <td>Не-готов-к-переезду</td>\n",
       "      <td>{\"idUser\": \"41de2a40-4d9a-11e6-a9d7-5d9e90ab95...</td>\n",
       "    </tr>\n",
       "    <tr>\n",
       "      <th>4</th>\n",
       "      <td>06a52220-79f4-11ed-a8f6-27c2a54abdc4</td>\n",
       "      <td>21246300-79f3-11ed-8702-732207d240c8</td>\n",
       "      <td>5400000000000</td>\n",
       "      <td>5402600000100</td>\n",
       "      <td>Новосибирская-область,-Усть-Тарка-село</td>\n",
       "      <td>1993-02-15T00:00:00+0300</td>\n",
       "      <td>Мужской</td>\n",
       "      <td>30.0</td>\n",
       "      <td>Сварщик</td>\n",
       "      <td>2022-12-12T11:07:30+0300</td>\n",
       "      <td>...</td>\n",
       "      <td>[]</td>\n",
       "      <td>[{\"companyName\": \"ООО Агро-Флора\", \"dateFrom\":...</td>\n",
       "      <td>Полный-рабочий-день</td>\n",
       "      <td>25000</td>\n",
       "      <td>Полная-занятость</td>\n",
       "      <td>Не-готов-к-переобучению</td>\n",
       "      <td>Не-готов-к-командировкам</td>\n",
       "      <td>[{\"codeLanguage\": \"Русский\", \"level\": \"Свободн...</td>\n",
       "      <td>Не-готов-к-переезду</td>\n",
       "      <td>{\"idUser\": \"55cf48c0-2101-11e5-a317-1ff7059456...</td>\n",
       "    </tr>\n",
       "  </tbody>\n",
       "</table>\n",
       "<p>5 rows × 40 columns</p>\n",
       "</div>"
      ],
      "text/plain": [
       "                                     id                           candidateId  \\\n",
       "0  06a52780-63b5-11ec-83de-839f0d9a4379  faf6f9d0-63ab-11ec-bd03-956717074877   \n",
       "1  06a52740-cd4f-11ec-b524-4febb26dc4ec  9892ca00-b8aa-11eb-9459-a75f74b7b031   \n",
       "2  06a52710-696a-11ed-a1b4-27c2a54abdc4  7b52bfa0-e760-11ec-b3c2-d9d2057e0201   \n",
       "3  06a52650-8c6a-11ea-81e5-ef76bd2a03c1  61579a80-8c68-11ea-81e5-ef76bd2a03c1   \n",
       "4  06a52220-79f4-11ed-a8f6-27c2a54abdc4  21246300-79f3-11ed-8702-732207d240c8   \n",
       "\n",
       "   stateRegionCode       locality                              localityName  \\\n",
       "0    4700000000000  4701300004000  Ленинградская-область,-Скреблово-поселок   \n",
       "1    7200000000000  7200900100000        Тюменская-область,-г.-Заводоуковск   \n",
       "2    4500000000000  4502100005600       Курганская-область,-Маслянское-село   \n",
       "3    7700000000000  7700000000000                                 г.-Москва   \n",
       "4    5400000000000  5402600000100    Новосибирская-область,-Усть-Тарка-село   \n",
       "\n",
       "                   birthday   gender   age          positionName  \\\n",
       "0  1963-03-01T15:00:00+0300  Мужской  60.0              водитель   \n",
       "1  2006-08-04T16:00:00+0400  Женский  17.0  помощник-воспитателя   \n",
       "2  2006-01-12T15:00:00+0300  Женский  17.0      кухонный-рабочий   \n",
       "3                       NaN  Мужской   NaN   Водитель-автомобиля   \n",
       "4  1993-02-15T00:00:00+0300  Мужской  30.0               Сварщик   \n",
       "\n",
       "                 dateCreate  ... softSkills  \\\n",
       "0  2021-12-23T08:56:09+0300  ...         []   \n",
       "1  2022-05-06T18:13:03+0300  ...         []   \n",
       "2  2022-11-21T09:59:21+0300  ...         []   \n",
       "3  2020-05-02T14:42:39+0300  ...         []   \n",
       "4  2022-12-12T11:07:30+0300  ...         []   \n",
       "\n",
       "                                  workExperienceList  \\\n",
       "0  [{\"companyName\": \"OAO Hовый мир\", \"dateFrom\": ...   \n",
       "1                                                 []   \n",
       "2                                                 []   \n",
       "3                                                 []   \n",
       "4  [{\"companyName\": \"ООО Агро-Флора\", \"dateFrom\":...   \n",
       "\n",
       "                         scheduleType salary             busyType  \\\n",
       "0                 Полный-рабочий-день  30000     Полная-занятость   \n",
       "1               Неполный-рабочий-день   8000     Полная-занятость   \n",
       "2               Неполный-рабочий-день  18000  Частичная-занятость   \n",
       "3  Сменный-график,Полный-рабочий-день  30000     Полная-занятость   \n",
       "4                 Полный-рабочий-день  25000     Полная-занятость   \n",
       "\n",
       "      retrainingCapability              businessTrip  \\\n",
       "0     Готов-к-переобучению     Готов-к-командировкам   \n",
       "1  Не-готов-к-переобучению  Не-готов-к-командировкам   \n",
       "2     Готов-к-переобучению  Не-готов-к-командировкам   \n",
       "3  Не-готов-к-переобучению  Не-готов-к-командировкам   \n",
       "4  Не-готов-к-переобучению  Не-готов-к-командировкам   \n",
       "\n",
       "                                   languageKnowledge           relocation  \\\n",
       "0  [{\"codeLanguage\": \"Русский\", \"level\": \"Базовый...  Не-готов-к-переезду   \n",
       "1                                                 []  Не-готов-к-переезду   \n",
       "2  [{\"codeLanguage\": \"Русский\", \"level\": \"Базовый...  Не-готов-к-переезду   \n",
       "3                                                 []  Не-готов-к-переезду   \n",
       "4  [{\"codeLanguage\": \"Русский\", \"level\": \"Свободн...  Не-готов-к-переезду   \n",
       "\n",
       "                                           innerInfo  \n",
       "0  {\"idUser\": \"9a2fe7d0-20ad-11e5-8442-1ff7059456...  \n",
       "1  {\"idUser\": \"baa57df0-1ff3-11e5-8442-1ff7059456...  \n",
       "2  {\"idUser\": \"dc68ed30-fdd8-11ec-ba55-296f7e9e47...  \n",
       "3  {\"idUser\": \"41de2a40-4d9a-11e6-a9d7-5d9e90ab95...  \n",
       "4  {\"idUser\": \"55cf48c0-2101-11e5-a317-1ff7059456...  \n",
       "\n",
       "[5 rows x 40 columns]"
      ]
     },
     "execution_count": 171,
     "metadata": {},
     "output_type": "execute_result"
    }
   ],
   "source": [
    "df_resume = pd.read_csv(\n",
    "    \"../datasets/cv.csv\",\n",
    "    encoding=\"UTF-8\",\n",
    "    on_bad_lines=\"skip\",\n",
    "    sep=\"|\",\n",
    "    low_memory=False,\n",
    "    nrows=NROWS,\n",
    ")\n",
    "df_resume.head()"
   ]
  },
  {
   "cell_type": "code",
   "execution_count": 172,
   "metadata": {},
   "outputs": [],
   "source": [
    "df_resume[\"localityName\"] = df_resume[\"localityName\"].apply(remove_divis)  # Место жительства\n",
    "df_resume[\"relocation\"] = df_resume[\"relocation\"].apply(remove_divis)  # Готовность к переезду\n",
    "df_resume[\"businessTrip\"] = df_resume[\"businessTrip\"].apply(remove_divis)  # Готовность к командировкам\n",
    "df_resume[\"retrainingCapability\"] = df_resume[\"retrainingCapability\"].apply(remove_divis)  # Готовность к переобучению\n",
    "df_resume[\"busyType\"] = df_resume[\"busyType\"].apply(remove_divis)  # Тип занятости\n",
    "df_resume[\"scheduleType\"] = df_resume[\"scheduleType\"].apply(remove_divis)  # Желаемый график работы\n",
    "df_resume[\"gender\"] = df_resume[\"gender\"].apply(remove_divis)  # Пол\n",
    "df_resume[\"volunteersInspectionStatus\"] = df_resume[\"volunteersInspectionStatus\"].apply(remove_divis)  # Статус участия в движении DOBRO.RU\n",
    "df_resume[\"narkInspectionStatus\"] = df_resume[\"narkInspectionStatus\"].apply(remove_divis)  # Статус проверки квалификации НАРК\n",
    "df_resume[\"positionName\"] = df_resume[\"positionName\"].apply(remove_divis)  # Желаемая должность\n",
    "df_resume[\"academicDegree\"] = df_resume[\"academicDegree\"].apply(remove_divis)  # Ученая степень\n",
    "df_resume[\"abilympicsParticipation\"] = df_resume[\"abilympicsParticipation\"].apply(remove_divis)  # Участие в движении Абилимпикс\n",
    "df_resume[\"salary\"] = df_resume[\"salary\"].apply(map_digits)  # Желаемая зарплата\n",
    "df_resume[\"experience\"] = df_resume[\"experience\"].apply(map_digits)  # Опыт работы\n",
    "df_resume[\"age\"] = df_resume[\"age\"].apply(map_digits)  # Возраст\n",
    "df_resume[\"country\"] = df_resume[\"country\"].apply(map_country)  # Страна проживания\n",
    "df_resume[\"languageKnowledge\"] = df_resume[\"languageKnowledge\"].apply(map_languageKnowledgeResume)  # Знание языков\n",
    "df_resume[\"driveLicenses\"] = df_resume[\"driveLicenses\"].apply(map_driveLicenses)  # Водительские права\n",
    "df_resume[\"hardSkills\"] = df_resume[\"hardSkills\"].apply(map_hardSkillsResume)  # Профессиональные навыки\n",
    "df_resume[\"softSkills\"] = df_resume[\"softSkills\"].apply(map_softSkillsResume)  # Гибкие навыки\n",
    "df_resume[\"educationList\"] = df_resume[\"educationList\"].apply(map_educationList)  # Образование\n",
    "df_resume[\"workExperienceList\"] = df_resume[\"workExperienceList\"].apply(map_workExperienceList)  # Информация об опыте работы\n",
    "df_resume[\"otherCertificates\"] = df_resume[\"otherCertificates\"].apply(map_otherCertificates)  # Другие сертификаты\n",
    "df_resume[\"additionalEducationList\"] = df_resume[\"additionalEducationList\"].apply(map_additionalEducationList)  # Дополнительное образование\n",
    "df_resume[\"birthday\"] = df_resume[\"birthday\"].apply(map_birthday)  # Дата рождения\n",
    "df_resume[\"worldskills\"] = df_resume[\"worldskills\"].apply(map_worldskills)  # Worldskills компетенции"
   ]
  },
  {
   "cell_type": "code",
   "execution_count": 173,
   "metadata": {},
   "outputs": [],
   "source": [
    "def create_resume_text(row):\n",
    "    parts = []\n",
    "\n",
    "    # Базовая информация\n",
    "    if not pd.isna(row[\"positionName\"]):\n",
    "        parts.append(row[\"positionName\"])\n",
    "    if not pd.isna(row[\"salary\"]):\n",
    "        parts.append(f\"Желаемая зарплата: {row['salary']}\")\n",
    "    if not pd.isna(row[\"age\"]):\n",
    "        parts.append(f\"Возраст: {row['age']}\")\n",
    "    if not pd.isna(row[\"experience\"]):\n",
    "        parts.append(f\"Опыт работы: {row['experience']} лет\")\n",
    "\n",
    "    # Образование и курсы\n",
    "    if not pd.isna(row[\"educationList\"]):\n",
    "        parts.append(f\"Образование: {row['educationList']}\")\n",
    "    if not pd.isna(row[\"additionalEducationList\"]):\n",
    "        parts.append(f\"Дополнительное образование: {row['additionalEducationList']}\")\n",
    "\n",
    "    # Профессиональные и гибкие навыки\n",
    "    if not pd.isna(row[\"hardSkills\"]):\n",
    "        parts.append(f\"Профессиональные навыки: {row['hardSkills']}\")\n",
    "    if not pd.isna(row[\"softSkills\"]):\n",
    "        parts.append(f\"Гибкие навыки: {row['softSkills']}\")\n",
    "\n",
    "    # Опыт работы\n",
    "    if not pd.isna(row[\"workExperienceList\"]):\n",
    "        parts.append(f\"Опыт работы: {row['workExperienceList']}\")\n",
    "\n",
    "    # Дополнительная информация\n",
    "    if not pd.isna(row[\"otherCertificates\"]):\n",
    "        parts.append(f\"Сертификаты и достижения: {row['otherCertificates']}\")\n",
    "    if not pd.isna(row[\"worldskills\"]):\n",
    "        parts.append(f\"Worldskills компетенции: {row['worldskills']}\")\n",
    "\n",
    "    return \" | \".join(parts)\n",
    "\n",
    "\n",
    "resume_texts = df_resume.apply(create_resume_text, axis=1).tolist()"
   ]
  },
  {
   "cell_type": "markdown",
   "metadata": {},
   "source": [
    "## Job\n"
   ]
  },
  {
   "cell_type": "code",
   "execution_count": 174,
   "metadata": {},
   "outputs": [
    {
     "data": {
      "text/html": [
       "<div>\n",
       "<style scoped>\n",
       "    .dataframe tbody tr th:only-of-type {\n",
       "        vertical-align: middle;\n",
       "    }\n",
       "\n",
       "    .dataframe tbody tr th {\n",
       "        vertical-align: top;\n",
       "    }\n",
       "\n",
       "    .dataframe thead th {\n",
       "        text-align: right;\n",
       "    }\n",
       "</style>\n",
       "<table border=\"1\" class=\"dataframe\">\n",
       "  <thead>\n",
       "    <tr style=\"text-align: right;\">\n",
       "      <th></th>\n",
       "      <th>id</th>\n",
       "      <th>academic_degree</th>\n",
       "      <th>accommodation_capability</th>\n",
       "      <th>accommodation_type</th>\n",
       "      <th>additional_premium</th>\n",
       "      <th>additional_requirements</th>\n",
       "      <th>bonus_type</th>\n",
       "      <th>measure_type</th>\n",
       "      <th>busy_type</th>\n",
       "      <th>career_perspective</th>\n",
       "      <th>...</th>\n",
       "      <th>federalDistrictCode</th>\n",
       "      <th>industryBranchName</th>\n",
       "      <th>contactList</th>\n",
       "      <th>company_name</th>\n",
       "      <th>full_company_name</th>\n",
       "      <th>company_inn</th>\n",
       "      <th>company</th>\n",
       "      <th>languageKnowledge</th>\n",
       "      <th>hardSkills</th>\n",
       "      <th>softSkills</th>\n",
       "    </tr>\n",
       "  </thead>\n",
       "  <tbody>\n",
       "    <tr>\n",
       "      <th>0</th>\n",
       "      <td>47c38801-82cc-11ee-a2a9-3950de1bc4b3</td>\n",
       "      <td>NaN</td>\n",
       "      <td>False</td>\n",
       "      <td>NaN</td>\n",
       "      <td>NaN</td>\n",
       "      <td>NaN</td>\n",
       "      <td>NaN</td>\n",
       "      <td>NaN</td>\n",
       "      <td>Полная занятость</td>\n",
       "      <td>False</td>\n",
       "      <td>...</td>\n",
       "      <td>8.0</td>\n",
       "      <td>NaN</td>\n",
       "      <td>NaN</td>\n",
       "      <td>NaN</td>\n",
       "      <td>NaN</td>\n",
       "      <td>7.709970e+09</td>\n",
       "      <td>{\"companycode\":\"5147746474134\",\"hr-agency\":fal...</td>\n",
       "      <td>[]</td>\n",
       "      <td>[]</td>\n",
       "      <td>[]</td>\n",
       "    </tr>\n",
       "    <tr>\n",
       "      <th>1</th>\n",
       "      <td>47a8cf85-4527-11ed-bcc0-791a818bdadb</td>\n",
       "      <td>NaN</td>\n",
       "      <td>False</td>\n",
       "      <td>NaN</td>\n",
       "      <td>NaN</td>\n",
       "      <td>&lt;p&gt;Адреса по вакансии Уборщик производственных...</td>\n",
       "      <td>NaN</td>\n",
       "      <td>NaN</td>\n",
       "      <td>Полная занятость</td>\n",
       "      <td>False</td>\n",
       "      <td>...</td>\n",
       "      <td>4.0</td>\n",
       "      <td>NaN</td>\n",
       "      <td>NaN</td>\n",
       "      <td>NaN</td>\n",
       "      <td>УФПС ПЕРМСКОГО КРАЯ</td>\n",
       "      <td>7.724490e+09</td>\n",
       "      <td>{\"companycode\":\"4be20970-74ff-11ec-833e-4febb2...</td>\n",
       "      <td>[]</td>\n",
       "      <td>[]</td>\n",
       "      <td>[]</td>\n",
       "    </tr>\n",
       "    <tr>\n",
       "      <th>2</th>\n",
       "      <td>479f8795-6678-11ee-ac0f-e7d0d2cf29b1</td>\n",
       "      <td>NaN</td>\n",
       "      <td>True</td>\n",
       "      <td>ROOM</td>\n",
       "      <td>NaN</td>\n",
       "      <td>NaN</td>\n",
       "      <td>NaN</td>\n",
       "      <td>NaN</td>\n",
       "      <td>Полная занятость</td>\n",
       "      <td>False</td>\n",
       "      <td>...</td>\n",
       "      <td>4.0</td>\n",
       "      <td>NaN</td>\n",
       "      <td>NaN</td>\n",
       "      <td>NaN</td>\n",
       "      <td>Индивидуальный предприниматель АХТЯМОВА ДИНАРА...</td>\n",
       "      <td>4.310069e+11</td>\n",
       "      <td>{\"companycode\":\"320435000033341\",\"hr-agency\":f...</td>\n",
       "      <td>[]</td>\n",
       "      <td>[]</td>\n",
       "      <td>[]</td>\n",
       "    </tr>\n",
       "    <tr>\n",
       "      <th>3</th>\n",
       "      <td>478feef5-20a2-11ee-81b8-dd0276383d19</td>\n",
       "      <td>NaN</td>\n",
       "      <td>False</td>\n",
       "      <td>NaN</td>\n",
       "      <td>NaN</td>\n",
       "      <td>NaN</td>\n",
       "      <td>NaN</td>\n",
       "      <td>NaN</td>\n",
       "      <td>Полная занятость</td>\n",
       "      <td>False</td>\n",
       "      <td>...</td>\n",
       "      <td>6.0</td>\n",
       "      <td>NaN</td>\n",
       "      <td>NaN</td>\n",
       "      <td>NaN</td>\n",
       "      <td>ОБЩЕСТВО С ОГРАНИЧЕННОЙ ОТВЕТСТВЕННОСТЬЮ \"ХОЛЛ...</td>\n",
       "      <td>5.505043e+09</td>\n",
       "      <td>{\"companycode\":\"1075505000295\",\"email\":\"gorin_...</td>\n",
       "      <td>[]</td>\n",
       "      <td>[]</td>\n",
       "      <td>[]</td>\n",
       "    </tr>\n",
       "    <tr>\n",
       "      <th>4</th>\n",
       "      <td>478c3f45-9325-11ed-84fd-17f530626801</td>\n",
       "      <td>NaN</td>\n",
       "      <td>False</td>\n",
       "      <td>NaN</td>\n",
       "      <td>NaN</td>\n",
       "      <td>NaN</td>\n",
       "      <td>NaN</td>\n",
       "      <td>NaN</td>\n",
       "      <td>Полная занятость</td>\n",
       "      <td>False</td>\n",
       "      <td>...</td>\n",
       "      <td>5.0</td>\n",
       "      <td>NaN</td>\n",
       "      <td>NaN</td>\n",
       "      <td>NaN</td>\n",
       "      <td>МУНИЦИПАЛЬНОЕ СЕЛЬСКОХОЗЯЙСТВЕННОЕ ПРЕДПРИЯТИЕ...</td>\n",
       "      <td>8.907002e+09</td>\n",
       "      <td>{\"companycode\":\"1028900556838\",\"email\":\"mujiso...</td>\n",
       "      <td>[]</td>\n",
       "      <td>[]</td>\n",
       "      <td>[]</td>\n",
       "    </tr>\n",
       "  </tbody>\n",
       "</table>\n",
       "<p>5 rows × 78 columns</p>\n",
       "</div>"
      ],
      "text/plain": [
       "                                     id academic_degree  \\\n",
       "0  47c38801-82cc-11ee-a2a9-3950de1bc4b3             NaN   \n",
       "1  47a8cf85-4527-11ed-bcc0-791a818bdadb             NaN   \n",
       "2  479f8795-6678-11ee-ac0f-e7d0d2cf29b1             NaN   \n",
       "3  478feef5-20a2-11ee-81b8-dd0276383d19             NaN   \n",
       "4  478c3f45-9325-11ed-84fd-17f530626801             NaN   \n",
       "\n",
       "   accommodation_capability accommodation_type  additional_premium  \\\n",
       "0                     False                NaN                 NaN   \n",
       "1                     False                NaN                 NaN   \n",
       "2                      True               ROOM                 NaN   \n",
       "3                     False                NaN                 NaN   \n",
       "4                     False                NaN                 NaN   \n",
       "\n",
       "                             additional_requirements bonus_type measure_type  \\\n",
       "0                                                NaN        NaN          NaN   \n",
       "1  <p>Адреса по вакансии Уборщик производственных...        NaN          NaN   \n",
       "2                                                NaN        NaN          NaN   \n",
       "3                                                NaN        NaN          NaN   \n",
       "4                                                NaN        NaN          NaN   \n",
       "\n",
       "          busy_type  career_perspective  ... federalDistrictCode  \\\n",
       "0  Полная занятость               False  ...                 8.0   \n",
       "1  Полная занятость               False  ...                 4.0   \n",
       "2  Полная занятость               False  ...                 4.0   \n",
       "3  Полная занятость               False  ...                 6.0   \n",
       "4  Полная занятость               False  ...                 5.0   \n",
       "\n",
       "  industryBranchName  contactList company_name  \\\n",
       "0                NaN          NaN          NaN   \n",
       "1                NaN          NaN          NaN   \n",
       "2                NaN          NaN          NaN   \n",
       "3                NaN          NaN          NaN   \n",
       "4                NaN          NaN          NaN   \n",
       "\n",
       "                                   full_company_name   company_inn  \\\n",
       "0                                                NaN  7.709970e+09   \n",
       "1                                УФПС ПЕРМСКОГО КРАЯ  7.724490e+09   \n",
       "2  Индивидуальный предприниматель АХТЯМОВА ДИНАРА...  4.310069e+11   \n",
       "3  ОБЩЕСТВО С ОГРАНИЧЕННОЙ ОТВЕТСТВЕННОСТЬЮ \"ХОЛЛ...  5.505043e+09   \n",
       "4  МУНИЦИПАЛЬНОЕ СЕЛЬСКОХОЗЯЙСТВЕННОЕ ПРЕДПРИЯТИЕ...  8.907002e+09   \n",
       "\n",
       "                                             company languageKnowledge  \\\n",
       "0  {\"companycode\":\"5147746474134\",\"hr-agency\":fal...                []   \n",
       "1  {\"companycode\":\"4be20970-74ff-11ec-833e-4febb2...                []   \n",
       "2  {\"companycode\":\"320435000033341\",\"hr-agency\":f...                []   \n",
       "3  {\"companycode\":\"1075505000295\",\"email\":\"gorin_...                []   \n",
       "4  {\"companycode\":\"1028900556838\",\"email\":\"mujiso...                []   \n",
       "\n",
       "  hardSkills softSkills  \n",
       "0         []         []  \n",
       "1         []         []  \n",
       "2         []         []  \n",
       "3         []         []  \n",
       "4         []         []  \n",
       "\n",
       "[5 rows x 78 columns]"
      ]
     },
     "execution_count": 174,
     "metadata": {},
     "output_type": "execute_result"
    }
   ],
   "source": [
    "df_job = pd.read_csv(\n",
    "    \"../datasets/vacancy.csv\",\n",
    "    encoding=\"UTF-8\",\n",
    "    on_bad_lines=\"skip\",\n",
    "    sep=\"|\",\n",
    "    low_memory=False,\n",
    "    nrows=NROWS,\n",
    ")\n",
    "df_job.head()"
   ]
  },
  {
   "cell_type": "code",
   "execution_count": 175,
   "metadata": {},
   "outputs": [],
   "source": [
    "df_job[\"position_responsibilities\"] = df_job[\"position_responsibilities\"].apply(remove_html)  # Обязанности на должности\n",
    "df_job[\"position_requirements\"] = df_job[\"position_requirements\"].apply(remove_html)  # Требования к должности\n",
    "df_job[\"additional_requirements\"] = df_job[\"additional_requirements\"].apply(remove_html)  # Дополнительные требования\n",
    "df_job[\"other_vacancy_benefit\"] = df_job[\"other_vacancy_benefit\"].apply(remove_html)  # Другие льготы вакансии\n",
    "df_job[\"softSkills\"] = df_job[\"softSkills\"].apply(map_softSkillsJob)  # Гибкие навыки\n",
    "df_job[\"hardSkills\"] = df_job[\"hardSkills\"].apply(map_hardSkillsJob)  # Профессиональные навыки\n",
    "df_job[\"required_drive_license\"] = df_job[\"required_drive_license\"].apply(map_driveLicenses)  # Требуемые водительские права\n",
    "df_job[\"languageKnowledge\"] = df_job[\"languageKnowledge\"].apply(map_languageKnowledgeJob)  # Знание иностранных языков\n",
    "df_job[\"accommodation_capability\"] = df_job[\"accommodation_capability\"].apply(map_boolean_to_yes_no)  # Возможность предоставления жилья\n",
    "df_job[\"career_perspective\"] = df_job[\"career_perspective\"].apply(map_boolean_to_yes_no)  # Перспективы карьерного роста'\n",
    "df_job[\"is_quoted\"] = df_job[\"is_quoted\"].apply(map_boolean_to_yes_no)  # Квотируемая вакансия\n",
    "df_job[\"retraining_capability\"] = df_job[\"retraining_capability\"].apply(map_boolean_to_yes_no)  # Возможность переобучения\n",
    "df_job[\"is_mobility_program\"] = df_job[\"is_mobility_program\"].apply(map_boolean_to_yes_no)  # Программа мобильности\n",
    "df_job[\"need_medcard\"] = df_job[\"need_medcard\"].apply(map_boolean_to_yes_no)  # Необходимость медицинской книжки\n",
    "df_job[\"is_uzbekistan_recruitment\"] = df_job[\"is_uzbekistan_recruitment\"].apply(map_boolean_to_yes_no)  # Возможность найма граждан Узбекистана\n",
    "df_job[\"accommodation_type\"] = df_job[\"accommodation_type\"].apply(map_accommodation_type)  # Тип предоставляемого жилья\n",
    "df_job[\"company_business_size\"] = df_job[\"company_business_size\"].apply(map_company_business_size)  # Размер компании\n",
    "df_job[\"transport_compensation\"] = df_job[\"transport_compensation\"].apply(map_transport_compensation)  # Компенсация транспортных расходов\n",
    "df_job[\"retraining_grant\"] = df_job[\"retraining_grant\"].apply(map_retraining_grant)  # Наличие стипендии во время переобучения\n",
    "df_job[\"retraining_grant_value\"] = df_job[\"retraining_grant_value\"].apply(map_digits)  # Размер стипендии во время переобучения\n",
    "df_job[\"salary_min\"] = df_job[\"salary_min\"].apply(map_digits)  # Минимальная заработная плата\n",
    "df_job[\"salary_max\"] = df_job[\"salary_max\"].apply(map_digits)  # Максимальная заработная плата\n",
    "df_job[\"additional_premium\"] = df_job[\"additional_premium\"].apply(map_digits)  # Дополнительная премия\n",
    "\n",
    "# 'full_company_name': 'Полное название компании'\n",
    "# 'vacancy_address': 'Адрес вакансии'\n",
    "# 'education': 'Образование'\n",
    "# 'education_speciality': 'Специальность по образованию'\n",
    "# 'required_certificates': 'Требуемые сертификаты'\n",
    "# 'professionalSphereName': 'Название профессиональной сферы'\n",
    "# 'industryBranchName': 'Название отрасли промышленности'\n",
    "# 'academic_degree': 'Ученая степень'\n",
    "# 'vacancy_name': 'Наименование вакансии'\n",
    "# 'required_experience': 'Требуемый опыт работы\n",
    "# 'busy_type': 'Тип занятости'\n",
    "# 'schedule_type': 'Тип графика работы'"
   ]
  },
  {
   "cell_type": "code",
   "execution_count": 176,
   "metadata": {},
   "outputs": [],
   "source": [
    "def create_job_text(row):\n",
    "    parts = []\n",
    "\n",
    "    # Job Details\n",
    "    if not pd.isna(row[\"vacancy_name\"]):\n",
    "        parts.append(f\"{row['vacancy_name']}\")\n",
    "    if not pd.isna(row[\"salary\"]):\n",
    "        parts.append(f\"Заработная плата: {row['salary_min']}\")\n",
    "\n",
    "    if not pd.isna(row[\"position_responsibilities\"]):\n",
    "        parts.append(f\"Обязанности: {row['position_responsibilities']}\")\n",
    "    if not pd.isna(row[\"position_requirements\"]):\n",
    "        parts.append(f\"Требования: {row['position_requirements']}\")\n",
    "    if not pd.isna(row[\"additional_requirements\"]):\n",
    "        parts.append(f\"Дополнительные требования: {row['additional_requirements']}\")\n",
    "\n",
    "    if not pd.isna(row[\"hardSkills\"]):\n",
    "        parts.append(f\"Профессиональные навыки: {row['hardSkills']}\")\n",
    "    if not pd.isna(row[\"softSkills\"]):\n",
    "        parts.append(f\"Гибкие навыки: {row['softSkills']}\")\n",
    "\n",
    "    return \" | \".join(parts)\n",
    "\n",
    "\n",
    "job_texts = df_job.apply(create_job_text, axis=1).tolist()"
   ]
  },
  {
   "cell_type": "markdown",
   "metadata": {},
   "source": [
    "# Text Preprocessing\n"
   ]
  },
  {
   "cell_type": "code",
   "execution_count": 177,
   "metadata": {},
   "outputs": [],
   "source": [
    "# Расширенный список стоп-слов\n",
    "sw = stopwords.words(\"russian\")\n",
    "additional_sw = \"мои оно мной мною мог могут мор мое мочь оба нам нами ними однако нему никуда наш нею неё наша наше наши очень отсюда вон вами ваш ваша ваше ваши весь всем всеми вся ими ею будем будете будешь буду будь будут кому кого которой которого которая которые который которых кем каждое каждая каждые каждый кажется та те тому собой тобой собою тобою тою хотеть хочешь свое свои твой своей своего своих твоя твоё сама сами теми само самом самому самой самого самим самими самих саму чему тебе такое такие также такая сих тех ту эта это этому туда этим этими этих абы аж ан благо буде вроде дабы едва ежели затем зато ибо итак кабы коли коль либо лишь нежели пока покамест покуда поскольку притом причем пускай пусть ровно сиречь словно также точно хотя чисто якобы \"\n",
    "pronouns = \"я мы ты вы он она оно они себя мой твой ваш наш свой его ее их то это тот этот такой таков столько весь всякий сам самый каждый любой иной другой кто что какой каков чей сколько никто ничто некого нечего никакой ничей нисколько кто-то кое-кто кто-нибудь кто-либо что-то кое-что что-нибудь что-либо какой-то какой-либо какой-нибудь некто нечто некоторый некий\"\n",
    "conjunctions = \"что чтобы как когда ибо пока будто словно если потому что оттого что так как так что лишь только как будто с тех пор как в связи с тем что для того чтобы кто как когда который какой где куда откуда\"\n",
    "digits = \"ноль один два три четыре пять шесть семь восемь девять десять одиннадцать двенадцать тринадцать четырнадцать пятнадцать шестнадцать семнадцать восемнадцать девятнадцать двадцать тридцать сорок пятьдесят шестьдесят семьдесят восемьдесят девяносто сто\"\n",
    "modal_words = \"вероятно возможно видимо по-видимому кажется наверное безусловно верно  действительно конечно несомненно разумеется\"\n",
    "particles = \"да так точно ну да не ни неужели ли разве а что ли что за то-то как ну и ведь даже еще ведь уже все все-таки просто прямо вон это вот как словно будто точно как будто вроде как бы именно как раз подлинно ровно лишь только хоть всего исключительно вряд ли едва ли\"\n",
    "prepositions = \"близ  вблизи  вдоль  вокруг  впереди  внутрь  внутри  возле  около  поверх  сверху  сверх  позади  сзади  сквозь  среди  прежде  мимо  вслед  согласно  подобно  навстречу  против  напротив  вопреки  после  кроме  вместе  вдали  наряду  совместно  согласно  нежели вроде от бишь до без аж тех раньше совсем только итак например из прямо ли следствие а поскольку благо пускай благодаря случае затем притом также связи время при чтоб просто того невзирая даром вместо точно покуда тогда зато ради ан буде прежде насчет раз причине тому так даже исходя коль кабы более ровно либо помимо как-то будто если словно лишь бы и не будь пор тоже разве чуть как хотя наряду потому пусть в равно между сверх ибо на судя то чтобы относительно или счет за но сравнению причем оттого есть когда уж ввиду тем для дабы чем хоть с вплоть скоро едва после той да вопреки ежели кроме сиречь же коли под абы несмотря все пока покамест паче прямо-таки перед что по вдруг якобы подобно\"\n",
    "evaluative = \"наиболее наименее лучший больший высший низший худший более менее\"\n",
    "\n",
    "sw.extend(additional_sw.split())\n",
    "sw.extend(pronouns.split())\n",
    "sw.extend(conjunctions.split())\n",
    "sw.extend(digits.split())\n",
    "sw.extend(modal_words.split())\n",
    "sw.extend(particles.split())\n",
    "sw.extend(prepositions.split())\n",
    "sw.extend(evaluative.split())\n",
    "sw = list(set(sw))"
   ]
  },
  {
   "cell_type": "code",
   "execution_count": 178,
   "metadata": {},
   "outputs": [],
   "source": [
    "pattern = re.compile(\"[^а-яА-Яa-zA-Z0-9\\-.,;]+\")\n",
    "morph = pymorphy3.MorphAnalyzer()\n",
    "\n",
    "def tokenize_and_preprocess(text, stopwords):\n",
    "    text = text.lower()\n",
    "    text = pattern.sub(\" \", text)\n",
    "    tokens = simple_preprocess(text, deacc=True)\n",
    "    tokens = [\n",
    "        morph.parse(token)[0].normal_form\n",
    "        for token in tokens\n",
    "        if token not in stopwords and len(token) > 2\n",
    "    ]\n",
    "    return tokens"
   ]
  },
  {
   "cell_type": "code",
   "execution_count": 179,
   "metadata": {},
   "outputs": [
    {
     "name": "stdout",
     "output_type": "stream",
     "text": [
      "CPU times: user 1min 2s, sys: 296 ms, total: 1min 2s\n",
      "Wall time: 1min 2s\n"
     ]
    }
   ],
   "source": [
    "%%time\n",
    "\n",
    "processed_resume_texts = [tokenize_and_preprocess(text, sw) for text in resume_texts]"
   ]
  },
  {
   "cell_type": "code",
   "execution_count": 180,
   "metadata": {},
   "outputs": [
    {
     "name": "stdout",
     "output_type": "stream",
     "text": [
      "CPU times: user 1min 8s, sys: 481 ms, total: 1min 9s\n",
      "Wall time: 1min 9s\n"
     ]
    }
   ],
   "source": [
    "%%time\n",
    "\n",
    "processed_job_texts = [tokenize_and_preprocess(text, sw) for text in job_texts]"
   ]
  },
  {
   "cell_type": "markdown",
   "metadata": {},
   "source": [
    "# Doc2Vec\n"
   ]
  },
  {
   "cell_type": "code",
   "execution_count": 181,
   "metadata": {},
   "outputs": [],
   "source": [
    "tagged_data = [\n",
    "    TaggedDocument(words=text, tags=[f\"resume_{i}\"])\n",
    "    for i, text in enumerate(processed_resume_texts)\n",
    "]\n",
    "tagged_data += [\n",
    "    TaggedDocument(words=text, tags=[f\"job_{i}\"])\n",
    "    for i, text in enumerate(processed_job_texts)\n",
    "]"
   ]
  },
  {
   "cell_type": "code",
   "execution_count": 182,
   "metadata": {},
   "outputs": [
    {
     "data": {
      "text/plain": [
       "13564"
      ]
     },
     "execution_count": 182,
     "metadata": {},
     "output_type": "execute_result"
    }
   ],
   "source": [
    "# Model initialization\n",
    "model = Doc2Vec(\n",
    "    vector_size=VECTOR_SIZE,\n",
    "    min_count=MIN_COUNT,\n",
    "    epochs=EPOCHS,\n",
    "    alpha=ALPHA,\n",
    ")\n",
    "model.build_vocab(tagged_data)\n",
    "\n",
    "keys = model.wv.key_to_index.keys()\n",
    "len(keys) # length of vocabulary keys"
   ]
  },
  {
   "cell_type": "code",
   "execution_count": 183,
   "metadata": {},
   "outputs": [
    {
     "name": "stdout",
     "output_type": "stream",
     "text": [
      "Training epoch 1/100\n",
      "Training epoch 2/100\n",
      "Training epoch 3/100\n",
      "Training epoch 4/100\n",
      "Training epoch 5/100\n",
      "Training epoch 6/100\n",
      "Training epoch 7/100\n",
      "Training epoch 8/100\n",
      "Training epoch 9/100\n",
      "Training epoch 10/100\n",
      "Training epoch 11/100\n",
      "Training epoch 12/100\n",
      "Training epoch 13/100\n",
      "Training epoch 14/100\n",
      "Training epoch 15/100\n",
      "Training epoch 16/100\n",
      "Training epoch 17/100\n",
      "Training epoch 18/100\n",
      "Training epoch 19/100\n",
      "Training epoch 20/100\n",
      "Training epoch 21/100\n",
      "Training epoch 22/100\n",
      "Training epoch 23/100\n",
      "Training epoch 24/100\n",
      "Training epoch 25/100\n",
      "Training epoch 26/100\n",
      "Training epoch 27/100\n",
      "Training epoch 28/100\n",
      "Training epoch 29/100\n",
      "Training epoch 30/100\n",
      "Training epoch 31/100\n",
      "Training epoch 32/100\n",
      "Training epoch 33/100\n",
      "Training epoch 34/100\n",
      "Training epoch 35/100\n",
      "Training epoch 36/100\n",
      "Training epoch 37/100\n",
      "Training epoch 38/100\n",
      "Training epoch 39/100\n",
      "Training epoch 40/100\n",
      "Training epoch 41/100\n",
      "Training epoch 42/100\n",
      "Training epoch 43/100\n",
      "Training epoch 44/100\n",
      "Training epoch 45/100\n",
      "Training epoch 46/100\n",
      "Training epoch 47/100\n",
      "Training epoch 48/100\n",
      "Training epoch 49/100\n",
      "Training epoch 50/100\n",
      "Training epoch 51/100\n",
      "Training epoch 52/100\n",
      "Training epoch 53/100\n",
      "Training epoch 54/100\n",
      "Training epoch 55/100\n",
      "Training epoch 56/100\n",
      "Training epoch 57/100\n",
      "Training epoch 58/100\n",
      "Training epoch 59/100\n",
      "Training epoch 60/100\n",
      "Training epoch 61/100\n",
      "Training epoch 62/100\n",
      "Training epoch 63/100\n",
      "Training epoch 64/100\n",
      "Training epoch 65/100\n",
      "Training epoch 66/100\n",
      "Training epoch 67/100\n",
      "Training epoch 68/100\n",
      "Training epoch 69/100\n",
      "Training epoch 70/100\n",
      "Training epoch 71/100\n",
      "Training epoch 72/100\n",
      "Training epoch 73/100\n",
      "Training epoch 74/100\n",
      "Training epoch 75/100\n",
      "Training epoch 76/100\n",
      "Training epoch 77/100\n",
      "Training epoch 78/100\n",
      "Training epoch 79/100\n",
      "Training epoch 80/100\n",
      "Training epoch 81/100\n",
      "Training epoch 82/100\n",
      "Training epoch 83/100\n",
      "Training epoch 84/100\n",
      "Training epoch 85/100\n",
      "Training epoch 86/100\n",
      "Training epoch 87/100\n",
      "Training epoch 88/100\n",
      "Training epoch 89/100\n",
      "Training epoch 90/100\n",
      "Training epoch 91/100\n",
      "Training epoch 92/100\n",
      "Training epoch 93/100\n",
      "Training epoch 94/100\n",
      "Training epoch 95/100\n",
      "Training epoch 96/100\n",
      "Training epoch 97/100\n",
      "Training epoch 98/100\n",
      "Training epoch 99/100\n",
      "Training epoch 100/100\n",
      "Model saved\n"
     ]
    }
   ],
   "source": [
    "for epoch in range(model.epochs):\n",
    "    print(f\"Training epoch {epoch+1}/{model.epochs}\")\n",
    "    model.train(tagged_data, total_examples=model.corpus_count, epochs=model.epochs)\n",
    "\n",
    "model.save(f\"../models/{MODEL_PATH}.model\")\n",
    "print(\"Model saved\")"
   ]
  },
  {
   "cell_type": "markdown",
   "metadata": {},
   "source": [
    "## Visualisation"
   ]
  },
  {
   "cell_type": "code",
   "execution_count": 237,
   "metadata": {},
   "outputs": [],
   "source": [
    "def plot_embeddings(model, tagged_docs):\n",
    "    # Получение векторов и меток\n",
    "    vectors = [model.infer_vector(doc.words) for doc in tagged_docs]\n",
    "    labels = [doc.tags[0] for doc in tagged_docs]\n",
    "\n",
    "    # Конвертация списка векторов в массив NumPy\n",
    "    vectors_np = np.array(vectors)\n",
    "\n",
    "    # Применение t-SNE для снижения размерности\n",
    "    tsne = TSNE(n_components=2, random_state=0)\n",
    "    vectors_2d = tsne.fit_transform(vectors_np)\n",
    "\n",
    "    traces = []\n",
    "    for point, label in zip(vectors_2d, labels):\n",
    "        color = 'red' if 'resume' in label else 'blue'\n",
    "        trace = go.Scatter(\n",
    "            x=[point[0]], \n",
    "            y=[point[1]],\n",
    "            mode='markers+text',\n",
    "            marker=dict(color=color),\n",
    "            text=label,\n",
    "            textposition=\"bottom center\"\n",
    "        )\n",
    "        traces.append(trace)\n",
    "\n",
    "    # Создание графика\n",
    "    layout = go.Layout(title=\"Embeddings Visualization\")\n",
    "    fig = go.Figure(data=traces, layout=layout)\n",
    "\n",
    "    fig.show()\n"
   ]
  },
  {
   "cell_type": "code",
   "execution_count": 238,
   "metadata": {},
   "outputs": [
    {
     "data": {
      "application/vnd.plotly.v1+json": {
       "config": {
        "plotlyServerURL": "https://plot.ly"
       },
       "data": [
        {
         "marker": {
          "color": "red"
         },
         "mode": "markers+text",
         "text": "resume_0",
         "textposition": "bottom center",
         "type": "scatter",
         "x": [
          -0.21560047566890717
         ],
         "y": [
          14.987982749938965
         ]
        },
        {
         "marker": {
          "color": "red"
         },
         "mode": "markers+text",
         "text": "resume_1",
         "textposition": "bottom center",
         "type": "scatter",
         "x": [
          -22.32912826538086
         ],
         "y": [
          8.833383560180664
         ]
        },
        {
         "marker": {
          "color": "red"
         },
         "mode": "markers+text",
         "text": "resume_2",
         "textposition": "bottom center",
         "type": "scatter",
         "x": [
          -24.716123580932617
         ],
         "y": [
          9.11669921875
         ]
        },
        {
         "marker": {
          "color": "red"
         },
         "mode": "markers+text",
         "text": "resume_3",
         "textposition": "bottom center",
         "type": "scatter",
         "x": [
          -28.443391799926758
         ],
         "y": [
          6.867419719696045
         ]
        },
        {
         "marker": {
          "color": "red"
         },
         "mode": "markers+text",
         "text": "resume_4",
         "textposition": "bottom center",
         "type": "scatter",
         "x": [
          7.243276119232178
         ],
         "y": [
          9.882136344909668
         ]
        },
        {
         "marker": {
          "color": "red"
         },
         "mode": "markers+text",
         "text": "resume_5",
         "textposition": "bottom center",
         "type": "scatter",
         "x": [
          23.60005760192871
         ],
         "y": [
          -13.914252281188965
         ]
        },
        {
         "marker": {
          "color": "red"
         },
         "mode": "markers+text",
         "text": "resume_6",
         "textposition": "bottom center",
         "type": "scatter",
         "x": [
          -40.33519744873047
         ],
         "y": [
          5.062067031860352
         ]
        },
        {
         "marker": {
          "color": "red"
         },
         "mode": "markers+text",
         "text": "resume_7",
         "textposition": "bottom center",
         "type": "scatter",
         "x": [
          -23.4255313873291
         ],
         "y": [
          5.196274280548096
         ]
        },
        {
         "marker": {
          "color": "red"
         },
         "mode": "markers+text",
         "text": "resume_8",
         "textposition": "bottom center",
         "type": "scatter",
         "x": [
          -25.18120002746582
         ],
         "y": [
          12.698261260986328
         ]
        },
        {
         "marker": {
          "color": "red"
         },
         "mode": "markers+text",
         "text": "resume_9",
         "textposition": "bottom center",
         "type": "scatter",
         "x": [
          6.823946475982666
         ],
         "y": [
          14.842835426330566
         ]
        },
        {
         "marker": {
          "color": "red"
         },
         "mode": "markers+text",
         "text": "resume_10",
         "textposition": "bottom center",
         "type": "scatter",
         "x": [
          22.84292984008789
         ],
         "y": [
          -0.2533506453037262
         ]
        },
        {
         "marker": {
          "color": "red"
         },
         "mode": "markers+text",
         "text": "resume_11",
         "textposition": "bottom center",
         "type": "scatter",
         "x": [
          -32.62801742553711
         ],
         "y": [
          10.208803176879883
         ]
        },
        {
         "marker": {
          "color": "red"
         },
         "mode": "markers+text",
         "text": "resume_12",
         "textposition": "bottom center",
         "type": "scatter",
         "x": [
          -39.93974685668945
         ],
         "y": [
          10.84486198425293
         ]
        },
        {
         "marker": {
          "color": "red"
         },
         "mode": "markers+text",
         "text": "resume_13",
         "textposition": "bottom center",
         "type": "scatter",
         "x": [
          4.2062602043151855
         ],
         "y": [
          10.169143676757812
         ]
        },
        {
         "marker": {
          "color": "red"
         },
         "mode": "markers+text",
         "text": "resume_14",
         "textposition": "bottom center",
         "type": "scatter",
         "x": [
          -31.58743667602539
         ],
         "y": [
          8.539064407348633
         ]
        },
        {
         "marker": {
          "color": "red"
         },
         "mode": "markers+text",
         "text": "resume_15",
         "textposition": "bottom center",
         "type": "scatter",
         "x": [
          12.156156539916992
         ],
         "y": [
          2.2460129261016846
         ]
        },
        {
         "marker": {
          "color": "red"
         },
         "mode": "markers+text",
         "text": "resume_16",
         "textposition": "bottom center",
         "type": "scatter",
         "x": [
          -11.360182762145996
         ],
         "y": [
          5.798553466796875
         ]
        },
        {
         "marker": {
          "color": "red"
         },
         "mode": "markers+text",
         "text": "resume_17",
         "textposition": "bottom center",
         "type": "scatter",
         "x": [
          -15.755773544311523
         ],
         "y": [
          -0.6553988456726074
         ]
        },
        {
         "marker": {
          "color": "red"
         },
         "mode": "markers+text",
         "text": "resume_18",
         "textposition": "bottom center",
         "type": "scatter",
         "x": [
          21.271255493164062
         ],
         "y": [
          -21.732738494873047
         ]
        },
        {
         "marker": {
          "color": "red"
         },
         "mode": "markers+text",
         "text": "resume_19",
         "textposition": "bottom center",
         "type": "scatter",
         "x": [
          15.387904167175293
         ],
         "y": [
          -15.717376708984375
         ]
        },
        {
         "marker": {
          "color": "red"
         },
         "mode": "markers+text",
         "text": "resume_20",
         "textposition": "bottom center",
         "type": "scatter",
         "x": [
          -1.5452392101287842
         ],
         "y": [
          -18.711284637451172
         ]
        },
        {
         "marker": {
          "color": "red"
         },
         "mode": "markers+text",
         "text": "resume_21",
         "textposition": "bottom center",
         "type": "scatter",
         "x": [
          25.038822174072266
         ],
         "y": [
          -20.221271514892578
         ]
        },
        {
         "marker": {
          "color": "red"
         },
         "mode": "markers+text",
         "text": "resume_22",
         "textposition": "bottom center",
         "type": "scatter",
         "x": [
          8.44209098815918
         ],
         "y": [
          16.663450241088867
         ]
        },
        {
         "marker": {
          "color": "red"
         },
         "mode": "markers+text",
         "text": "resume_23",
         "textposition": "bottom center",
         "type": "scatter",
         "x": [
          -22.155534744262695
         ],
         "y": [
          6.985477447509766
         ]
        },
        {
         "marker": {
          "color": "red"
         },
         "mode": "markers+text",
         "text": "resume_24",
         "textposition": "bottom center",
         "type": "scatter",
         "x": [
          -44.049232482910156
         ],
         "y": [
          6.714226245880127
         ]
        },
        {
         "marker": {
          "color": "red"
         },
         "mode": "markers+text",
         "text": "resume_25",
         "textposition": "bottom center",
         "type": "scatter",
         "x": [
          -20.009252548217773
         ],
         "y": [
          7.096531867980957
         ]
        },
        {
         "marker": {
          "color": "red"
         },
         "mode": "markers+text",
         "text": "resume_26",
         "textposition": "bottom center",
         "type": "scatter",
         "x": [
          16.07179069519043
         ],
         "y": [
          3.3950085639953613
         ]
        },
        {
         "marker": {
          "color": "red"
         },
         "mode": "markers+text",
         "text": "resume_27",
         "textposition": "bottom center",
         "type": "scatter",
         "x": [
          11.575364112854004
         ],
         "y": [
          -15.812506675720215
         ]
        },
        {
         "marker": {
          "color": "red"
         },
         "mode": "markers+text",
         "text": "resume_28",
         "textposition": "bottom center",
         "type": "scatter",
         "x": [
          23.23581314086914
         ],
         "y": [
          -8.293695449829102
         ]
        },
        {
         "marker": {
          "color": "red"
         },
         "mode": "markers+text",
         "text": "resume_29",
         "textposition": "bottom center",
         "type": "scatter",
         "x": [
          -33.479835510253906
         ],
         "y": [
          5.522222518920898
         ]
        },
        {
         "marker": {
          "color": "red"
         },
         "mode": "markers+text",
         "text": "resume_30",
         "textposition": "bottom center",
         "type": "scatter",
         "x": [
          9.448795318603516
         ],
         "y": [
          -8.269963264465332
         ]
        },
        {
         "marker": {
          "color": "red"
         },
         "mode": "markers+text",
         "text": "resume_31",
         "textposition": "bottom center",
         "type": "scatter",
         "x": [
          25.716543197631836
         ],
         "y": [
          4.380073070526123
         ]
        },
        {
         "marker": {
          "color": "red"
         },
         "mode": "markers+text",
         "text": "resume_32",
         "textposition": "bottom center",
         "type": "scatter",
         "x": [
          8.795738220214844
         ],
         "y": [
          5.072834014892578
         ]
        },
        {
         "marker": {
          "color": "red"
         },
         "mode": "markers+text",
         "text": "resume_33",
         "textposition": "bottom center",
         "type": "scatter",
         "x": [
          -1.4578858613967896
         ],
         "y": [
          5.213698387145996
         ]
        },
        {
         "marker": {
          "color": "red"
         },
         "mode": "markers+text",
         "text": "resume_34",
         "textposition": "bottom center",
         "type": "scatter",
         "x": [
          11.645031929016113
         ],
         "y": [
          10.693312644958496
         ]
        },
        {
         "marker": {
          "color": "red"
         },
         "mode": "markers+text",
         "text": "resume_35",
         "textposition": "bottom center",
         "type": "scatter",
         "x": [
          23.449668884277344
         ],
         "y": [
          0.9265367388725281
         ]
        },
        {
         "marker": {
          "color": "red"
         },
         "mode": "markers+text",
         "text": "resume_36",
         "textposition": "bottom center",
         "type": "scatter",
         "x": [
          21.11245346069336
         ],
         "y": [
          -4.256044864654541
         ]
        },
        {
         "marker": {
          "color": "red"
         },
         "mode": "markers+text",
         "text": "resume_37",
         "textposition": "bottom center",
         "type": "scatter",
         "x": [
          16.711854934692383
         ],
         "y": [
          -25.130504608154297
         ]
        },
        {
         "marker": {
          "color": "red"
         },
         "mode": "markers+text",
         "text": "resume_38",
         "textposition": "bottom center",
         "type": "scatter",
         "x": [
          -29.851720809936523
         ],
         "y": [
          11.347938537597656
         ]
        },
        {
         "marker": {
          "color": "red"
         },
         "mode": "markers+text",
         "text": "resume_39",
         "textposition": "bottom center",
         "type": "scatter",
         "x": [
          -12.734121322631836
         ],
         "y": [
          6.826938152313232
         ]
        },
        {
         "marker": {
          "color": "red"
         },
         "mode": "markers+text",
         "text": "resume_40",
         "textposition": "bottom center",
         "type": "scatter",
         "x": [
          -1.8188663721084595
         ],
         "y": [
          -2.44669771194458
         ]
        },
        {
         "marker": {
          "color": "red"
         },
         "mode": "markers+text",
         "text": "resume_41",
         "textposition": "bottom center",
         "type": "scatter",
         "x": [
          10.554718971252441
         ],
         "y": [
          11.890180587768555
         ]
        },
        {
         "marker": {
          "color": "red"
         },
         "mode": "markers+text",
         "text": "resume_42",
         "textposition": "bottom center",
         "type": "scatter",
         "x": [
          4.943894386291504
         ],
         "y": [
          4.993549823760986
         ]
        },
        {
         "marker": {
          "color": "red"
         },
         "mode": "markers+text",
         "text": "resume_43",
         "textposition": "bottom center",
         "type": "scatter",
         "x": [
          -12.56729793548584
         ],
         "y": [
          7.7719926834106445
         ]
        },
        {
         "marker": {
          "color": "red"
         },
         "mode": "markers+text",
         "text": "resume_44",
         "textposition": "bottom center",
         "type": "scatter",
         "x": [
          -9.476335525512695
         ],
         "y": [
          12.267659187316895
         ]
        },
        {
         "marker": {
          "color": "red"
         },
         "mode": "markers+text",
         "text": "resume_45",
         "textposition": "bottom center",
         "type": "scatter",
         "x": [
          -0.9727245569229126
         ],
         "y": [
          -7.922999858856201
         ]
        },
        {
         "marker": {
          "color": "red"
         },
         "mode": "markers+text",
         "text": "resume_46",
         "textposition": "bottom center",
         "type": "scatter",
         "x": [
          6.97672176361084
         ],
         "y": [
          -13.077966690063477
         ]
        },
        {
         "marker": {
          "color": "red"
         },
         "mode": "markers+text",
         "text": "resume_47",
         "textposition": "bottom center",
         "type": "scatter",
         "x": [
          12.110672950744629
         ],
         "y": [
          -3.2969799041748047
         ]
        },
        {
         "marker": {
          "color": "red"
         },
         "mode": "markers+text",
         "text": "resume_48",
         "textposition": "bottom center",
         "type": "scatter",
         "x": [
          -33.24939727783203
         ],
         "y": [
          6.022235870361328
         ]
        },
        {
         "marker": {
          "color": "red"
         },
         "mode": "markers+text",
         "text": "resume_49",
         "textposition": "bottom center",
         "type": "scatter",
         "x": [
          10.726591110229492
         ],
         "y": [
          6.87537145614624
         ]
        },
        {
         "marker": {
          "color": "red"
         },
         "mode": "markers+text",
         "text": "resume_50",
         "textposition": "bottom center",
         "type": "scatter",
         "x": [
          -27.621864318847656
         ],
         "y": [
          7.578348159790039
         ]
        },
        {
         "marker": {
          "color": "red"
         },
         "mode": "markers+text",
         "text": "resume_51",
         "textposition": "bottom center",
         "type": "scatter",
         "x": [
          -16.669780731201172
         ],
         "y": [
          15.338300704956055
         ]
        },
        {
         "marker": {
          "color": "red"
         },
         "mode": "markers+text",
         "text": "resume_52",
         "textposition": "bottom center",
         "type": "scatter",
         "x": [
          11.261919021606445
         ],
         "y": [
          -16.031091690063477
         ]
        },
        {
         "marker": {
          "color": "red"
         },
         "mode": "markers+text",
         "text": "resume_53",
         "textposition": "bottom center",
         "type": "scatter",
         "x": [
          2.435260057449341
         ],
         "y": [
          -11.325565338134766
         ]
        },
        {
         "marker": {
          "color": "red"
         },
         "mode": "markers+text",
         "text": "resume_54",
         "textposition": "bottom center",
         "type": "scatter",
         "x": [
          9.502302169799805
         ],
         "y": [
          -3.2530698776245117
         ]
        },
        {
         "marker": {
          "color": "red"
         },
         "mode": "markers+text",
         "text": "resume_55",
         "textposition": "bottom center",
         "type": "scatter",
         "x": [
          0.3603019714355469
         ],
         "y": [
          -8.8567476272583
         ]
        },
        {
         "marker": {
          "color": "red"
         },
         "mode": "markers+text",
         "text": "resume_56",
         "textposition": "bottom center",
         "type": "scatter",
         "x": [
          18.774192810058594
         ],
         "y": [
          -1.9075684547424316
         ]
        },
        {
         "marker": {
          "color": "red"
         },
         "mode": "markers+text",
         "text": "resume_57",
         "textposition": "bottom center",
         "type": "scatter",
         "x": [
          14.881033897399902
         ],
         "y": [
          1.8878848552703857
         ]
        },
        {
         "marker": {
          "color": "red"
         },
         "mode": "markers+text",
         "text": "resume_58",
         "textposition": "bottom center",
         "type": "scatter",
         "x": [
          12.737916946411133
         ],
         "y": [
          3.280646562576294
         ]
        },
        {
         "marker": {
          "color": "red"
         },
         "mode": "markers+text",
         "text": "resume_59",
         "textposition": "bottom center",
         "type": "scatter",
         "x": [
          4.406492233276367
         ],
         "y": [
          0.531497597694397
         ]
        },
        {
         "marker": {
          "color": "red"
         },
         "mode": "markers+text",
         "text": "resume_60",
         "textposition": "bottom center",
         "type": "scatter",
         "x": [
          15.282559394836426
         ],
         "y": [
          -19.92793846130371
         ]
        },
        {
         "marker": {
          "color": "red"
         },
         "mode": "markers+text",
         "text": "resume_61",
         "textposition": "bottom center",
         "type": "scatter",
         "x": [
          -27.29703712463379
         ],
         "y": [
          5.663750648498535
         ]
        },
        {
         "marker": {
          "color": "red"
         },
         "mode": "markers+text",
         "text": "resume_62",
         "textposition": "bottom center",
         "type": "scatter",
         "x": [
          19.610698699951172
         ],
         "y": [
          -3.7303500175476074
         ]
        },
        {
         "marker": {
          "color": "red"
         },
         "mode": "markers+text",
         "text": "resume_63",
         "textposition": "bottom center",
         "type": "scatter",
         "x": [
          -10.103958129882812
         ],
         "y": [
          9.199090003967285
         ]
        },
        {
         "marker": {
          "color": "red"
         },
         "mode": "markers+text",
         "text": "resume_64",
         "textposition": "bottom center",
         "type": "scatter",
         "x": [
          -0.38255345821380615
         ],
         "y": [
          9.261195182800293
         ]
        },
        {
         "marker": {
          "color": "red"
         },
         "mode": "markers+text",
         "text": "resume_65",
         "textposition": "bottom center",
         "type": "scatter",
         "x": [
          16.62456512451172
         ],
         "y": [
          -22.85279655456543
         ]
        },
        {
         "marker": {
          "color": "red"
         },
         "mode": "markers+text",
         "text": "resume_66",
         "textposition": "bottom center",
         "type": "scatter",
         "x": [
          -29.278139114379883
         ],
         "y": [
          1.5732941627502441
         ]
        },
        {
         "marker": {
          "color": "red"
         },
         "mode": "markers+text",
         "text": "resume_67",
         "textposition": "bottom center",
         "type": "scatter",
         "x": [
          17.87506103515625
         ],
         "y": [
          -23.93679428100586
         ]
        },
        {
         "marker": {
          "color": "red"
         },
         "mode": "markers+text",
         "text": "resume_68",
         "textposition": "bottom center",
         "type": "scatter",
         "x": [
          -41.99730682373047
         ],
         "y": [
          8.57917594909668
         ]
        },
        {
         "marker": {
          "color": "red"
         },
         "mode": "markers+text",
         "text": "resume_69",
         "textposition": "bottom center",
         "type": "scatter",
         "x": [
          -39.08238983154297
         ],
         "y": [
          10.929753303527832
         ]
        },
        {
         "marker": {
          "color": "red"
         },
         "mode": "markers+text",
         "text": "resume_70",
         "textposition": "bottom center",
         "type": "scatter",
         "x": [
          11.596145629882812
         ],
         "y": [
          -14.149491310119629
         ]
        },
        {
         "marker": {
          "color": "red"
         },
         "mode": "markers+text",
         "text": "resume_71",
         "textposition": "bottom center",
         "type": "scatter",
         "x": [
          -2.815420627593994
         ],
         "y": [
          -4.5412187576293945
         ]
        },
        {
         "marker": {
          "color": "red"
         },
         "mode": "markers+text",
         "text": "resume_72",
         "textposition": "bottom center",
         "type": "scatter",
         "x": [
          21.3564453125
         ],
         "y": [
          -10.987529754638672
         ]
        },
        {
         "marker": {
          "color": "red"
         },
         "mode": "markers+text",
         "text": "resume_73",
         "textposition": "bottom center",
         "type": "scatter",
         "x": [
          -5.839027404785156
         ],
         "y": [
          6.3986496925354
         ]
        },
        {
         "marker": {
          "color": "red"
         },
         "mode": "markers+text",
         "text": "resume_74",
         "textposition": "bottom center",
         "type": "scatter",
         "x": [
          3.3488352298736572
         ],
         "y": [
          -0.0272371806204319
         ]
        },
        {
         "marker": {
          "color": "red"
         },
         "mode": "markers+text",
         "text": "resume_75",
         "textposition": "bottom center",
         "type": "scatter",
         "x": [
          24.627634048461914
         ],
         "y": [
          -12.610836029052734
         ]
        },
        {
         "marker": {
          "color": "red"
         },
         "mode": "markers+text",
         "text": "resume_76",
         "textposition": "bottom center",
         "type": "scatter",
         "x": [
          22.592130661010742
         ],
         "y": [
          -2.103787899017334
         ]
        },
        {
         "marker": {
          "color": "red"
         },
         "mode": "markers+text",
         "text": "resume_77",
         "textposition": "bottom center",
         "type": "scatter",
         "x": [
          -32.86363983154297
         ],
         "y": [
          3.95974063873291
         ]
        },
        {
         "marker": {
          "color": "red"
         },
         "mode": "markers+text",
         "text": "resume_78",
         "textposition": "bottom center",
         "type": "scatter",
         "x": [
          -3.109945774078369
         ],
         "y": [
          -0.035844940692186356
         ]
        },
        {
         "marker": {
          "color": "red"
         },
         "mode": "markers+text",
         "text": "resume_79",
         "textposition": "bottom center",
         "type": "scatter",
         "x": [
          -6.484927177429199
         ],
         "y": [
          -6.233561992645264
         ]
        },
        {
         "marker": {
          "color": "red"
         },
         "mode": "markers+text",
         "text": "resume_80",
         "textposition": "bottom center",
         "type": "scatter",
         "x": [
          27.710269927978516
         ],
         "y": [
          -0.47158485651016235
         ]
        },
        {
         "marker": {
          "color": "red"
         },
         "mode": "markers+text",
         "text": "resume_81",
         "textposition": "bottom center",
         "type": "scatter",
         "x": [
          -6.945247650146484
         ],
         "y": [
          7.619755268096924
         ]
        },
        {
         "marker": {
          "color": "red"
         },
         "mode": "markers+text",
         "text": "resume_82",
         "textposition": "bottom center",
         "type": "scatter",
         "x": [
          -5.215740203857422
         ],
         "y": [
          1.0675610303878784
         ]
        },
        {
         "marker": {
          "color": "red"
         },
         "mode": "markers+text",
         "text": "resume_83",
         "textposition": "bottom center",
         "type": "scatter",
         "x": [
          -25.112794876098633
         ],
         "y": [
          7.358656883239746
         ]
        },
        {
         "marker": {
          "color": "red"
         },
         "mode": "markers+text",
         "text": "resume_84",
         "textposition": "bottom center",
         "type": "scatter",
         "x": [
          -16.100927352905273
         ],
         "y": [
          11.889121055603027
         ]
        },
        {
         "marker": {
          "color": "red"
         },
         "mode": "markers+text",
         "text": "resume_85",
         "textposition": "bottom center",
         "type": "scatter",
         "x": [
          -41.78897476196289
         ],
         "y": [
          11.308879852294922
         ]
        },
        {
         "marker": {
          "color": "red"
         },
         "mode": "markers+text",
         "text": "resume_86",
         "textposition": "bottom center",
         "type": "scatter",
         "x": [
          25.65687370300293
         ],
         "y": [
          1.6697019338607788
         ]
        },
        {
         "marker": {
          "color": "red"
         },
         "mode": "markers+text",
         "text": "resume_87",
         "textposition": "bottom center",
         "type": "scatter",
         "x": [
          -22.409543991088867
         ],
         "y": [
          9.013707160949707
         ]
        },
        {
         "marker": {
          "color": "red"
         },
         "mode": "markers+text",
         "text": "resume_88",
         "textposition": "bottom center",
         "type": "scatter",
         "x": [
          24.94345474243164
         ],
         "y": [
          -5.090583324432373
         ]
        },
        {
         "marker": {
          "color": "red"
         },
         "mode": "markers+text",
         "text": "resume_89",
         "textposition": "bottom center",
         "type": "scatter",
         "x": [
          20.073261260986328
         ],
         "y": [
          -6.638966083526611
         ]
        },
        {
         "marker": {
          "color": "red"
         },
         "mode": "markers+text",
         "text": "resume_90",
         "textposition": "bottom center",
         "type": "scatter",
         "x": [
          0.15542681515216827
         ],
         "y": [
          0.22740983963012695
         ]
        },
        {
         "marker": {
          "color": "red"
         },
         "mode": "markers+text",
         "text": "resume_91",
         "textposition": "bottom center",
         "type": "scatter",
         "x": [
          8.11186408996582
         ],
         "y": [
          -7.3915934562683105
         ]
        },
        {
         "marker": {
          "color": "red"
         },
         "mode": "markers+text",
         "text": "resume_92",
         "textposition": "bottom center",
         "type": "scatter",
         "x": [
          17.766305923461914
         ],
         "y": [
          1.6259393692016602
         ]
        },
        {
         "marker": {
          "color": "red"
         },
         "mode": "markers+text",
         "text": "resume_93",
         "textposition": "bottom center",
         "type": "scatter",
         "x": [
          27.9803524017334
         ],
         "y": [
          -9.983266830444336
         ]
        },
        {
         "marker": {
          "color": "red"
         },
         "mode": "markers+text",
         "text": "resume_94",
         "textposition": "bottom center",
         "type": "scatter",
         "x": [
          -10.468409538269043
         ],
         "y": [
          4.302771091461182
         ]
        },
        {
         "marker": {
          "color": "red"
         },
         "mode": "markers+text",
         "text": "resume_95",
         "textposition": "bottom center",
         "type": "scatter",
         "x": [
          15.759273529052734
         ],
         "y": [
          -22.508075714111328
         ]
        },
        {
         "marker": {
          "color": "red"
         },
         "mode": "markers+text",
         "text": "resume_96",
         "textposition": "bottom center",
         "type": "scatter",
         "x": [
          16.96402931213379
         ],
         "y": [
          -18.309144973754883
         ]
        },
        {
         "marker": {
          "color": "red"
         },
         "mode": "markers+text",
         "text": "resume_97",
         "textposition": "bottom center",
         "type": "scatter",
         "x": [
          -10.486740112304688
         ],
         "y": [
          8.386653900146484
         ]
        },
        {
         "marker": {
          "color": "red"
         },
         "mode": "markers+text",
         "text": "resume_98",
         "textposition": "bottom center",
         "type": "scatter",
         "x": [
          -13.441557884216309
         ],
         "y": [
          -7.059207916259766
         ]
        },
        {
         "marker": {
          "color": "red"
         },
         "mode": "markers+text",
         "text": "resume_99",
         "textposition": "bottom center",
         "type": "scatter",
         "x": [
          10.913423538208008
         ],
         "y": [
          -18.319671630859375
         ]
        },
        {
         "marker": {
          "color": "red"
         },
         "mode": "markers+text",
         "text": "resume_100",
         "textposition": "bottom center",
         "type": "scatter",
         "x": [
          -26.51930809020996
         ],
         "y": [
          6.021446704864502
         ]
        },
        {
         "marker": {
          "color": "red"
         },
         "mode": "markers+text",
         "text": "resume_101",
         "textposition": "bottom center",
         "type": "scatter",
         "x": [
          1.9891201257705688
         ],
         "y": [
          3.8622336387634277
         ]
        },
        {
         "marker": {
          "color": "red"
         },
         "mode": "markers+text",
         "text": "resume_102",
         "textposition": "bottom center",
         "type": "scatter",
         "x": [
          -8.456460952758789
         ],
         "y": [
          -10.623773574829102
         ]
        },
        {
         "marker": {
          "color": "red"
         },
         "mode": "markers+text",
         "text": "resume_103",
         "textposition": "bottom center",
         "type": "scatter",
         "x": [
          0.48297223448753357
         ],
         "y": [
          -6.4861955642700195
         ]
        },
        {
         "marker": {
          "color": "red"
         },
         "mode": "markers+text",
         "text": "resume_104",
         "textposition": "bottom center",
         "type": "scatter",
         "x": [
          3.9887592792510986
         ],
         "y": [
          -6.047610759735107
         ]
        },
        {
         "marker": {
          "color": "red"
         },
         "mode": "markers+text",
         "text": "resume_105",
         "textposition": "bottom center",
         "type": "scatter",
         "x": [
          -37.419334411621094
         ],
         "y": [
          0.49714478850364685
         ]
        },
        {
         "marker": {
          "color": "red"
         },
         "mode": "markers+text",
         "text": "resume_106",
         "textposition": "bottom center",
         "type": "scatter",
         "x": [
          -9.503033638000488
         ],
         "y": [
          -0.5894740223884583
         ]
        },
        {
         "marker": {
          "color": "red"
         },
         "mode": "markers+text",
         "text": "resume_107",
         "textposition": "bottom center",
         "type": "scatter",
         "x": [
          -9.752208709716797
         ],
         "y": [
          3.170116901397705
         ]
        },
        {
         "marker": {
          "color": "red"
         },
         "mode": "markers+text",
         "text": "resume_108",
         "textposition": "bottom center",
         "type": "scatter",
         "x": [
          11.752544403076172
         ],
         "y": [
          -19.652660369873047
         ]
        },
        {
         "marker": {
          "color": "red"
         },
         "mode": "markers+text",
         "text": "resume_109",
         "textposition": "bottom center",
         "type": "scatter",
         "x": [
          -12.513810157775879
         ],
         "y": [
          -5.18984317779541
         ]
        },
        {
         "marker": {
          "color": "red"
         },
         "mode": "markers+text",
         "text": "resume_110",
         "textposition": "bottom center",
         "type": "scatter",
         "x": [
          25.22482681274414
         ],
         "y": [
          -17.29638671875
         ]
        },
        {
         "marker": {
          "color": "red"
         },
         "mode": "markers+text",
         "text": "resume_111",
         "textposition": "bottom center",
         "type": "scatter",
         "x": [
          -33.571937561035156
         ],
         "y": [
          1.8248002529144287
         ]
        },
        {
         "marker": {
          "color": "red"
         },
         "mode": "markers+text",
         "text": "resume_112",
         "textposition": "bottom center",
         "type": "scatter",
         "x": [
          18.021713256835938
         ],
         "y": [
          3.1857407093048096
         ]
        },
        {
         "marker": {
          "color": "red"
         },
         "mode": "markers+text",
         "text": "resume_113",
         "textposition": "bottom center",
         "type": "scatter",
         "x": [
          27.148841857910156
         ],
         "y": [
          -22.294668197631836
         ]
        },
        {
         "marker": {
          "color": "red"
         },
         "mode": "markers+text",
         "text": "resume_114",
         "textposition": "bottom center",
         "type": "scatter",
         "x": [
          -31.89944839477539
         ],
         "y": [
          8.667738914489746
         ]
        },
        {
         "marker": {
          "color": "red"
         },
         "mode": "markers+text",
         "text": "resume_115",
         "textposition": "bottom center",
         "type": "scatter",
         "x": [
          6.176669597625732
         ],
         "y": [
          -6.261287689208984
         ]
        },
        {
         "marker": {
          "color": "red"
         },
         "mode": "markers+text",
         "text": "resume_116",
         "textposition": "bottom center",
         "type": "scatter",
         "x": [
          -7.888467311859131
         ],
         "y": [
          2.8248817920684814
         ]
        },
        {
         "marker": {
          "color": "red"
         },
         "mode": "markers+text",
         "text": "resume_117",
         "textposition": "bottom center",
         "type": "scatter",
         "x": [
          12.657831192016602
         ],
         "y": [
          -4.148721694946289
         ]
        },
        {
         "marker": {
          "color": "red"
         },
         "mode": "markers+text",
         "text": "resume_118",
         "textposition": "bottom center",
         "type": "scatter",
         "x": [
          9.731969833374023
         ],
         "y": [
          -3.2306125164031982
         ]
        },
        {
         "marker": {
          "color": "red"
         },
         "mode": "markers+text",
         "text": "resume_119",
         "textposition": "bottom center",
         "type": "scatter",
         "x": [
          27.482648849487305
         ],
         "y": [
          -10.302506446838379
         ]
        },
        {
         "marker": {
          "color": "red"
         },
         "mode": "markers+text",
         "text": "resume_120",
         "textposition": "bottom center",
         "type": "scatter",
         "x": [
          -37.07174301147461
         ],
         "y": [
          0.6024343371391296
         ]
        },
        {
         "marker": {
          "color": "red"
         },
         "mode": "markers+text",
         "text": "resume_121",
         "textposition": "bottom center",
         "type": "scatter",
         "x": [
          -1.2203210592269897
         ],
         "y": [
          2.124962329864502
         ]
        },
        {
         "marker": {
          "color": "red"
         },
         "mode": "markers+text",
         "text": "resume_122",
         "textposition": "bottom center",
         "type": "scatter",
         "x": [
          -11.259519577026367
         ],
         "y": [
          -5.7123003005981445
         ]
        },
        {
         "marker": {
          "color": "red"
         },
         "mode": "markers+text",
         "text": "resume_123",
         "textposition": "bottom center",
         "type": "scatter",
         "x": [
          -4.4601850509643555
         ],
         "y": [
          -2.99969220161438
         ]
        },
        {
         "marker": {
          "color": "red"
         },
         "mode": "markers+text",
         "text": "resume_124",
         "textposition": "bottom center",
         "type": "scatter",
         "x": [
          22.458826065063477
         ],
         "y": [
          1.5778257846832275
         ]
        },
        {
         "marker": {
          "color": "red"
         },
         "mode": "markers+text",
         "text": "resume_125",
         "textposition": "bottom center",
         "type": "scatter",
         "x": [
          22.66738510131836
         ],
         "y": [
          0.8722983002662659
         ]
        },
        {
         "marker": {
          "color": "red"
         },
         "mode": "markers+text",
         "text": "resume_126",
         "textposition": "bottom center",
         "type": "scatter",
         "x": [
          9.666502952575684
         ],
         "y": [
          -18.827362060546875
         ]
        },
        {
         "marker": {
          "color": "red"
         },
         "mode": "markers+text",
         "text": "resume_127",
         "textposition": "bottom center",
         "type": "scatter",
         "x": [
          -13.212722778320312
         ],
         "y": [
          8.567285537719727
         ]
        },
        {
         "marker": {
          "color": "red"
         },
         "mode": "markers+text",
         "text": "resume_128",
         "textposition": "bottom center",
         "type": "scatter",
         "x": [
          18.598472595214844
         ],
         "y": [
          -6.843684196472168
         ]
        },
        {
         "marker": {
          "color": "red"
         },
         "mode": "markers+text",
         "text": "resume_129",
         "textposition": "bottom center",
         "type": "scatter",
         "x": [
          0.8731178641319275
         ],
         "y": [
          -12.500161170959473
         ]
        },
        {
         "marker": {
          "color": "red"
         },
         "mode": "markers+text",
         "text": "resume_130",
         "textposition": "bottom center",
         "type": "scatter",
         "x": [
          20.0194149017334
         ],
         "y": [
          -4.472341537475586
         ]
        },
        {
         "marker": {
          "color": "red"
         },
         "mode": "markers+text",
         "text": "resume_131",
         "textposition": "bottom center",
         "type": "scatter",
         "x": [
          -19.425458908081055
         ],
         "y": [
          7.892641067504883
         ]
        },
        {
         "marker": {
          "color": "red"
         },
         "mode": "markers+text",
         "text": "resume_132",
         "textposition": "bottom center",
         "type": "scatter",
         "x": [
          11.530851364135742
         ],
         "y": [
          -13.73345947265625
         ]
        },
        {
         "marker": {
          "color": "red"
         },
         "mode": "markers+text",
         "text": "resume_133",
         "textposition": "bottom center",
         "type": "scatter",
         "x": [
          -4.670405387878418
         ],
         "y": [
          5.284263610839844
         ]
        },
        {
         "marker": {
          "color": "red"
         },
         "mode": "markers+text",
         "text": "resume_134",
         "textposition": "bottom center",
         "type": "scatter",
         "x": [
          -8.640003204345703
         ],
         "y": [
          3.693279266357422
         ]
        },
        {
         "marker": {
          "color": "red"
         },
         "mode": "markers+text",
         "text": "resume_135",
         "textposition": "bottom center",
         "type": "scatter",
         "x": [
          -39.858516693115234
         ],
         "y": [
          12.218823432922363
         ]
        },
        {
         "marker": {
          "color": "red"
         },
         "mode": "markers+text",
         "text": "resume_136",
         "textposition": "bottom center",
         "type": "scatter",
         "x": [
          -34.48603439331055
         ],
         "y": [
          15.331583976745605
         ]
        },
        {
         "marker": {
          "color": "red"
         },
         "mode": "markers+text",
         "text": "resume_137",
         "textposition": "bottom center",
         "type": "scatter",
         "x": [
          6.891795635223389
         ],
         "y": [
          -18.51416015625
         ]
        },
        {
         "marker": {
          "color": "red"
         },
         "mode": "markers+text",
         "text": "resume_138",
         "textposition": "bottom center",
         "type": "scatter",
         "x": [
          -29.172714233398438
         ],
         "y": [
          4.241938591003418
         ]
        },
        {
         "marker": {
          "color": "red"
         },
         "mode": "markers+text",
         "text": "resume_139",
         "textposition": "bottom center",
         "type": "scatter",
         "x": [
          -8.951839447021484
         ],
         "y": [
          9.507160186767578
         ]
        },
        {
         "marker": {
          "color": "red"
         },
         "mode": "markers+text",
         "text": "resume_140",
         "textposition": "bottom center",
         "type": "scatter",
         "x": [
          -38.11665725708008
         ],
         "y": [
          8.274872779846191
         ]
        },
        {
         "marker": {
          "color": "red"
         },
         "mode": "markers+text",
         "text": "resume_141",
         "textposition": "bottom center",
         "type": "scatter",
         "x": [
          21.868906021118164
         ],
         "y": [
          -20.6566104888916
         ]
        },
        {
         "marker": {
          "color": "red"
         },
         "mode": "markers+text",
         "text": "resume_142",
         "textposition": "bottom center",
         "type": "scatter",
         "x": [
          -34.28030776977539
         ],
         "y": [
          8.101195335388184
         ]
        },
        {
         "marker": {
          "color": "red"
         },
         "mode": "markers+text",
         "text": "resume_143",
         "textposition": "bottom center",
         "type": "scatter",
         "x": [
          -31.562854766845703
         ],
         "y": [
          7.562105655670166
         ]
        },
        {
         "marker": {
          "color": "red"
         },
         "mode": "markers+text",
         "text": "resume_144",
         "textposition": "bottom center",
         "type": "scatter",
         "x": [
          17.841039657592773
         ],
         "y": [
          5.860334873199463
         ]
        },
        {
         "marker": {
          "color": "red"
         },
         "mode": "markers+text",
         "text": "resume_145",
         "textposition": "bottom center",
         "type": "scatter",
         "x": [
          3.1883742809295654
         ],
         "y": [
          12.593047142028809
         ]
        },
        {
         "marker": {
          "color": "red"
         },
         "mode": "markers+text",
         "text": "resume_146",
         "textposition": "bottom center",
         "type": "scatter",
         "x": [
          -5.474812030792236
         ],
         "y": [
          3.553417444229126
         ]
        },
        {
         "marker": {
          "color": "red"
         },
         "mode": "markers+text",
         "text": "resume_147",
         "textposition": "bottom center",
         "type": "scatter",
         "x": [
          29.7453670501709
         ],
         "y": [
          -3.372765302658081
         ]
        },
        {
         "marker": {
          "color": "red"
         },
         "mode": "markers+text",
         "text": "resume_148",
         "textposition": "bottom center",
         "type": "scatter",
         "x": [
          -38.11389923095703
         ],
         "y": [
          0.801183819770813
         ]
        },
        {
         "marker": {
          "color": "red"
         },
         "mode": "markers+text",
         "text": "resume_149",
         "textposition": "bottom center",
         "type": "scatter",
         "x": [
          7.837621212005615
         ],
         "y": [
          2.8219382762908936
         ]
        },
        {
         "marker": {
          "color": "red"
         },
         "mode": "markers+text",
         "text": "resume_150",
         "textposition": "bottom center",
         "type": "scatter",
         "x": [
          18.38038444519043
         ],
         "y": [
          -18.35951805114746
         ]
        },
        {
         "marker": {
          "color": "red"
         },
         "mode": "markers+text",
         "text": "resume_151",
         "textposition": "bottom center",
         "type": "scatter",
         "x": [
          20.00822639465332
         ],
         "y": [
          -2.5339748859405518
         ]
        },
        {
         "marker": {
          "color": "red"
         },
         "mode": "markers+text",
         "text": "resume_152",
         "textposition": "bottom center",
         "type": "scatter",
         "x": [
          -25.899887084960938
         ],
         "y": [
          8.335384368896484
         ]
        },
        {
         "marker": {
          "color": "red"
         },
         "mode": "markers+text",
         "text": "resume_153",
         "textposition": "bottom center",
         "type": "scatter",
         "x": [
          -42.59531021118164
         ],
         "y": [
          12.327011108398438
         ]
        },
        {
         "marker": {
          "color": "red"
         },
         "mode": "markers+text",
         "text": "resume_154",
         "textposition": "bottom center",
         "type": "scatter",
         "x": [
          -9.382879257202148
         ],
         "y": [
          12.08872127532959
         ]
        },
        {
         "marker": {
          "color": "red"
         },
         "mode": "markers+text",
         "text": "resume_155",
         "textposition": "bottom center",
         "type": "scatter",
         "x": [
          6.377249717712402
         ],
         "y": [
          8.187779426574707
         ]
        },
        {
         "marker": {
          "color": "red"
         },
         "mode": "markers+text",
         "text": "resume_156",
         "textposition": "bottom center",
         "type": "scatter",
         "x": [
          -39.140602111816406
         ],
         "y": [
          4.184895992279053
         ]
        },
        {
         "marker": {
          "color": "red"
         },
         "mode": "markers+text",
         "text": "resume_157",
         "textposition": "bottom center",
         "type": "scatter",
         "x": [
          5.819764137268066
         ],
         "y": [
          -5.033294200897217
         ]
        },
        {
         "marker": {
          "color": "red"
         },
         "mode": "markers+text",
         "text": "resume_158",
         "textposition": "bottom center",
         "type": "scatter",
         "x": [
          14.256050109863281
         ],
         "y": [
          -1.529208779335022
         ]
        },
        {
         "marker": {
          "color": "red"
         },
         "mode": "markers+text",
         "text": "resume_159",
         "textposition": "bottom center",
         "type": "scatter",
         "x": [
          16.35286521911621
         ],
         "y": [
          -8.745503425598145
         ]
        },
        {
         "marker": {
          "color": "red"
         },
         "mode": "markers+text",
         "text": "resume_160",
         "textposition": "bottom center",
         "type": "scatter",
         "x": [
          20.389869689941406
         ],
         "y": [
          -12.022224426269531
         ]
        },
        {
         "marker": {
          "color": "red"
         },
         "mode": "markers+text",
         "text": "resume_161",
         "textposition": "bottom center",
         "type": "scatter",
         "x": [
          -22.804595947265625
         ],
         "y": [
          7.1292572021484375
         ]
        },
        {
         "marker": {
          "color": "red"
         },
         "mode": "markers+text",
         "text": "resume_162",
         "textposition": "bottom center",
         "type": "scatter",
         "x": [
          -5.450088977813721
         ],
         "y": [
          -7.755578517913818
         ]
        },
        {
         "marker": {
          "color": "red"
         },
         "mode": "markers+text",
         "text": "resume_163",
         "textposition": "bottom center",
         "type": "scatter",
         "x": [
          -24.907470703125
         ],
         "y": [
          6.8043060302734375
         ]
        },
        {
         "marker": {
          "color": "red"
         },
         "mode": "markers+text",
         "text": "resume_164",
         "textposition": "bottom center",
         "type": "scatter",
         "x": [
          15.211064338684082
         ],
         "y": [
          -23.156330108642578
         ]
        },
        {
         "marker": {
          "color": "red"
         },
         "mode": "markers+text",
         "text": "resume_165",
         "textposition": "bottom center",
         "type": "scatter",
         "x": [
          2.380455255508423
         ],
         "y": [
          8.301292419433594
         ]
        },
        {
         "marker": {
          "color": "red"
         },
         "mode": "markers+text",
         "text": "resume_166",
         "textposition": "bottom center",
         "type": "scatter",
         "x": [
          -32.2150993347168
         ],
         "y": [
          4.098876476287842
         ]
        },
        {
         "marker": {
          "color": "red"
         },
         "mode": "markers+text",
         "text": "resume_167",
         "textposition": "bottom center",
         "type": "scatter",
         "x": [
          -8.07817268371582
         ],
         "y": [
          1.6018130779266357
         ]
        },
        {
         "marker": {
          "color": "red"
         },
         "mode": "markers+text",
         "text": "resume_168",
         "textposition": "bottom center",
         "type": "scatter",
         "x": [
          -36.20463180541992
         ],
         "y": [
          5.086235523223877
         ]
        },
        {
         "marker": {
          "color": "red"
         },
         "mode": "markers+text",
         "text": "resume_169",
         "textposition": "bottom center",
         "type": "scatter",
         "x": [
          -34.37137985229492
         ],
         "y": [
          4.997701168060303
         ]
        },
        {
         "marker": {
          "color": "red"
         },
         "mode": "markers+text",
         "text": "resume_170",
         "textposition": "bottom center",
         "type": "scatter",
         "x": [
          16.21843719482422
         ],
         "y": [
          -18.87287139892578
         ]
        },
        {
         "marker": {
          "color": "red"
         },
         "mode": "markers+text",
         "text": "resume_171",
         "textposition": "bottom center",
         "type": "scatter",
         "x": [
          10.8092041015625
         ],
         "y": [
          -10.633414268493652
         ]
        },
        {
         "marker": {
          "color": "red"
         },
         "mode": "markers+text",
         "text": "resume_172",
         "textposition": "bottom center",
         "type": "scatter",
         "x": [
          -5.008392333984375
         ],
         "y": [
          3.7432916164398193
         ]
        },
        {
         "marker": {
          "color": "red"
         },
         "mode": "markers+text",
         "text": "resume_173",
         "textposition": "bottom center",
         "type": "scatter",
         "x": [
          10.074444770812988
         ],
         "y": [
          10.03769302368164
         ]
        },
        {
         "marker": {
          "color": "red"
         },
         "mode": "markers+text",
         "text": "resume_174",
         "textposition": "bottom center",
         "type": "scatter",
         "x": [
          -12.64834213256836
         ],
         "y": [
          8.523674964904785
         ]
        },
        {
         "marker": {
          "color": "red"
         },
         "mode": "markers+text",
         "text": "resume_175",
         "textposition": "bottom center",
         "type": "scatter",
         "x": [
          -12.509876251220703
         ],
         "y": [
          1.9833247661590576
         ]
        },
        {
         "marker": {
          "color": "red"
         },
         "mode": "markers+text",
         "text": "resume_176",
         "textposition": "bottom center",
         "type": "scatter",
         "x": [
          -31.368024826049805
         ],
         "y": [
          4.75595235824585
         ]
        },
        {
         "marker": {
          "color": "red"
         },
         "mode": "markers+text",
         "text": "resume_177",
         "textposition": "bottom center",
         "type": "scatter",
         "x": [
          -39.419944763183594
         ],
         "y": [
          6.5375871658325195
         ]
        },
        {
         "marker": {
          "color": "red"
         },
         "mode": "markers+text",
         "text": "resume_178",
         "textposition": "bottom center",
         "type": "scatter",
         "x": [
          18.119535446166992
         ],
         "y": [
          0.0904868096113205
         ]
        },
        {
         "marker": {
          "color": "red"
         },
         "mode": "markers+text",
         "text": "resume_179",
         "textposition": "bottom center",
         "type": "scatter",
         "x": [
          4.639739990234375
         ],
         "y": [
          -9.608255386352539
         ]
        },
        {
         "marker": {
          "color": "red"
         },
         "mode": "markers+text",
         "text": "resume_180",
         "textposition": "bottom center",
         "type": "scatter",
         "x": [
          -23.020465850830078
         ],
         "y": [
          10.293601989746094
         ]
        },
        {
         "marker": {
          "color": "red"
         },
         "mode": "markers+text",
         "text": "resume_181",
         "textposition": "bottom center",
         "type": "scatter",
         "x": [
          5.182265281677246
         ],
         "y": [
          -0.10266333818435669
         ]
        },
        {
         "marker": {
          "color": "red"
         },
         "mode": "markers+text",
         "text": "resume_182",
         "textposition": "bottom center",
         "type": "scatter",
         "x": [
          -36.27682876586914
         ],
         "y": [
          11.829596519470215
         ]
        },
        {
         "marker": {
          "color": "red"
         },
         "mode": "markers+text",
         "text": "resume_183",
         "textposition": "bottom center",
         "type": "scatter",
         "x": [
          0.9387881755828857
         ],
         "y": [
          2.889568328857422
         ]
        },
        {
         "marker": {
          "color": "red"
         },
         "mode": "markers+text",
         "text": "resume_184",
         "textposition": "bottom center",
         "type": "scatter",
         "x": [
          18.648710250854492
         ],
         "y": [
          -15.789432525634766
         ]
        },
        {
         "marker": {
          "color": "red"
         },
         "mode": "markers+text",
         "text": "resume_185",
         "textposition": "bottom center",
         "type": "scatter",
         "x": [
          25.119300842285156
         ],
         "y": [
          3.1732776165008545
         ]
        },
        {
         "marker": {
          "color": "red"
         },
         "mode": "markers+text",
         "text": "resume_186",
         "textposition": "bottom center",
         "type": "scatter",
         "x": [
          -23.30701446533203
         ],
         "y": [
          15.243370056152344
         ]
        },
        {
         "marker": {
          "color": "red"
         },
         "mode": "markers+text",
         "text": "resume_187",
         "textposition": "bottom center",
         "type": "scatter",
         "x": [
          -42.571624755859375
         ],
         "y": [
          12.294776916503906
         ]
        },
        {
         "marker": {
          "color": "red"
         },
         "mode": "markers+text",
         "text": "resume_188",
         "textposition": "bottom center",
         "type": "scatter",
         "x": [
          -37.780147552490234
         ],
         "y": [
          5.565678596496582
         ]
        },
        {
         "marker": {
          "color": "red"
         },
         "mode": "markers+text",
         "text": "resume_189",
         "textposition": "bottom center",
         "type": "scatter",
         "x": [
          3.665303945541382
         ],
         "y": [
          2.1486802101135254
         ]
        },
        {
         "marker": {
          "color": "red"
         },
         "mode": "markers+text",
         "text": "resume_190",
         "textposition": "bottom center",
         "type": "scatter",
         "x": [
          -8.359420776367188
         ],
         "y": [
          7.5701003074646
         ]
        },
        {
         "marker": {
          "color": "red"
         },
         "mode": "markers+text",
         "text": "resume_191",
         "textposition": "bottom center",
         "type": "scatter",
         "x": [
          8.513218879699707
         ],
         "y": [
          15.234413146972656
         ]
        },
        {
         "marker": {
          "color": "red"
         },
         "mode": "markers+text",
         "text": "resume_192",
         "textposition": "bottom center",
         "type": "scatter",
         "x": [
          -37.330230712890625
         ],
         "y": [
          -1.8144475221633911
         ]
        },
        {
         "marker": {
          "color": "red"
         },
         "mode": "markers+text",
         "text": "resume_193",
         "textposition": "bottom center",
         "type": "scatter",
         "x": [
          22.655014038085938
         ],
         "y": [
          1.594346046447754
         ]
        },
        {
         "marker": {
          "color": "red"
         },
         "mode": "markers+text",
         "text": "resume_194",
         "textposition": "bottom center",
         "type": "scatter",
         "x": [
          -9.54883861541748
         ],
         "y": [
          10.509040832519531
         ]
        },
        {
         "marker": {
          "color": "red"
         },
         "mode": "markers+text",
         "text": "resume_195",
         "textposition": "bottom center",
         "type": "scatter",
         "x": [
          -39.9593505859375
         ],
         "y": [
          9.413421630859375
         ]
        },
        {
         "marker": {
          "color": "red"
         },
         "mode": "markers+text",
         "text": "resume_196",
         "textposition": "bottom center",
         "type": "scatter",
         "x": [
          15.873214721679688
         ],
         "y": [
          11.22719955444336
         ]
        },
        {
         "marker": {
          "color": "red"
         },
         "mode": "markers+text",
         "text": "resume_197",
         "textposition": "bottom center",
         "type": "scatter",
         "x": [
          -18.03113555908203
         ],
         "y": [
          -3.510807514190674
         ]
        },
        {
         "marker": {
          "color": "red"
         },
         "mode": "markers+text",
         "text": "resume_198",
         "textposition": "bottom center",
         "type": "scatter",
         "x": [
          -33.02706527709961
         ],
         "y": [
          6.838190078735352
         ]
        },
        {
         "marker": {
          "color": "red"
         },
         "mode": "markers+text",
         "text": "resume_199",
         "textposition": "bottom center",
         "type": "scatter",
         "x": [
          16.21368408203125
         ],
         "y": [
          4.418026924133301
         ]
        },
        {
         "marker": {
          "color": "red"
         },
         "mode": "markers+text",
         "text": "resume_200",
         "textposition": "bottom center",
         "type": "scatter",
         "x": [
          13.153918266296387
         ],
         "y": [
          7.024130821228027
         ]
        },
        {
         "marker": {
          "color": "red"
         },
         "mode": "markers+text",
         "text": "resume_201",
         "textposition": "bottom center",
         "type": "scatter",
         "x": [
          -24.805002212524414
         ],
         "y": [
          10.624855995178223
         ]
        },
        {
         "marker": {
          "color": "red"
         },
         "mode": "markers+text",
         "text": "resume_202",
         "textposition": "bottom center",
         "type": "scatter",
         "x": [
          17.82008171081543
         ],
         "y": [
          9.355881690979004
         ]
        },
        {
         "marker": {
          "color": "red"
         },
         "mode": "markers+text",
         "text": "resume_203",
         "textposition": "bottom center",
         "type": "scatter",
         "x": [
          13.301655769348145
         ],
         "y": [
          7.322546005249023
         ]
        },
        {
         "marker": {
          "color": "red"
         },
         "mode": "markers+text",
         "text": "resume_204",
         "textposition": "bottom center",
         "type": "scatter",
         "x": [
          -32.922019958496094
         ],
         "y": [
          13.216547012329102
         ]
        },
        {
         "marker": {
          "color": "red"
         },
         "mode": "markers+text",
         "text": "resume_205",
         "textposition": "bottom center",
         "type": "scatter",
         "x": [
          4.966594696044922
         ],
         "y": [
          13.36240005493164
         ]
        },
        {
         "marker": {
          "color": "red"
         },
         "mode": "markers+text",
         "text": "resume_206",
         "textposition": "bottom center",
         "type": "scatter",
         "x": [
          19.35472869873047
         ],
         "y": [
          1.9336804151535034
         ]
        },
        {
         "marker": {
          "color": "red"
         },
         "mode": "markers+text",
         "text": "resume_207",
         "textposition": "bottom center",
         "type": "scatter",
         "x": [
          -8.002573013305664
         ],
         "y": [
          13.768732070922852
         ]
        },
        {
         "marker": {
          "color": "red"
         },
         "mode": "markers+text",
         "text": "resume_208",
         "textposition": "bottom center",
         "type": "scatter",
         "x": [
          13.190940856933594
         ],
         "y": [
          -8.364202499389648
         ]
        },
        {
         "marker": {
          "color": "red"
         },
         "mode": "markers+text",
         "text": "resume_209",
         "textposition": "bottom center",
         "type": "scatter",
         "x": [
          29.47783660888672
         ],
         "y": [
          -12.189199447631836
         ]
        },
        {
         "marker": {
          "color": "red"
         },
         "mode": "markers+text",
         "text": "resume_210",
         "textposition": "bottom center",
         "type": "scatter",
         "x": [
          -6.705756664276123
         ],
         "y": [
          -4.605579853057861
         ]
        },
        {
         "marker": {
          "color": "red"
         },
         "mode": "markers+text",
         "text": "resume_211",
         "textposition": "bottom center",
         "type": "scatter",
         "x": [
          -15.443361282348633
         ],
         "y": [
          10.887484550476074
         ]
        },
        {
         "marker": {
          "color": "red"
         },
         "mode": "markers+text",
         "text": "resume_212",
         "textposition": "bottom center",
         "type": "scatter",
         "x": [
          1.6019816398620605
         ],
         "y": [
          -8.472809791564941
         ]
        },
        {
         "marker": {
          "color": "red"
         },
         "mode": "markers+text",
         "text": "resume_213",
         "textposition": "bottom center",
         "type": "scatter",
         "x": [
          16.625030517578125
         ],
         "y": [
          -4.018306255340576
         ]
        },
        {
         "marker": {
          "color": "red"
         },
         "mode": "markers+text",
         "text": "resume_214",
         "textposition": "bottom center",
         "type": "scatter",
         "x": [
          0.23052509129047394
         ],
         "y": [
          12.772218704223633
         ]
        },
        {
         "marker": {
          "color": "red"
         },
         "mode": "markers+text",
         "text": "resume_215",
         "textposition": "bottom center",
         "type": "scatter",
         "x": [
          -18.799686431884766
         ],
         "y": [
          6.644137382507324
         ]
        },
        {
         "marker": {
          "color": "red"
         },
         "mode": "markers+text",
         "text": "resume_216",
         "textposition": "bottom center",
         "type": "scatter",
         "x": [
          10.150456428527832
         ],
         "y": [
          -1.8113601207733154
         ]
        },
        {
         "marker": {
          "color": "red"
         },
         "mode": "markers+text",
         "text": "resume_217",
         "textposition": "bottom center",
         "type": "scatter",
         "x": [
          18.103282928466797
         ],
         "y": [
          -13.13983154296875
         ]
        },
        {
         "marker": {
          "color": "red"
         },
         "mode": "markers+text",
         "text": "resume_218",
         "textposition": "bottom center",
         "type": "scatter",
         "x": [
          -0.5186002850532532
         ],
         "y": [
          15.528310775756836
         ]
        },
        {
         "marker": {
          "color": "red"
         },
         "mode": "markers+text",
         "text": "resume_219",
         "textposition": "bottom center",
         "type": "scatter",
         "x": [
          -31.363006591796875
         ],
         "y": [
          5.723693370819092
         ]
        },
        {
         "marker": {
          "color": "red"
         },
         "mode": "markers+text",
         "text": "resume_220",
         "textposition": "bottom center",
         "type": "scatter",
         "x": [
          -10.1747407913208
         ],
         "y": [
          7.475827693939209
         ]
        },
        {
         "marker": {
          "color": "red"
         },
         "mode": "markers+text",
         "text": "resume_221",
         "textposition": "bottom center",
         "type": "scatter",
         "x": [
          -18.758134841918945
         ],
         "y": [
          8.135751724243164
         ]
        },
        {
         "marker": {
          "color": "red"
         },
         "mode": "markers+text",
         "text": "resume_222",
         "textposition": "bottom center",
         "type": "scatter",
         "x": [
          11.728949546813965
         ],
         "y": [
          13.61623477935791
         ]
        },
        {
         "marker": {
          "color": "red"
         },
         "mode": "markers+text",
         "text": "resume_223",
         "textposition": "bottom center",
         "type": "scatter",
         "x": [
          17.638784408569336
         ],
         "y": [
          -5.659017562866211
         ]
        },
        {
         "marker": {
          "color": "red"
         },
         "mode": "markers+text",
         "text": "resume_224",
         "textposition": "bottom center",
         "type": "scatter",
         "x": [
          -28.527698516845703
         ],
         "y": [
          15.709284782409668
         ]
        },
        {
         "marker": {
          "color": "red"
         },
         "mode": "markers+text",
         "text": "resume_225",
         "textposition": "bottom center",
         "type": "scatter",
         "x": [
          0.7655049562454224
         ],
         "y": [
          -0.5523136854171753
         ]
        },
        {
         "marker": {
          "color": "red"
         },
         "mode": "markers+text",
         "text": "resume_226",
         "textposition": "bottom center",
         "type": "scatter",
         "x": [
          -16.614103317260742
         ],
         "y": [
          4.288018703460693
         ]
        },
        {
         "marker": {
          "color": "red"
         },
         "mode": "markers+text",
         "text": "resume_227",
         "textposition": "bottom center",
         "type": "scatter",
         "x": [
          8.608805656433105
         ],
         "y": [
          15.278109550476074
         ]
        },
        {
         "marker": {
          "color": "red"
         },
         "mode": "markers+text",
         "text": "resume_228",
         "textposition": "bottom center",
         "type": "scatter",
         "x": [
          -9.967305183410645
         ],
         "y": [
          12.09128189086914
         ]
        },
        {
         "marker": {
          "color": "red"
         },
         "mode": "markers+text",
         "text": "resume_229",
         "textposition": "bottom center",
         "type": "scatter",
         "x": [
          -5.083468914031982
         ],
         "y": [
          -2.0560028553009033
         ]
        },
        {
         "marker": {
          "color": "red"
         },
         "mode": "markers+text",
         "text": "resume_230",
         "textposition": "bottom center",
         "type": "scatter",
         "x": [
          7.225775718688965
         ],
         "y": [
          -13.908950805664062
         ]
        },
        {
         "marker": {
          "color": "red"
         },
         "mode": "markers+text",
         "text": "resume_231",
         "textposition": "bottom center",
         "type": "scatter",
         "x": [
          -24.613595962524414
         ],
         "y": [
          4.2929816246032715
         ]
        },
        {
         "marker": {
          "color": "red"
         },
         "mode": "markers+text",
         "text": "resume_232",
         "textposition": "bottom center",
         "type": "scatter",
         "x": [
          26.185104370117188
         ],
         "y": [
          -14.308883666992188
         ]
        },
        {
         "marker": {
          "color": "red"
         },
         "mode": "markers+text",
         "text": "resume_233",
         "textposition": "bottom center",
         "type": "scatter",
         "x": [
          -15.099103927612305
         ],
         "y": [
          8.355735778808594
         ]
        },
        {
         "marker": {
          "color": "red"
         },
         "mode": "markers+text",
         "text": "resume_234",
         "textposition": "bottom center",
         "type": "scatter",
         "x": [
          -1.4500221014022827
         ],
         "y": [
          4.780402183532715
         ]
        },
        {
         "marker": {
          "color": "red"
         },
         "mode": "markers+text",
         "text": "resume_235",
         "textposition": "bottom center",
         "type": "scatter",
         "x": [
          -34.10765838623047
         ],
         "y": [
          7.042115688323975
         ]
        },
        {
         "marker": {
          "color": "red"
         },
         "mode": "markers+text",
         "text": "resume_236",
         "textposition": "bottom center",
         "type": "scatter",
         "x": [
          25.29673957824707
         ],
         "y": [
          -1.9665350914001465
         ]
        },
        {
         "marker": {
          "color": "red"
         },
         "mode": "markers+text",
         "text": "resume_237",
         "textposition": "bottom center",
         "type": "scatter",
         "x": [
          19.77520751953125
         ],
         "y": [
          -21.905141830444336
         ]
        },
        {
         "marker": {
          "color": "red"
         },
         "mode": "markers+text",
         "text": "resume_238",
         "textposition": "bottom center",
         "type": "scatter",
         "x": [
          -10.35573673248291
         ],
         "y": [
          -4.534505844116211
         ]
        },
        {
         "marker": {
          "color": "red"
         },
         "mode": "markers+text",
         "text": "resume_239",
         "textposition": "bottom center",
         "type": "scatter",
         "x": [
          23.41327476501465
         ],
         "y": [
          3.908278703689575
         ]
        },
        {
         "marker": {
          "color": "red"
         },
         "mode": "markers+text",
         "text": "resume_240",
         "textposition": "bottom center",
         "type": "scatter",
         "x": [
          16.354848861694336
         ],
         "y": [
          -19.820140838623047
         ]
        },
        {
         "marker": {
          "color": "red"
         },
         "mode": "markers+text",
         "text": "resume_241",
         "textposition": "bottom center",
         "type": "scatter",
         "x": [
          -16.867656707763672
         ],
         "y": [
          15.502918243408203
         ]
        },
        {
         "marker": {
          "color": "red"
         },
         "mode": "markers+text",
         "text": "resume_242",
         "textposition": "bottom center",
         "type": "scatter",
         "x": [
          -21.842052459716797
         ],
         "y": [
          10.959864616394043
         ]
        },
        {
         "marker": {
          "color": "red"
         },
         "mode": "markers+text",
         "text": "resume_243",
         "textposition": "bottom center",
         "type": "scatter",
         "x": [
          18.160921096801758
         ],
         "y": [
          -4.270689964294434
         ]
        },
        {
         "marker": {
          "color": "red"
         },
         "mode": "markers+text",
         "text": "resume_244",
         "textposition": "bottom center",
         "type": "scatter",
         "x": [
          16.167964935302734
         ],
         "y": [
          1.8046274185180664
         ]
        },
        {
         "marker": {
          "color": "red"
         },
         "mode": "markers+text",
         "text": "resume_245",
         "textposition": "bottom center",
         "type": "scatter",
         "x": [
          -6.8610148429870605
         ],
         "y": [
          -0.3855803310871124
         ]
        },
        {
         "marker": {
          "color": "red"
         },
         "mode": "markers+text",
         "text": "resume_246",
         "textposition": "bottom center",
         "type": "scatter",
         "x": [
          -14.179677963256836
         ],
         "y": [
          -7.7347822189331055
         ]
        },
        {
         "marker": {
          "color": "red"
         },
         "mode": "markers+text",
         "text": "resume_247",
         "textposition": "bottom center",
         "type": "scatter",
         "x": [
          -2.5250473022460938
         ],
         "y": [
          -5.918450355529785
         ]
        },
        {
         "marker": {
          "color": "red"
         },
         "mode": "markers+text",
         "text": "resume_248",
         "textposition": "bottom center",
         "type": "scatter",
         "x": [
          -17.952817916870117
         ],
         "y": [
          -3.5555644035339355
         ]
        },
        {
         "marker": {
          "color": "red"
         },
         "mode": "markers+text",
         "text": "resume_249",
         "textposition": "bottom center",
         "type": "scatter",
         "x": [
          26.31730842590332
         ],
         "y": [
          -4.628375053405762
         ]
        },
        {
         "marker": {
          "color": "red"
         },
         "mode": "markers+text",
         "text": "resume_250",
         "textposition": "bottom center",
         "type": "scatter",
         "x": [
          18.210857391357422
         ],
         "y": [
          -4.061689376831055
         ]
        },
        {
         "marker": {
          "color": "red"
         },
         "mode": "markers+text",
         "text": "resume_251",
         "textposition": "bottom center",
         "type": "scatter",
         "x": [
          20.676706314086914
         ],
         "y": [
          -5.669208526611328
         ]
        },
        {
         "marker": {
          "color": "red"
         },
         "mode": "markers+text",
         "text": "resume_252",
         "textposition": "bottom center",
         "type": "scatter",
         "x": [
          4.270216464996338
         ],
         "y": [
          5.854106903076172
         ]
        },
        {
         "marker": {
          "color": "red"
         },
         "mode": "markers+text",
         "text": "resume_253",
         "textposition": "bottom center",
         "type": "scatter",
         "x": [
          11.910684585571289
         ],
         "y": [
          -2.249462127685547
         ]
        },
        {
         "marker": {
          "color": "red"
         },
         "mode": "markers+text",
         "text": "resume_254",
         "textposition": "bottom center",
         "type": "scatter",
         "x": [
          -13.308385848999023
         ],
         "y": [
          7.093145847320557
         ]
        },
        {
         "marker": {
          "color": "red"
         },
         "mode": "markers+text",
         "text": "resume_255",
         "textposition": "bottom center",
         "type": "scatter",
         "x": [
          -2.5706515312194824
         ],
         "y": [
          7.34626579284668
         ]
        },
        {
         "marker": {
          "color": "red"
         },
         "mode": "markers+text",
         "text": "resume_256",
         "textposition": "bottom center",
         "type": "scatter",
         "x": [
          -22.070186614990234
         ],
         "y": [
          5.6057844161987305
         ]
        },
        {
         "marker": {
          "color": "red"
         },
         "mode": "markers+text",
         "text": "resume_257",
         "textposition": "bottom center",
         "type": "scatter",
         "x": [
          -29.790864944458008
         ],
         "y": [
          1.859087347984314
         ]
        },
        {
         "marker": {
          "color": "red"
         },
         "mode": "markers+text",
         "text": "resume_258",
         "textposition": "bottom center",
         "type": "scatter",
         "x": [
          6.770598888397217
         ],
         "y": [
          -16.808584213256836
         ]
        },
        {
         "marker": {
          "color": "red"
         },
         "mode": "markers+text",
         "text": "resume_259",
         "textposition": "bottom center",
         "type": "scatter",
         "x": [
          6.388506889343262
         ],
         "y": [
          11.912762641906738
         ]
        },
        {
         "marker": {
          "color": "red"
         },
         "mode": "markers+text",
         "text": "resume_260",
         "textposition": "bottom center",
         "type": "scatter",
         "x": [
          15.215373992919922
         ],
         "y": [
          -3.4640936851501465
         ]
        },
        {
         "marker": {
          "color": "red"
         },
         "mode": "markers+text",
         "text": "resume_261",
         "textposition": "bottom center",
         "type": "scatter",
         "x": [
          4.122308254241943
         ],
         "y": [
          4.605952739715576
         ]
        },
        {
         "marker": {
          "color": "red"
         },
         "mode": "markers+text",
         "text": "resume_262",
         "textposition": "bottom center",
         "type": "scatter",
         "x": [
          5.140595436096191
         ],
         "y": [
          3.6825437545776367
         ]
        },
        {
         "marker": {
          "color": "red"
         },
         "mode": "markers+text",
         "text": "resume_263",
         "textposition": "bottom center",
         "type": "scatter",
         "x": [
          -3.451343536376953
         ],
         "y": [
          -5.752190113067627
         ]
        },
        {
         "marker": {
          "color": "red"
         },
         "mode": "markers+text",
         "text": "resume_264",
         "textposition": "bottom center",
         "type": "scatter",
         "x": [
          29.99336814880371
         ],
         "y": [
          -3.209975004196167
         ]
        },
        {
         "marker": {
          "color": "red"
         },
         "mode": "markers+text",
         "text": "resume_265",
         "textposition": "bottom center",
         "type": "scatter",
         "x": [
          23.5402774810791
         ],
         "y": [
          -15.520703315734863
         ]
        },
        {
         "marker": {
          "color": "red"
         },
         "mode": "markers+text",
         "text": "resume_266",
         "textposition": "bottom center",
         "type": "scatter",
         "x": [
          2.0483767986297607
         ],
         "y": [
          -0.6954877972602844
         ]
        },
        {
         "marker": {
          "color": "red"
         },
         "mode": "markers+text",
         "text": "resume_267",
         "textposition": "bottom center",
         "type": "scatter",
         "x": [
          15.696907997131348
         ],
         "y": [
          -3.6284353733062744
         ]
        },
        {
         "marker": {
          "color": "red"
         },
         "mode": "markers+text",
         "text": "resume_268",
         "textposition": "bottom center",
         "type": "scatter",
         "x": [
          15.351151466369629
         ],
         "y": [
          -20.486562728881836
         ]
        },
        {
         "marker": {
          "color": "red"
         },
         "mode": "markers+text",
         "text": "resume_269",
         "textposition": "bottom center",
         "type": "scatter",
         "x": [
          8.768397331237793
         ],
         "y": [
          -0.28416892886161804
         ]
        },
        {
         "marker": {
          "color": "red"
         },
         "mode": "markers+text",
         "text": "resume_270",
         "textposition": "bottom center",
         "type": "scatter",
         "x": [
          24.954143524169922
         ],
         "y": [
          -8.933841705322266
         ]
        },
        {
         "marker": {
          "color": "red"
         },
         "mode": "markers+text",
         "text": "resume_271",
         "textposition": "bottom center",
         "type": "scatter",
         "x": [
          20.303302764892578
         ],
         "y": [
          -16.803680419921875
         ]
        },
        {
         "marker": {
          "color": "red"
         },
         "mode": "markers+text",
         "text": "resume_272",
         "textposition": "bottom center",
         "type": "scatter",
         "x": [
          -13.32356071472168
         ],
         "y": [
          7.6682305335998535
         ]
        },
        {
         "marker": {
          "color": "red"
         },
         "mode": "markers+text",
         "text": "resume_273",
         "textposition": "bottom center",
         "type": "scatter",
         "x": [
          14.416438102722168
         ],
         "y": [
          -4.413001537322998
         ]
        },
        {
         "marker": {
          "color": "red"
         },
         "mode": "markers+text",
         "text": "resume_274",
         "textposition": "bottom center",
         "type": "scatter",
         "x": [
          10.08396053314209
         ],
         "y": [
          1.2066558599472046
         ]
        },
        {
         "marker": {
          "color": "red"
         },
         "mode": "markers+text",
         "text": "resume_275",
         "textposition": "bottom center",
         "type": "scatter",
         "x": [
          -27.166488647460938
         ],
         "y": [
          7.8073015213012695
         ]
        },
        {
         "marker": {
          "color": "red"
         },
         "mode": "markers+text",
         "text": "resume_276",
         "textposition": "bottom center",
         "type": "scatter",
         "x": [
          17.185346603393555
         ],
         "y": [
          -3.033090353012085
         ]
        },
        {
         "marker": {
          "color": "red"
         },
         "mode": "markers+text",
         "text": "resume_277",
         "textposition": "bottom center",
         "type": "scatter",
         "x": [
          0.6195319890975952
         ],
         "y": [
          16.3138484954834
         ]
        },
        {
         "marker": {
          "color": "red"
         },
         "mode": "markers+text",
         "text": "resume_278",
         "textposition": "bottom center",
         "type": "scatter",
         "x": [
          16.461830139160156
         ],
         "y": [
          -14.0957612991333
         ]
        },
        {
         "marker": {
          "color": "red"
         },
         "mode": "markers+text",
         "text": "resume_279",
         "textposition": "bottom center",
         "type": "scatter",
         "x": [
          -26.214509963989258
         ],
         "y": [
          6.577123641967773
         ]
        },
        {
         "marker": {
          "color": "red"
         },
         "mode": "markers+text",
         "text": "resume_280",
         "textposition": "bottom center",
         "type": "scatter",
         "x": [
          8.121878623962402
         ],
         "y": [
          9.661020278930664
         ]
        },
        {
         "marker": {
          "color": "red"
         },
         "mode": "markers+text",
         "text": "resume_281",
         "textposition": "bottom center",
         "type": "scatter",
         "x": [
          -28.234237670898438
         ],
         "y": [
          5.142960071563721
         ]
        },
        {
         "marker": {
          "color": "red"
         },
         "mode": "markers+text",
         "text": "resume_282",
         "textposition": "bottom center",
         "type": "scatter",
         "x": [
          9.533031463623047
         ],
         "y": [
          -13.526800155639648
         ]
        },
        {
         "marker": {
          "color": "red"
         },
         "mode": "markers+text",
         "text": "resume_283",
         "textposition": "bottom center",
         "type": "scatter",
         "x": [
          20.165245056152344
         ],
         "y": [
          -23.031335830688477
         ]
        },
        {
         "marker": {
          "color": "red"
         },
         "mode": "markers+text",
         "text": "resume_284",
         "textposition": "bottom center",
         "type": "scatter",
         "x": [
          -9.688873291015625
         ],
         "y": [
          -6.204269886016846
         ]
        },
        {
         "marker": {
          "color": "red"
         },
         "mode": "markers+text",
         "text": "resume_285",
         "textposition": "bottom center",
         "type": "scatter",
         "x": [
          7.49730110168457
         ],
         "y": [
          -12.353672981262207
         ]
        },
        {
         "marker": {
          "color": "red"
         },
         "mode": "markers+text",
         "text": "resume_286",
         "textposition": "bottom center",
         "type": "scatter",
         "x": [
          -6.684335231781006
         ],
         "y": [
          -10.638006210327148
         ]
        },
        {
         "marker": {
          "color": "red"
         },
         "mode": "markers+text",
         "text": "resume_287",
         "textposition": "bottom center",
         "type": "scatter",
         "x": [
          -26.89393424987793
         ],
         "y": [
          6.551728248596191
         ]
        },
        {
         "marker": {
          "color": "red"
         },
         "mode": "markers+text",
         "text": "resume_288",
         "textposition": "bottom center",
         "type": "scatter",
         "x": [
          -41.58541488647461
         ],
         "y": [
          9.09903621673584
         ]
        },
        {
         "marker": {
          "color": "red"
         },
         "mode": "markers+text",
         "text": "resume_289",
         "textposition": "bottom center",
         "type": "scatter",
         "x": [
          -5.620741844177246
         ],
         "y": [
          7.582486629486084
         ]
        },
        {
         "marker": {
          "color": "red"
         },
         "mode": "markers+text",
         "text": "resume_290",
         "textposition": "bottom center",
         "type": "scatter",
         "x": [
          15.625383377075195
         ],
         "y": [
          0.5276660323143005
         ]
        },
        {
         "marker": {
          "color": "red"
         },
         "mode": "markers+text",
         "text": "resume_291",
         "textposition": "bottom center",
         "type": "scatter",
         "x": [
          4.981612682342529
         ],
         "y": [
          -7.772801399230957
         ]
        },
        {
         "marker": {
          "color": "red"
         },
         "mode": "markers+text",
         "text": "resume_292",
         "textposition": "bottom center",
         "type": "scatter",
         "x": [
          22.863697052001953
         ],
         "y": [
          -8.635746002197266
         ]
        },
        {
         "marker": {
          "color": "red"
         },
         "mode": "markers+text",
         "text": "resume_293",
         "textposition": "bottom center",
         "type": "scatter",
         "x": [
          -27.103992462158203
         ],
         "y": [
          10.00407886505127
         ]
        },
        {
         "marker": {
          "color": "red"
         },
         "mode": "markers+text",
         "text": "resume_294",
         "textposition": "bottom center",
         "type": "scatter",
         "x": [
          -12.917168617248535
         ],
         "y": [
          1.4253400564193726
         ]
        },
        {
         "marker": {
          "color": "red"
         },
         "mode": "markers+text",
         "text": "resume_295",
         "textposition": "bottom center",
         "type": "scatter",
         "x": [
          1.677935242652893
         ],
         "y": [
          -8.6953706741333
         ]
        },
        {
         "marker": {
          "color": "red"
         },
         "mode": "markers+text",
         "text": "resume_296",
         "textposition": "bottom center",
         "type": "scatter",
         "x": [
          -11.89971923828125
         ],
         "y": [
          -4.619477272033691
         ]
        },
        {
         "marker": {
          "color": "red"
         },
         "mode": "markers+text",
         "text": "resume_297",
         "textposition": "bottom center",
         "type": "scatter",
         "x": [
          -30.217742919921875
         ],
         "y": [
          4.455351829528809
         ]
        },
        {
         "marker": {
          "color": "red"
         },
         "mode": "markers+text",
         "text": "resume_298",
         "textposition": "bottom center",
         "type": "scatter",
         "x": [
          27.87074089050293
         ],
         "y": [
          -0.3475061058998108
         ]
        },
        {
         "marker": {
          "color": "red"
         },
         "mode": "markers+text",
         "text": "resume_299",
         "textposition": "bottom center",
         "type": "scatter",
         "x": [
          -36.5112419128418
         ],
         "y": [
          8.914925575256348
         ]
        },
        {
         "marker": {
          "color": "red"
         },
         "mode": "markers+text",
         "text": "resume_300",
         "textposition": "bottom center",
         "type": "scatter",
         "x": [
          -6.988091468811035
         ],
         "y": [
          10.608325958251953
         ]
        },
        {
         "marker": {
          "color": "red"
         },
         "mode": "markers+text",
         "text": "resume_301",
         "textposition": "bottom center",
         "type": "scatter",
         "x": [
          22.12712860107422
         ],
         "y": [
          -4.018527507781982
         ]
        },
        {
         "marker": {
          "color": "red"
         },
         "mode": "markers+text",
         "text": "resume_302",
         "textposition": "bottom center",
         "type": "scatter",
         "x": [
          0.8583871126174927
         ],
         "y": [
          12.622458457946777
         ]
        },
        {
         "marker": {
          "color": "red"
         },
         "mode": "markers+text",
         "text": "resume_303",
         "textposition": "bottom center",
         "type": "scatter",
         "x": [
          -36.759239196777344
         ],
         "y": [
          8.908491134643555
         ]
        },
        {
         "marker": {
          "color": "red"
         },
         "mode": "markers+text",
         "text": "resume_304",
         "textposition": "bottom center",
         "type": "scatter",
         "x": [
          -12.912748336791992
         ],
         "y": [
          -7.152017593383789
         ]
        },
        {
         "marker": {
          "color": "red"
         },
         "mode": "markers+text",
         "text": "resume_305",
         "textposition": "bottom center",
         "type": "scatter",
         "x": [
          24.17788314819336
         ],
         "y": [
          -22.655277252197266
         ]
        },
        {
         "marker": {
          "color": "red"
         },
         "mode": "markers+text",
         "text": "resume_306",
         "textposition": "bottom center",
         "type": "scatter",
         "x": [
          9.652599334716797
         ],
         "y": [
          -4.911825180053711
         ]
        },
        {
         "marker": {
          "color": "red"
         },
         "mode": "markers+text",
         "text": "resume_307",
         "textposition": "bottom center",
         "type": "scatter",
         "x": [
          8.287129402160645
         ],
         "y": [
          6.5477986335754395
         ]
        },
        {
         "marker": {
          "color": "red"
         },
         "mode": "markers+text",
         "text": "resume_308",
         "textposition": "bottom center",
         "type": "scatter",
         "x": [
          29.557857513427734
         ],
         "y": [
          -5.268357753753662
         ]
        },
        {
         "marker": {
          "color": "red"
         },
         "mode": "markers+text",
         "text": "resume_309",
         "textposition": "bottom center",
         "type": "scatter",
         "x": [
          -5.1727118492126465
         ],
         "y": [
          4.63452672958374
         ]
        },
        {
         "marker": {
          "color": "red"
         },
         "mode": "markers+text",
         "text": "resume_310",
         "textposition": "bottom center",
         "type": "scatter",
         "x": [
          19.728172302246094
         ],
         "y": [
          -25.18023681640625
         ]
        },
        {
         "marker": {
          "color": "red"
         },
         "mode": "markers+text",
         "text": "resume_311",
         "textposition": "bottom center",
         "type": "scatter",
         "x": [
          1.666980266571045
         ],
         "y": [
          0.3427218496799469
         ]
        },
        {
         "marker": {
          "color": "red"
         },
         "mode": "markers+text",
         "text": "resume_312",
         "textposition": "bottom center",
         "type": "scatter",
         "x": [
          16.49045181274414
         ],
         "y": [
          -2.8793885707855225
         ]
        },
        {
         "marker": {
          "color": "red"
         },
         "mode": "markers+text",
         "text": "resume_313",
         "textposition": "bottom center",
         "type": "scatter",
         "x": [
          2.3576250076293945
         ],
         "y": [
          -18.95221519470215
         ]
        },
        {
         "marker": {
          "color": "red"
         },
         "mode": "markers+text",
         "text": "resume_314",
         "textposition": "bottom center",
         "type": "scatter",
         "x": [
          18.353376388549805
         ],
         "y": [
          -0.3289397358894348
         ]
        },
        {
         "marker": {
          "color": "red"
         },
         "mode": "markers+text",
         "text": "resume_315",
         "textposition": "bottom center",
         "type": "scatter",
         "x": [
          8.385856628417969
         ],
         "y": [
          5.685917854309082
         ]
        },
        {
         "marker": {
          "color": "red"
         },
         "mode": "markers+text",
         "text": "resume_316",
         "textposition": "bottom center",
         "type": "scatter",
         "x": [
          20.87281036376953
         ],
         "y": [
          -22.994598388671875
         ]
        },
        {
         "marker": {
          "color": "red"
         },
         "mode": "markers+text",
         "text": "resume_317",
         "textposition": "bottom center",
         "type": "scatter",
         "x": [
          8.570534706115723
         ],
         "y": [
          -24.40265464782715
         ]
        },
        {
         "marker": {
          "color": "red"
         },
         "mode": "markers+text",
         "text": "resume_318",
         "textposition": "bottom center",
         "type": "scatter",
         "x": [
          8.659683227539062
         ],
         "y": [
          -16.028518676757812
         ]
        },
        {
         "marker": {
          "color": "red"
         },
         "mode": "markers+text",
         "text": "resume_319",
         "textposition": "bottom center",
         "type": "scatter",
         "x": [
          18.6158390045166
         ],
         "y": [
          -22.215721130371094
         ]
        },
        {
         "marker": {
          "color": "red"
         },
         "mode": "markers+text",
         "text": "resume_320",
         "textposition": "bottom center",
         "type": "scatter",
         "x": [
          1.1346468925476074
         ],
         "y": [
          1.3446999788284302
         ]
        },
        {
         "marker": {
          "color": "red"
         },
         "mode": "markers+text",
         "text": "resume_321",
         "textposition": "bottom center",
         "type": "scatter",
         "x": [
          9.76164436340332
         ],
         "y": [
          4.660895824432373
         ]
        },
        {
         "marker": {
          "color": "red"
         },
         "mode": "markers+text",
         "text": "resume_322",
         "textposition": "bottom center",
         "type": "scatter",
         "x": [
          20.159587860107422
         ],
         "y": [
          4.960660934448242
         ]
        },
        {
         "marker": {
          "color": "red"
         },
         "mode": "markers+text",
         "text": "resume_323",
         "textposition": "bottom center",
         "type": "scatter",
         "x": [
          -1.804602026939392
         ],
         "y": [
          -14.755793571472168
         ]
        },
        {
         "marker": {
          "color": "red"
         },
         "mode": "markers+text",
         "text": "resume_324",
         "textposition": "bottom center",
         "type": "scatter",
         "x": [
          15.55160140991211
         ],
         "y": [
          -12.966134071350098
         ]
        },
        {
         "marker": {
          "color": "red"
         },
         "mode": "markers+text",
         "text": "resume_325",
         "textposition": "bottom center",
         "type": "scatter",
         "x": [
          -1.8410170078277588
         ],
         "y": [
          -14.761353492736816
         ]
        },
        {
         "marker": {
          "color": "red"
         },
         "mode": "markers+text",
         "text": "resume_326",
         "textposition": "bottom center",
         "type": "scatter",
         "x": [
          -25.984516143798828
         ],
         "y": [
          10.529763221740723
         ]
        },
        {
         "marker": {
          "color": "red"
         },
         "mode": "markers+text",
         "text": "resume_327",
         "textposition": "bottom center",
         "type": "scatter",
         "x": [
          -41.01039123535156
         ],
         "y": [
          7.532218933105469
         ]
        },
        {
         "marker": {
          "color": "red"
         },
         "mode": "markers+text",
         "text": "resume_328",
         "textposition": "bottom center",
         "type": "scatter",
         "x": [
          -25.122262954711914
         ],
         "y": [
          9.47414779663086
         ]
        },
        {
         "marker": {
          "color": "red"
         },
         "mode": "markers+text",
         "text": "resume_329",
         "textposition": "bottom center",
         "type": "scatter",
         "x": [
          24.834869384765625
         ],
         "y": [
          -8.049066543579102
         ]
        },
        {
         "marker": {
          "color": "red"
         },
         "mode": "markers+text",
         "text": "resume_330",
         "textposition": "bottom center",
         "type": "scatter",
         "x": [
          21.062236785888672
         ],
         "y": [
          -24.891429901123047
         ]
        },
        {
         "marker": {
          "color": "red"
         },
         "mode": "markers+text",
         "text": "resume_331",
         "textposition": "bottom center",
         "type": "scatter",
         "x": [
          -22.161680221557617
         ],
         "y": [
          4.624135971069336
         ]
        },
        {
         "marker": {
          "color": "red"
         },
         "mode": "markers+text",
         "text": "resume_332",
         "textposition": "bottom center",
         "type": "scatter",
         "x": [
          -11.522285461425781
         ],
         "y": [
          -5.011445045471191
         ]
        },
        {
         "marker": {
          "color": "red"
         },
         "mode": "markers+text",
         "text": "resume_333",
         "textposition": "bottom center",
         "type": "scatter",
         "x": [
          -13.501712799072266
         ],
         "y": [
          -7.204049587249756
         ]
        },
        {
         "marker": {
          "color": "red"
         },
         "mode": "markers+text",
         "text": "resume_334",
         "textposition": "bottom center",
         "type": "scatter",
         "x": [
          7.0590362548828125
         ],
         "y": [
          -2.0427985191345215
         ]
        },
        {
         "marker": {
          "color": "red"
         },
         "mode": "markers+text",
         "text": "resume_335",
         "textposition": "bottom center",
         "type": "scatter",
         "x": [
          -37.17351531982422
         ],
         "y": [
          0.49414926767349243
         ]
        },
        {
         "marker": {
          "color": "red"
         },
         "mode": "markers+text",
         "text": "resume_336",
         "textposition": "bottom center",
         "type": "scatter",
         "x": [
          -7.119837284088135
         ],
         "y": [
          16.006887435913086
         ]
        },
        {
         "marker": {
          "color": "red"
         },
         "mode": "markers+text",
         "text": "resume_337",
         "textposition": "bottom center",
         "type": "scatter",
         "x": [
          2.8113129138946533
         ],
         "y": [
          -0.2596810460090637
         ]
        },
        {
         "marker": {
          "color": "red"
         },
         "mode": "markers+text",
         "text": "resume_338",
         "textposition": "bottom center",
         "type": "scatter",
         "x": [
          1.3193753957748413
         ],
         "y": [
          5.292130947113037
         ]
        },
        {
         "marker": {
          "color": "red"
         },
         "mode": "markers+text",
         "text": "resume_339",
         "textposition": "bottom center",
         "type": "scatter",
         "x": [
          -35.2286262512207
         ],
         "y": [
          7.734084606170654
         ]
        },
        {
         "marker": {
          "color": "red"
         },
         "mode": "markers+text",
         "text": "resume_340",
         "textposition": "bottom center",
         "type": "scatter",
         "x": [
          -10.386212348937988
         ],
         "y": [
          -5.554215908050537
         ]
        },
        {
         "marker": {
          "color": "red"
         },
         "mode": "markers+text",
         "text": "resume_341",
         "textposition": "bottom center",
         "type": "scatter",
         "x": [
          -26.27090835571289
         ],
         "y": [
          2.5421226024627686
         ]
        },
        {
         "marker": {
          "color": "red"
         },
         "mode": "markers+text",
         "text": "resume_342",
         "textposition": "bottom center",
         "type": "scatter",
         "x": [
          -40.324798583984375
         ],
         "y": [
          4.872360706329346
         ]
        },
        {
         "marker": {
          "color": "red"
         },
         "mode": "markers+text",
         "text": "resume_343",
         "textposition": "bottom center",
         "type": "scatter",
         "x": [
          0.02159505896270275
         ],
         "y": [
          -4.707704067230225
         ]
        },
        {
         "marker": {
          "color": "red"
         },
         "mode": "markers+text",
         "text": "resume_344",
         "textposition": "bottom center",
         "type": "scatter",
         "x": [
          18.209518432617188
         ],
         "y": [
          -20.34339141845703
         ]
        },
        {
         "marker": {
          "color": "red"
         },
         "mode": "markers+text",
         "text": "resume_345",
         "textposition": "bottom center",
         "type": "scatter",
         "x": [
          3.5295557975769043
         ],
         "y": [
          -8.374580383300781
         ]
        },
        {
         "marker": {
          "color": "red"
         },
         "mode": "markers+text",
         "text": "resume_346",
         "textposition": "bottom center",
         "type": "scatter",
         "x": [
          10.190861701965332
         ],
         "y": [
          1.373622179031372
         ]
        },
        {
         "marker": {
          "color": "red"
         },
         "mode": "markers+text",
         "text": "resume_347",
         "textposition": "bottom center",
         "type": "scatter",
         "x": [
          11.464497566223145
         ],
         "y": [
          9.743215560913086
         ]
        },
        {
         "marker": {
          "color": "red"
         },
         "mode": "markers+text",
         "text": "resume_348",
         "textposition": "bottom center",
         "type": "scatter",
         "x": [
          -11.309037208557129
         ],
         "y": [
          9.236640930175781
         ]
        },
        {
         "marker": {
          "color": "red"
         },
         "mode": "markers+text",
         "text": "resume_349",
         "textposition": "bottom center",
         "type": "scatter",
         "x": [
          20.859050750732422
         ],
         "y": [
          -18.49994659423828
         ]
        },
        {
         "marker": {
          "color": "red"
         },
         "mode": "markers+text",
         "text": "resume_350",
         "textposition": "bottom center",
         "type": "scatter",
         "x": [
          -33.46330642700195
         ],
         "y": [
          12.07745361328125
         ]
        },
        {
         "marker": {
          "color": "red"
         },
         "mode": "markers+text",
         "text": "resume_351",
         "textposition": "bottom center",
         "type": "scatter",
         "x": [
          19.470413208007812
         ],
         "y": [
          -5.862545013427734
         ]
        },
        {
         "marker": {
          "color": "red"
         },
         "mode": "markers+text",
         "text": "resume_352",
         "textposition": "bottom center",
         "type": "scatter",
         "x": [
          -15.721089363098145
         ],
         "y": [
          4.4203972816467285
         ]
        },
        {
         "marker": {
          "color": "red"
         },
         "mode": "markers+text",
         "text": "resume_353",
         "textposition": "bottom center",
         "type": "scatter",
         "x": [
          -3.360208749771118
         ],
         "y": [
          3.2432167530059814
         ]
        },
        {
         "marker": {
          "color": "red"
         },
         "mode": "markers+text",
         "text": "resume_354",
         "textposition": "bottom center",
         "type": "scatter",
         "x": [
          -29.396419525146484
         ],
         "y": [
          4.221961975097656
         ]
        },
        {
         "marker": {
          "color": "red"
         },
         "mode": "markers+text",
         "text": "resume_355",
         "textposition": "bottom center",
         "type": "scatter",
         "x": [
          -37.533992767333984
         ],
         "y": [
          13.16125202178955
         ]
        },
        {
         "marker": {
          "color": "red"
         },
         "mode": "markers+text",
         "text": "resume_356",
         "textposition": "bottom center",
         "type": "scatter",
         "x": [
          23.972923278808594
         ],
         "y": [
          -22.917118072509766
         ]
        },
        {
         "marker": {
          "color": "red"
         },
         "mode": "markers+text",
         "text": "resume_357",
         "textposition": "bottom center",
         "type": "scatter",
         "x": [
          4.727950096130371
         ],
         "y": [
          -1.6696809530258179
         ]
        },
        {
         "marker": {
          "color": "red"
         },
         "mode": "markers+text",
         "text": "resume_358",
         "textposition": "bottom center",
         "type": "scatter",
         "x": [
          19.45973014831543
         ],
         "y": [
          -16.26633644104004
         ]
        },
        {
         "marker": {
          "color": "red"
         },
         "mode": "markers+text",
         "text": "resume_359",
         "textposition": "bottom center",
         "type": "scatter",
         "x": [
          -10.718438148498535
         ],
         "y": [
          4.985525608062744
         ]
        },
        {
         "marker": {
          "color": "red"
         },
         "mode": "markers+text",
         "text": "resume_360",
         "textposition": "bottom center",
         "type": "scatter",
         "x": [
          19.407629013061523
         ],
         "y": [
          -8.077444076538086
         ]
        },
        {
         "marker": {
          "color": "red"
         },
         "mode": "markers+text",
         "text": "resume_361",
         "textposition": "bottom center",
         "type": "scatter",
         "x": [
          18.412145614624023
         ],
         "y": [
          -2.9753568172454834
         ]
        },
        {
         "marker": {
          "color": "red"
         },
         "mode": "markers+text",
         "text": "resume_362",
         "textposition": "bottom center",
         "type": "scatter",
         "x": [
          2.1489553451538086
         ],
         "y": [
          -5.92596960067749
         ]
        },
        {
         "marker": {
          "color": "red"
         },
         "mode": "markers+text",
         "text": "resume_363",
         "textposition": "bottom center",
         "type": "scatter",
         "x": [
          -18.479774475097656
         ],
         "y": [
          0.0743420347571373
         ]
        },
        {
         "marker": {
          "color": "red"
         },
         "mode": "markers+text",
         "text": "resume_364",
         "textposition": "bottom center",
         "type": "scatter",
         "x": [
          -19.255403518676758
         ],
         "y": [
          3.582498550415039
         ]
        },
        {
         "marker": {
          "color": "red"
         },
         "mode": "markers+text",
         "text": "resume_365",
         "textposition": "bottom center",
         "type": "scatter",
         "x": [
          22.483491897583008
         ],
         "y": [
          -16.892379760742188
         ]
        },
        {
         "marker": {
          "color": "red"
         },
         "mode": "markers+text",
         "text": "resume_366",
         "textposition": "bottom center",
         "type": "scatter",
         "x": [
          0.11071200668811798
         ],
         "y": [
          4.412508964538574
         ]
        },
        {
         "marker": {
          "color": "red"
         },
         "mode": "markers+text",
         "text": "resume_367",
         "textposition": "bottom center",
         "type": "scatter",
         "x": [
          17.83336067199707
         ],
         "y": [
          -25.78569984436035
         ]
        },
        {
         "marker": {
          "color": "red"
         },
         "mode": "markers+text",
         "text": "resume_368",
         "textposition": "bottom center",
         "type": "scatter",
         "x": [
          -25.65372085571289
         ],
         "y": [
          6.309999942779541
         ]
        },
        {
         "marker": {
          "color": "red"
         },
         "mode": "markers+text",
         "text": "resume_369",
         "textposition": "bottom center",
         "type": "scatter",
         "x": [
          -35.22803497314453
         ],
         "y": [
          2.8977222442626953
         ]
        },
        {
         "marker": {
          "color": "red"
         },
         "mode": "markers+text",
         "text": "resume_370",
         "textposition": "bottom center",
         "type": "scatter",
         "x": [
          24.447429656982422
         ],
         "y": [
          -0.2115786224603653
         ]
        },
        {
         "marker": {
          "color": "red"
         },
         "mode": "markers+text",
         "text": "resume_371",
         "textposition": "bottom center",
         "type": "scatter",
         "x": [
          -21.846975326538086
         ],
         "y": [
          10.905952453613281
         ]
        },
        {
         "marker": {
          "color": "red"
         },
         "mode": "markers+text",
         "text": "resume_372",
         "textposition": "bottom center",
         "type": "scatter",
         "x": [
          13.058034896850586
         ],
         "y": [
          2.206737756729126
         ]
        },
        {
         "marker": {
          "color": "red"
         },
         "mode": "markers+text",
         "text": "resume_373",
         "textposition": "bottom center",
         "type": "scatter",
         "x": [
          10.775378227233887
         ],
         "y": [
          1.4361151456832886
         ]
        },
        {
         "marker": {
          "color": "red"
         },
         "mode": "markers+text",
         "text": "resume_374",
         "textposition": "bottom center",
         "type": "scatter",
         "x": [
          -31.96918487548828
         ],
         "y": [
          9.102422714233398
         ]
        },
        {
         "marker": {
          "color": "red"
         },
         "mode": "markers+text",
         "text": "resume_375",
         "textposition": "bottom center",
         "type": "scatter",
         "x": [
          -0.014783788472414017
         ],
         "y": [
          -14.419052124023438
         ]
        },
        {
         "marker": {
          "color": "red"
         },
         "mode": "markers+text",
         "text": "resume_376",
         "textposition": "bottom center",
         "type": "scatter",
         "x": [
          -23.00293731689453
         ],
         "y": [
          3.622135639190674
         ]
        },
        {
         "marker": {
          "color": "red"
         },
         "mode": "markers+text",
         "text": "resume_377",
         "textposition": "bottom center",
         "type": "scatter",
         "x": [
          6.849804401397705
         ],
         "y": [
          -0.41077589988708496
         ]
        },
        {
         "marker": {
          "color": "red"
         },
         "mode": "markers+text",
         "text": "resume_378",
         "textposition": "bottom center",
         "type": "scatter",
         "x": [
          -31.133880615234375
         ],
         "y": [
          5.636251449584961
         ]
        },
        {
         "marker": {
          "color": "red"
         },
         "mode": "markers+text",
         "text": "resume_379",
         "textposition": "bottom center",
         "type": "scatter",
         "x": [
          -32.29753494262695
         ],
         "y": [
          8.832972526550293
         ]
        },
        {
         "marker": {
          "color": "red"
         },
         "mode": "markers+text",
         "text": "resume_380",
         "textposition": "bottom center",
         "type": "scatter",
         "x": [
          25.43313980102539
         ],
         "y": [
          4.050022602081299
         ]
        },
        {
         "marker": {
          "color": "red"
         },
         "mode": "markers+text",
         "text": "resume_381",
         "textposition": "bottom center",
         "type": "scatter",
         "x": [
          5.8606767654418945
         ],
         "y": [
          14.344439506530762
         ]
        },
        {
         "marker": {
          "color": "red"
         },
         "mode": "markers+text",
         "text": "resume_382",
         "textposition": "bottom center",
         "type": "scatter",
         "x": [
          9.995525360107422
         ],
         "y": [
          -18.433422088623047
         ]
        },
        {
         "marker": {
          "color": "red"
         },
         "mode": "markers+text",
         "text": "resume_383",
         "textposition": "bottom center",
         "type": "scatter",
         "x": [
          -31.195886611938477
         ],
         "y": [
          14.031745910644531
         ]
        },
        {
         "marker": {
          "color": "red"
         },
         "mode": "markers+text",
         "text": "resume_384",
         "textposition": "bottom center",
         "type": "scatter",
         "x": [
          7.429886817932129
         ],
         "y": [
          4.122889041900635
         ]
        },
        {
         "marker": {
          "color": "red"
         },
         "mode": "markers+text",
         "text": "resume_385",
         "textposition": "bottom center",
         "type": "scatter",
         "x": [
          12.820548057556152
         ],
         "y": [
          4.0386152267456055
         ]
        },
        {
         "marker": {
          "color": "red"
         },
         "mode": "markers+text",
         "text": "resume_386",
         "textposition": "bottom center",
         "type": "scatter",
         "x": [
          5.637117385864258
         ],
         "y": [
          12.019962310791016
         ]
        },
        {
         "marker": {
          "color": "red"
         },
         "mode": "markers+text",
         "text": "resume_387",
         "textposition": "bottom center",
         "type": "scatter",
         "x": [
          7.7421417236328125
         ],
         "y": [
          -10.366543769836426
         ]
        },
        {
         "marker": {
          "color": "red"
         },
         "mode": "markers+text",
         "text": "resume_388",
         "textposition": "bottom center",
         "type": "scatter",
         "x": [
          -13.007451057434082
         ],
         "y": [
          8.567068099975586
         ]
        },
        {
         "marker": {
          "color": "red"
         },
         "mode": "markers+text",
         "text": "resume_389",
         "textposition": "bottom center",
         "type": "scatter",
         "x": [
          16.606979370117188
         ],
         "y": [
          6.943227291107178
         ]
        },
        {
         "marker": {
          "color": "red"
         },
         "mode": "markers+text",
         "text": "resume_390",
         "textposition": "bottom center",
         "type": "scatter",
         "x": [
          0.10953008383512497
         ],
         "y": [
          -12.019014358520508
         ]
        },
        {
         "marker": {
          "color": "red"
         },
         "mode": "markers+text",
         "text": "resume_391",
         "textposition": "bottom center",
         "type": "scatter",
         "x": [
          12.076744079589844
         ],
         "y": [
          -0.7760829925537109
         ]
        },
        {
         "marker": {
          "color": "red"
         },
         "mode": "markers+text",
         "text": "resume_392",
         "textposition": "bottom center",
         "type": "scatter",
         "x": [
          1.3609434366226196
         ],
         "y": [
          4.119779109954834
         ]
        },
        {
         "marker": {
          "color": "red"
         },
         "mode": "markers+text",
         "text": "resume_393",
         "textposition": "bottom center",
         "type": "scatter",
         "x": [
          7.402327537536621
         ],
         "y": [
          -15.14356517791748
         ]
        },
        {
         "marker": {
          "color": "red"
         },
         "mode": "markers+text",
         "text": "resume_394",
         "textposition": "bottom center",
         "type": "scatter",
         "x": [
          14.495673179626465
         ],
         "y": [
          5.177831649780273
         ]
        },
        {
         "marker": {
          "color": "red"
         },
         "mode": "markers+text",
         "text": "resume_395",
         "textposition": "bottom center",
         "type": "scatter",
         "x": [
          -6.56339168548584
         ],
         "y": [
          3.3090007305145264
         ]
        },
        {
         "marker": {
          "color": "red"
         },
         "mode": "markers+text",
         "text": "resume_396",
         "textposition": "bottom center",
         "type": "scatter",
         "x": [
          -29.77646827697754
         ],
         "y": [
          9.61900520324707
         ]
        },
        {
         "marker": {
          "color": "red"
         },
         "mode": "markers+text",
         "text": "resume_397",
         "textposition": "bottom center",
         "type": "scatter",
         "x": [
          19.210168838500977
         ],
         "y": [
          -21.588708877563477
         ]
        },
        {
         "marker": {
          "color": "red"
         },
         "mode": "markers+text",
         "text": "resume_398",
         "textposition": "bottom center",
         "type": "scatter",
         "x": [
          -7.635766506195068
         ],
         "y": [
          5.641166687011719
         ]
        },
        {
         "marker": {
          "color": "red"
         },
         "mode": "markers+text",
         "text": "resume_399",
         "textposition": "bottom center",
         "type": "scatter",
         "x": [
          -8.988431930541992
         ],
         "y": [
          -4.95888090133667
         ]
        },
        {
         "marker": {
          "color": "red"
         },
         "mode": "markers+text",
         "text": "resume_400",
         "textposition": "bottom center",
         "type": "scatter",
         "x": [
          15.280569076538086
         ],
         "y": [
          -1.2845162153244019
         ]
        },
        {
         "marker": {
          "color": "red"
         },
         "mode": "markers+text",
         "text": "resume_401",
         "textposition": "bottom center",
         "type": "scatter",
         "x": [
          -43.18345260620117
         ],
         "y": [
          7.1754069328308105
         ]
        },
        {
         "marker": {
          "color": "red"
         },
         "mode": "markers+text",
         "text": "resume_402",
         "textposition": "bottom center",
         "type": "scatter",
         "x": [
          -8.069574356079102
         ],
         "y": [
          4.348690032958984
         ]
        },
        {
         "marker": {
          "color": "red"
         },
         "mode": "markers+text",
         "text": "resume_403",
         "textposition": "bottom center",
         "type": "scatter",
         "x": [
          -18.966169357299805
         ],
         "y": [
          8.851593971252441
         ]
        },
        {
         "marker": {
          "color": "red"
         },
         "mode": "markers+text",
         "text": "resume_404",
         "textposition": "bottom center",
         "type": "scatter",
         "x": [
          22.50542640686035
         ],
         "y": [
          -15.900136947631836
         ]
        },
        {
         "marker": {
          "color": "red"
         },
         "mode": "markers+text",
         "text": "resume_405",
         "textposition": "bottom center",
         "type": "scatter",
         "x": [
          -27.75554656982422
         ],
         "y": [
          6.827586650848389
         ]
        },
        {
         "marker": {
          "color": "red"
         },
         "mode": "markers+text",
         "text": "resume_406",
         "textposition": "bottom center",
         "type": "scatter",
         "x": [
          7.2723469734191895
         ],
         "y": [
          -12.741814613342285
         ]
        },
        {
         "marker": {
          "color": "red"
         },
         "mode": "markers+text",
         "text": "resume_407",
         "textposition": "bottom center",
         "type": "scatter",
         "x": [
          12.07099437713623
         ],
         "y": [
          8.256010055541992
         ]
        },
        {
         "marker": {
          "color": "red"
         },
         "mode": "markers+text",
         "text": "resume_408",
         "textposition": "bottom center",
         "type": "scatter",
         "x": [
          6.41480827331543
         ],
         "y": [
          14.033858299255371
         ]
        },
        {
         "marker": {
          "color": "red"
         },
         "mode": "markers+text",
         "text": "resume_409",
         "textposition": "bottom center",
         "type": "scatter",
         "x": [
          -36.71491241455078
         ],
         "y": [
          6.97022008895874
         ]
        },
        {
         "marker": {
          "color": "red"
         },
         "mode": "markers+text",
         "text": "resume_410",
         "textposition": "bottom center",
         "type": "scatter",
         "x": [
          27.865365982055664
         ],
         "y": [
          -3.2783586978912354
         ]
        },
        {
         "marker": {
          "color": "red"
         },
         "mode": "markers+text",
         "text": "resume_411",
         "textposition": "bottom center",
         "type": "scatter",
         "x": [
          24.662076950073242
         ],
         "y": [
          -7.648129940032959
         ]
        },
        {
         "marker": {
          "color": "red"
         },
         "mode": "markers+text",
         "text": "resume_412",
         "textposition": "bottom center",
         "type": "scatter",
         "x": [
          4.482071876525879
         ],
         "y": [
          -6.31459903717041
         ]
        },
        {
         "marker": {
          "color": "red"
         },
         "mode": "markers+text",
         "text": "resume_413",
         "textposition": "bottom center",
         "type": "scatter",
         "x": [
          12.114195823669434
         ],
         "y": [
          -4.93342924118042
         ]
        },
        {
         "marker": {
          "color": "red"
         },
         "mode": "markers+text",
         "text": "resume_414",
         "textposition": "bottom center",
         "type": "scatter",
         "x": [
          11.009075164794922
         ],
         "y": [
          8.895894050598145
         ]
        },
        {
         "marker": {
          "color": "red"
         },
         "mode": "markers+text",
         "text": "resume_415",
         "textposition": "bottom center",
         "type": "scatter",
         "x": [
          28.12622833251953
         ],
         "y": [
          -4.441882610321045
         ]
        },
        {
         "marker": {
          "color": "red"
         },
         "mode": "markers+text",
         "text": "resume_416",
         "textposition": "bottom center",
         "type": "scatter",
         "x": [
          7.039880275726318
         ],
         "y": [
          1.4481805562973022
         ]
        },
        {
         "marker": {
          "color": "red"
         },
         "mode": "markers+text",
         "text": "resume_417",
         "textposition": "bottom center",
         "type": "scatter",
         "x": [
          8.840773582458496
         ],
         "y": [
          12.058122634887695
         ]
        },
        {
         "marker": {
          "color": "red"
         },
         "mode": "markers+text",
         "text": "resume_418",
         "textposition": "bottom center",
         "type": "scatter",
         "x": [
          21.833463668823242
         ],
         "y": [
          -2.2282369136810303
         ]
        },
        {
         "marker": {
          "color": "red"
         },
         "mode": "markers+text",
         "text": "resume_419",
         "textposition": "bottom center",
         "type": "scatter",
         "x": [
          -17.350048065185547
         ],
         "y": [
          4.186440467834473
         ]
        },
        {
         "marker": {
          "color": "red"
         },
         "mode": "markers+text",
         "text": "resume_420",
         "textposition": "bottom center",
         "type": "scatter",
         "x": [
          -32.58616638183594
         ],
         "y": [
          4.029565334320068
         ]
        },
        {
         "marker": {
          "color": "red"
         },
         "mode": "markers+text",
         "text": "resume_421",
         "textposition": "bottom center",
         "type": "scatter",
         "x": [
          3.778212308883667
         ],
         "y": [
          -17.9627685546875
         ]
        },
        {
         "marker": {
          "color": "red"
         },
         "mode": "markers+text",
         "text": "resume_422",
         "textposition": "bottom center",
         "type": "scatter",
         "x": [
          -25.761606216430664
         ],
         "y": [
          0.10698626935482025
         ]
        },
        {
         "marker": {
          "color": "red"
         },
         "mode": "markers+text",
         "text": "resume_423",
         "textposition": "bottom center",
         "type": "scatter",
         "x": [
          -13.387943267822266
         ],
         "y": [
          0.9598837494850159
         ]
        },
        {
         "marker": {
          "color": "red"
         },
         "mode": "markers+text",
         "text": "resume_424",
         "textposition": "bottom center",
         "type": "scatter",
         "x": [
          8.369377136230469
         ],
         "y": [
          13.13408374786377
         ]
        },
        {
         "marker": {
          "color": "red"
         },
         "mode": "markers+text",
         "text": "resume_425",
         "textposition": "bottom center",
         "type": "scatter",
         "x": [
          -14.389297485351562
         ],
         "y": [
          8.133281707763672
         ]
        },
        {
         "marker": {
          "color": "red"
         },
         "mode": "markers+text",
         "text": "resume_426",
         "textposition": "bottom center",
         "type": "scatter",
         "x": [
          14.907514572143555
         ],
         "y": [
          -0.5046206116676331
         ]
        },
        {
         "marker": {
          "color": "red"
         },
         "mode": "markers+text",
         "text": "resume_427",
         "textposition": "bottom center",
         "type": "scatter",
         "x": [
          18.29861831665039
         ],
         "y": [
          -22.462495803833008
         ]
        },
        {
         "marker": {
          "color": "red"
         },
         "mode": "markers+text",
         "text": "resume_428",
         "textposition": "bottom center",
         "type": "scatter",
         "x": [
          21.253019332885742
         ],
         "y": [
          -7.709115028381348
         ]
        },
        {
         "marker": {
          "color": "red"
         },
         "mode": "markers+text",
         "text": "resume_429",
         "textposition": "bottom center",
         "type": "scatter",
         "x": [
          20.043903350830078
         ],
         "y": [
          -3.0684523582458496
         ]
        },
        {
         "marker": {
          "color": "red"
         },
         "mode": "markers+text",
         "text": "resume_430",
         "textposition": "bottom center",
         "type": "scatter",
         "x": [
          -43.038299560546875
         ],
         "y": [
          7.2804999351501465
         ]
        },
        {
         "marker": {
          "color": "red"
         },
         "mode": "markers+text",
         "text": "resume_431",
         "textposition": "bottom center",
         "type": "scatter",
         "x": [
          16.481945037841797
         ],
         "y": [
          -24.09618377685547
         ]
        },
        {
         "marker": {
          "color": "red"
         },
         "mode": "markers+text",
         "text": "resume_432",
         "textposition": "bottom center",
         "type": "scatter",
         "x": [
          10.751253128051758
         ],
         "y": [
          -4.347184181213379
         ]
        },
        {
         "marker": {
          "color": "red"
         },
         "mode": "markers+text",
         "text": "resume_433",
         "textposition": "bottom center",
         "type": "scatter",
         "x": [
          -18.59154510498047
         ],
         "y": [
          4.818563938140869
         ]
        },
        {
         "marker": {
          "color": "red"
         },
         "mode": "markers+text",
         "text": "resume_434",
         "textposition": "bottom center",
         "type": "scatter",
         "x": [
          13.993964195251465
         ],
         "y": [
          -2.3913161754608154
         ]
        },
        {
         "marker": {
          "color": "red"
         },
         "mode": "markers+text",
         "text": "resume_435",
         "textposition": "bottom center",
         "type": "scatter",
         "x": [
          4.47283411026001
         ],
         "y": [
          -4.544323444366455
         ]
        },
        {
         "marker": {
          "color": "red"
         },
         "mode": "markers+text",
         "text": "resume_436",
         "textposition": "bottom center",
         "type": "scatter",
         "x": [
          15.517838478088379
         ],
         "y": [
          -17.929033279418945
         ]
        },
        {
         "marker": {
          "color": "red"
         },
         "mode": "markers+text",
         "text": "resume_437",
         "textposition": "bottom center",
         "type": "scatter",
         "x": [
          15.354066848754883
         ],
         "y": [
          -7.487281799316406
         ]
        },
        {
         "marker": {
          "color": "red"
         },
         "mode": "markers+text",
         "text": "resume_438",
         "textposition": "bottom center",
         "type": "scatter",
         "x": [
          -35.24191665649414
         ],
         "y": [
          8.070484161376953
         ]
        },
        {
         "marker": {
          "color": "red"
         },
         "mode": "markers+text",
         "text": "resume_439",
         "textposition": "bottom center",
         "type": "scatter",
         "x": [
          27.514833450317383
         ],
         "y": [
          -8.609729766845703
         ]
        },
        {
         "marker": {
          "color": "red"
         },
         "mode": "markers+text",
         "text": "resume_440",
         "textposition": "bottom center",
         "type": "scatter",
         "x": [
          -33.854183197021484
         ],
         "y": [
          11.376766204833984
         ]
        },
        {
         "marker": {
          "color": "red"
         },
         "mode": "markers+text",
         "text": "resume_441",
         "textposition": "bottom center",
         "type": "scatter",
         "x": [
          24.47762680053711
         ],
         "y": [
          -23.94148826599121
         ]
        },
        {
         "marker": {
          "color": "red"
         },
         "mode": "markers+text",
         "text": "resume_442",
         "textposition": "bottom center",
         "type": "scatter",
         "x": [
          -20.503528594970703
         ],
         "y": [
          4.719876289367676
         ]
        },
        {
         "marker": {
          "color": "red"
         },
         "mode": "markers+text",
         "text": "resume_443",
         "textposition": "bottom center",
         "type": "scatter",
         "x": [
          9.84819507598877
         ],
         "y": [
          -0.5294054746627808
         ]
        },
        {
         "marker": {
          "color": "red"
         },
         "mode": "markers+text",
         "text": "resume_444",
         "textposition": "bottom center",
         "type": "scatter",
         "x": [
          -32.45412826538086
         ],
         "y": [
          6.121229648590088
         ]
        },
        {
         "marker": {
          "color": "red"
         },
         "mode": "markers+text",
         "text": "resume_445",
         "textposition": "bottom center",
         "type": "scatter",
         "x": [
          -19.748641967773438
         ],
         "y": [
          9.367522239685059
         ]
        },
        {
         "marker": {
          "color": "red"
         },
         "mode": "markers+text",
         "text": "resume_446",
         "textposition": "bottom center",
         "type": "scatter",
         "x": [
          7.023223876953125
         ],
         "y": [
          -4.051589488983154
         ]
        },
        {
         "marker": {
          "color": "red"
         },
         "mode": "markers+text",
         "text": "resume_447",
         "textposition": "bottom center",
         "type": "scatter",
         "x": [
          3.6216676235198975
         ],
         "y": [
          -11.640082359313965
         ]
        },
        {
         "marker": {
          "color": "red"
         },
         "mode": "markers+text",
         "text": "resume_448",
         "textposition": "bottom center",
         "type": "scatter",
         "x": [
          -24.278736114501953
         ],
         "y": [
          12.69339370727539
         ]
        },
        {
         "marker": {
          "color": "red"
         },
         "mode": "markers+text",
         "text": "resume_449",
         "textposition": "bottom center",
         "type": "scatter",
         "x": [
          14.641769409179688
         ],
         "y": [
          -4.36555814743042
         ]
        },
        {
         "marker": {
          "color": "red"
         },
         "mode": "markers+text",
         "text": "resume_450",
         "textposition": "bottom center",
         "type": "scatter",
         "x": [
          -8.613380432128906
         ],
         "y": [
          -7.733905792236328
         ]
        },
        {
         "marker": {
          "color": "red"
         },
         "mode": "markers+text",
         "text": "resume_451",
         "textposition": "bottom center",
         "type": "scatter",
         "x": [
          27.695755004882812
         ],
         "y": [
          -5.623532295227051
         ]
        },
        {
         "marker": {
          "color": "red"
         },
         "mode": "markers+text",
         "text": "resume_452",
         "textposition": "bottom center",
         "type": "scatter",
         "x": [
          21.181686401367188
         ],
         "y": [
          -16.9261531829834
         ]
        },
        {
         "marker": {
          "color": "red"
         },
         "mode": "markers+text",
         "text": "resume_453",
         "textposition": "bottom center",
         "type": "scatter",
         "x": [
          -37.8779182434082
         ],
         "y": [
          1.2714128494262695
         ]
        },
        {
         "marker": {
          "color": "red"
         },
         "mode": "markers+text",
         "text": "resume_454",
         "textposition": "bottom center",
         "type": "scatter",
         "x": [
          6.6642560958862305
         ],
         "y": [
          11.462103843688965
         ]
        },
        {
         "marker": {
          "color": "red"
         },
         "mode": "markers+text",
         "text": "resume_455",
         "textposition": "bottom center",
         "type": "scatter",
         "x": [
          -14.265984535217285
         ],
         "y": [
          -4.055973052978516
         ]
        },
        {
         "marker": {
          "color": "red"
         },
         "mode": "markers+text",
         "text": "resume_456",
         "textposition": "bottom center",
         "type": "scatter",
         "x": [
          17.228599548339844
         ],
         "y": [
          -11.866576194763184
         ]
        },
        {
         "marker": {
          "color": "red"
         },
         "mode": "markers+text",
         "text": "resume_457",
         "textposition": "bottom center",
         "type": "scatter",
         "x": [
          -6.248501300811768
         ],
         "y": [
          4.09052038192749
         ]
        },
        {
         "marker": {
          "color": "red"
         },
         "mode": "markers+text",
         "text": "resume_458",
         "textposition": "bottom center",
         "type": "scatter",
         "x": [
          11.069921493530273
         ],
         "y": [
          -1.0359994173049927
         ]
        },
        {
         "marker": {
          "color": "red"
         },
         "mode": "markers+text",
         "text": "resume_459",
         "textposition": "bottom center",
         "type": "scatter",
         "x": [
          20.73122215270996
         ],
         "y": [
          -15.752674102783203
         ]
        },
        {
         "marker": {
          "color": "red"
         },
         "mode": "markers+text",
         "text": "resume_460",
         "textposition": "bottom center",
         "type": "scatter",
         "x": [
          -7.60322380065918
         ],
         "y": [
          10.657529830932617
         ]
        },
        {
         "marker": {
          "color": "red"
         },
         "mode": "markers+text",
         "text": "resume_461",
         "textposition": "bottom center",
         "type": "scatter",
         "x": [
          10.95410442352295
         ],
         "y": [
          4.505270481109619
         ]
        },
        {
         "marker": {
          "color": "red"
         },
         "mode": "markers+text",
         "text": "resume_462",
         "textposition": "bottom center",
         "type": "scatter",
         "x": [
          16.167417526245117
         ],
         "y": [
          -16.93853187561035
         ]
        },
        {
         "marker": {
          "color": "red"
         },
         "mode": "markers+text",
         "text": "resume_463",
         "textposition": "bottom center",
         "type": "scatter",
         "x": [
          8.165836334228516
         ],
         "y": [
          -4.86806583404541
         ]
        },
        {
         "marker": {
          "color": "red"
         },
         "mode": "markers+text",
         "text": "resume_464",
         "textposition": "bottom center",
         "type": "scatter",
         "x": [
          -21.26620864868164
         ],
         "y": [
          5.708235263824463
         ]
        },
        {
         "marker": {
          "color": "red"
         },
         "mode": "markers+text",
         "text": "resume_465",
         "textposition": "bottom center",
         "type": "scatter",
         "x": [
          13.859705924987793
         ],
         "y": [
          -13.428367614746094
         ]
        },
        {
         "marker": {
          "color": "red"
         },
         "mode": "markers+text",
         "text": "resume_466",
         "textposition": "bottom center",
         "type": "scatter",
         "x": [
          15.190023422241211
         ],
         "y": [
          -18.809663772583008
         ]
        },
        {
         "marker": {
          "color": "red"
         },
         "mode": "markers+text",
         "text": "resume_467",
         "textposition": "bottom center",
         "type": "scatter",
         "x": [
          -0.10962966829538345
         ],
         "y": [
          -1.2007791996002197
         ]
        },
        {
         "marker": {
          "color": "red"
         },
         "mode": "markers+text",
         "text": "resume_468",
         "textposition": "bottom center",
         "type": "scatter",
         "x": [
          14.568306922912598
         ],
         "y": [
          4.013509273529053
         ]
        },
        {
         "marker": {
          "color": "red"
         },
         "mode": "markers+text",
         "text": "resume_469",
         "textposition": "bottom center",
         "type": "scatter",
         "x": [
          -39.86703872680664
         ],
         "y": [
          12.21890640258789
         ]
        },
        {
         "marker": {
          "color": "red"
         },
         "mode": "markers+text",
         "text": "resume_470",
         "textposition": "bottom center",
         "type": "scatter",
         "x": [
          6.797779560089111
         ],
         "y": [
          -20.51404571533203
         ]
        },
        {
         "marker": {
          "color": "red"
         },
         "mode": "markers+text",
         "text": "resume_471",
         "textposition": "bottom center",
         "type": "scatter",
         "x": [
          -23.16851043701172
         ],
         "y": [
          12.003899574279785
         ]
        },
        {
         "marker": {
          "color": "red"
         },
         "mode": "markers+text",
         "text": "resume_472",
         "textposition": "bottom center",
         "type": "scatter",
         "x": [
          9.266850471496582
         ],
         "y": [
          6.966157913208008
         ]
        },
        {
         "marker": {
          "color": "red"
         },
         "mode": "markers+text",
         "text": "resume_473",
         "textposition": "bottom center",
         "type": "scatter",
         "x": [
          -3.9600629806518555
         ],
         "y": [
          7.18411922454834
         ]
        },
        {
         "marker": {
          "color": "red"
         },
         "mode": "markers+text",
         "text": "resume_474",
         "textposition": "bottom center",
         "type": "scatter",
         "x": [
          15.292783737182617
         ],
         "y": [
          -8.511248588562012
         ]
        },
        {
         "marker": {
          "color": "red"
         },
         "mode": "markers+text",
         "text": "resume_475",
         "textposition": "bottom center",
         "type": "scatter",
         "x": [
          0.2694552540779114
         ],
         "y": [
          -14.847822189331055
         ]
        },
        {
         "marker": {
          "color": "red"
         },
         "mode": "markers+text",
         "text": "resume_476",
         "textposition": "bottom center",
         "type": "scatter",
         "x": [
          7.86976957321167
         ],
         "y": [
          -0.051507119089365005
         ]
        },
        {
         "marker": {
          "color": "red"
         },
         "mode": "markers+text",
         "text": "resume_477",
         "textposition": "bottom center",
         "type": "scatter",
         "x": [
          22.621612548828125
         ],
         "y": [
          -16.44419288635254
         ]
        },
        {
         "marker": {
          "color": "red"
         },
         "mode": "markers+text",
         "text": "resume_478",
         "textposition": "bottom center",
         "type": "scatter",
         "x": [
          13.95476245880127
         ],
         "y": [
          -7.370598793029785
         ]
        },
        {
         "marker": {
          "color": "red"
         },
         "mode": "markers+text",
         "text": "resume_479",
         "textposition": "bottom center",
         "type": "scatter",
         "x": [
          22.124893188476562
         ],
         "y": [
          -10.817541122436523
         ]
        },
        {
         "marker": {
          "color": "red"
         },
         "mode": "markers+text",
         "text": "resume_480",
         "textposition": "bottom center",
         "type": "scatter",
         "x": [
          5.648449897766113
         ],
         "y": [
          8.613638877868652
         ]
        },
        {
         "marker": {
          "color": "red"
         },
         "mode": "markers+text",
         "text": "resume_481",
         "textposition": "bottom center",
         "type": "scatter",
         "x": [
          8.529175758361816
         ],
         "y": [
          -22.24378776550293
         ]
        },
        {
         "marker": {
          "color": "red"
         },
         "mode": "markers+text",
         "text": "resume_482",
         "textposition": "bottom center",
         "type": "scatter",
         "x": [
          -8.76401138305664
         ],
         "y": [
          -6.029566764831543
         ]
        },
        {
         "marker": {
          "color": "red"
         },
         "mode": "markers+text",
         "text": "resume_483",
         "textposition": "bottom center",
         "type": "scatter",
         "x": [
          0.4429290294647217
         ],
         "y": [
          2.5457708835601807
         ]
        },
        {
         "marker": {
          "color": "red"
         },
         "mode": "markers+text",
         "text": "resume_484",
         "textposition": "bottom center",
         "type": "scatter",
         "x": [
          -41.984676361083984
         ],
         "y": [
          3.4496235847473145
         ]
        },
        {
         "marker": {
          "color": "red"
         },
         "mode": "markers+text",
         "text": "resume_485",
         "textposition": "bottom center",
         "type": "scatter",
         "x": [
          -19.924001693725586
         ],
         "y": [
          5.500540733337402
         ]
        },
        {
         "marker": {
          "color": "red"
         },
         "mode": "markers+text",
         "text": "resume_486",
         "textposition": "bottom center",
         "type": "scatter",
         "x": [
          11.285696983337402
         ],
         "y": [
          4.2044219970703125
         ]
        },
        {
         "marker": {
          "color": "red"
         },
         "mode": "markers+text",
         "text": "resume_487",
         "textposition": "bottom center",
         "type": "scatter",
         "x": [
          19.759830474853516
         ],
         "y": [
          4.984827041625977
         ]
        },
        {
         "marker": {
          "color": "red"
         },
         "mode": "markers+text",
         "text": "resume_488",
         "textposition": "bottom center",
         "type": "scatter",
         "x": [
          -25.851221084594727
         ],
         "y": [
          7.168666839599609
         ]
        },
        {
         "marker": {
          "color": "red"
         },
         "mode": "markers+text",
         "text": "resume_489",
         "textposition": "bottom center",
         "type": "scatter",
         "x": [
          -13.138031959533691
         ],
         "y": [
          8.798273086547852
         ]
        },
        {
         "marker": {
          "color": "red"
         },
         "mode": "markers+text",
         "text": "resume_490",
         "textposition": "bottom center",
         "type": "scatter",
         "x": [
          8.521093368530273
         ],
         "y": [
          9.0626859664917
         ]
        },
        {
         "marker": {
          "color": "red"
         },
         "mode": "markers+text",
         "text": "resume_491",
         "textposition": "bottom center",
         "type": "scatter",
         "x": [
          13.839818954467773
         ],
         "y": [
          -10.04250431060791
         ]
        },
        {
         "marker": {
          "color": "red"
         },
         "mode": "markers+text",
         "text": "resume_492",
         "textposition": "bottom center",
         "type": "scatter",
         "x": [
          -30.241252899169922
         ],
         "y": [
          7.480368614196777
         ]
        },
        {
         "marker": {
          "color": "red"
         },
         "mode": "markers+text",
         "text": "resume_493",
         "textposition": "bottom center",
         "type": "scatter",
         "x": [
          -39.66323471069336
         ],
         "y": [
          9.783774375915527
         ]
        },
        {
         "marker": {
          "color": "red"
         },
         "mode": "markers+text",
         "text": "resume_494",
         "textposition": "bottom center",
         "type": "scatter",
         "x": [
          -39.36975860595703
         ],
         "y": [
          6.613927364349365
         ]
        },
        {
         "marker": {
          "color": "red"
         },
         "mode": "markers+text",
         "text": "resume_495",
         "textposition": "bottom center",
         "type": "scatter",
         "x": [
          -32.05072784423828
         ],
         "y": [
          0.7275238633155823
         ]
        },
        {
         "marker": {
          "color": "red"
         },
         "mode": "markers+text",
         "text": "resume_496",
         "textposition": "bottom center",
         "type": "scatter",
         "x": [
          -34.109066009521484
         ],
         "y": [
          10.069942474365234
         ]
        },
        {
         "marker": {
          "color": "red"
         },
         "mode": "markers+text",
         "text": "resume_497",
         "textposition": "bottom center",
         "type": "scatter",
         "x": [
          -15.102931022644043
         ],
         "y": [
          9.096405029296875
         ]
        },
        {
         "marker": {
          "color": "red"
         },
         "mode": "markers+text",
         "text": "resume_498",
         "textposition": "bottom center",
         "type": "scatter",
         "x": [
          4.18342399597168
         ],
         "y": [
          -2.2133898735046387
         ]
        },
        {
         "marker": {
          "color": "red"
         },
         "mode": "markers+text",
         "text": "resume_499",
         "textposition": "bottom center",
         "type": "scatter",
         "x": [
          7.691338539123535
         ],
         "y": [
          -15.885313034057617
         ]
        },
        {
         "marker": {
          "color": "red"
         },
         "mode": "markers+text",
         "text": "resume_500",
         "textposition": "bottom center",
         "type": "scatter",
         "x": [
          -14.521117210388184
         ],
         "y": [
          6.747813701629639
         ]
        },
        {
         "marker": {
          "color": "red"
         },
         "mode": "markers+text",
         "text": "resume_501",
         "textposition": "bottom center",
         "type": "scatter",
         "x": [
          10.917222023010254
         ],
         "y": [
          -23.703746795654297
         ]
        },
        {
         "marker": {
          "color": "red"
         },
         "mode": "markers+text",
         "text": "resume_502",
         "textposition": "bottom center",
         "type": "scatter",
         "x": [
          8.183003425598145
         ],
         "y": [
          17.480083465576172
         ]
        },
        {
         "marker": {
          "color": "red"
         },
         "mode": "markers+text",
         "text": "resume_503",
         "textposition": "bottom center",
         "type": "scatter",
         "x": [
          -4.198554515838623
         ],
         "y": [
          -2.0861895084381104
         ]
        },
        {
         "marker": {
          "color": "red"
         },
         "mode": "markers+text",
         "text": "resume_504",
         "textposition": "bottom center",
         "type": "scatter",
         "x": [
          -0.04598091170191765
         ],
         "y": [
          6.535495758056641
         ]
        },
        {
         "marker": {
          "color": "red"
         },
         "mode": "markers+text",
         "text": "resume_505",
         "textposition": "bottom center",
         "type": "scatter",
         "x": [
          10.105990409851074
         ],
         "y": [
          9.192947387695312
         ]
        },
        {
         "marker": {
          "color": "red"
         },
         "mode": "markers+text",
         "text": "resume_506",
         "textposition": "bottom center",
         "type": "scatter",
         "x": [
          -26.134214401245117
         ],
         "y": [
          7.065069675445557
         ]
        },
        {
         "marker": {
          "color": "red"
         },
         "mode": "markers+text",
         "text": "resume_507",
         "textposition": "bottom center",
         "type": "scatter",
         "x": [
          -19.3944149017334
         ],
         "y": [
          13.203401565551758
         ]
        },
        {
         "marker": {
          "color": "red"
         },
         "mode": "markers+text",
         "text": "resume_508",
         "textposition": "bottom center",
         "type": "scatter",
         "x": [
          19.437870025634766
         ],
         "y": [
          -18.67374038696289
         ]
        },
        {
         "marker": {
          "color": "red"
         },
         "mode": "markers+text",
         "text": "resume_509",
         "textposition": "bottom center",
         "type": "scatter",
         "x": [
          -6.59071159362793
         ],
         "y": [
          15.90764331817627
         ]
        },
        {
         "marker": {
          "color": "red"
         },
         "mode": "markers+text",
         "text": "resume_510",
         "textposition": "bottom center",
         "type": "scatter",
         "x": [
          -2.4879262447357178
         ],
         "y": [
          7.830904006958008
         ]
        },
        {
         "marker": {
          "color": "red"
         },
         "mode": "markers+text",
         "text": "resume_511",
         "textposition": "bottom center",
         "type": "scatter",
         "x": [
          -0.43487679958343506
         ],
         "y": [
          3.272524356842041
         ]
        },
        {
         "marker": {
          "color": "red"
         },
         "mode": "markers+text",
         "text": "resume_512",
         "textposition": "bottom center",
         "type": "scatter",
         "x": [
          18.879531860351562
         ],
         "y": [
          -11.559831619262695
         ]
        },
        {
         "marker": {
          "color": "red"
         },
         "mode": "markers+text",
         "text": "resume_513",
         "textposition": "bottom center",
         "type": "scatter",
         "x": [
          -35.79187774658203
         ],
         "y": [
          -0.4144729971885681
         ]
        },
        {
         "marker": {
          "color": "red"
         },
         "mode": "markers+text",
         "text": "resume_514",
         "textposition": "bottom center",
         "type": "scatter",
         "x": [
          -4.073843002319336
         ],
         "y": [
          4.515793323516846
         ]
        },
        {
         "marker": {
          "color": "red"
         },
         "mode": "markers+text",
         "text": "resume_515",
         "textposition": "bottom center",
         "type": "scatter",
         "x": [
          14.698019981384277
         ],
         "y": [
          3.445244073867798
         ]
        },
        {
         "marker": {
          "color": "red"
         },
         "mode": "markers+text",
         "text": "resume_516",
         "textposition": "bottom center",
         "type": "scatter",
         "x": [
          -16.377178192138672
         ],
         "y": [
          -3.494276523590088
         ]
        },
        {
         "marker": {
          "color": "red"
         },
         "mode": "markers+text",
         "text": "resume_517",
         "textposition": "bottom center",
         "type": "scatter",
         "x": [
          7.045283794403076
         ],
         "y": [
          5.66880464553833
         ]
        },
        {
         "marker": {
          "color": "red"
         },
         "mode": "markers+text",
         "text": "resume_518",
         "textposition": "bottom center",
         "type": "scatter",
         "x": [
          -33.95332717895508
         ],
         "y": [
          8.690834999084473
         ]
        },
        {
         "marker": {
          "color": "red"
         },
         "mode": "markers+text",
         "text": "resume_519",
         "textposition": "bottom center",
         "type": "scatter",
         "x": [
          2.5831286907196045
         ],
         "y": [
          2.0074522495269775
         ]
        },
        {
         "marker": {
          "color": "red"
         },
         "mode": "markers+text",
         "text": "resume_520",
         "textposition": "bottom center",
         "type": "scatter",
         "x": [
          -0.5783511400222778
         ],
         "y": [
          1.1161285638809204
         ]
        },
        {
         "marker": {
          "color": "red"
         },
         "mode": "markers+text",
         "text": "resume_521",
         "textposition": "bottom center",
         "type": "scatter",
         "x": [
          4.2339186668396
         ],
         "y": [
          -8.055562019348145
         ]
        },
        {
         "marker": {
          "color": "red"
         },
         "mode": "markers+text",
         "text": "resume_522",
         "textposition": "bottom center",
         "type": "scatter",
         "x": [
          12.791290283203125
         ],
         "y": [
          5.263391017913818
         ]
        },
        {
         "marker": {
          "color": "red"
         },
         "mode": "markers+text",
         "text": "resume_523",
         "textposition": "bottom center",
         "type": "scatter",
         "x": [
          14.098326683044434
         ],
         "y": [
          0.8393025398254395
         ]
        },
        {
         "marker": {
          "color": "red"
         },
         "mode": "markers+text",
         "text": "resume_524",
         "textposition": "bottom center",
         "type": "scatter",
         "x": [
          7.550159454345703
         ],
         "y": [
          -7.634979248046875
         ]
        },
        {
         "marker": {
          "color": "red"
         },
         "mode": "markers+text",
         "text": "resume_525",
         "textposition": "bottom center",
         "type": "scatter",
         "x": [
          10.401336669921875
         ],
         "y": [
          5.687921524047852
         ]
        },
        {
         "marker": {
          "color": "red"
         },
         "mode": "markers+text",
         "text": "resume_526",
         "textposition": "bottom center",
         "type": "scatter",
         "x": [
          15.980122566223145
         ],
         "y": [
          4.304449081420898
         ]
        },
        {
         "marker": {
          "color": "red"
         },
         "mode": "markers+text",
         "text": "resume_527",
         "textposition": "bottom center",
         "type": "scatter",
         "x": [
          -26.46963119506836
         ],
         "y": [
          7.911674499511719
         ]
        },
        {
         "marker": {
          "color": "red"
         },
         "mode": "markers+text",
         "text": "resume_528",
         "textposition": "bottom center",
         "type": "scatter",
         "x": [
          -23.676509857177734
         ],
         "y": [
          7.973959922790527
         ]
        },
        {
         "marker": {
          "color": "red"
         },
         "mode": "markers+text",
         "text": "resume_529",
         "textposition": "bottom center",
         "type": "scatter",
         "x": [
          4.6463141441345215
         ],
         "y": [
          7.602868556976318
         ]
        },
        {
         "marker": {
          "color": "red"
         },
         "mode": "markers+text",
         "text": "resume_530",
         "textposition": "bottom center",
         "type": "scatter",
         "x": [
          23.491472244262695
         ],
         "y": [
          -18.588966369628906
         ]
        },
        {
         "marker": {
          "color": "red"
         },
         "mode": "markers+text",
         "text": "resume_531",
         "textposition": "bottom center",
         "type": "scatter",
         "x": [
          20.631284713745117
         ],
         "y": [
          -13.856831550598145
         ]
        },
        {
         "marker": {
          "color": "red"
         },
         "mode": "markers+text",
         "text": "resume_532",
         "textposition": "bottom center",
         "type": "scatter",
         "x": [
          2.8506743907928467
         ],
         "y": [
          -5.0281572341918945
         ]
        },
        {
         "marker": {
          "color": "red"
         },
         "mode": "markers+text",
         "text": "resume_533",
         "textposition": "bottom center",
         "type": "scatter",
         "x": [
          2.789088726043701
         ],
         "y": [
          1.21256422996521
         ]
        },
        {
         "marker": {
          "color": "red"
         },
         "mode": "markers+text",
         "text": "resume_534",
         "textposition": "bottom center",
         "type": "scatter",
         "x": [
          -35.38673400878906
         ],
         "y": [
          4.965137958526611
         ]
        },
        {
         "marker": {
          "color": "red"
         },
         "mode": "markers+text",
         "text": "resume_535",
         "textposition": "bottom center",
         "type": "scatter",
         "x": [
          -38.6563606262207
         ],
         "y": [
          8.278674125671387
         ]
        },
        {
         "marker": {
          "color": "red"
         },
         "mode": "markers+text",
         "text": "resume_536",
         "textposition": "bottom center",
         "type": "scatter",
         "x": [
          -13.951834678649902
         ],
         "y": [
          8.422525405883789
         ]
        },
        {
         "marker": {
          "color": "red"
         },
         "mode": "markers+text",
         "text": "resume_537",
         "textposition": "bottom center",
         "type": "scatter",
         "x": [
          27.804655075073242
         ],
         "y": [
          -0.8536049127578735
         ]
        },
        {
         "marker": {
          "color": "red"
         },
         "mode": "markers+text",
         "text": "resume_538",
         "textposition": "bottom center",
         "type": "scatter",
         "x": [
          13.869084358215332
         ],
         "y": [
          -19.70621681213379
         ]
        },
        {
         "marker": {
          "color": "red"
         },
         "mode": "markers+text",
         "text": "resume_539",
         "textposition": "bottom center",
         "type": "scatter",
         "x": [
          22.992889404296875
         ],
         "y": [
          -12.554729461669922
         ]
        },
        {
         "marker": {
          "color": "red"
         },
         "mode": "markers+text",
         "text": "resume_540",
         "textposition": "bottom center",
         "type": "scatter",
         "x": [
          -29.958267211914062
         ],
         "y": [
          11.32709789276123
         ]
        },
        {
         "marker": {
          "color": "red"
         },
         "mode": "markers+text",
         "text": "resume_541",
         "textposition": "bottom center",
         "type": "scatter",
         "x": [
          -26.074506759643555
         ],
         "y": [
          6.7421722412109375
         ]
        },
        {
         "marker": {
          "color": "red"
         },
         "mode": "markers+text",
         "text": "resume_542",
         "textposition": "bottom center",
         "type": "scatter",
         "x": [
          21.633647918701172
         ],
         "y": [
          -19.49614715576172
         ]
        },
        {
         "marker": {
          "color": "red"
         },
         "mode": "markers+text",
         "text": "resume_543",
         "textposition": "bottom center",
         "type": "scatter",
         "x": [
          2.130495071411133
         ],
         "y": [
          -1.6240911483764648
         ]
        },
        {
         "marker": {
          "color": "red"
         },
         "mode": "markers+text",
         "text": "resume_544",
         "textposition": "bottom center",
         "type": "scatter",
         "x": [
          15.106940269470215
         ],
         "y": [
          7.819258213043213
         ]
        },
        {
         "marker": {
          "color": "red"
         },
         "mode": "markers+text",
         "text": "resume_545",
         "textposition": "bottom center",
         "type": "scatter",
         "x": [
          17.027482986450195
         ],
         "y": [
          -11.936797142028809
         ]
        },
        {
         "marker": {
          "color": "red"
         },
         "mode": "markers+text",
         "text": "resume_546",
         "textposition": "bottom center",
         "type": "scatter",
         "x": [
          11.692203521728516
         ],
         "y": [
          -9.813082695007324
         ]
        },
        {
         "marker": {
          "color": "red"
         },
         "mode": "markers+text",
         "text": "resume_547",
         "textposition": "bottom center",
         "type": "scatter",
         "x": [
          9.044648170471191
         ],
         "y": [
          5.70778751373291
         ]
        },
        {
         "marker": {
          "color": "red"
         },
         "mode": "markers+text",
         "text": "resume_548",
         "textposition": "bottom center",
         "type": "scatter",
         "x": [
          -38.900917053222656
         ],
         "y": [
          -0.8915135264396667
         ]
        },
        {
         "marker": {
          "color": "red"
         },
         "mode": "markers+text",
         "text": "resume_549",
         "textposition": "bottom center",
         "type": "scatter",
         "x": [
          3.815066337585449
         ],
         "y": [
          -0.9843509197235107
         ]
        },
        {
         "marker": {
          "color": "red"
         },
         "mode": "markers+text",
         "text": "resume_550",
         "textposition": "bottom center",
         "type": "scatter",
         "x": [
          5.914371490478516
         ],
         "y": [
          -1.9363709688186646
         ]
        },
        {
         "marker": {
          "color": "red"
         },
         "mode": "markers+text",
         "text": "resume_551",
         "textposition": "bottom center",
         "type": "scatter",
         "x": [
          -1.0072920322418213
         ],
         "y": [
          -2.9819531440734863
         ]
        },
        {
         "marker": {
          "color": "red"
         },
         "mode": "markers+text",
         "text": "resume_552",
         "textposition": "bottom center",
         "type": "scatter",
         "x": [
          17.995250701904297
         ],
         "y": [
          -13.83670425415039
         ]
        },
        {
         "marker": {
          "color": "red"
         },
         "mode": "markers+text",
         "text": "resume_553",
         "textposition": "bottom center",
         "type": "scatter",
         "x": [
          16.36053466796875
         ],
         "y": [
          -9.608826637268066
         ]
        },
        {
         "marker": {
          "color": "red"
         },
         "mode": "markers+text",
         "text": "resume_554",
         "textposition": "bottom center",
         "type": "scatter",
         "x": [
          -22.26943588256836
         ],
         "y": [
          4.685158729553223
         ]
        },
        {
         "marker": {
          "color": "red"
         },
         "mode": "markers+text",
         "text": "resume_555",
         "textposition": "bottom center",
         "type": "scatter",
         "x": [
          11.065794944763184
         ],
         "y": [
          -3.0955677032470703
         ]
        },
        {
         "marker": {
          "color": "red"
         },
         "mode": "markers+text",
         "text": "resume_556",
         "textposition": "bottom center",
         "type": "scatter",
         "x": [
          -25.79380989074707
         ],
         "y": [
          0.09378138929605484
         ]
        },
        {
         "marker": {
          "color": "red"
         },
         "mode": "markers+text",
         "text": "resume_557",
         "textposition": "bottom center",
         "type": "scatter",
         "x": [
          5.3719482421875
         ],
         "y": [
          6.509271621704102
         ]
        },
        {
         "marker": {
          "color": "red"
         },
         "mode": "markers+text",
         "text": "resume_558",
         "textposition": "bottom center",
         "type": "scatter",
         "x": [
          5.317440509796143
         ],
         "y": [
          -13.0354585647583
         ]
        },
        {
         "marker": {
          "color": "red"
         },
         "mode": "markers+text",
         "text": "resume_559",
         "textposition": "bottom center",
         "type": "scatter",
         "x": [
          -29.193750381469727
         ],
         "y": [
          12.457131385803223
         ]
        },
        {
         "marker": {
          "color": "red"
         },
         "mode": "markers+text",
         "text": "resume_560",
         "textposition": "bottom center",
         "type": "scatter",
         "x": [
          17.784399032592773
         ],
         "y": [
          4.486149787902832
         ]
        },
        {
         "marker": {
          "color": "red"
         },
         "mode": "markers+text",
         "text": "resume_561",
         "textposition": "bottom center",
         "type": "scatter",
         "x": [
          6.280603885650635
         ],
         "y": [
          -3.044019937515259
         ]
        },
        {
         "marker": {
          "color": "red"
         },
         "mode": "markers+text",
         "text": "resume_562",
         "textposition": "bottom center",
         "type": "scatter",
         "x": [
          14.201428413391113
         ],
         "y": [
          13.424108505249023
         ]
        },
        {
         "marker": {
          "color": "red"
         },
         "mode": "markers+text",
         "text": "resume_563",
         "textposition": "bottom center",
         "type": "scatter",
         "x": [
          20.672988891601562
         ],
         "y": [
          6.73685884475708
         ]
        },
        {
         "marker": {
          "color": "red"
         },
         "mode": "markers+text",
         "text": "resume_564",
         "textposition": "bottom center",
         "type": "scatter",
         "x": [
          13.415067672729492
         ],
         "y": [
          -0.0015682815574109554
         ]
        },
        {
         "marker": {
          "color": "red"
         },
         "mode": "markers+text",
         "text": "resume_565",
         "textposition": "bottom center",
         "type": "scatter",
         "x": [
          15.94246768951416
         ],
         "y": [
          8.880014419555664
         ]
        },
        {
         "marker": {
          "color": "red"
         },
         "mode": "markers+text",
         "text": "resume_566",
         "textposition": "bottom center",
         "type": "scatter",
         "x": [
          -1.220611572265625
         ],
         "y": [
          7.905467987060547
         ]
        },
        {
         "marker": {
          "color": "red"
         },
         "mode": "markers+text",
         "text": "resume_567",
         "textposition": "bottom center",
         "type": "scatter",
         "x": [
          -12.174307823181152
         ],
         "y": [
          -3.8472979068756104
         ]
        },
        {
         "marker": {
          "color": "red"
         },
         "mode": "markers+text",
         "text": "resume_568",
         "textposition": "bottom center",
         "type": "scatter",
         "x": [
          -37.996761322021484
         ],
         "y": [
          8.200285911560059
         ]
        },
        {
         "marker": {
          "color": "red"
         },
         "mode": "markers+text",
         "text": "resume_569",
         "textposition": "bottom center",
         "type": "scatter",
         "x": [
          9.465307235717773
         ],
         "y": [
          -13.223978042602539
         ]
        },
        {
         "marker": {
          "color": "red"
         },
         "mode": "markers+text",
         "text": "resume_570",
         "textposition": "bottom center",
         "type": "scatter",
         "x": [
          13.966209411621094
         ],
         "y": [
          10.144279479980469
         ]
        },
        {
         "marker": {
          "color": "red"
         },
         "mode": "markers+text",
         "text": "resume_571",
         "textposition": "bottom center",
         "type": "scatter",
         "x": [
          6.923187255859375
         ],
         "y": [
          6.707998275756836
         ]
        },
        {
         "marker": {
          "color": "red"
         },
         "mode": "markers+text",
         "text": "resume_572",
         "textposition": "bottom center",
         "type": "scatter",
         "x": [
          -29.84406280517578
         ],
         "y": [
          -0.2826607823371887
         ]
        },
        {
         "marker": {
          "color": "red"
         },
         "mode": "markers+text",
         "text": "resume_573",
         "textposition": "bottom center",
         "type": "scatter",
         "x": [
          -3.2314679622650146
         ],
         "y": [
          12.582813262939453
         ]
        },
        {
         "marker": {
          "color": "red"
         },
         "mode": "markers+text",
         "text": "resume_574",
         "textposition": "bottom center",
         "type": "scatter",
         "x": [
          13.73762035369873
         ],
         "y": [
          -4.8340044021606445
         ]
        },
        {
         "marker": {
          "color": "red"
         },
         "mode": "markers+text",
         "text": "resume_575",
         "textposition": "bottom center",
         "type": "scatter",
         "x": [
          10.926039695739746
         ],
         "y": [
          -7.4127397537231445
         ]
        },
        {
         "marker": {
          "color": "red"
         },
         "mode": "markers+text",
         "text": "resume_576",
         "textposition": "bottom center",
         "type": "scatter",
         "x": [
          12.576896667480469
         ],
         "y": [
          -18.110048294067383
         ]
        },
        {
         "marker": {
          "color": "red"
         },
         "mode": "markers+text",
         "text": "resume_577",
         "textposition": "bottom center",
         "type": "scatter",
         "x": [
          -37.57658386230469
         ],
         "y": [
          10.600935935974121
         ]
        },
        {
         "marker": {
          "color": "red"
         },
         "mode": "markers+text",
         "text": "resume_578",
         "textposition": "bottom center",
         "type": "scatter",
         "x": [
          -14.272403717041016
         ],
         "y": [
          13.792309761047363
         ]
        },
        {
         "marker": {
          "color": "red"
         },
         "mode": "markers+text",
         "text": "resume_579",
         "textposition": "bottom center",
         "type": "scatter",
         "x": [
          -8.13418960571289
         ],
         "y": [
          4.811017036437988
         ]
        },
        {
         "marker": {
          "color": "red"
         },
         "mode": "markers+text",
         "text": "resume_580",
         "textposition": "bottom center",
         "type": "scatter",
         "x": [
          20.91290855407715
         ],
         "y": [
          0.887218713760376
         ]
        },
        {
         "marker": {
          "color": "red"
         },
         "mode": "markers+text",
         "text": "resume_581",
         "textposition": "bottom center",
         "type": "scatter",
         "x": [
          11.826007843017578
         ],
         "y": [
          -6.681877136230469
         ]
        },
        {
         "marker": {
          "color": "red"
         },
         "mode": "markers+text",
         "text": "resume_582",
         "textposition": "bottom center",
         "type": "scatter",
         "x": [
          -1.509990930557251
         ],
         "y": [
          16.06759262084961
         ]
        },
        {
         "marker": {
          "color": "red"
         },
         "mode": "markers+text",
         "text": "resume_583",
         "textposition": "bottom center",
         "type": "scatter",
         "x": [
          6.577699184417725
         ],
         "y": [
          -18.03154754638672
         ]
        },
        {
         "marker": {
          "color": "red"
         },
         "mode": "markers+text",
         "text": "resume_584",
         "textposition": "bottom center",
         "type": "scatter",
         "x": [
          13.033001899719238
         ],
         "y": [
          -21.908191680908203
         ]
        },
        {
         "marker": {
          "color": "red"
         },
         "mode": "markers+text",
         "text": "resume_585",
         "textposition": "bottom center",
         "type": "scatter",
         "x": [
          17.843246459960938
         ],
         "y": [
          -25.37415885925293
         ]
        },
        {
         "marker": {
          "color": "red"
         },
         "mode": "markers+text",
         "text": "resume_586",
         "textposition": "bottom center",
         "type": "scatter",
         "x": [
          14.465315818786621
         ],
         "y": [
          -7.482873916625977
         ]
        },
        {
         "marker": {
          "color": "red"
         },
         "mode": "markers+text",
         "text": "resume_587",
         "textposition": "bottom center",
         "type": "scatter",
         "x": [
          18.398265838623047
         ],
         "y": [
          -20.08938980102539
         ]
        },
        {
         "marker": {
          "color": "red"
         },
         "mode": "markers+text",
         "text": "resume_588",
         "textposition": "bottom center",
         "type": "scatter",
         "x": [
          10.835843086242676
         ],
         "y": [
          5.39132022857666
         ]
        },
        {
         "marker": {
          "color": "red"
         },
         "mode": "markers+text",
         "text": "resume_589",
         "textposition": "bottom center",
         "type": "scatter",
         "x": [
          -15.48726749420166
         ],
         "y": [
          6.021798133850098
         ]
        },
        {
         "marker": {
          "color": "red"
         },
         "mode": "markers+text",
         "text": "resume_590",
         "textposition": "bottom center",
         "type": "scatter",
         "x": [
          1.491396427154541
         ],
         "y": [
          -4.054116725921631
         ]
        },
        {
         "marker": {
          "color": "red"
         },
         "mode": "markers+text",
         "text": "resume_591",
         "textposition": "bottom center",
         "type": "scatter",
         "x": [
          -39.455631256103516
         ],
         "y": [
          8.244477272033691
         ]
        },
        {
         "marker": {
          "color": "red"
         },
         "mode": "markers+text",
         "text": "resume_592",
         "textposition": "bottom center",
         "type": "scatter",
         "x": [
          3.9242870807647705
         ],
         "y": [
          9.735024452209473
         ]
        },
        {
         "marker": {
          "color": "red"
         },
         "mode": "markers+text",
         "text": "resume_593",
         "textposition": "bottom center",
         "type": "scatter",
         "x": [
          12.12894058227539
         ],
         "y": [
          -12.58296012878418
         ]
        },
        {
         "marker": {
          "color": "red"
         },
         "mode": "markers+text",
         "text": "resume_594",
         "textposition": "bottom center",
         "type": "scatter",
         "x": [
          17.248798370361328
         ],
         "y": [
          -1.422128677368164
         ]
        },
        {
         "marker": {
          "color": "red"
         },
         "mode": "markers+text",
         "text": "resume_595",
         "textposition": "bottom center",
         "type": "scatter",
         "x": [
          -1.9884459972381592
         ],
         "y": [
          -4.521878242492676
         ]
        },
        {
         "marker": {
          "color": "red"
         },
         "mode": "markers+text",
         "text": "resume_596",
         "textposition": "bottom center",
         "type": "scatter",
         "x": [
          -17.551368713378906
         ],
         "y": [
          4.520166873931885
         ]
        },
        {
         "marker": {
          "color": "red"
         },
         "mode": "markers+text",
         "text": "resume_597",
         "textposition": "bottom center",
         "type": "scatter",
         "x": [
          -38.23155975341797
         ],
         "y": [
          9.434218406677246
         ]
        },
        {
         "marker": {
          "color": "red"
         },
         "mode": "markers+text",
         "text": "resume_598",
         "textposition": "bottom center",
         "type": "scatter",
         "x": [
          14.515912055969238
         ],
         "y": [
          -15.153484344482422
         ]
        },
        {
         "marker": {
          "color": "red"
         },
         "mode": "markers+text",
         "text": "resume_599",
         "textposition": "bottom center",
         "type": "scatter",
         "x": [
          -10.530890464782715
         ],
         "y": [
          -7.700092792510986
         ]
        },
        {
         "marker": {
          "color": "red"
         },
         "mode": "markers+text",
         "text": "resume_600",
         "textposition": "bottom center",
         "type": "scatter",
         "x": [
          -29.469993591308594
         ],
         "y": [
          4.378124713897705
         ]
        },
        {
         "marker": {
          "color": "red"
         },
         "mode": "markers+text",
         "text": "resume_601",
         "textposition": "bottom center",
         "type": "scatter",
         "x": [
          13.108241081237793
         ],
         "y": [
          -17.906251907348633
         ]
        },
        {
         "marker": {
          "color": "red"
         },
         "mode": "markers+text",
         "text": "resume_602",
         "textposition": "bottom center",
         "type": "scatter",
         "x": [
          11.755435943603516
         ],
         "y": [
          5.412735462188721
         ]
        },
        {
         "marker": {
          "color": "red"
         },
         "mode": "markers+text",
         "text": "resume_603",
         "textposition": "bottom center",
         "type": "scatter",
         "x": [
          21.920705795288086
         ],
         "y": [
          -0.7961524724960327
         ]
        },
        {
         "marker": {
          "color": "red"
         },
         "mode": "markers+text",
         "text": "resume_604",
         "textposition": "bottom center",
         "type": "scatter",
         "x": [
          3.1046619415283203
         ],
         "y": [
          -5.210961818695068
         ]
        },
        {
         "marker": {
          "color": "red"
         },
         "mode": "markers+text",
         "text": "resume_605",
         "textposition": "bottom center",
         "type": "scatter",
         "x": [
          28.73115348815918
         ],
         "y": [
          -10.554726600646973
         ]
        },
        {
         "marker": {
          "color": "red"
         },
         "mode": "markers+text",
         "text": "resume_606",
         "textposition": "bottom center",
         "type": "scatter",
         "x": [
          12.054670333862305
         ],
         "y": [
          2.6931097507476807
         ]
        },
        {
         "marker": {
          "color": "red"
         },
         "mode": "markers+text",
         "text": "resume_607",
         "textposition": "bottom center",
         "type": "scatter",
         "x": [
          -1.8857996463775635
         ],
         "y": [
          10.6892728805542
         ]
        },
        {
         "marker": {
          "color": "red"
         },
         "mode": "markers+text",
         "text": "resume_608",
         "textposition": "bottom center",
         "type": "scatter",
         "x": [
          3.7434937953948975
         ],
         "y": [
          -17.744625091552734
         ]
        },
        {
         "marker": {
          "color": "red"
         },
         "mode": "markers+text",
         "text": "resume_609",
         "textposition": "bottom center",
         "type": "scatter",
         "x": [
          -1.0878876447677612
         ],
         "y": [
          -1.4448034763336182
         ]
        },
        {
         "marker": {
          "color": "red"
         },
         "mode": "markers+text",
         "text": "resume_610",
         "textposition": "bottom center",
         "type": "scatter",
         "x": [
          8.434294700622559
         ],
         "y": [
          2.142667531967163
         ]
        },
        {
         "marker": {
          "color": "red"
         },
         "mode": "markers+text",
         "text": "resume_611",
         "textposition": "bottom center",
         "type": "scatter",
         "x": [
          -33.569095611572266
         ],
         "y": [
          1.6315289735794067
         ]
        },
        {
         "marker": {
          "color": "red"
         },
         "mode": "markers+text",
         "text": "resume_612",
         "textposition": "bottom center",
         "type": "scatter",
         "x": [
          -18.646411895751953
         ],
         "y": [
          0.059465743601322174
         ]
        },
        {
         "marker": {
          "color": "red"
         },
         "mode": "markers+text",
         "text": "resume_613",
         "textposition": "bottom center",
         "type": "scatter",
         "x": [
          -25.666776657104492
         ],
         "y": [
          7.3286614418029785
         ]
        },
        {
         "marker": {
          "color": "red"
         },
         "mode": "markers+text",
         "text": "resume_614",
         "textposition": "bottom center",
         "type": "scatter",
         "x": [
          -26.819580078125
         ],
         "y": [
          7.595411777496338
         ]
        },
        {
         "marker": {
          "color": "red"
         },
         "mode": "markers+text",
         "text": "resume_615",
         "textposition": "bottom center",
         "type": "scatter",
         "x": [
          21.208873748779297
         ],
         "y": [
          -13.917835235595703
         ]
        },
        {
         "marker": {
          "color": "red"
         },
         "mode": "markers+text",
         "text": "resume_616",
         "textposition": "bottom center",
         "type": "scatter",
         "x": [
          5.794114589691162
         ],
         "y": [
          -18.004493713378906
         ]
        },
        {
         "marker": {
          "color": "red"
         },
         "mode": "markers+text",
         "text": "resume_617",
         "textposition": "bottom center",
         "type": "scatter",
         "x": [
          -0.9432343244552612
         ],
         "y": [
          0.1285891979932785
         ]
        },
        {
         "marker": {
          "color": "red"
         },
         "mode": "markers+text",
         "text": "resume_618",
         "textposition": "bottom center",
         "type": "scatter",
         "x": [
          -6.290735721588135
         ],
         "y": [
          15.705785751342773
         ]
        },
        {
         "marker": {
          "color": "red"
         },
         "mode": "markers+text",
         "text": "resume_619",
         "textposition": "bottom center",
         "type": "scatter",
         "x": [
          16.8198299407959
         ],
         "y": [
          -16.46699333190918
         ]
        },
        {
         "marker": {
          "color": "red"
         },
         "mode": "markers+text",
         "text": "resume_620",
         "textposition": "bottom center",
         "type": "scatter",
         "x": [
          6.935548305511475
         ],
         "y": [
          1.6844555139541626
         ]
        },
        {
         "marker": {
          "color": "red"
         },
         "mode": "markers+text",
         "text": "resume_621",
         "textposition": "bottom center",
         "type": "scatter",
         "x": [
          -5.9188103675842285
         ],
         "y": [
          -1.8915761709213257
         ]
        },
        {
         "marker": {
          "color": "red"
         },
         "mode": "markers+text",
         "text": "resume_622",
         "textposition": "bottom center",
         "type": "scatter",
         "x": [
          12.645998001098633
         ],
         "y": [
          -19.628267288208008
         ]
        },
        {
         "marker": {
          "color": "red"
         },
         "mode": "markers+text",
         "text": "resume_623",
         "textposition": "bottom center",
         "type": "scatter",
         "x": [
          21.403738021850586
         ],
         "y": [
          -8.072138786315918
         ]
        },
        {
         "marker": {
          "color": "red"
         },
         "mode": "markers+text",
         "text": "resume_624",
         "textposition": "bottom center",
         "type": "scatter",
         "x": [
          17.38831901550293
         ],
         "y": [
          -15.477189064025879
         ]
        },
        {
         "marker": {
          "color": "red"
         },
         "mode": "markers+text",
         "text": "resume_625",
         "textposition": "bottom center",
         "type": "scatter",
         "x": [
          -33.14168930053711
         ],
         "y": [
          5.335670471191406
         ]
        },
        {
         "marker": {
          "color": "red"
         },
         "mode": "markers+text",
         "text": "resume_626",
         "textposition": "bottom center",
         "type": "scatter",
         "x": [
          8.22859001159668
         ],
         "y": [
          -18.805490493774414
         ]
        },
        {
         "marker": {
          "color": "red"
         },
         "mode": "markers+text",
         "text": "resume_627",
         "textposition": "bottom center",
         "type": "scatter",
         "x": [
          16.715822219848633
         ],
         "y": [
          -14.509246826171875
         ]
        },
        {
         "marker": {
          "color": "red"
         },
         "mode": "markers+text",
         "text": "resume_628",
         "textposition": "bottom center",
         "type": "scatter",
         "x": [
          -21.10986328125
         ],
         "y": [
          4.3241868019104
         ]
        },
        {
         "marker": {
          "color": "red"
         },
         "mode": "markers+text",
         "text": "resume_629",
         "textposition": "bottom center",
         "type": "scatter",
         "x": [
          -11.853135108947754
         ],
         "y": [
          14.97406005859375
         ]
        },
        {
         "marker": {
          "color": "red"
         },
         "mode": "markers+text",
         "text": "resume_630",
         "textposition": "bottom center",
         "type": "scatter",
         "x": [
          -19.51633071899414
         ],
         "y": [
          -0.06542620807886124
         ]
        },
        {
         "marker": {
          "color": "red"
         },
         "mode": "markers+text",
         "text": "resume_631",
         "textposition": "bottom center",
         "type": "scatter",
         "x": [
          7.260010242462158
         ],
         "y": [
          -22.82855224609375
         ]
        },
        {
         "marker": {
          "color": "red"
         },
         "mode": "markers+text",
         "text": "resume_632",
         "textposition": "bottom center",
         "type": "scatter",
         "x": [
          -31.232664108276367
         ],
         "y": [
          11.57929801940918
         ]
        },
        {
         "marker": {
          "color": "red"
         },
         "mode": "markers+text",
         "text": "resume_633",
         "textposition": "bottom center",
         "type": "scatter",
         "x": [
          -6.17426061630249
         ],
         "y": [
          4.2042155265808105
         ]
        },
        {
         "marker": {
          "color": "red"
         },
         "mode": "markers+text",
         "text": "resume_634",
         "textposition": "bottom center",
         "type": "scatter",
         "x": [
          -3.7237436771392822
         ],
         "y": [
          -3.6411571502685547
         ]
        },
        {
         "marker": {
          "color": "red"
         },
         "mode": "markers+text",
         "text": "resume_635",
         "textposition": "bottom center",
         "type": "scatter",
         "x": [
          -20.105934143066406
         ],
         "y": [
          10.483251571655273
         ]
        },
        {
         "marker": {
          "color": "red"
         },
         "mode": "markers+text",
         "text": "resume_636",
         "textposition": "bottom center",
         "type": "scatter",
         "x": [
          8.951197624206543
         ],
         "y": [
          -1.9294687509536743
         ]
        },
        {
         "marker": {
          "color": "red"
         },
         "mode": "markers+text",
         "text": "resume_637",
         "textposition": "bottom center",
         "type": "scatter",
         "x": [
          -20.30478858947754
         ],
         "y": [
          7.260796546936035
         ]
        },
        {
         "marker": {
          "color": "red"
         },
         "mode": "markers+text",
         "text": "resume_638",
         "textposition": "bottom center",
         "type": "scatter",
         "x": [
          -12.793974876403809
         ],
         "y": [
          11.361665725708008
         ]
        },
        {
         "marker": {
          "color": "red"
         },
         "mode": "markers+text",
         "text": "resume_639",
         "textposition": "bottom center",
         "type": "scatter",
         "x": [
          -14.8867769241333
         ],
         "y": [
          -3.6004581451416016
         ]
        },
        {
         "marker": {
          "color": "red"
         },
         "mode": "markers+text",
         "text": "resume_640",
         "textposition": "bottom center",
         "type": "scatter",
         "x": [
          12.270394325256348
         ],
         "y": [
          0.35295405983924866
         ]
        },
        {
         "marker": {
          "color": "red"
         },
         "mode": "markers+text",
         "text": "resume_641",
         "textposition": "bottom center",
         "type": "scatter",
         "x": [
          -26.655712127685547
         ],
         "y": [
          7.1571831703186035
         ]
        },
        {
         "marker": {
          "color": "red"
         },
         "mode": "markers+text",
         "text": "resume_642",
         "textposition": "bottom center",
         "type": "scatter",
         "x": [
          12.287521362304688
         ],
         "y": [
          1.3876453638076782
         ]
        },
        {
         "marker": {
          "color": "red"
         },
         "mode": "markers+text",
         "text": "resume_643",
         "textposition": "bottom center",
         "type": "scatter",
         "x": [
          0.7708426713943481
         ],
         "y": [
          -2.78413987159729
         ]
        },
        {
         "marker": {
          "color": "red"
         },
         "mode": "markers+text",
         "text": "resume_644",
         "textposition": "bottom center",
         "type": "scatter",
         "x": [
          10.329438209533691
         ],
         "y": [
          15.362476348876953
         ]
        },
        {
         "marker": {
          "color": "red"
         },
         "mode": "markers+text",
         "text": "resume_645",
         "textposition": "bottom center",
         "type": "scatter",
         "x": [
          22.0283260345459
         ],
         "y": [
          -13.945429801940918
         ]
        },
        {
         "marker": {
          "color": "red"
         },
         "mode": "markers+text",
         "text": "resume_646",
         "textposition": "bottom center",
         "type": "scatter",
         "x": [
          18.103742599487305
         ],
         "y": [
          -4.941955089569092
         ]
        },
        {
         "marker": {
          "color": "red"
         },
         "mode": "markers+text",
         "text": "resume_647",
         "textposition": "bottom center",
         "type": "scatter",
         "x": [
          -36.30263900756836
         ],
         "y": [
          5.1816630363464355
         ]
        },
        {
         "marker": {
          "color": "red"
         },
         "mode": "markers+text",
         "text": "resume_648",
         "textposition": "bottom center",
         "type": "scatter",
         "x": [
          -12.888731956481934
         ],
         "y": [
          9.76031494140625
         ]
        },
        {
         "marker": {
          "color": "red"
         },
         "mode": "markers+text",
         "text": "resume_649",
         "textposition": "bottom center",
         "type": "scatter",
         "x": [
          -24.761661529541016
         ],
         "y": [
          15.093619346618652
         ]
        },
        {
         "marker": {
          "color": "red"
         },
         "mode": "markers+text",
         "text": "resume_650",
         "textposition": "bottom center",
         "type": "scatter",
         "x": [
          7.238140106201172
         ],
         "y": [
          13.678834915161133
         ]
        },
        {
         "marker": {
          "color": "red"
         },
         "mode": "markers+text",
         "text": "resume_651",
         "textposition": "bottom center",
         "type": "scatter",
         "x": [
          -32.858154296875
         ],
         "y": [
          5.363254547119141
         ]
        },
        {
         "marker": {
          "color": "red"
         },
         "mode": "markers+text",
         "text": "resume_652",
         "textposition": "bottom center",
         "type": "scatter",
         "x": [
          -26.98453712463379
         ],
         "y": [
          4.69452428817749
         ]
        },
        {
         "marker": {
          "color": "red"
         },
         "mode": "markers+text",
         "text": "resume_653",
         "textposition": "bottom center",
         "type": "scatter",
         "x": [
          14.137650489807129
         ],
         "y": [
          8.989106178283691
         ]
        },
        {
         "marker": {
          "color": "red"
         },
         "mode": "markers+text",
         "text": "resume_654",
         "textposition": "bottom center",
         "type": "scatter",
         "x": [
          10.5189790725708
         ],
         "y": [
          -2.785378932952881
         ]
        },
        {
         "marker": {
          "color": "red"
         },
         "mode": "markers+text",
         "text": "resume_655",
         "textposition": "bottom center",
         "type": "scatter",
         "x": [
          12.466958999633789
         ],
         "y": [
          -20.353422164916992
         ]
        },
        {
         "marker": {
          "color": "red"
         },
         "mode": "markers+text",
         "text": "resume_656",
         "textposition": "bottom center",
         "type": "scatter",
         "x": [
          -21.038936614990234
         ],
         "y": [
          9.282393455505371
         ]
        },
        {
         "marker": {
          "color": "red"
         },
         "mode": "markers+text",
         "text": "resume_657",
         "textposition": "bottom center",
         "type": "scatter",
         "x": [
          12.81268310546875
         ],
         "y": [
          -3.9768667221069336
         ]
        },
        {
         "marker": {
          "color": "red"
         },
         "mode": "markers+text",
         "text": "resume_658",
         "textposition": "bottom center",
         "type": "scatter",
         "x": [
          7.956507205963135
         ],
         "y": [
          -2.499187707901001
         ]
        },
        {
         "marker": {
          "color": "red"
         },
         "mode": "markers+text",
         "text": "resume_659",
         "textposition": "bottom center",
         "type": "scatter",
         "x": [
          3.3642313480377197
         ],
         "y": [
          3.6785194873809814
         ]
        },
        {
         "marker": {
          "color": "red"
         },
         "mode": "markers+text",
         "text": "resume_660",
         "textposition": "bottom center",
         "type": "scatter",
         "x": [
          -7.008277416229248
         ],
         "y": [
          1.149213194847107
         ]
        },
        {
         "marker": {
          "color": "red"
         },
         "mode": "markers+text",
         "text": "resume_661",
         "textposition": "bottom center",
         "type": "scatter",
         "x": [
          -8.275581359863281
         ],
         "y": [
          3.642601490020752
         ]
        },
        {
         "marker": {
          "color": "red"
         },
         "mode": "markers+text",
         "text": "resume_662",
         "textposition": "bottom center",
         "type": "scatter",
         "x": [
          -34.88546371459961
         ],
         "y": [
          3.354198932647705
         ]
        },
        {
         "marker": {
          "color": "red"
         },
         "mode": "markers+text",
         "text": "resume_663",
         "textposition": "bottom center",
         "type": "scatter",
         "x": [
          5.519395351409912
         ],
         "y": [
          -9.826251029968262
         ]
        },
        {
         "marker": {
          "color": "red"
         },
         "mode": "markers+text",
         "text": "resume_664",
         "textposition": "bottom center",
         "type": "scatter",
         "x": [
          23.728670120239258
         ],
         "y": [
          -10.409993171691895
         ]
        },
        {
         "marker": {
          "color": "red"
         },
         "mode": "markers+text",
         "text": "resume_665",
         "textposition": "bottom center",
         "type": "scatter",
         "x": [
          0.7981572151184082
         ],
         "y": [
          -12.550495147705078
         ]
        },
        {
         "marker": {
          "color": "red"
         },
         "mode": "markers+text",
         "text": "resume_666",
         "textposition": "bottom center",
         "type": "scatter",
         "x": [
          19.846155166625977
         ],
         "y": [
          -20.99213409423828
         ]
        },
        {
         "marker": {
          "color": "red"
         },
         "mode": "markers+text",
         "text": "resume_667",
         "textposition": "bottom center",
         "type": "scatter",
         "x": [
          -7.64728307723999
         ],
         "y": [
          3.974001884460449
         ]
        },
        {
         "marker": {
          "color": "red"
         },
         "mode": "markers+text",
         "text": "resume_668",
         "textposition": "bottom center",
         "type": "scatter",
         "x": [
          -3.7162256240844727
         ],
         "y": [
          -8.087886810302734
         ]
        },
        {
         "marker": {
          "color": "red"
         },
         "mode": "markers+text",
         "text": "resume_669",
         "textposition": "bottom center",
         "type": "scatter",
         "x": [
          11.678112983703613
         ],
         "y": [
          5.728925704956055
         ]
        },
        {
         "marker": {
          "color": "red"
         },
         "mode": "markers+text",
         "text": "resume_670",
         "textposition": "bottom center",
         "type": "scatter",
         "x": [
          -14.288351058959961
         ],
         "y": [
          -8.209089279174805
         ]
        },
        {
         "marker": {
          "color": "red"
         },
         "mode": "markers+text",
         "text": "resume_671",
         "textposition": "bottom center",
         "type": "scatter",
         "x": [
          18.576135635375977
         ],
         "y": [
          -23.83059310913086
         ]
        },
        {
         "marker": {
          "color": "red"
         },
         "mode": "markers+text",
         "text": "resume_672",
         "textposition": "bottom center",
         "type": "scatter",
         "x": [
          -3.8851497173309326
         ],
         "y": [
          2.019845485687256
         ]
        },
        {
         "marker": {
          "color": "red"
         },
         "mode": "markers+text",
         "text": "resume_673",
         "textposition": "bottom center",
         "type": "scatter",
         "x": [
          0.05989678576588631
         ],
         "y": [
          12.818168640136719
         ]
        },
        {
         "marker": {
          "color": "red"
         },
         "mode": "markers+text",
         "text": "resume_674",
         "textposition": "bottom center",
         "type": "scatter",
         "x": [
          -11.019562721252441
         ],
         "y": [
          7.710482597351074
         ]
        },
        {
         "marker": {
          "color": "red"
         },
         "mode": "markers+text",
         "text": "resume_675",
         "textposition": "bottom center",
         "type": "scatter",
         "x": [
          25.675081253051758
         ],
         "y": [
          -7.956912994384766
         ]
        },
        {
         "marker": {
          "color": "red"
         },
         "mode": "markers+text",
         "text": "resume_676",
         "textposition": "bottom center",
         "type": "scatter",
         "x": [
          -37.6004638671875
         ],
         "y": [
          13.178606986999512
         ]
        },
        {
         "marker": {
          "color": "red"
         },
         "mode": "markers+text",
         "text": "resume_677",
         "textposition": "bottom center",
         "type": "scatter",
         "x": [
          -12.473615646362305
         ],
         "y": [
          12.549771308898926
         ]
        },
        {
         "marker": {
          "color": "red"
         },
         "mode": "markers+text",
         "text": "resume_678",
         "textposition": "bottom center",
         "type": "scatter",
         "x": [
          16.516170501708984
         ],
         "y": [
          0.8754639625549316
         ]
        },
        {
         "marker": {
          "color": "red"
         },
         "mode": "markers+text",
         "text": "resume_679",
         "textposition": "bottom center",
         "type": "scatter",
         "x": [
          -8.234156608581543
         ],
         "y": [
          7.065189838409424
         ]
        },
        {
         "marker": {
          "color": "red"
         },
         "mode": "markers+text",
         "text": "resume_680",
         "textposition": "bottom center",
         "type": "scatter",
         "x": [
          -35.821468353271484
         ],
         "y": [
          9.522069931030273
         ]
        },
        {
         "marker": {
          "color": "red"
         },
         "mode": "markers+text",
         "text": "resume_681",
         "textposition": "bottom center",
         "type": "scatter",
         "x": [
          -10.621916770935059
         ],
         "y": [
          3.33733868598938
         ]
        },
        {
         "marker": {
          "color": "red"
         },
         "mode": "markers+text",
         "text": "resume_682",
         "textposition": "bottom center",
         "type": "scatter",
         "x": [
          -28.050251007080078
         ],
         "y": [
          2.9473865032196045
         ]
        },
        {
         "marker": {
          "color": "red"
         },
         "mode": "markers+text",
         "text": "resume_683",
         "textposition": "bottom center",
         "type": "scatter",
         "x": [
          -28.17145538330078
         ],
         "y": [
          3.258988618850708
         ]
        },
        {
         "marker": {
          "color": "red"
         },
         "mode": "markers+text",
         "text": "resume_684",
         "textposition": "bottom center",
         "type": "scatter",
         "x": [
          2.4353551864624023
         ],
         "y": [
          -0.09598354250192642
         ]
        },
        {
         "marker": {
          "color": "red"
         },
         "mode": "markers+text",
         "text": "resume_685",
         "textposition": "bottom center",
         "type": "scatter",
         "x": [
          29.567594528198242
         ],
         "y": [
          -12.432392120361328
         ]
        },
        {
         "marker": {
          "color": "red"
         },
         "mode": "markers+text",
         "text": "resume_686",
         "textposition": "bottom center",
         "type": "scatter",
         "x": [
          -40.308204650878906
         ],
         "y": [
          4.965807914733887
         ]
        },
        {
         "marker": {
          "color": "red"
         },
         "mode": "markers+text",
         "text": "resume_687",
         "textposition": "bottom center",
         "type": "scatter",
         "x": [
          8.385514259338379
         ],
         "y": [
          10.724623680114746
         ]
        },
        {
         "marker": {
          "color": "red"
         },
         "mode": "markers+text",
         "text": "resume_688",
         "textposition": "bottom center",
         "type": "scatter",
         "x": [
          -37.59600067138672
         ],
         "y": [
          0.8527681827545166
         ]
        },
        {
         "marker": {
          "color": "red"
         },
         "mode": "markers+text",
         "text": "resume_689",
         "textposition": "bottom center",
         "type": "scatter",
         "x": [
          19.038883209228516
         ],
         "y": [
          3.9773476123809814
         ]
        },
        {
         "marker": {
          "color": "red"
         },
         "mode": "markers+text",
         "text": "resume_690",
         "textposition": "bottom center",
         "type": "scatter",
         "x": [
          -16.721973419189453
         ],
         "y": [
          7.451551914215088
         ]
        },
        {
         "marker": {
          "color": "red"
         },
         "mode": "markers+text",
         "text": "resume_691",
         "textposition": "bottom center",
         "type": "scatter",
         "x": [
          -38.400577545166016
         ],
         "y": [
          -0.2987731099128723
         ]
        },
        {
         "marker": {
          "color": "red"
         },
         "mode": "markers+text",
         "text": "resume_692",
         "textposition": "bottom center",
         "type": "scatter",
         "x": [
          14.0269136428833
         ],
         "y": [
          -14.99604320526123
         ]
        },
        {
         "marker": {
          "color": "red"
         },
         "mode": "markers+text",
         "text": "resume_693",
         "textposition": "bottom center",
         "type": "scatter",
         "x": [
          11.658096313476562
         ],
         "y": [
          -6.782098770141602
         ]
        },
        {
         "marker": {
          "color": "red"
         },
         "mode": "markers+text",
         "text": "resume_694",
         "textposition": "bottom center",
         "type": "scatter",
         "x": [
          14.86391830444336
         ],
         "y": [
          5.393646240234375
         ]
        },
        {
         "marker": {
          "color": "red"
         },
         "mode": "markers+text",
         "text": "resume_695",
         "textposition": "bottom center",
         "type": "scatter",
         "x": [
          16.36415672302246
         ],
         "y": [
          -1.0803701877593994
         ]
        },
        {
         "marker": {
          "color": "red"
         },
         "mode": "markers+text",
         "text": "resume_696",
         "textposition": "bottom center",
         "type": "scatter",
         "x": [
          -15.211243629455566
         ],
         "y": [
          -4.460015773773193
         ]
        },
        {
         "marker": {
          "color": "red"
         },
         "mode": "markers+text",
         "text": "resume_697",
         "textposition": "bottom center",
         "type": "scatter",
         "x": [
          18.678585052490234
         ],
         "y": [
          -8.813126564025879
         ]
        },
        {
         "marker": {
          "color": "red"
         },
         "mode": "markers+text",
         "text": "resume_698",
         "textposition": "bottom center",
         "type": "scatter",
         "x": [
          13.59383773803711
         ],
         "y": [
          -21.58951187133789
         ]
        },
        {
         "marker": {
          "color": "red"
         },
         "mode": "markers+text",
         "text": "resume_699",
         "textposition": "bottom center",
         "type": "scatter",
         "x": [
          -30.934553146362305
         ],
         "y": [
          3.204991579055786
         ]
        },
        {
         "marker": {
          "color": "red"
         },
         "mode": "markers+text",
         "text": "resume_700",
         "textposition": "bottom center",
         "type": "scatter",
         "x": [
          21.027711868286133
         ],
         "y": [
          -1.6287504434585571
         ]
        },
        {
         "marker": {
          "color": "red"
         },
         "mode": "markers+text",
         "text": "resume_701",
         "textposition": "bottom center",
         "type": "scatter",
         "x": [
          9.153233528137207
         ],
         "y": [
          -6.2486443519592285
         ]
        },
        {
         "marker": {
          "color": "red"
         },
         "mode": "markers+text",
         "text": "resume_702",
         "textposition": "bottom center",
         "type": "scatter",
         "x": [
          19.08259391784668
         ],
         "y": [
          -0.574080765247345
         ]
        },
        {
         "marker": {
          "color": "red"
         },
         "mode": "markers+text",
         "text": "resume_703",
         "textposition": "bottom center",
         "type": "scatter",
         "x": [
          20.675312042236328
         ],
         "y": [
          -1.3270765542984009
         ]
        },
        {
         "marker": {
          "color": "red"
         },
         "mode": "markers+text",
         "text": "resume_704",
         "textposition": "bottom center",
         "type": "scatter",
         "x": [
          13.214349746704102
         ],
         "y": [
          -1.2980436086654663
         ]
        },
        {
         "marker": {
          "color": "red"
         },
         "mode": "markers+text",
         "text": "resume_705",
         "textposition": "bottom center",
         "type": "scatter",
         "x": [
          18.548852920532227
         ],
         "y": [
          9.44836139678955
         ]
        },
        {
         "marker": {
          "color": "red"
         },
         "mode": "markers+text",
         "text": "resume_706",
         "textposition": "bottom center",
         "type": "scatter",
         "x": [
          -3.710240364074707
         ],
         "y": [
          9.696382522583008
         ]
        },
        {
         "marker": {
          "color": "red"
         },
         "mode": "markers+text",
         "text": "resume_707",
         "textposition": "bottom center",
         "type": "scatter",
         "x": [
          10.857789993286133
         ],
         "y": [
          3.649172067642212
         ]
        },
        {
         "marker": {
          "color": "red"
         },
         "mode": "markers+text",
         "text": "resume_708",
         "textposition": "bottom center",
         "type": "scatter",
         "x": [
          2.597252130508423
         ],
         "y": [
          -9.309399604797363
         ]
        },
        {
         "marker": {
          "color": "red"
         },
         "mode": "markers+text",
         "text": "resume_709",
         "textposition": "bottom center",
         "type": "scatter",
         "x": [
          0.002743997611105442
         ],
         "y": [
          3.0848453044891357
         ]
        },
        {
         "marker": {
          "color": "red"
         },
         "mode": "markers+text",
         "text": "resume_710",
         "textposition": "bottom center",
         "type": "scatter",
         "x": [
          -18.683195114135742
         ],
         "y": [
          12.44534683227539
         ]
        },
        {
         "marker": {
          "color": "red"
         },
         "mode": "markers+text",
         "text": "resume_711",
         "textposition": "bottom center",
         "type": "scatter",
         "x": [
          -2.7377376556396484
         ],
         "y": [
          -0.13801701366901398
         ]
        },
        {
         "marker": {
          "color": "red"
         },
         "mode": "markers+text",
         "text": "resume_712",
         "textposition": "bottom center",
         "type": "scatter",
         "x": [
          -9.256309509277344
         ],
         "y": [
          3.7148778438568115
         ]
        },
        {
         "marker": {
          "color": "red"
         },
         "mode": "markers+text",
         "text": "resume_713",
         "textposition": "bottom center",
         "type": "scatter",
         "x": [
          8.702775955200195
         ],
         "y": [
          -4.744476318359375
         ]
        },
        {
         "marker": {
          "color": "red"
         },
         "mode": "markers+text",
         "text": "resume_714",
         "textposition": "bottom center",
         "type": "scatter",
         "x": [
          11.860870361328125
         ],
         "y": [
          -9.898159980773926
         ]
        },
        {
         "marker": {
          "color": "red"
         },
         "mode": "markers+text",
         "text": "resume_715",
         "textposition": "bottom center",
         "type": "scatter",
         "x": [
          22.87156867980957
         ],
         "y": [
          -22.585798263549805
         ]
        },
        {
         "marker": {
          "color": "red"
         },
         "mode": "markers+text",
         "text": "resume_716",
         "textposition": "bottom center",
         "type": "scatter",
         "x": [
          -29.56005096435547
         ],
         "y": [
          13.021468162536621
         ]
        },
        {
         "marker": {
          "color": "red"
         },
         "mode": "markers+text",
         "text": "resume_717",
         "textposition": "bottom center",
         "type": "scatter",
         "x": [
          15.173686027526855
         ],
         "y": [
          -6.2457733154296875
         ]
        },
        {
         "marker": {
          "color": "red"
         },
         "mode": "markers+text",
         "text": "resume_718",
         "textposition": "bottom center",
         "type": "scatter",
         "x": [
          -5.747613906860352
         ],
         "y": [
          -10.878393173217773
         ]
        },
        {
         "marker": {
          "color": "red"
         },
         "mode": "markers+text",
         "text": "resume_719",
         "textposition": "bottom center",
         "type": "scatter",
         "x": [
          -38.11472702026367
         ],
         "y": [
          0.792553722858429
         ]
        },
        {
         "marker": {
          "color": "red"
         },
         "mode": "markers+text",
         "text": "resume_720",
         "textposition": "bottom center",
         "type": "scatter",
         "x": [
          4.153967380523682
         ],
         "y": [
          5.1943888664245605
         ]
        },
        {
         "marker": {
          "color": "red"
         },
         "mode": "markers+text",
         "text": "resume_721",
         "textposition": "bottom center",
         "type": "scatter",
         "x": [
          9.48310661315918
         ],
         "y": [
          11.900896072387695
         ]
        },
        {
         "marker": {
          "color": "red"
         },
         "mode": "markers+text",
         "text": "resume_722",
         "textposition": "bottom center",
         "type": "scatter",
         "x": [
          3.881167411804199
         ],
         "y": [
          -2.128114938735962
         ]
        },
        {
         "marker": {
          "color": "red"
         },
         "mode": "markers+text",
         "text": "resume_723",
         "textposition": "bottom center",
         "type": "scatter",
         "x": [
          -39.009368896484375
         ],
         "y": [
          -0.22410008311271667
         ]
        },
        {
         "marker": {
          "color": "red"
         },
         "mode": "markers+text",
         "text": "resume_724",
         "textposition": "bottom center",
         "type": "scatter",
         "x": [
          -29.871089935302734
         ],
         "y": [
          8.686237335205078
         ]
        },
        {
         "marker": {
          "color": "red"
         },
         "mode": "markers+text",
         "text": "resume_725",
         "textposition": "bottom center",
         "type": "scatter",
         "x": [
          -13.759173393249512
         ],
         "y": [
          5.263400077819824
         ]
        },
        {
         "marker": {
          "color": "red"
         },
         "mode": "markers+text",
         "text": "resume_726",
         "textposition": "bottom center",
         "type": "scatter",
         "x": [
          27.482267379760742
         ],
         "y": [
          -16.705013275146484
         ]
        },
        {
         "marker": {
          "color": "red"
         },
         "mode": "markers+text",
         "text": "resume_727",
         "textposition": "bottom center",
         "type": "scatter",
         "x": [
          -41.935325622558594
         ],
         "y": [
          8.656852722167969
         ]
        },
        {
         "marker": {
          "color": "red"
         },
         "mode": "markers+text",
         "text": "resume_728",
         "textposition": "bottom center",
         "type": "scatter",
         "x": [
          -21.049882888793945
         ],
         "y": [
          2.6560232639312744
         ]
        },
        {
         "marker": {
          "color": "red"
         },
         "mode": "markers+text",
         "text": "resume_729",
         "textposition": "bottom center",
         "type": "scatter",
         "x": [
          -7.043417930603027
         ],
         "y": [
          4.155561447143555
         ]
        },
        {
         "marker": {
          "color": "red"
         },
         "mode": "markers+text",
         "text": "resume_730",
         "textposition": "bottom center",
         "type": "scatter",
         "x": [
          -33.91395568847656
         ],
         "y": [
          12.826087951660156
         ]
        },
        {
         "marker": {
          "color": "red"
         },
         "mode": "markers+text",
         "text": "resume_731",
         "textposition": "bottom center",
         "type": "scatter",
         "x": [
          -42.076011657714844
         ],
         "y": [
          3.4167487621307373
         ]
        },
        {
         "marker": {
          "color": "red"
         },
         "mode": "markers+text",
         "text": "resume_732",
         "textposition": "bottom center",
         "type": "scatter",
         "x": [
          -13.9022855758667
         ],
         "y": [
          -2.5040194988250732
         ]
        },
        {
         "marker": {
          "color": "red"
         },
         "mode": "markers+text",
         "text": "resume_733",
         "textposition": "bottom center",
         "type": "scatter",
         "x": [
          20.909196853637695
         ],
         "y": [
          9.15345287322998
         ]
        },
        {
         "marker": {
          "color": "red"
         },
         "mode": "markers+text",
         "text": "resume_734",
         "textposition": "bottom center",
         "type": "scatter",
         "x": [
          21.59375
         ],
         "y": [
          1.9006924629211426
         ]
        },
        {
         "marker": {
          "color": "red"
         },
         "mode": "markers+text",
         "text": "resume_735",
         "textposition": "bottom center",
         "type": "scatter",
         "x": [
          15.28104305267334
         ],
         "y": [
          -17.29010581970215
         ]
        },
        {
         "marker": {
          "color": "red"
         },
         "mode": "markers+text",
         "text": "resume_736",
         "textposition": "bottom center",
         "type": "scatter",
         "x": [
          10.284748077392578
         ],
         "y": [
          4.085679531097412
         ]
        },
        {
         "marker": {
          "color": "red"
         },
         "mode": "markers+text",
         "text": "resume_737",
         "textposition": "bottom center",
         "type": "scatter",
         "x": [
          -0.07650760561227798
         ],
         "y": [
          -4.560563564300537
         ]
        },
        {
         "marker": {
          "color": "red"
         },
         "mode": "markers+text",
         "text": "resume_738",
         "textposition": "bottom center",
         "type": "scatter",
         "x": [
          20.48720359802246
         ],
         "y": [
          0.5872215032577515
         ]
        },
        {
         "marker": {
          "color": "red"
         },
         "mode": "markers+text",
         "text": "resume_739",
         "textposition": "bottom center",
         "type": "scatter",
         "x": [
          18.955183029174805
         ],
         "y": [
          -5.510349750518799
         ]
        },
        {
         "marker": {
          "color": "red"
         },
         "mode": "markers+text",
         "text": "resume_740",
         "textposition": "bottom center",
         "type": "scatter",
         "x": [
          13.84381103515625
         ],
         "y": [
          -10.10798454284668
         ]
        },
        {
         "marker": {
          "color": "red"
         },
         "mode": "markers+text",
         "text": "resume_741",
         "textposition": "bottom center",
         "type": "scatter",
         "x": [
          -24.894668579101562
         ],
         "y": [
          11.459541320800781
         ]
        },
        {
         "marker": {
          "color": "red"
         },
         "mode": "markers+text",
         "text": "resume_742",
         "textposition": "bottom center",
         "type": "scatter",
         "x": [
          -26.953266143798828
         ],
         "y": [
          10.79175090789795
         ]
        },
        {
         "marker": {
          "color": "red"
         },
         "mode": "markers+text",
         "text": "resume_743",
         "textposition": "bottom center",
         "type": "scatter",
         "x": [
          1.101789116859436
         ],
         "y": [
          -1.6865273714065552
         ]
        },
        {
         "marker": {
          "color": "red"
         },
         "mode": "markers+text",
         "text": "resume_744",
         "textposition": "bottom center",
         "type": "scatter",
         "x": [
          20.717159271240234
         ],
         "y": [
          -23.31287956237793
         ]
        },
        {
         "marker": {
          "color": "red"
         },
         "mode": "markers+text",
         "text": "resume_745",
         "textposition": "bottom center",
         "type": "scatter",
         "x": [
          13.292603492736816
         ],
         "y": [
          -19.417757034301758
         ]
        },
        {
         "marker": {
          "color": "red"
         },
         "mode": "markers+text",
         "text": "resume_746",
         "textposition": "bottom center",
         "type": "scatter",
         "x": [
          -38.12880325317383
         ],
         "y": [
          6.550075531005859
         ]
        },
        {
         "marker": {
          "color": "red"
         },
         "mode": "markers+text",
         "text": "resume_747",
         "textposition": "bottom center",
         "type": "scatter",
         "x": [
          20.028942108154297
         ],
         "y": [
          -25.387592315673828
         ]
        },
        {
         "marker": {
          "color": "red"
         },
         "mode": "markers+text",
         "text": "resume_748",
         "textposition": "bottom center",
         "type": "scatter",
         "x": [
          -33.899566650390625
         ],
         "y": [
          11.40656852722168
         ]
        },
        {
         "marker": {
          "color": "red"
         },
         "mode": "markers+text",
         "text": "resume_749",
         "textposition": "bottom center",
         "type": "scatter",
         "x": [
          -1.7263665199279785
         ],
         "y": [
          -0.8889766931533813
         ]
        },
        {
         "marker": {
          "color": "red"
         },
         "mode": "markers+text",
         "text": "resume_750",
         "textposition": "bottom center",
         "type": "scatter",
         "x": [
          -42.145843505859375
         ],
         "y": [
          8.8958158493042
         ]
        },
        {
         "marker": {
          "color": "red"
         },
         "mode": "markers+text",
         "text": "resume_751",
         "textposition": "bottom center",
         "type": "scatter",
         "x": [
          -5.736119747161865
         ],
         "y": [
          7.395792484283447
         ]
        },
        {
         "marker": {
          "color": "red"
         },
         "mode": "markers+text",
         "text": "resume_752",
         "textposition": "bottom center",
         "type": "scatter",
         "x": [
          -4.12498664855957
         ],
         "y": [
          6.217844009399414
         ]
        },
        {
         "marker": {
          "color": "red"
         },
         "mode": "markers+text",
         "text": "resume_753",
         "textposition": "bottom center",
         "type": "scatter",
         "x": [
          -0.8107773661613464
         ],
         "y": [
          -1.7792218923568726
         ]
        },
        {
         "marker": {
          "color": "red"
         },
         "mode": "markers+text",
         "text": "resume_754",
         "textposition": "bottom center",
         "type": "scatter",
         "x": [
          -24.704179763793945
         ],
         "y": [
          7.160009384155273
         ]
        },
        {
         "marker": {
          "color": "red"
         },
         "mode": "markers+text",
         "text": "resume_755",
         "textposition": "bottom center",
         "type": "scatter",
         "x": [
          3.202458381652832
         ],
         "y": [
          -2.430675745010376
         ]
        },
        {
         "marker": {
          "color": "red"
         },
         "mode": "markers+text",
         "text": "resume_756",
         "textposition": "bottom center",
         "type": "scatter",
         "x": [
          -9.401965141296387
         ],
         "y": [
          4.877802848815918
         ]
        },
        {
         "marker": {
          "color": "red"
         },
         "mode": "markers+text",
         "text": "resume_757",
         "textposition": "bottom center",
         "type": "scatter",
         "x": [
          -13.547112464904785
         ],
         "y": [
          8.56928539276123
         ]
        },
        {
         "marker": {
          "color": "red"
         },
         "mode": "markers+text",
         "text": "resume_758",
         "textposition": "bottom center",
         "type": "scatter",
         "x": [
          18.583036422729492
         ],
         "y": [
          -10.355132102966309
         ]
        },
        {
         "marker": {
          "color": "red"
         },
         "mode": "markers+text",
         "text": "resume_759",
         "textposition": "bottom center",
         "type": "scatter",
         "x": [
          -34.50225830078125
         ],
         "y": [
          6.2859206199646
         ]
        },
        {
         "marker": {
          "color": "red"
         },
         "mode": "markers+text",
         "text": "resume_760",
         "textposition": "bottom center",
         "type": "scatter",
         "x": [
          -15.221627235412598
         ],
         "y": [
          3.465123176574707
         ]
        },
        {
         "marker": {
          "color": "red"
         },
         "mode": "markers+text",
         "text": "resume_761",
         "textposition": "bottom center",
         "type": "scatter",
         "x": [
          26.341291427612305
         ],
         "y": [
          -14.377004623413086
         ]
        },
        {
         "marker": {
          "color": "red"
         },
         "mode": "markers+text",
         "text": "resume_762",
         "textposition": "bottom center",
         "type": "scatter",
         "x": [
          -20.864370346069336
         ],
         "y": [
          7.395598888397217
         ]
        },
        {
         "marker": {
          "color": "red"
         },
         "mode": "markers+text",
         "text": "resume_763",
         "textposition": "bottom center",
         "type": "scatter",
         "x": [
          -6.381160259246826
         ],
         "y": [
          3.7947463989257812
         ]
        },
        {
         "marker": {
          "color": "red"
         },
         "mode": "markers+text",
         "text": "resume_764",
         "textposition": "bottom center",
         "type": "scatter",
         "x": [
          -10.993861198425293
         ],
         "y": [
          16.64768409729004
         ]
        },
        {
         "marker": {
          "color": "red"
         },
         "mode": "markers+text",
         "text": "resume_765",
         "textposition": "bottom center",
         "type": "scatter",
         "x": [
          -18.111703872680664
         ],
         "y": [
          10.4316987991333
         ]
        },
        {
         "marker": {
          "color": "red"
         },
         "mode": "markers+text",
         "text": "resume_766",
         "textposition": "bottom center",
         "type": "scatter",
         "x": [
          -9.077813148498535
         ],
         "y": [
          13.110827445983887
         ]
        },
        {
         "marker": {
          "color": "red"
         },
         "mode": "markers+text",
         "text": "resume_767",
         "textposition": "bottom center",
         "type": "scatter",
         "x": [
          1.8951563835144043
         ],
         "y": [
          4.169353008270264
         ]
        },
        {
         "marker": {
          "color": "red"
         },
         "mode": "markers+text",
         "text": "resume_768",
         "textposition": "bottom center",
         "type": "scatter",
         "x": [
          0.380344957113266
         ],
         "y": [
          8.83924674987793
         ]
        },
        {
         "marker": {
          "color": "red"
         },
         "mode": "markers+text",
         "text": "resume_769",
         "textposition": "bottom center",
         "type": "scatter",
         "x": [
          -7.213137149810791
         ],
         "y": [
          4.478257656097412
         ]
        },
        {
         "marker": {
          "color": "red"
         },
         "mode": "markers+text",
         "text": "resume_770",
         "textposition": "bottom center",
         "type": "scatter",
         "x": [
          22.947111129760742
         ],
         "y": [
          -10.610980987548828
         ]
        },
        {
         "marker": {
          "color": "red"
         },
         "mode": "markers+text",
         "text": "resume_771",
         "textposition": "bottom center",
         "type": "scatter",
         "x": [
          -14.361653327941895
         ],
         "y": [
          13.995505332946777
         ]
        },
        {
         "marker": {
          "color": "red"
         },
         "mode": "markers+text",
         "text": "resume_772",
         "textposition": "bottom center",
         "type": "scatter",
         "x": [
          22.743799209594727
         ],
         "y": [
          3.1643898487091064
         ]
        },
        {
         "marker": {
          "color": "red"
         },
         "mode": "markers+text",
         "text": "resume_773",
         "textposition": "bottom center",
         "type": "scatter",
         "x": [
          12.018342971801758
         ],
         "y": [
          6.928683757781982
         ]
        },
        {
         "marker": {
          "color": "red"
         },
         "mode": "markers+text",
         "text": "resume_774",
         "textposition": "bottom center",
         "type": "scatter",
         "x": [
          -13.917708396911621
         ],
         "y": [
          8.434511184692383
         ]
        },
        {
         "marker": {
          "color": "red"
         },
         "mode": "markers+text",
         "text": "resume_775",
         "textposition": "bottom center",
         "type": "scatter",
         "x": [
          29.813600540161133
         ],
         "y": [
          -5.7666730880737305
         ]
        },
        {
         "marker": {
          "color": "red"
         },
         "mode": "markers+text",
         "text": "resume_776",
         "textposition": "bottom center",
         "type": "scatter",
         "x": [
          17.483627319335938
         ],
         "y": [
          3.6553800106048584
         ]
        },
        {
         "marker": {
          "color": "red"
         },
         "mode": "markers+text",
         "text": "resume_777",
         "textposition": "bottom center",
         "type": "scatter",
         "x": [
          9.624115943908691
         ],
         "y": [
          -15.889469146728516
         ]
        },
        {
         "marker": {
          "color": "red"
         },
         "mode": "markers+text",
         "text": "resume_778",
         "textposition": "bottom center",
         "type": "scatter",
         "x": [
          27.165300369262695
         ],
         "y": [
          -16.752418518066406
         ]
        },
        {
         "marker": {
          "color": "red"
         },
         "mode": "markers+text",
         "text": "resume_779",
         "textposition": "bottom center",
         "type": "scatter",
         "x": [
          -10.559226989746094
         ],
         "y": [
          4.7790656089782715
         ]
        },
        {
         "marker": {
          "color": "red"
         },
         "mode": "markers+text",
         "text": "resume_780",
         "textposition": "bottom center",
         "type": "scatter",
         "x": [
          3.4231226444244385
         ],
         "y": [
          -12.802948951721191
         ]
        },
        {
         "marker": {
          "color": "red"
         },
         "mode": "markers+text",
         "text": "resume_781",
         "textposition": "bottom center",
         "type": "scatter",
         "x": [
          20.241514205932617
         ],
         "y": [
          -24.790254592895508
         ]
        },
        {
         "marker": {
          "color": "red"
         },
         "mode": "markers+text",
         "text": "resume_782",
         "textposition": "bottom center",
         "type": "scatter",
         "x": [
          6.303623676300049
         ],
         "y": [
          1.842666745185852
         ]
        },
        {
         "marker": {
          "color": "red"
         },
         "mode": "markers+text",
         "text": "resume_783",
         "textposition": "bottom center",
         "type": "scatter",
         "x": [
          -5.180092811584473
         ],
         "y": [
          0.9578807353973389
         ]
        },
        {
         "marker": {
          "color": "red"
         },
         "mode": "markers+text",
         "text": "resume_784",
         "textposition": "bottom center",
         "type": "scatter",
         "x": [
          25.94688606262207
         ],
         "y": [
          -3.870835542678833
         ]
        },
        {
         "marker": {
          "color": "red"
         },
         "mode": "markers+text",
         "text": "resume_785",
         "textposition": "bottom center",
         "type": "scatter",
         "x": [
          -26.638065338134766
         ],
         "y": [
          6.122753143310547
         ]
        },
        {
         "marker": {
          "color": "red"
         },
         "mode": "markers+text",
         "text": "resume_786",
         "textposition": "bottom center",
         "type": "scatter",
         "x": [
          7.241764068603516
         ],
         "y": [
          -8.122795104980469
         ]
        },
        {
         "marker": {
          "color": "red"
         },
         "mode": "markers+text",
         "text": "resume_787",
         "textposition": "bottom center",
         "type": "scatter",
         "x": [
          2.639718770980835
         ],
         "y": [
          -11.404241561889648
         ]
        },
        {
         "marker": {
          "color": "red"
         },
         "mode": "markers+text",
         "text": "resume_788",
         "textposition": "bottom center",
         "type": "scatter",
         "x": [
          9.737083435058594
         ],
         "y": [
          -8.063246726989746
         ]
        },
        {
         "marker": {
          "color": "red"
         },
         "mode": "markers+text",
         "text": "resume_789",
         "textposition": "bottom center",
         "type": "scatter",
         "x": [
          22.643739700317383
         ],
         "y": [
          3.1445999145507812
         ]
        },
        {
         "marker": {
          "color": "red"
         },
         "mode": "markers+text",
         "text": "resume_790",
         "textposition": "bottom center",
         "type": "scatter",
         "x": [
          24.038707733154297
         ],
         "y": [
          -13.67391300201416
         ]
        },
        {
         "marker": {
          "color": "red"
         },
         "mode": "markers+text",
         "text": "resume_791",
         "textposition": "bottom center",
         "type": "scatter",
         "x": [
          -21.688154220581055
         ],
         "y": [
          4.7232770919799805
         ]
        },
        {
         "marker": {
          "color": "red"
         },
         "mode": "markers+text",
         "text": "resume_792",
         "textposition": "bottom center",
         "type": "scatter",
         "x": [
          -5.210829257965088
         ],
         "y": [
          7.879672527313232
         ]
        },
        {
         "marker": {
          "color": "red"
         },
         "mode": "markers+text",
         "text": "resume_793",
         "textposition": "bottom center",
         "type": "scatter",
         "x": [
          2.061429738998413
         ],
         "y": [
          -15.564663887023926
         ]
        },
        {
         "marker": {
          "color": "red"
         },
         "mode": "markers+text",
         "text": "resume_794",
         "textposition": "bottom center",
         "type": "scatter",
         "x": [
          18.142005920410156
         ],
         "y": [
          12.456945419311523
         ]
        },
        {
         "marker": {
          "color": "red"
         },
         "mode": "markers+text",
         "text": "resume_795",
         "textposition": "bottom center",
         "type": "scatter",
         "x": [
          -40.350685119628906
         ],
         "y": [
          5.037320137023926
         ]
        },
        {
         "marker": {
          "color": "red"
         },
         "mode": "markers+text",
         "text": "resume_796",
         "textposition": "bottom center",
         "type": "scatter",
         "x": [
          -30.73004913330078
         ],
         "y": [
          10.518031120300293
         ]
        },
        {
         "marker": {
          "color": "red"
         },
         "mode": "markers+text",
         "text": "resume_797",
         "textposition": "bottom center",
         "type": "scatter",
         "x": [
          16.35040283203125
         ],
         "y": [
          -4.952651500701904
         ]
        },
        {
         "marker": {
          "color": "red"
         },
         "mode": "markers+text",
         "text": "resume_798",
         "textposition": "bottom center",
         "type": "scatter",
         "x": [
          22.82221221923828
         ],
         "y": [
          -4.042403221130371
         ]
        },
        {
         "marker": {
          "color": "red"
         },
         "mode": "markers+text",
         "text": "resume_799",
         "textposition": "bottom center",
         "type": "scatter",
         "x": [
          -6.682419300079346
         ],
         "y": [
          4.570687770843506
         ]
        },
        {
         "marker": {
          "color": "red"
         },
         "mode": "markers+text",
         "text": "resume_800",
         "textposition": "bottom center",
         "type": "scatter",
         "x": [
          -16.196876525878906
         ],
         "y": [
          8.707146644592285
         ]
        },
        {
         "marker": {
          "color": "red"
         },
         "mode": "markers+text",
         "text": "resume_801",
         "textposition": "bottom center",
         "type": "scatter",
         "x": [
          24.59933853149414
         ],
         "y": [
          2.6213507652282715
         ]
        },
        {
         "marker": {
          "color": "red"
         },
         "mode": "markers+text",
         "text": "resume_802",
         "textposition": "bottom center",
         "type": "scatter",
         "x": [
          -23.869199752807617
         ],
         "y": [
          8.454604148864746
         ]
        },
        {
         "marker": {
          "color": "red"
         },
         "mode": "markers+text",
         "text": "resume_803",
         "textposition": "bottom center",
         "type": "scatter",
         "x": [
          5.48117733001709
         ],
         "y": [
          -3.1043713092803955
         ]
        },
        {
         "marker": {
          "color": "red"
         },
         "mode": "markers+text",
         "text": "resume_804",
         "textposition": "bottom center",
         "type": "scatter",
         "x": [
          17.686410903930664
         ],
         "y": [
          -21.095996856689453
         ]
        },
        {
         "marker": {
          "color": "red"
         },
         "mode": "markers+text",
         "text": "resume_805",
         "textposition": "bottom center",
         "type": "scatter",
         "x": [
          3.1416175365448
         ],
         "y": [
          -3.711050033569336
         ]
        },
        {
         "marker": {
          "color": "red"
         },
         "mode": "markers+text",
         "text": "resume_806",
         "textposition": "bottom center",
         "type": "scatter",
         "x": [
          18.528043746948242
         ],
         "y": [
          -17.492216110229492
         ]
        },
        {
         "marker": {
          "color": "red"
         },
         "mode": "markers+text",
         "text": "resume_807",
         "textposition": "bottom center",
         "type": "scatter",
         "x": [
          -3.4268107414245605
         ],
         "y": [
          5.194187164306641
         ]
        },
        {
         "marker": {
          "color": "red"
         },
         "mode": "markers+text",
         "text": "resume_808",
         "textposition": "bottom center",
         "type": "scatter",
         "x": [
          20.82607650756836
         ],
         "y": [
          -4.870145797729492
         ]
        },
        {
         "marker": {
          "color": "red"
         },
         "mode": "markers+text",
         "text": "resume_809",
         "textposition": "bottom center",
         "type": "scatter",
         "x": [
          5.755495071411133
         ],
         "y": [
          -1.846341848373413
         ]
        },
        {
         "marker": {
          "color": "red"
         },
         "mode": "markers+text",
         "text": "resume_810",
         "textposition": "bottom center",
         "type": "scatter",
         "x": [
          6.110389709472656
         ],
         "y": [
          4.346217632293701
         ]
        },
        {
         "marker": {
          "color": "red"
         },
         "mode": "markers+text",
         "text": "resume_811",
         "textposition": "bottom center",
         "type": "scatter",
         "x": [
          7.085212230682373
         ],
         "y": [
          6.7018022537231445
         ]
        },
        {
         "marker": {
          "color": "red"
         },
         "mode": "markers+text",
         "text": "resume_812",
         "textposition": "bottom center",
         "type": "scatter",
         "x": [
          -20.88332176208496
         ],
         "y": [
          2.1178946495056152
         ]
        },
        {
         "marker": {
          "color": "red"
         },
         "mode": "markers+text",
         "text": "resume_813",
         "textposition": "bottom center",
         "type": "scatter",
         "x": [
          22.50286865234375
         ],
         "y": [
          -20.19361686706543
         ]
        },
        {
         "marker": {
          "color": "red"
         },
         "mode": "markers+text",
         "text": "resume_814",
         "textposition": "bottom center",
         "type": "scatter",
         "x": [
          8.038106918334961
         ],
         "y": [
          -2.707540512084961
         ]
        },
        {
         "marker": {
          "color": "red"
         },
         "mode": "markers+text",
         "text": "resume_815",
         "textposition": "bottom center",
         "type": "scatter",
         "x": [
          -38.935665130615234
         ],
         "y": [
          9.724660873413086
         ]
        },
        {
         "marker": {
          "color": "red"
         },
         "mode": "markers+text",
         "text": "resume_816",
         "textposition": "bottom center",
         "type": "scatter",
         "x": [
          9.680831909179688
         ],
         "y": [
          -22.073179244995117
         ]
        },
        {
         "marker": {
          "color": "red"
         },
         "mode": "markers+text",
         "text": "resume_817",
         "textposition": "bottom center",
         "type": "scatter",
         "x": [
          -12.947038650512695
         ],
         "y": [
          -4.636953353881836
         ]
        },
        {
         "marker": {
          "color": "red"
         },
         "mode": "markers+text",
         "text": "resume_818",
         "textposition": "bottom center",
         "type": "scatter",
         "x": [
          0.9625311493873596
         ],
         "y": [
          -2.5305967330932617
         ]
        },
        {
         "marker": {
          "color": "red"
         },
         "mode": "markers+text",
         "text": "resume_819",
         "textposition": "bottom center",
         "type": "scatter",
         "x": [
          -7.843658447265625
         ],
         "y": [
          8.842941284179688
         ]
        },
        {
         "marker": {
          "color": "red"
         },
         "mode": "markers+text",
         "text": "resume_820",
         "textposition": "bottom center",
         "type": "scatter",
         "x": [
          -28.89645767211914
         ],
         "y": [
          11.571113586425781
         ]
        },
        {
         "marker": {
          "color": "red"
         },
         "mode": "markers+text",
         "text": "resume_821",
         "textposition": "bottom center",
         "type": "scatter",
         "x": [
          -34.932777404785156
         ],
         "y": [
          3.580239772796631
         ]
        },
        {
         "marker": {
          "color": "red"
         },
         "mode": "markers+text",
         "text": "resume_822",
         "textposition": "bottom center",
         "type": "scatter",
         "x": [
          15.69957160949707
         ],
         "y": [
          -2.548344850540161
         ]
        },
        {
         "marker": {
          "color": "red"
         },
         "mode": "markers+text",
         "text": "resume_823",
         "textposition": "bottom center",
         "type": "scatter",
         "x": [
          -39.54025650024414
         ],
         "y": [
          1.4813265800476074
         ]
        },
        {
         "marker": {
          "color": "red"
         },
         "mode": "markers+text",
         "text": "resume_824",
         "textposition": "bottom center",
         "type": "scatter",
         "x": [
          14.040765762329102
         ],
         "y": [
          -13.129071235656738
         ]
        },
        {
         "marker": {
          "color": "red"
         },
         "mode": "markers+text",
         "text": "resume_825",
         "textposition": "bottom center",
         "type": "scatter",
         "x": [
          -9.414085388183594
         ],
         "y": [
          -3.250906229019165
         ]
        },
        {
         "marker": {
          "color": "red"
         },
         "mode": "markers+text",
         "text": "resume_826",
         "textposition": "bottom center",
         "type": "scatter",
         "x": [
          -7.775081157684326
         ],
         "y": [
          13.791887283325195
         ]
        },
        {
         "marker": {
          "color": "red"
         },
         "mode": "markers+text",
         "text": "resume_827",
         "textposition": "bottom center",
         "type": "scatter",
         "x": [
          -0.37591323256492615
         ],
         "y": [
          16.06056785583496
         ]
        },
        {
         "marker": {
          "color": "red"
         },
         "mode": "markers+text",
         "text": "resume_828",
         "textposition": "bottom center",
         "type": "scatter",
         "x": [
          22.479061126708984
         ],
         "y": [
          -24.73509407043457
         ]
        },
        {
         "marker": {
          "color": "red"
         },
         "mode": "markers+text",
         "text": "resume_829",
         "textposition": "bottom center",
         "type": "scatter",
         "x": [
          -26.842344284057617
         ],
         "y": [
          13.866921424865723
         ]
        },
        {
         "marker": {
          "color": "red"
         },
         "mode": "markers+text",
         "text": "resume_830",
         "textposition": "bottom center",
         "type": "scatter",
         "x": [
          -16.383747100830078
         ],
         "y": [
          -0.062980055809021
         ]
        },
        {
         "marker": {
          "color": "red"
         },
         "mode": "markers+text",
         "text": "resume_831",
         "textposition": "bottom center",
         "type": "scatter",
         "x": [
          -32.079158782958984
         ],
         "y": [
          8.806207656860352
         ]
        },
        {
         "marker": {
          "color": "red"
         },
         "mode": "markers+text",
         "text": "resume_832",
         "textposition": "bottom center",
         "type": "scatter",
         "x": [
          3.9527335166931152
         ],
         "y": [
          13.298774719238281
         ]
        },
        {
         "marker": {
          "color": "red"
         },
         "mode": "markers+text",
         "text": "resume_833",
         "textposition": "bottom center",
         "type": "scatter",
         "x": [
          -15.913297653198242
         ],
         "y": [
          11.272812843322754
         ]
        },
        {
         "marker": {
          "color": "red"
         },
         "mode": "markers+text",
         "text": "resume_834",
         "textposition": "bottom center",
         "type": "scatter",
         "x": [
          -29.168813705444336
         ],
         "y": [
          5.65565299987793
         ]
        },
        {
         "marker": {
          "color": "red"
         },
         "mode": "markers+text",
         "text": "resume_835",
         "textposition": "bottom center",
         "type": "scatter",
         "x": [
          10.28432846069336
         ],
         "y": [
          -0.06903152167797089
         ]
        },
        {
         "marker": {
          "color": "red"
         },
         "mode": "markers+text",
         "text": "resume_836",
         "textposition": "bottom center",
         "type": "scatter",
         "x": [
          3.83117938041687
         ],
         "y": [
          -4.609340190887451
         ]
        },
        {
         "marker": {
          "color": "red"
         },
         "mode": "markers+text",
         "text": "resume_837",
         "textposition": "bottom center",
         "type": "scatter",
         "x": [
          7.083325386047363
         ],
         "y": [
          17.59878158569336
         ]
        },
        {
         "marker": {
          "color": "red"
         },
         "mode": "markers+text",
         "text": "resume_838",
         "textposition": "bottom center",
         "type": "scatter",
         "x": [
          22.184370040893555
         ],
         "y": [
          -5.714098930358887
         ]
        },
        {
         "marker": {
          "color": "red"
         },
         "mode": "markers+text",
         "text": "resume_839",
         "textposition": "bottom center",
         "type": "scatter",
         "x": [
          -8.21372127532959
         ],
         "y": [
          -2.7283236980438232
         ]
        },
        {
         "marker": {
          "color": "red"
         },
         "mode": "markers+text",
         "text": "resume_840",
         "textposition": "bottom center",
         "type": "scatter",
         "x": [
          25.73863410949707
         ],
         "y": [
          -3.2724428176879883
         ]
        },
        {
         "marker": {
          "color": "red"
         },
         "mode": "markers+text",
         "text": "resume_841",
         "textposition": "bottom center",
         "type": "scatter",
         "x": [
          2.1669561862945557
         ],
         "y": [
          -3.0672521591186523
         ]
        },
        {
         "marker": {
          "color": "red"
         },
         "mode": "markers+text",
         "text": "resume_842",
         "textposition": "bottom center",
         "type": "scatter",
         "x": [
          3.0032951831817627
         ],
         "y": [
          6.939138412475586
         ]
        },
        {
         "marker": {
          "color": "red"
         },
         "mode": "markers+text",
         "text": "resume_843",
         "textposition": "bottom center",
         "type": "scatter",
         "x": [
          10.772104263305664
         ],
         "y": [
          1.1727720499038696
         ]
        },
        {
         "marker": {
          "color": "red"
         },
         "mode": "markers+text",
         "text": "resume_844",
         "textposition": "bottom center",
         "type": "scatter",
         "x": [
          12.014790534973145
         ],
         "y": [
          -12.048015594482422
         ]
        },
        {
         "marker": {
          "color": "red"
         },
         "mode": "markers+text",
         "text": "resume_845",
         "textposition": "bottom center",
         "type": "scatter",
         "x": [
          20.617616653442383
         ],
         "y": [
          -18.875205993652344
         ]
        },
        {
         "marker": {
          "color": "red"
         },
         "mode": "markers+text",
         "text": "resume_846",
         "textposition": "bottom center",
         "type": "scatter",
         "x": [
          9.6089448928833
         ],
         "y": [
          -2.1130197048187256
         ]
        },
        {
         "marker": {
          "color": "red"
         },
         "mode": "markers+text",
         "text": "resume_847",
         "textposition": "bottom center",
         "type": "scatter",
         "x": [
          -11.824556350708008
         ],
         "y": [
          -9.10692310333252
         ]
        },
        {
         "marker": {
          "color": "red"
         },
         "mode": "markers+text",
         "text": "resume_848",
         "textposition": "bottom center",
         "type": "scatter",
         "x": [
          -13.108611106872559
         ],
         "y": [
          11.477176666259766
         ]
        },
        {
         "marker": {
          "color": "red"
         },
         "mode": "markers+text",
         "text": "resume_849",
         "textposition": "bottom center",
         "type": "scatter",
         "x": [
          -3.410536050796509
         ],
         "y": [
          12.329244613647461
         ]
        },
        {
         "marker": {
          "color": "red"
         },
         "mode": "markers+text",
         "text": "resume_850",
         "textposition": "bottom center",
         "type": "scatter",
         "x": [
          15.88199520111084
         ],
         "y": [
          -0.5566065311431885
         ]
        },
        {
         "marker": {
          "color": "red"
         },
         "mode": "markers+text",
         "text": "resume_851",
         "textposition": "bottom center",
         "type": "scatter",
         "x": [
          -5.84924840927124
         ],
         "y": [
          8.961586952209473
         ]
        },
        {
         "marker": {
          "color": "red"
         },
         "mode": "markers+text",
         "text": "resume_852",
         "textposition": "bottom center",
         "type": "scatter",
         "x": [
          4.8540825843811035
         ],
         "y": [
          0.89873206615448
         ]
        },
        {
         "marker": {
          "color": "red"
         },
         "mode": "markers+text",
         "text": "resume_853",
         "textposition": "bottom center",
         "type": "scatter",
         "x": [
          27.853534698486328
         ],
         "y": [
          -22.087358474731445
         ]
        },
        {
         "marker": {
          "color": "red"
         },
         "mode": "markers+text",
         "text": "resume_854",
         "textposition": "bottom center",
         "type": "scatter",
         "x": [
          -10.878478050231934
         ],
         "y": [
          10.048583030700684
         ]
        },
        {
         "marker": {
          "color": "red"
         },
         "mode": "markers+text",
         "text": "resume_855",
         "textposition": "bottom center",
         "type": "scatter",
         "x": [
          26.678733825683594
         ],
         "y": [
          -11.077993392944336
         ]
        },
        {
         "marker": {
          "color": "red"
         },
         "mode": "markers+text",
         "text": "resume_856",
         "textposition": "bottom center",
         "type": "scatter",
         "x": [
          -4.7345662117004395
         ],
         "y": [
          -13.34786605834961
         ]
        },
        {
         "marker": {
          "color": "red"
         },
         "mode": "markers+text",
         "text": "resume_857",
         "textposition": "bottom center",
         "type": "scatter",
         "x": [
          -42.14140319824219
         ],
         "y": [
          8.946320533752441
         ]
        },
        {
         "marker": {
          "color": "red"
         },
         "mode": "markers+text",
         "text": "resume_858",
         "textposition": "bottom center",
         "type": "scatter",
         "x": [
          -8.959919929504395
         ],
         "y": [
          2.3967647552490234
         ]
        },
        {
         "marker": {
          "color": "red"
         },
         "mode": "markers+text",
         "text": "resume_859",
         "textposition": "bottom center",
         "type": "scatter",
         "x": [
          -5.426271915435791
         ],
         "y": [
          6.206234455108643
         ]
        },
        {
         "marker": {
          "color": "red"
         },
         "mode": "markers+text",
         "text": "resume_860",
         "textposition": "bottom center",
         "type": "scatter",
         "x": [
          16.341520309448242
         ],
         "y": [
          -10.328639030456543
         ]
        },
        {
         "marker": {
          "color": "red"
         },
         "mode": "markers+text",
         "text": "resume_861",
         "textposition": "bottom center",
         "type": "scatter",
         "x": [
          11.206737518310547
         ],
         "y": [
          2.491281747817993
         ]
        },
        {
         "marker": {
          "color": "red"
         },
         "mode": "markers+text",
         "text": "resume_862",
         "textposition": "bottom center",
         "type": "scatter",
         "x": [
          14.930333137512207
         ],
         "y": [
          14.339570999145508
         ]
        },
        {
         "marker": {
          "color": "red"
         },
         "mode": "markers+text",
         "text": "resume_863",
         "textposition": "bottom center",
         "type": "scatter",
         "x": [
          -30.692306518554688
         ],
         "y": [
          14.36911678314209
         ]
        },
        {
         "marker": {
          "color": "red"
         },
         "mode": "markers+text",
         "text": "resume_864",
         "textposition": "bottom center",
         "type": "scatter",
         "x": [
          -16.231754302978516
         ],
         "y": [
          -6.206875801086426
         ]
        },
        {
         "marker": {
          "color": "red"
         },
         "mode": "markers+text",
         "text": "resume_865",
         "textposition": "bottom center",
         "type": "scatter",
         "x": [
          14.438577651977539
         ],
         "y": [
          -12.130899429321289
         ]
        },
        {
         "marker": {
          "color": "red"
         },
         "mode": "markers+text",
         "text": "resume_866",
         "textposition": "bottom center",
         "type": "scatter",
         "x": [
          18.924840927124023
         ],
         "y": [
          -9.976836204528809
         ]
        },
        {
         "marker": {
          "color": "red"
         },
         "mode": "markers+text",
         "text": "resume_867",
         "textposition": "bottom center",
         "type": "scatter",
         "x": [
          19.700319290161133
         ],
         "y": [
          -5.845272541046143
         ]
        },
        {
         "marker": {
          "color": "red"
         },
         "mode": "markers+text",
         "text": "resume_868",
         "textposition": "bottom center",
         "type": "scatter",
         "x": [
          3.5002939701080322
         ],
         "y": [
          5.868768215179443
         ]
        },
        {
         "marker": {
          "color": "red"
         },
         "mode": "markers+text",
         "text": "resume_869",
         "textposition": "bottom center",
         "type": "scatter",
         "x": [
          -30.162260055541992
         ],
         "y": [
          10.540908813476562
         ]
        },
        {
         "marker": {
          "color": "red"
         },
         "mode": "markers+text",
         "text": "resume_870",
         "textposition": "bottom center",
         "type": "scatter",
         "x": [
          -28.362964630126953
         ],
         "y": [
          8.775910377502441
         ]
        },
        {
         "marker": {
          "color": "red"
         },
         "mode": "markers+text",
         "text": "resume_871",
         "textposition": "bottom center",
         "type": "scatter",
         "x": [
          13.189558029174805
         ],
         "y": [
          -3.3960280418395996
         ]
        },
        {
         "marker": {
          "color": "red"
         },
         "mode": "markers+text",
         "text": "resume_872",
         "textposition": "bottom center",
         "type": "scatter",
         "x": [
          -27.39603614807129
         ],
         "y": [
          13.003145217895508
         ]
        },
        {
         "marker": {
          "color": "red"
         },
         "mode": "markers+text",
         "text": "resume_873",
         "textposition": "bottom center",
         "type": "scatter",
         "x": [
          -8.11121940612793
         ],
         "y": [
          -10.310240745544434
         ]
        },
        {
         "marker": {
          "color": "red"
         },
         "mode": "markers+text",
         "text": "resume_874",
         "textposition": "bottom center",
         "type": "scatter",
         "x": [
          -6.848198413848877
         ],
         "y": [
          6.4441351890563965
         ]
        },
        {
         "marker": {
          "color": "red"
         },
         "mode": "markers+text",
         "text": "resume_875",
         "textposition": "bottom center",
         "type": "scatter",
         "x": [
          24.73788070678711
         ],
         "y": [
          -22.05047607421875
         ]
        },
        {
         "marker": {
          "color": "red"
         },
         "mode": "markers+text",
         "text": "resume_876",
         "textposition": "bottom center",
         "type": "scatter",
         "x": [
          22.222286224365234
         ],
         "y": [
          0.36361223459243774
         ]
        },
        {
         "marker": {
          "color": "red"
         },
         "mode": "markers+text",
         "text": "resume_877",
         "textposition": "bottom center",
         "type": "scatter",
         "x": [
          -26.413463592529297
         ],
         "y": [
          2.506927490234375
         ]
        },
        {
         "marker": {
          "color": "red"
         },
         "mode": "markers+text",
         "text": "resume_878",
         "textposition": "bottom center",
         "type": "scatter",
         "x": [
          1.5215740203857422
         ],
         "y": [
          6.84214973449707
         ]
        },
        {
         "marker": {
          "color": "red"
         },
         "mode": "markers+text",
         "text": "resume_879",
         "textposition": "bottom center",
         "type": "scatter",
         "x": [
          23.838909149169922
         ],
         "y": [
          7.646542549133301
         ]
        },
        {
         "marker": {
          "color": "red"
         },
         "mode": "markers+text",
         "text": "resume_880",
         "textposition": "bottom center",
         "type": "scatter",
         "x": [
          -22.838571548461914
         ],
         "y": [
          8.007847785949707
         ]
        },
        {
         "marker": {
          "color": "red"
         },
         "mode": "markers+text",
         "text": "resume_881",
         "textposition": "bottom center",
         "type": "scatter",
         "x": [
          -37.895957946777344
         ],
         "y": [
          1.203160285949707
         ]
        },
        {
         "marker": {
          "color": "red"
         },
         "mode": "markers+text",
         "text": "resume_882",
         "textposition": "bottom center",
         "type": "scatter",
         "x": [
          -16.950773239135742
         ],
         "y": [
          -3.1730639934539795
         ]
        },
        {
         "marker": {
          "color": "red"
         },
         "mode": "markers+text",
         "text": "resume_883",
         "textposition": "bottom center",
         "type": "scatter",
         "x": [
          10.575510025024414
         ],
         "y": [
          -16.08881378173828
         ]
        },
        {
         "marker": {
          "color": "red"
         },
         "mode": "markers+text",
         "text": "resume_884",
         "textposition": "bottom center",
         "type": "scatter",
         "x": [
          13.579618453979492
         ],
         "y": [
          -16.601049423217773
         ]
        },
        {
         "marker": {
          "color": "red"
         },
         "mode": "markers+text",
         "text": "resume_885",
         "textposition": "bottom center",
         "type": "scatter",
         "x": [
          1.3937993049621582
         ],
         "y": [
          -13.134939193725586
         ]
        },
        {
         "marker": {
          "color": "red"
         },
         "mode": "markers+text",
         "text": "resume_886",
         "textposition": "bottom center",
         "type": "scatter",
         "x": [
          20.406082153320312
         ],
         "y": [
          -10.713957786560059
         ]
        },
        {
         "marker": {
          "color": "red"
         },
         "mode": "markers+text",
         "text": "resume_887",
         "textposition": "bottom center",
         "type": "scatter",
         "x": [
          -29.964977264404297
         ],
         "y": [
          6.480412006378174
         ]
        },
        {
         "marker": {
          "color": "red"
         },
         "mode": "markers+text",
         "text": "resume_888",
         "textposition": "bottom center",
         "type": "scatter",
         "x": [
          -35.53854751586914
         ],
         "y": [
          5.416790008544922
         ]
        },
        {
         "marker": {
          "color": "red"
         },
         "mode": "markers+text",
         "text": "resume_889",
         "textposition": "bottom center",
         "type": "scatter",
         "x": [
          6.979599475860596
         ],
         "y": [
          1.5010273456573486
         ]
        },
        {
         "marker": {
          "color": "red"
         },
         "mode": "markers+text",
         "text": "resume_890",
         "textposition": "bottom center",
         "type": "scatter",
         "x": [
          -11.316162109375
         ],
         "y": [
          10.884831428527832
         ]
        },
        {
         "marker": {
          "color": "red"
         },
         "mode": "markers+text",
         "text": "resume_891",
         "textposition": "bottom center",
         "type": "scatter",
         "x": [
          -7.168580055236816
         ],
         "y": [
          12.141461372375488
         ]
        },
        {
         "marker": {
          "color": "red"
         },
         "mode": "markers+text",
         "text": "resume_892",
         "textposition": "bottom center",
         "type": "scatter",
         "x": [
          -33.85713577270508
         ],
         "y": [
          11.479744911193848
         ]
        },
        {
         "marker": {
          "color": "red"
         },
         "mode": "markers+text",
         "text": "resume_893",
         "textposition": "bottom center",
         "type": "scatter",
         "x": [
          -30.19350242614746
         ],
         "y": [
          -0.962670087814331
         ]
        },
        {
         "marker": {
          "color": "red"
         },
         "mode": "markers+text",
         "text": "resume_894",
         "textposition": "bottom center",
         "type": "scatter",
         "x": [
          -24.323396682739258
         ],
         "y": [
          -0.9314044117927551
         ]
        },
        {
         "marker": {
          "color": "red"
         },
         "mode": "markers+text",
         "text": "resume_895",
         "textposition": "bottom center",
         "type": "scatter",
         "x": [
          -2.8219892978668213
         ],
         "y": [
          2.7029969692230225
         ]
        },
        {
         "marker": {
          "color": "red"
         },
         "mode": "markers+text",
         "text": "resume_896",
         "textposition": "bottom center",
         "type": "scatter",
         "x": [
          -0.372885137796402
         ],
         "y": [
          16.748706817626953
         ]
        },
        {
         "marker": {
          "color": "red"
         },
         "mode": "markers+text",
         "text": "resume_897",
         "textposition": "bottom center",
         "type": "scatter",
         "x": [
          25.38357925415039
         ],
         "y": [
          -2.645782947540283
         ]
        },
        {
         "marker": {
          "color": "red"
         },
         "mode": "markers+text",
         "text": "resume_898",
         "textposition": "bottom center",
         "type": "scatter",
         "x": [
          26.7066707611084
         ],
         "y": [
          -19.259340286254883
         ]
        },
        {
         "marker": {
          "color": "red"
         },
         "mode": "markers+text",
         "text": "resume_899",
         "textposition": "bottom center",
         "type": "scatter",
         "x": [
          9.451096534729004
         ],
         "y": [
          -11.578980445861816
         ]
        },
        {
         "marker": {
          "color": "red"
         },
         "mode": "markers+text",
         "text": "resume_900",
         "textposition": "bottom center",
         "type": "scatter",
         "x": [
          13.818887710571289
         ],
         "y": [
          2.5804150104522705
         ]
        },
        {
         "marker": {
          "color": "red"
         },
         "mode": "markers+text",
         "text": "resume_901",
         "textposition": "bottom center",
         "type": "scatter",
         "x": [
          22.063100814819336
         ],
         "y": [
          -3.438553810119629
         ]
        },
        {
         "marker": {
          "color": "red"
         },
         "mode": "markers+text",
         "text": "resume_902",
         "textposition": "bottom center",
         "type": "scatter",
         "x": [
          -28.632020950317383
         ],
         "y": [
          15.342519760131836
         ]
        },
        {
         "marker": {
          "color": "red"
         },
         "mode": "markers+text",
         "text": "resume_903",
         "textposition": "bottom center",
         "type": "scatter",
         "x": [
          11.561897277832031
         ],
         "y": [
          3.619960308074951
         ]
        },
        {
         "marker": {
          "color": "red"
         },
         "mode": "markers+text",
         "text": "resume_904",
         "textposition": "bottom center",
         "type": "scatter",
         "x": [
          5.311350345611572
         ],
         "y": [
          -1.134896993637085
         ]
        },
        {
         "marker": {
          "color": "red"
         },
         "mode": "markers+text",
         "text": "resume_905",
         "textposition": "bottom center",
         "type": "scatter",
         "x": [
          8.558510780334473
         ],
         "y": [
          -11.263690948486328
         ]
        },
        {
         "marker": {
          "color": "red"
         },
         "mode": "markers+text",
         "text": "resume_906",
         "textposition": "bottom center",
         "type": "scatter",
         "x": [
          -0.009376563131809235
         ],
         "y": [
          -9.239218711853027
         ]
        },
        {
         "marker": {
          "color": "red"
         },
         "mode": "markers+text",
         "text": "resume_907",
         "textposition": "bottom center",
         "type": "scatter",
         "x": [
          8.36354923248291
         ],
         "y": [
          -15.24929141998291
         ]
        },
        {
         "marker": {
          "color": "red"
         },
         "mode": "markers+text",
         "text": "resume_908",
         "textposition": "bottom center",
         "type": "scatter",
         "x": [
          25.058103561401367
         ],
         "y": [
          -19.00525665283203
         ]
        },
        {
         "marker": {
          "color": "red"
         },
         "mode": "markers+text",
         "text": "resume_909",
         "textposition": "bottom center",
         "type": "scatter",
         "x": [
          7.773865699768066
         ],
         "y": [
          -22.795015335083008
         ]
        },
        {
         "marker": {
          "color": "red"
         },
         "mode": "markers+text",
         "text": "resume_910",
         "textposition": "bottom center",
         "type": "scatter",
         "x": [
          -25.149860382080078
         ],
         "y": [
          5.1990861892700195
         ]
        },
        {
         "marker": {
          "color": "red"
         },
         "mode": "markers+text",
         "text": "resume_911",
         "textposition": "bottom center",
         "type": "scatter",
         "x": [
          -2.315502643585205
         ],
         "y": [
          1.5080500841140747
         ]
        },
        {
         "marker": {
          "color": "red"
         },
         "mode": "markers+text",
         "text": "resume_912",
         "textposition": "bottom center",
         "type": "scatter",
         "x": [
          27.877639770507812
         ],
         "y": [
          -3.8274872303009033
         ]
        },
        {
         "marker": {
          "color": "red"
         },
         "mode": "markers+text",
         "text": "resume_913",
         "textposition": "bottom center",
         "type": "scatter",
         "x": [
          24.710596084594727
         ],
         "y": [
          2.417036771774292
         ]
        },
        {
         "marker": {
          "color": "red"
         },
         "mode": "markers+text",
         "text": "resume_914",
         "textposition": "bottom center",
         "type": "scatter",
         "x": [
          -10.657562255859375
         ],
         "y": [
          1.1969321966171265
         ]
        },
        {
         "marker": {
          "color": "red"
         },
         "mode": "markers+text",
         "text": "resume_915",
         "textposition": "bottom center",
         "type": "scatter",
         "x": [
          -10.163558959960938
         ],
         "y": [
          13.375236511230469
         ]
        },
        {
         "marker": {
          "color": "red"
         },
         "mode": "markers+text",
         "text": "resume_916",
         "textposition": "bottom center",
         "type": "scatter",
         "x": [
          -16.507511138916016
         ],
         "y": [
          2.9934637546539307
         ]
        },
        {
         "marker": {
          "color": "red"
         },
         "mode": "markers+text",
         "text": "resume_917",
         "textposition": "bottom center",
         "type": "scatter",
         "x": [
          -1.6557437181472778
         ],
         "y": [
          -5.887185096740723
         ]
        },
        {
         "marker": {
          "color": "red"
         },
         "mode": "markers+text",
         "text": "resume_918",
         "textposition": "bottom center",
         "type": "scatter",
         "x": [
          -36.80859375
         ],
         "y": [
          7.172595024108887
         ]
        },
        {
         "marker": {
          "color": "red"
         },
         "mode": "markers+text",
         "text": "resume_919",
         "textposition": "bottom center",
         "type": "scatter",
         "x": [
          9.695833206176758
         ],
         "y": [
          3.0065643787384033
         ]
        },
        {
         "marker": {
          "color": "red"
         },
         "mode": "markers+text",
         "text": "resume_920",
         "textposition": "bottom center",
         "type": "scatter",
         "x": [
          -7.390305995941162
         ],
         "y": [
          3.204249382019043
         ]
        },
        {
         "marker": {
          "color": "red"
         },
         "mode": "markers+text",
         "text": "resume_921",
         "textposition": "bottom center",
         "type": "scatter",
         "x": [
          25.639806747436523
         ],
         "y": [
          -19.365550994873047
         ]
        },
        {
         "marker": {
          "color": "red"
         },
         "mode": "markers+text",
         "text": "resume_922",
         "textposition": "bottom center",
         "type": "scatter",
         "x": [
          20.407360076904297
         ],
         "y": [
          -8.831083297729492
         ]
        },
        {
         "marker": {
          "color": "red"
         },
         "mode": "markers+text",
         "text": "resume_923",
         "textposition": "bottom center",
         "type": "scatter",
         "x": [
          -32.02322769165039
         ],
         "y": [
          2.7491812705993652
         ]
        },
        {
         "marker": {
          "color": "red"
         },
         "mode": "markers+text",
         "text": "resume_924",
         "textposition": "bottom center",
         "type": "scatter",
         "x": [
          -37.87980270385742
         ],
         "y": [
          5.518038749694824
         ]
        },
        {
         "marker": {
          "color": "red"
         },
         "mode": "markers+text",
         "text": "resume_925",
         "textposition": "bottom center",
         "type": "scatter",
         "x": [
          20.39320945739746
         ],
         "y": [
          6.535811424255371
         ]
        },
        {
         "marker": {
          "color": "red"
         },
         "mode": "markers+text",
         "text": "resume_926",
         "textposition": "bottom center",
         "type": "scatter",
         "x": [
          -32.206851959228516
         ],
         "y": [
          3.8995540142059326
         ]
        },
        {
         "marker": {
          "color": "red"
         },
         "mode": "markers+text",
         "text": "resume_927",
         "textposition": "bottom center",
         "type": "scatter",
         "x": [
          18.185277938842773
         ],
         "y": [
          -14.474141120910645
         ]
        },
        {
         "marker": {
          "color": "red"
         },
         "mode": "markers+text",
         "text": "resume_928",
         "textposition": "bottom center",
         "type": "scatter",
         "x": [
          5.855627536773682
         ],
         "y": [
          -13.700401306152344
         ]
        },
        {
         "marker": {
          "color": "red"
         },
         "mode": "markers+text",
         "text": "resume_929",
         "textposition": "bottom center",
         "type": "scatter",
         "x": [
          2.3113114833831787
         ],
         "y": [
          -6.962796688079834
         ]
        },
        {
         "marker": {
          "color": "red"
         },
         "mode": "markers+text",
         "text": "resume_930",
         "textposition": "bottom center",
         "type": "scatter",
         "x": [
          5.18515682220459
         ],
         "y": [
          6.120880603790283
         ]
        },
        {
         "marker": {
          "color": "red"
         },
         "mode": "markers+text",
         "text": "resume_931",
         "textposition": "bottom center",
         "type": "scatter",
         "x": [
          7.052515983581543
         ],
         "y": [
          5.001500129699707
         ]
        },
        {
         "marker": {
          "color": "red"
         },
         "mode": "markers+text",
         "text": "resume_932",
         "textposition": "bottom center",
         "type": "scatter",
         "x": [
          2.510776996612549
         ],
         "y": [
          0.5776717066764832
         ]
        },
        {
         "marker": {
          "color": "red"
         },
         "mode": "markers+text",
         "text": "resume_933",
         "textposition": "bottom center",
         "type": "scatter",
         "x": [
          -1.589992642402649
         ],
         "y": [
          -18.789043426513672
         ]
        },
        {
         "marker": {
          "color": "red"
         },
         "mode": "markers+text",
         "text": "resume_934",
         "textposition": "bottom center",
         "type": "scatter",
         "x": [
          16.66383934020996
         ],
         "y": [
          4.278263092041016
         ]
        },
        {
         "marker": {
          "color": "red"
         },
         "mode": "markers+text",
         "text": "resume_935",
         "textposition": "bottom center",
         "type": "scatter",
         "x": [
          -17.520103454589844
         ],
         "y": [
          10.190593719482422
         ]
        },
        {
         "marker": {
          "color": "red"
         },
         "mode": "markers+text",
         "text": "resume_936",
         "textposition": "bottom center",
         "type": "scatter",
         "x": [
          18.837541580200195
         ],
         "y": [
          -17.27158546447754
         ]
        },
        {
         "marker": {
          "color": "red"
         },
         "mode": "markers+text",
         "text": "resume_937",
         "textposition": "bottom center",
         "type": "scatter",
         "x": [
          -6.5375142097473145
         ],
         "y": [
          2.2953460216522217
         ]
        },
        {
         "marker": {
          "color": "red"
         },
         "mode": "markers+text",
         "text": "resume_938",
         "textposition": "bottom center",
         "type": "scatter",
         "x": [
          -28.04912567138672
         ],
         "y": [
          5.590808391571045
         ]
        },
        {
         "marker": {
          "color": "red"
         },
         "mode": "markers+text",
         "text": "resume_939",
         "textposition": "bottom center",
         "type": "scatter",
         "x": [
          -23.719097137451172
         ],
         "y": [
          14.521286010742188
         ]
        },
        {
         "marker": {
          "color": "red"
         },
         "mode": "markers+text",
         "text": "resume_940",
         "textposition": "bottom center",
         "type": "scatter",
         "x": [
          -6.810492992401123
         ],
         "y": [
          -5.13228178024292
         ]
        },
        {
         "marker": {
          "color": "red"
         },
         "mode": "markers+text",
         "text": "resume_941",
         "textposition": "bottom center",
         "type": "scatter",
         "x": [
          -2.32145094871521
         ],
         "y": [
          -10.003698348999023
         ]
        },
        {
         "marker": {
          "color": "red"
         },
         "mode": "markers+text",
         "text": "resume_942",
         "textposition": "bottom center",
         "type": "scatter",
         "x": [
          16.552040100097656
         ],
         "y": [
          5.988969326019287
         ]
        },
        {
         "marker": {
          "color": "red"
         },
         "mode": "markers+text",
         "text": "resume_943",
         "textposition": "bottom center",
         "type": "scatter",
         "x": [
          8.794946670532227
         ],
         "y": [
          -18.027847290039062
         ]
        },
        {
         "marker": {
          "color": "red"
         },
         "mode": "markers+text",
         "text": "resume_944",
         "textposition": "bottom center",
         "type": "scatter",
         "x": [
          -36.838016510009766
         ],
         "y": [
          -3.0181455612182617
         ]
        },
        {
         "marker": {
          "color": "red"
         },
         "mode": "markers+text",
         "text": "resume_945",
         "textposition": "bottom center",
         "type": "scatter",
         "x": [
          5.064043045043945
         ],
         "y": [
          -15.632147789001465
         ]
        },
        {
         "marker": {
          "color": "red"
         },
         "mode": "markers+text",
         "text": "resume_946",
         "textposition": "bottom center",
         "type": "scatter",
         "x": [
          -12.031216621398926
         ],
         "y": [
          -7.134434223175049
         ]
        },
        {
         "marker": {
          "color": "red"
         },
         "mode": "markers+text",
         "text": "resume_947",
         "textposition": "bottom center",
         "type": "scatter",
         "x": [
          20.362346649169922
         ],
         "y": [
          -13.523646354675293
         ]
        },
        {
         "marker": {
          "color": "red"
         },
         "mode": "markers+text",
         "text": "resume_948",
         "textposition": "bottom center",
         "type": "scatter",
         "x": [
          -27.27045440673828
         ],
         "y": [
          5.195409774780273
         ]
        },
        {
         "marker": {
          "color": "red"
         },
         "mode": "markers+text",
         "text": "resume_949",
         "textposition": "bottom center",
         "type": "scatter",
         "x": [
          8.239933013916016
         ],
         "y": [
          1.0809602737426758
         ]
        },
        {
         "marker": {
          "color": "red"
         },
         "mode": "markers+text",
         "text": "resume_950",
         "textposition": "bottom center",
         "type": "scatter",
         "x": [
          16.49799919128418
         ],
         "y": [
          -2.4086720943450928
         ]
        },
        {
         "marker": {
          "color": "red"
         },
         "mode": "markers+text",
         "text": "resume_951",
         "textposition": "bottom center",
         "type": "scatter",
         "x": [
          16.02680015563965
         ],
         "y": [
          5.219004154205322
         ]
        },
        {
         "marker": {
          "color": "red"
         },
         "mode": "markers+text",
         "text": "resume_952",
         "textposition": "bottom center",
         "type": "scatter",
         "x": [
          -5.1063714027404785
         ],
         "y": [
          -10.949249267578125
         ]
        },
        {
         "marker": {
          "color": "red"
         },
         "mode": "markers+text",
         "text": "resume_953",
         "textposition": "bottom center",
         "type": "scatter",
         "x": [
          -37.84385299682617
         ],
         "y": [
          4.786426544189453
         ]
        },
        {
         "marker": {
          "color": "red"
         },
         "mode": "markers+text",
         "text": "resume_954",
         "textposition": "bottom center",
         "type": "scatter",
         "x": [
          9.478304862976074
         ],
         "y": [
          12.474794387817383
         ]
        },
        {
         "marker": {
          "color": "red"
         },
         "mode": "markers+text",
         "text": "resume_955",
         "textposition": "bottom center",
         "type": "scatter",
         "x": [
          22.73095703125
         ],
         "y": [
          -6.292938709259033
         ]
        },
        {
         "marker": {
          "color": "red"
         },
         "mode": "markers+text",
         "text": "resume_956",
         "textposition": "bottom center",
         "type": "scatter",
         "x": [
          -13.752082824707031
         ],
         "y": [
          0.6020657420158386
         ]
        },
        {
         "marker": {
          "color": "red"
         },
         "mode": "markers+text",
         "text": "resume_957",
         "textposition": "bottom center",
         "type": "scatter",
         "x": [
          11.666112899780273
         ],
         "y": [
          13.435576438903809
         ]
        },
        {
         "marker": {
          "color": "red"
         },
         "mode": "markers+text",
         "text": "resume_958",
         "textposition": "bottom center",
         "type": "scatter",
         "x": [
          -4.9815473556518555
         ],
         "y": [
          11.379134178161621
         ]
        },
        {
         "marker": {
          "color": "red"
         },
         "mode": "markers+text",
         "text": "resume_959",
         "textposition": "bottom center",
         "type": "scatter",
         "x": [
          4.906217575073242
         ],
         "y": [
          15.805272102355957
         ]
        },
        {
         "marker": {
          "color": "red"
         },
         "mode": "markers+text",
         "text": "resume_960",
         "textposition": "bottom center",
         "type": "scatter",
         "x": [
          19.679058074951172
         ],
         "y": [
          -15.228957176208496
         ]
        },
        {
         "marker": {
          "color": "red"
         },
         "mode": "markers+text",
         "text": "resume_961",
         "textposition": "bottom center",
         "type": "scatter",
         "x": [
          14.54414176940918
         ],
         "y": [
          -17.897552490234375
         ]
        },
        {
         "marker": {
          "color": "red"
         },
         "mode": "markers+text",
         "text": "resume_962",
         "textposition": "bottom center",
         "type": "scatter",
         "x": [
          -12.016486167907715
         ],
         "y": [
          -9.276717185974121
         ]
        },
        {
         "marker": {
          "color": "red"
         },
         "mode": "markers+text",
         "text": "resume_963",
         "textposition": "bottom center",
         "type": "scatter",
         "x": [
          14.723539352416992
         ],
         "y": [
          -17.458829879760742
         ]
        },
        {
         "marker": {
          "color": "red"
         },
         "mode": "markers+text",
         "text": "resume_964",
         "textposition": "bottom center",
         "type": "scatter",
         "x": [
          -16.349084854125977
         ],
         "y": [
          4.195765495300293
         ]
        },
        {
         "marker": {
          "color": "red"
         },
         "mode": "markers+text",
         "text": "resume_965",
         "textposition": "bottom center",
         "type": "scatter",
         "x": [
          1.2185484170913696
         ],
         "y": [
          -15.721240997314453
         ]
        },
        {
         "marker": {
          "color": "red"
         },
         "mode": "markers+text",
         "text": "resume_966",
         "textposition": "bottom center",
         "type": "scatter",
         "x": [
          -18.685049057006836
         ],
         "y": [
          6.937549591064453
         ]
        },
        {
         "marker": {
          "color": "red"
         },
         "mode": "markers+text",
         "text": "resume_967",
         "textposition": "bottom center",
         "type": "scatter",
         "x": [
          23.253904342651367
         ],
         "y": [
          7.206515789031982
         ]
        },
        {
         "marker": {
          "color": "red"
         },
         "mode": "markers+text",
         "text": "resume_968",
         "textposition": "bottom center",
         "type": "scatter",
         "x": [
          8.47237491607666
         ],
         "y": [
          -0.16548605263233185
         ]
        },
        {
         "marker": {
          "color": "red"
         },
         "mode": "markers+text",
         "text": "resume_969",
         "textposition": "bottom center",
         "type": "scatter",
         "x": [
          21.9954776763916
         ],
         "y": [
          -14.057565689086914
         ]
        },
        {
         "marker": {
          "color": "red"
         },
         "mode": "markers+text",
         "text": "resume_970",
         "textposition": "bottom center",
         "type": "scatter",
         "x": [
          -23.312978744506836
         ],
         "y": [
          15.628759384155273
         ]
        },
        {
         "marker": {
          "color": "red"
         },
         "mode": "markers+text",
         "text": "resume_971",
         "textposition": "bottom center",
         "type": "scatter",
         "x": [
          -5.477072238922119
         ],
         "y": [
          2.5921592712402344
         ]
        },
        {
         "marker": {
          "color": "red"
         },
         "mode": "markers+text",
         "text": "resume_972",
         "textposition": "bottom center",
         "type": "scatter",
         "x": [
          -8.0367431640625
         ],
         "y": [
          -4.5092549324035645
         ]
        },
        {
         "marker": {
          "color": "red"
         },
         "mode": "markers+text",
         "text": "resume_973",
         "textposition": "bottom center",
         "type": "scatter",
         "x": [
          -41.670310974121094
         ],
         "y": [
          9.077058792114258
         ]
        },
        {
         "marker": {
          "color": "red"
         },
         "mode": "markers+text",
         "text": "resume_974",
         "textposition": "bottom center",
         "type": "scatter",
         "x": [
          -23.51656723022461
         ],
         "y": [
          6.634398460388184
         ]
        },
        {
         "marker": {
          "color": "red"
         },
         "mode": "markers+text",
         "text": "resume_975",
         "textposition": "bottom center",
         "type": "scatter",
         "x": [
          8.530355453491211
         ],
         "y": [
          -22.8356876373291
         ]
        },
        {
         "marker": {
          "color": "red"
         },
         "mode": "markers+text",
         "text": "resume_976",
         "textposition": "bottom center",
         "type": "scatter",
         "x": [
          17.808870315551758
         ],
         "y": [
          -8.770526885986328
         ]
        },
        {
         "marker": {
          "color": "red"
         },
         "mode": "markers+text",
         "text": "resume_977",
         "textposition": "bottom center",
         "type": "scatter",
         "x": [
          -41.61051559448242
         ],
         "y": [
          9.218199729919434
         ]
        },
        {
         "marker": {
          "color": "red"
         },
         "mode": "markers+text",
         "text": "resume_978",
         "textposition": "bottom center",
         "type": "scatter",
         "x": [
          7.567039966583252
         ],
         "y": [
          1.9704804420471191
         ]
        },
        {
         "marker": {
          "color": "red"
         },
         "mode": "markers+text",
         "text": "resume_979",
         "textposition": "bottom center",
         "type": "scatter",
         "x": [
          -10.786782264709473
         ],
         "y": [
          8.292448043823242
         ]
        },
        {
         "marker": {
          "color": "red"
         },
         "mode": "markers+text",
         "text": "resume_980",
         "textposition": "bottom center",
         "type": "scatter",
         "x": [
          6.31702184677124
         ],
         "y": [
          -11.614694595336914
         ]
        },
        {
         "marker": {
          "color": "red"
         },
         "mode": "markers+text",
         "text": "resume_981",
         "textposition": "bottom center",
         "type": "scatter",
         "x": [
          -41.248626708984375
         ],
         "y": [
          5.26995325088501
         ]
        },
        {
         "marker": {
          "color": "red"
         },
         "mode": "markers+text",
         "text": "resume_982",
         "textposition": "bottom center",
         "type": "scatter",
         "x": [
          -10.87432861328125
         ],
         "y": [
          -2.4314346313476562
         ]
        },
        {
         "marker": {
          "color": "red"
         },
         "mode": "markers+text",
         "text": "resume_983",
         "textposition": "bottom center",
         "type": "scatter",
         "x": [
          6.932631492614746
         ],
         "y": [
          9.561542510986328
         ]
        },
        {
         "marker": {
          "color": "red"
         },
         "mode": "markers+text",
         "text": "resume_984",
         "textposition": "bottom center",
         "type": "scatter",
         "x": [
          -27.019367218017578
         ],
         "y": [
          8.085918426513672
         ]
        },
        {
         "marker": {
          "color": "red"
         },
         "mode": "markers+text",
         "text": "resume_985",
         "textposition": "bottom center",
         "type": "scatter",
         "x": [
          -4.47303581237793
         ],
         "y": [
          -2.4038143157958984
         ]
        },
        {
         "marker": {
          "color": "red"
         },
         "mode": "markers+text",
         "text": "resume_986",
         "textposition": "bottom center",
         "type": "scatter",
         "x": [
          2.723219633102417
         ],
         "y": [
          11.762212753295898
         ]
        },
        {
         "marker": {
          "color": "red"
         },
         "mode": "markers+text",
         "text": "resume_987",
         "textposition": "bottom center",
         "type": "scatter",
         "x": [
          13.828489303588867
         ],
         "y": [
          -0.39019644260406494
         ]
        },
        {
         "marker": {
          "color": "red"
         },
         "mode": "markers+text",
         "text": "resume_988",
         "textposition": "bottom center",
         "type": "scatter",
         "x": [
          8.107139587402344
         ],
         "y": [
          -0.7234019041061401
         ]
        },
        {
         "marker": {
          "color": "red"
         },
         "mode": "markers+text",
         "text": "resume_989",
         "textposition": "bottom center",
         "type": "scatter",
         "x": [
          17.069808959960938
         ],
         "y": [
          -7.268385887145996
         ]
        },
        {
         "marker": {
          "color": "red"
         },
         "mode": "markers+text",
         "text": "resume_990",
         "textposition": "bottom center",
         "type": "scatter",
         "x": [
          14.350868225097656
         ],
         "y": [
          -21.88593864440918
         ]
        },
        {
         "marker": {
          "color": "red"
         },
         "mode": "markers+text",
         "text": "resume_991",
         "textposition": "bottom center",
         "type": "scatter",
         "x": [
          7.819086074829102
         ],
         "y": [
          8.085227012634277
         ]
        },
        {
         "marker": {
          "color": "red"
         },
         "mode": "markers+text",
         "text": "resume_992",
         "textposition": "bottom center",
         "type": "scatter",
         "x": [
          25.16980743408203
         ],
         "y": [
          -17.30992317199707
         ]
        },
        {
         "marker": {
          "color": "red"
         },
         "mode": "markers+text",
         "text": "resume_993",
         "textposition": "bottom center",
         "type": "scatter",
         "x": [
          -6.574699878692627
         ],
         "y": [
          -5.872551918029785
         ]
        },
        {
         "marker": {
          "color": "red"
         },
         "mode": "markers+text",
         "text": "resume_994",
         "textposition": "bottom center",
         "type": "scatter",
         "x": [
          -15.972312927246094
         ],
         "y": [
          5.115917205810547
         ]
        },
        {
         "marker": {
          "color": "red"
         },
         "mode": "markers+text",
         "text": "resume_995",
         "textposition": "bottom center",
         "type": "scatter",
         "x": [
          0.13295844197273254
         ],
         "y": [
          0.5644977688789368
         ]
        },
        {
         "marker": {
          "color": "red"
         },
         "mode": "markers+text",
         "text": "resume_996",
         "textposition": "bottom center",
         "type": "scatter",
         "x": [
          -17.571592330932617
         ],
         "y": [
          7.37516975402832
         ]
        },
        {
         "marker": {
          "color": "red"
         },
         "mode": "markers+text",
         "text": "resume_997",
         "textposition": "bottom center",
         "type": "scatter",
         "x": [
          15.289682388305664
         ],
         "y": [
          5.853565216064453
         ]
        },
        {
         "marker": {
          "color": "red"
         },
         "mode": "markers+text",
         "text": "resume_998",
         "textposition": "bottom center",
         "type": "scatter",
         "x": [
          17.235864639282227
         ],
         "y": [
          -2.518267869949341
         ]
        },
        {
         "marker": {
          "color": "red"
         },
         "mode": "markers+text",
         "text": "resume_999",
         "textposition": "bottom center",
         "type": "scatter",
         "x": [
          17.747249603271484
         ],
         "y": [
          1.2921459674835205
         ]
        }
       ],
       "layout": {
        "template": {
         "data": {
          "bar": [
           {
            "error_x": {
             "color": "#2a3f5f"
            },
            "error_y": {
             "color": "#2a3f5f"
            },
            "marker": {
             "line": {
              "color": "#E5ECF6",
              "width": 0.5
             },
             "pattern": {
              "fillmode": "overlay",
              "size": 10,
              "solidity": 0.2
             }
            },
            "type": "bar"
           }
          ],
          "barpolar": [
           {
            "marker": {
             "line": {
              "color": "#E5ECF6",
              "width": 0.5
             },
             "pattern": {
              "fillmode": "overlay",
              "size": 10,
              "solidity": 0.2
             }
            },
            "type": "barpolar"
           }
          ],
          "carpet": [
           {
            "aaxis": {
             "endlinecolor": "#2a3f5f",
             "gridcolor": "white",
             "linecolor": "white",
             "minorgridcolor": "white",
             "startlinecolor": "#2a3f5f"
            },
            "baxis": {
             "endlinecolor": "#2a3f5f",
             "gridcolor": "white",
             "linecolor": "white",
             "minorgridcolor": "white",
             "startlinecolor": "#2a3f5f"
            },
            "type": "carpet"
           }
          ],
          "choropleth": [
           {
            "colorbar": {
             "outlinewidth": 0,
             "ticks": ""
            },
            "type": "choropleth"
           }
          ],
          "contour": [
           {
            "colorbar": {
             "outlinewidth": 0,
             "ticks": ""
            },
            "colorscale": [
             [
              0,
              "#0d0887"
             ],
             [
              0.1111111111111111,
              "#46039f"
             ],
             [
              0.2222222222222222,
              "#7201a8"
             ],
             [
              0.3333333333333333,
              "#9c179e"
             ],
             [
              0.4444444444444444,
              "#bd3786"
             ],
             [
              0.5555555555555556,
              "#d8576b"
             ],
             [
              0.6666666666666666,
              "#ed7953"
             ],
             [
              0.7777777777777778,
              "#fb9f3a"
             ],
             [
              0.8888888888888888,
              "#fdca26"
             ],
             [
              1,
              "#f0f921"
             ]
            ],
            "type": "contour"
           }
          ],
          "contourcarpet": [
           {
            "colorbar": {
             "outlinewidth": 0,
             "ticks": ""
            },
            "type": "contourcarpet"
           }
          ],
          "heatmap": [
           {
            "colorbar": {
             "outlinewidth": 0,
             "ticks": ""
            },
            "colorscale": [
             [
              0,
              "#0d0887"
             ],
             [
              0.1111111111111111,
              "#46039f"
             ],
             [
              0.2222222222222222,
              "#7201a8"
             ],
             [
              0.3333333333333333,
              "#9c179e"
             ],
             [
              0.4444444444444444,
              "#bd3786"
             ],
             [
              0.5555555555555556,
              "#d8576b"
             ],
             [
              0.6666666666666666,
              "#ed7953"
             ],
             [
              0.7777777777777778,
              "#fb9f3a"
             ],
             [
              0.8888888888888888,
              "#fdca26"
             ],
             [
              1,
              "#f0f921"
             ]
            ],
            "type": "heatmap"
           }
          ],
          "heatmapgl": [
           {
            "colorbar": {
             "outlinewidth": 0,
             "ticks": ""
            },
            "colorscale": [
             [
              0,
              "#0d0887"
             ],
             [
              0.1111111111111111,
              "#46039f"
             ],
             [
              0.2222222222222222,
              "#7201a8"
             ],
             [
              0.3333333333333333,
              "#9c179e"
             ],
             [
              0.4444444444444444,
              "#bd3786"
             ],
             [
              0.5555555555555556,
              "#d8576b"
             ],
             [
              0.6666666666666666,
              "#ed7953"
             ],
             [
              0.7777777777777778,
              "#fb9f3a"
             ],
             [
              0.8888888888888888,
              "#fdca26"
             ],
             [
              1,
              "#f0f921"
             ]
            ],
            "type": "heatmapgl"
           }
          ],
          "histogram": [
           {
            "marker": {
             "pattern": {
              "fillmode": "overlay",
              "size": 10,
              "solidity": 0.2
             }
            },
            "type": "histogram"
           }
          ],
          "histogram2d": [
           {
            "colorbar": {
             "outlinewidth": 0,
             "ticks": ""
            },
            "colorscale": [
             [
              0,
              "#0d0887"
             ],
             [
              0.1111111111111111,
              "#46039f"
             ],
             [
              0.2222222222222222,
              "#7201a8"
             ],
             [
              0.3333333333333333,
              "#9c179e"
             ],
             [
              0.4444444444444444,
              "#bd3786"
             ],
             [
              0.5555555555555556,
              "#d8576b"
             ],
             [
              0.6666666666666666,
              "#ed7953"
             ],
             [
              0.7777777777777778,
              "#fb9f3a"
             ],
             [
              0.8888888888888888,
              "#fdca26"
             ],
             [
              1,
              "#f0f921"
             ]
            ],
            "type": "histogram2d"
           }
          ],
          "histogram2dcontour": [
           {
            "colorbar": {
             "outlinewidth": 0,
             "ticks": ""
            },
            "colorscale": [
             [
              0,
              "#0d0887"
             ],
             [
              0.1111111111111111,
              "#46039f"
             ],
             [
              0.2222222222222222,
              "#7201a8"
             ],
             [
              0.3333333333333333,
              "#9c179e"
             ],
             [
              0.4444444444444444,
              "#bd3786"
             ],
             [
              0.5555555555555556,
              "#d8576b"
             ],
             [
              0.6666666666666666,
              "#ed7953"
             ],
             [
              0.7777777777777778,
              "#fb9f3a"
             ],
             [
              0.8888888888888888,
              "#fdca26"
             ],
             [
              1,
              "#f0f921"
             ]
            ],
            "type": "histogram2dcontour"
           }
          ],
          "mesh3d": [
           {
            "colorbar": {
             "outlinewidth": 0,
             "ticks": ""
            },
            "type": "mesh3d"
           }
          ],
          "parcoords": [
           {
            "line": {
             "colorbar": {
              "outlinewidth": 0,
              "ticks": ""
             }
            },
            "type": "parcoords"
           }
          ],
          "pie": [
           {
            "automargin": true,
            "type": "pie"
           }
          ],
          "scatter": [
           {
            "fillpattern": {
             "fillmode": "overlay",
             "size": 10,
             "solidity": 0.2
            },
            "type": "scatter"
           }
          ],
          "scatter3d": [
           {
            "line": {
             "colorbar": {
              "outlinewidth": 0,
              "ticks": ""
             }
            },
            "marker": {
             "colorbar": {
              "outlinewidth": 0,
              "ticks": ""
             }
            },
            "type": "scatter3d"
           }
          ],
          "scattercarpet": [
           {
            "marker": {
             "colorbar": {
              "outlinewidth": 0,
              "ticks": ""
             }
            },
            "type": "scattercarpet"
           }
          ],
          "scattergeo": [
           {
            "marker": {
             "colorbar": {
              "outlinewidth": 0,
              "ticks": ""
             }
            },
            "type": "scattergeo"
           }
          ],
          "scattergl": [
           {
            "marker": {
             "colorbar": {
              "outlinewidth": 0,
              "ticks": ""
             }
            },
            "type": "scattergl"
           }
          ],
          "scattermapbox": [
           {
            "marker": {
             "colorbar": {
              "outlinewidth": 0,
              "ticks": ""
             }
            },
            "type": "scattermapbox"
           }
          ],
          "scatterpolar": [
           {
            "marker": {
             "colorbar": {
              "outlinewidth": 0,
              "ticks": ""
             }
            },
            "type": "scatterpolar"
           }
          ],
          "scatterpolargl": [
           {
            "marker": {
             "colorbar": {
              "outlinewidth": 0,
              "ticks": ""
             }
            },
            "type": "scatterpolargl"
           }
          ],
          "scatterternary": [
           {
            "marker": {
             "colorbar": {
              "outlinewidth": 0,
              "ticks": ""
             }
            },
            "type": "scatterternary"
           }
          ],
          "surface": [
           {
            "colorbar": {
             "outlinewidth": 0,
             "ticks": ""
            },
            "colorscale": [
             [
              0,
              "#0d0887"
             ],
             [
              0.1111111111111111,
              "#46039f"
             ],
             [
              0.2222222222222222,
              "#7201a8"
             ],
             [
              0.3333333333333333,
              "#9c179e"
             ],
             [
              0.4444444444444444,
              "#bd3786"
             ],
             [
              0.5555555555555556,
              "#d8576b"
             ],
             [
              0.6666666666666666,
              "#ed7953"
             ],
             [
              0.7777777777777778,
              "#fb9f3a"
             ],
             [
              0.8888888888888888,
              "#fdca26"
             ],
             [
              1,
              "#f0f921"
             ]
            ],
            "type": "surface"
           }
          ],
          "table": [
           {
            "cells": {
             "fill": {
              "color": "#EBF0F8"
             },
             "line": {
              "color": "white"
             }
            },
            "header": {
             "fill": {
              "color": "#C8D4E3"
             },
             "line": {
              "color": "white"
             }
            },
            "type": "table"
           }
          ]
         },
         "layout": {
          "annotationdefaults": {
           "arrowcolor": "#2a3f5f",
           "arrowhead": 0,
           "arrowwidth": 1
          },
          "autotypenumbers": "strict",
          "coloraxis": {
           "colorbar": {
            "outlinewidth": 0,
            "ticks": ""
           }
          },
          "colorscale": {
           "diverging": [
            [
             0,
             "#8e0152"
            ],
            [
             0.1,
             "#c51b7d"
            ],
            [
             0.2,
             "#de77ae"
            ],
            [
             0.3,
             "#f1b6da"
            ],
            [
             0.4,
             "#fde0ef"
            ],
            [
             0.5,
             "#f7f7f7"
            ],
            [
             0.6,
             "#e6f5d0"
            ],
            [
             0.7,
             "#b8e186"
            ],
            [
             0.8,
             "#7fbc41"
            ],
            [
             0.9,
             "#4d9221"
            ],
            [
             1,
             "#276419"
            ]
           ],
           "sequential": [
            [
             0,
             "#0d0887"
            ],
            [
             0.1111111111111111,
             "#46039f"
            ],
            [
             0.2222222222222222,
             "#7201a8"
            ],
            [
             0.3333333333333333,
             "#9c179e"
            ],
            [
             0.4444444444444444,
             "#bd3786"
            ],
            [
             0.5555555555555556,
             "#d8576b"
            ],
            [
             0.6666666666666666,
             "#ed7953"
            ],
            [
             0.7777777777777778,
             "#fb9f3a"
            ],
            [
             0.8888888888888888,
             "#fdca26"
            ],
            [
             1,
             "#f0f921"
            ]
           ],
           "sequentialminus": [
            [
             0,
             "#0d0887"
            ],
            [
             0.1111111111111111,
             "#46039f"
            ],
            [
             0.2222222222222222,
             "#7201a8"
            ],
            [
             0.3333333333333333,
             "#9c179e"
            ],
            [
             0.4444444444444444,
             "#bd3786"
            ],
            [
             0.5555555555555556,
             "#d8576b"
            ],
            [
             0.6666666666666666,
             "#ed7953"
            ],
            [
             0.7777777777777778,
             "#fb9f3a"
            ],
            [
             0.8888888888888888,
             "#fdca26"
            ],
            [
             1,
             "#f0f921"
            ]
           ]
          },
          "colorway": [
           "#636efa",
           "#EF553B",
           "#00cc96",
           "#ab63fa",
           "#FFA15A",
           "#19d3f3",
           "#FF6692",
           "#B6E880",
           "#FF97FF",
           "#FECB52"
          ],
          "font": {
           "color": "#2a3f5f"
          },
          "geo": {
           "bgcolor": "white",
           "lakecolor": "white",
           "landcolor": "#E5ECF6",
           "showlakes": true,
           "showland": true,
           "subunitcolor": "white"
          },
          "hoverlabel": {
           "align": "left"
          },
          "hovermode": "closest",
          "mapbox": {
           "style": "light"
          },
          "paper_bgcolor": "white",
          "plot_bgcolor": "#E5ECF6",
          "polar": {
           "angularaxis": {
            "gridcolor": "white",
            "linecolor": "white",
            "ticks": ""
           },
           "bgcolor": "#E5ECF6",
           "radialaxis": {
            "gridcolor": "white",
            "linecolor": "white",
            "ticks": ""
           }
          },
          "scene": {
           "xaxis": {
            "backgroundcolor": "#E5ECF6",
            "gridcolor": "white",
            "gridwidth": 2,
            "linecolor": "white",
            "showbackground": true,
            "ticks": "",
            "zerolinecolor": "white"
           },
           "yaxis": {
            "backgroundcolor": "#E5ECF6",
            "gridcolor": "white",
            "gridwidth": 2,
            "linecolor": "white",
            "showbackground": true,
            "ticks": "",
            "zerolinecolor": "white"
           },
           "zaxis": {
            "backgroundcolor": "#E5ECF6",
            "gridcolor": "white",
            "gridwidth": 2,
            "linecolor": "white",
            "showbackground": true,
            "ticks": "",
            "zerolinecolor": "white"
           }
          },
          "shapedefaults": {
           "line": {
            "color": "#2a3f5f"
           }
          },
          "ternary": {
           "aaxis": {
            "gridcolor": "white",
            "linecolor": "white",
            "ticks": ""
           },
           "baxis": {
            "gridcolor": "white",
            "linecolor": "white",
            "ticks": ""
           },
           "bgcolor": "#E5ECF6",
           "caxis": {
            "gridcolor": "white",
            "linecolor": "white",
            "ticks": ""
           }
          },
          "title": {
           "x": 0.05
          },
          "xaxis": {
           "automargin": true,
           "gridcolor": "white",
           "linecolor": "white",
           "ticks": "",
           "title": {
            "standoff": 15
           },
           "zerolinecolor": "white",
           "zerolinewidth": 2
          },
          "yaxis": {
           "automargin": true,
           "gridcolor": "white",
           "linecolor": "white",
           "ticks": "",
           "title": {
            "standoff": 15
           },
           "zerolinecolor": "white",
           "zerolinewidth": 2
          }
         }
        },
        "title": {
         "text": "Embeddings Visualization"
        }
       }
      }
     },
     "metadata": {},
     "output_type": "display_data"
    }
   ],
   "source": [
    "plot_embeddings(model, tagged_data[:1000]) # Визуализация первой 1000 документов"
   ]
  },
  {
   "cell_type": "markdown",
   "metadata": {},
   "source": [
    "## Ranking"
   ]
  },
  {
   "cell_type": "code",
   "execution_count": 192,
   "metadata": {},
   "outputs": [],
   "source": [
    "def preprocess_text(text):\n",
    "    text = text.lower()\n",
    "    pattern = re.compile(\"[^а-яА-Яa-zA-Z0-9\\-.,;]+\")\n",
    "    text = pattern.sub(\" \", text)\n",
    "    text = ' '.join(text.split())\n",
    "    return text"
   ]
  },
  {
   "cell_type": "code",
   "execution_count": 193,
   "metadata": {},
   "outputs": [],
   "source": [
    "def rank_resumes_for_job(model, job_desc, resumes, threshold=0.5):\n",
    "    job_desc = preprocess_text(job_desc)\n",
    "    job_vector = model.infer_vector(job_desc.split())\n",
    "    ranked_resumes = []\n",
    "    for resume in resumes:\n",
    "        resume = preprocess_text(resume)\n",
    "        resume_vector = model.infer_vector(resume.split())\n",
    "        similarity = np.dot(job_vector, resume_vector) / (np.linalg.norm(job_vector) * np.linalg.norm(resume_vector))\n",
    "        if similarity >= threshold:\n",
    "            ranked_resumes.append((resume, similarity))\n",
    "    ranked_resumes.sort(key=lambda x: x[1], reverse=True)\n",
    "    return [(resume, round(similarity * 100, 2)) for resume, similarity in ranked_resumes]"
   ]
  },
  {
   "cell_type": "code",
   "execution_count": 194,
   "metadata": {},
   "outputs": [],
   "source": [
    "def rank_jobs_for_resume(model, resume_desc, jobs, threshold=0.5):\n",
    "    resume_desc = preprocess_text(resume_desc)\n",
    "    resume_vector = model.infer_vector(resume_desc.split())\n",
    "    ranked_jobs = []\n",
    "    for job in jobs:\n",
    "        job = preprocess_text(job)\n",
    "        job_vector = model.infer_vector(job.split())\n",
    "        similarity = np.dot(resume_vector, job_vector) / (np.linalg.norm(resume_vector) * np.linalg.norm(job_vector))\n",
    "        if similarity >= threshold:\n",
    "            ranked_jobs.append((job, similarity))\n",
    "    ranked_jobs.sort(key=lambda x: x[1], reverse=True)\n",
    "    return [(job, round(similarity * 100, 2)) for job, similarity in ranked_jobs]"
   ]
  },
  {
   "cell_type": "markdown",
   "metadata": {},
   "source": [
    "### Example"
   ]
  },
  {
   "cell_type": "code",
   "execution_count": 253,
   "metadata": {},
   "outputs": [],
   "source": [
    "model = Doc2Vec.load(f\"../models/rjm_doc2vec_exp2.model\")"
   ]
  },
  {
   "cell_type": "code",
   "execution_count": 254,
   "metadata": {},
   "outputs": [],
   "source": [
    "resumes = [\n",
    "    \"Опытный системный аналитик с пятилетним стажем работы в крупной IT-компании. Основные обязанности включали анализ бизнес-процессов, сбор требований от заказчиков, разработку технических заданий и координацию разработчиков. Умею работать с SQL, UML, BPMN. Опыт работы с Agile и Scrum. В прошлом году успешно реализовал проект автоматизации процессов для крупного ритейлера, что позволило клиенту увеличить эффективность работы на 20%. Отличные коммуникативные навыки, способность работать в команде и под высоким давлением.\",\n",
    "    \"Менеджер по продажам с более чем десятилетним опытом в сфере B2B и B2C. Специализируюсь на продажах в области финансовых услуг и страхования. Отлично разбираюсь в продуктах компании, умею находить подход к различным типам клиентов. Имею опыт организации и проведения презентаций, участия в переговорах и заключения крупных сделок. В прошлом году лично привлек более 30 новых корпоративных клиентов, что способствовало росту общего оборота компании на 15%. Владею техниками активных продаж, хорошо ориентируюсь в CRM-системах.\",\n",
    "    \"Главный инженер с более чем 15-летним опытом работы в сфере машиностроения. Ответственен за разработку и внедрение новых технологий, управление инженерными командами, контроль качества продукции. Имею опыт работы с CAD/CAM системами, знаком с современными методами производства и автоматизации. На моем счету множество успешно реализованных проектов, в том числе разработка и запуск новой линии по производству автомобильных компонентов. Отличные лидерские качества, способность принимать быстрые и эффективные решения в критических ситуациях.\",\n",
    "    \"Веб-разработчик с опытом работы более 8 лет. Специализируюсь на front-end и back-end разработке. Владею HTML, CSS, JavaScript, а также фреймворками React и Node.js. Работал над созданием и поддержкой нескольких крупных веб-платформ, включая интернет-магазины и корпоративные сайты. Имею опыт работы в Agile-командах, умею четко следовать срокам и требованиям заказчика. За последний год разработал и внедрил новый интерфейс для онлайн-магазина, что привело к увеличению конверсии на 30%.\",\n",
    "    \"Творческий и инновационный графический дизайнер с 7-летним опытом работы в рекламных агентствах и дизайн-студиях. Специализируюсь на создании брендинга, рекламных материалов, веб-дизайна и UX/UI. Владею Adobe Photoshop, Illustrator, InDesign. Мои работы отличаются оригинальностью и уникальностью, я всегда стремлюсь найти нестандартные решения для задач клиентов. Разработал брендинг и фирменный стиль для нескольких стартапов, что помогло им выделиться на рынке и привлечь новых клиентов. Умею работать в сжатые сроки, легко адаптируюсь к новым требованиям и тенденциям в дизайне.\"\n",
    "]\n",
    "\n",
    "jobs = [\n",
    "    \"Требуется опытный руководитель отдела продаж для работы в крупной торговой компании. Обязанности: разработка и реализация стратегии продаж, управление командой менеджеров, анализ рынка и конкурентов, участие в переговорах на высоком уровне. Требования: опыт работы на аналогичной должности не менее 5 лет, отличные навыки управления и коммуникации, знание современных технологий продаж. Предлагаем стабильную работу в динамично развивающейся компании, конкурентоспособную заработную плату и возможности для профессионального роста.\",\n",
    "    \"ИТ-компания ищет талантливого программиста 1C для разработки и поддержки корпоративных приложений. Основные задачи: разработка и оптимизация программных решений на платформе 1C, работа с клиентами по техническим заданиям, тестирование и документирование программного обеспечения. Требуется знание 1C:Предприятие 8, опыт программирования и понимание бизнес-процессов. Мы предлагаем работу в комфортабельном офисе, дружный коллектив и достойную заработную плату.\",\n",
    "    \"В маркетинговое агентство требуется креативный и амбициозный маркетолог. Обязанности: разработка маркетинговых стратегий, проведение рекламных кампаний, анализ эффективности маркетинговых действий, работа с социальными сетями и контентом. Требуется опыт в маркетинге не менее 3 лет, умение работать в команде, знание инструментов интернет-маркетинга. Мы предлагаем работу в динамичной среде, возможность реализовать свои идеи и конкурентоспособную заработную плату.\",\n",
    "    \"Требуется инженер-конструктор в инженерно-проектное бюро. Задачи: разработка проектной документации, расчеты и моделирование в CAD-системах, сопровождение проектов на всех этапах. Требования: высшее техническое образование, опыт работы в проектировании, знание AutoCAD и других CAD-систем. Предлагаем интересные проекты, работу в команде профессионалов, стабильную заработную плату и возможности для карьерного роста.\",\n",
    "    \"В рекламное агентство требуется творческий копирайтер для создания текстов различной тематики. Обязанности: написание рекламных и PR-текстов, создание контента для сайтов и социальных сетей, работа над креативными концепциями. Требуется опыт написания текстов, креативность, отличное владение русским языком. Мы предлагаем возможность реализации творческого потенциала, работу над интересными проектами и достойную оплату труда.\"\n",
    "]"
   ]
  },
  {
   "cell_type": "code",
   "execution_count": 350,
   "metadata": {},
   "outputs": [
    {
     "data": {
      "text/plain": [
       "[('веб-разработчик с опытом работы более 8 лет. специализируюсь на front-end и back-end разработке. владею html, css, javascript, а также фреймворками react и node.js. работал над созданием и поддержкой нескольких крупных веб-платформ, включая интернет-магазины и корпоративные сайты. имею опыт работы в agile-командах, умею четко следовать срокам и требованиям заказчика. за последний год разработал и внедрил новый интерфейс для онлайн-магазина, что привело к увеличению конверсии на 30 .',\n",
       "  71.49),\n",
       " ('главный инженер с более чем 15-летним опытом работы в сфере машиностроения. ответственен за разработку и внедрение новых технологий, управление инженерными командами, контроль качества продукции. имею опыт работы с cad cam системами, знаком с современными методами производства и автоматизации. на моем счету множество успешно реализованных проектов, в том числе разработка и запуск новой линии по производству автомобильных компонентов. отличные лидерские качества, способность принимать быстрые и эффективные решения в критических ситуациях.',\n",
       "  71.38),\n",
       " ('опытный системный аналитик с пятилетним стажем работы в крупной it-компании. основные обязанности включали анализ бизнес-процессов, сбор требований от заказчиков, разработку технических заданий и координацию разработчиков. умею работать с sql, uml, bpmn. опыт работы с agile и scrum. в прошлом году успешно реализовал проект автоматизации процессов для крупного ритейлера, что позволило клиенту увеличить эффективность работы на 20 . отличные коммуникативные навыки, способность работать в команде и под высоким давлением.',\n",
       "  63.31),\n",
       " ('менеджер по продажам с более чем десятилетним опытом в сфере b2b и b2c. специализируюсь на продажах в области финансовых услуг и страхования. отлично разбираюсь в продуктах компании, умею находить подход к различным типам клиентов. имею опыт организации и проведения презентаций, участия в переговорах и заключения крупных сделок. в прошлом году лично привлек более 30 новых корпоративных клиентов, что способствовало росту общего оборота компании на 15 . владею техниками активных продаж, хорошо ориентируюсь в crm-системах.',\n",
       "  61.47)]"
      ]
     },
     "execution_count": 350,
     "metadata": {},
     "output_type": "execute_result"
    }
   ],
   "source": [
    "rank_resumes_for_job(model, jobs[3], resumes) # вакансия веб-разработчика"
   ]
  },
  {
   "cell_type": "code",
   "execution_count": 332,
   "metadata": {},
   "outputs": [
    {
     "data": {
      "text/plain": [
       "[('в рекламное агентство требуется творческий копирайтер для создания текстов различной тематики. обязанности написание рекламных и pr-текстов, создание контента для сайтов и социальных сетей, работа над креативными концепциями. требуется опыт написания текстов, креативность, отличное владение русским языком. мы предлагаем возможность реализации творческого потенциала, работу над интересными проектами и достойную оплату труда.',\n",
       "  52.26)]"
      ]
     },
     "execution_count": 332,
     "metadata": {},
     "output_type": "execute_result"
    }
   ],
   "source": [
    "rank_jobs_for_resume(model, resumes[4], jobs) # резюме дизайнера"
   ]
  },
  {
   "cell_type": "markdown",
   "metadata": {},
   "source": [
    "# References"
   ]
  },
  {
   "cell_type": "markdown",
   "metadata": {},
   "source": [
    "[CV Job Matching using Doc2Vec](https://github.com/kirudang/CV-Job-matching/blob/main/Matching_Algorithm.ipynb)"
   ]
  }
 ],
 "metadata": {
  "kernelspec": {
   "display_name": "Python 3",
   "language": "python",
   "name": "python3"
  },
  "language_info": {
   "codemirror_mode": {
    "name": "ipython",
    "version": 3
   },
   "file_extension": ".py",
   "mimetype": "text/x-python",
   "name": "python",
   "nbconvert_exporter": "python",
   "pygments_lexer": "ipython3",
   "version": "3.11.6"
  }
 },
 "nbformat": 4,
 "nbformat_minor": 2
}
